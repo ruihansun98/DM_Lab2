{
 "cells": [
  {
   "cell_type": "markdown",
   "metadata": {
    "id": "zQIbMZYWKA1z"
   },
   "source": [
    "# **Student Information**\n",
    "\n",
    "Name:孫睿菡\n",
    "\n",
    "Student ID:109062469\n",
    "\n",
    "GitHub ID:50405634\n",
    "\n",
    "Kaggle name:sunruihan\n",
    "\n",
    "Kaggle private scoreboard snapshot:\n",
    "![Snapshot](pics/1.png)\n"
   ]
  },
  {
   "cell_type": "markdown",
   "metadata": {
    "id": "OTHeVtzTKvzj"
   },
   "source": [
    "# **Instructions**\n",
    "\n",
    "1.First: This part is worth 30% of your grade. Do the take home exercises in the DM2021-Lab2-master Repo. You may need to copy some cells from the Lab notebook to this notebook.\n",
    "\n",
    "2.Second: This part is worth 30% of your grade. Participate in the in-class Kaggle Competition regarding Emotion Recognition on Twitter. The scoring will be given according to your place in the Private Leaderboard ranking:\n",
    "\n",
    "\n",
    "*  Bottom 40%: Get 20% of the 30% available for this section.\n",
    "*  Top 41% - 100%: Get (60-x)/6 + 20 points, where x is your ranking in the leaderboard (ie. If you rank 3rd your score will be (60-3)/6 + 20 = 29.5% out of 30%)\n",
    "Submit your last submission BEFORE the deadline (Dec. 24th 11:59 pm, Friday). Make sure to take a screenshot of your position at the end of the competition and store it as '''pic0.png''' under the img folder of this repository and rerun the cell Student Information.\n",
    "\n",
    "\n",
    "\n",
    "\n",
    "\n",
    "3.Third: This part is worth 30% of your grade. A report of your work developping the model for the competition (You can use code and comment it). This report should include what your preprocessing steps, the feature engineering steps and an explanation of your model. You can also mention different things you tried and insights you gained.\n",
    "\n",
    "4.Fourth: This part is worth 10% of your grade. It's hard for us to follow if your code is messy :'(, so please tidy up your notebook and add minimal comments where needed.\n",
    "\n",
    "Upload your files to your repository then submit the link to it on the corresponding e-learn assignment.\n",
    "\n",
    "Make sure to commit and save your changes to your repository BEFORE the deadline (Dec. 29th 11:59 pm, Wednesday)."
   ]
  },
  {
   "cell_type": "markdown",
   "metadata": {
    "id": "_pJGnMkVKirA"
   },
   "source": [
    "# **First part**"
   ]
  },
  {
   "cell_type": "markdown",
   "metadata": {
    "id": "QB-Dire54ImG"
   },
   "source": [
    "## 1.1 Load data\n",
    "\n",
    "We start by loading the csv files into a single pandas dataframe for training and one for testing."
   ]
  },
  {
   "cell_type": "code",
   "execution_count": 1,
   "metadata": {
    "executionInfo": {
     "elapsed": 660,
     "status": "ok",
     "timestamp": 1640282532057,
     "user": {
      "displayName": "孫睿菡",
      "photoUrl": "https://lh3.googleusercontent.com/a/default-user=s64",
      "userId": "08667895551467607443"
     },
     "user_tz": -480
    },
    "id": "MX6vnhag4ImG"
   },
   "outputs": [],
   "source": [
    "import pandas as pd\n",
    "\n",
    "### training data\n",
    "anger_train = pd.read_csv(\"/Users/rhs/Desktop/DM2021-Lab2-master-main/data/semeval/train/anger-ratings-0to1.train.txt\",\n",
    "                         sep=\"\\t\", header=None,names=[\"id\", \"text\", \"emotion\", \"intensity\"])\n",
    "sadness_train = pd.read_csv(\"/Users/rhs/Desktop/DM2021-Lab2-master-main/data/semeval/train/sadness-ratings-0to1.train.txt\",\n",
    "                         sep=\"\\t\", header=None, names=[\"id\", \"text\", \"emotion\", \"intensity\"])\n",
    "fear_train = pd.read_csv(\"/Users/rhs/Desktop/DM2021-Lab2-master-main/data/semeval/train/fear-ratings-0to1.train.txt\",\n",
    "                         sep=\"\\t\", header=None, names=[\"id\", \"text\", \"emotion\", \"intensity\"])\n",
    "joy_train = pd.read_csv(\"/Users/rhs/Desktop/DM2021-Lab2-master-main/data/semeval/train/joy-ratings-0to1.train.txt\",\n",
    "                         sep=\"\\t\", header=None, names=[\"id\", \"text\", \"emotion\", \"intensity\"])"
   ]
  },
  {
   "cell_type": "code",
   "execution_count": 2,
   "metadata": {
    "executionInfo": {
     "elapsed": 539,
     "status": "ok",
     "timestamp": 1640282534253,
     "user": {
      "displayName": "孫睿菡",
      "photoUrl": "https://lh3.googleusercontent.com/a/default-user=s64",
      "userId": "08667895551467607443"
     },
     "user_tz": -480
    },
    "id": "BOicrAtV4ImI"
   },
   "outputs": [],
   "source": [
    "# combine 4 sub-dataset\n",
    "train_df = pd.concat([anger_train, fear_train, joy_train, sadness_train], ignore_index=True)"
   ]
  },
  {
   "cell_type": "code",
   "execution_count": 3,
   "metadata": {
    "colab": {
     "base_uri": "https://localhost:8080/",
     "height": 206
    },
    "executionInfo": {
     "elapsed": 549,
     "status": "ok",
     "timestamp": 1640282535618,
     "user": {
      "displayName": "孫睿菡",
      "photoUrl": "https://lh3.googleusercontent.com/a/default-user=s64",
      "userId": "08667895551467607443"
     },
     "user_tz": -480
    },
    "id": "WiF9W3pb4ImI",
    "outputId": "5cdf7789-3b97-458c-a1ef-842f50d6430b"
   },
   "outputs": [
    {
     "data": {
      "text/html": [
       "<div>\n",
       "<style scoped>\n",
       "    .dataframe tbody tr th:only-of-type {\n",
       "        vertical-align: middle;\n",
       "    }\n",
       "\n",
       "    .dataframe tbody tr th {\n",
       "        vertical-align: top;\n",
       "    }\n",
       "\n",
       "    .dataframe thead th {\n",
       "        text-align: right;\n",
       "    }\n",
       "</style>\n",
       "<table border=\"1\" class=\"dataframe\">\n",
       "  <thead>\n",
       "    <tr style=\"text-align: right;\">\n",
       "      <th></th>\n",
       "      <th>id</th>\n",
       "      <th>text</th>\n",
       "      <th>emotion</th>\n",
       "      <th>intensity</th>\n",
       "    </tr>\n",
       "  </thead>\n",
       "  <tbody>\n",
       "    <tr>\n",
       "      <th>0</th>\n",
       "      <td>10000</td>\n",
       "      <td>How the fu*k! Who the heck! moved my fridge!.....</td>\n",
       "      <td>anger</td>\n",
       "      <td>0.938</td>\n",
       "    </tr>\n",
       "    <tr>\n",
       "      <th>1</th>\n",
       "      <td>10001</td>\n",
       "      <td>So my Indian Uber driver just called someone t...</td>\n",
       "      <td>anger</td>\n",
       "      <td>0.896</td>\n",
       "    </tr>\n",
       "    <tr>\n",
       "      <th>2</th>\n",
       "      <td>10002</td>\n",
       "      <td>@DPD_UK I asked for my parcel to be delivered ...</td>\n",
       "      <td>anger</td>\n",
       "      <td>0.896</td>\n",
       "    </tr>\n",
       "    <tr>\n",
       "      <th>3</th>\n",
       "      <td>10003</td>\n",
       "      <td>so ef whichever butt wipe pulled the fire alar...</td>\n",
       "      <td>anger</td>\n",
       "      <td>0.896</td>\n",
       "    </tr>\n",
       "    <tr>\n",
       "      <th>4</th>\n",
       "      <td>10004</td>\n",
       "      <td>Don't join @BTCare they put the phone down on ...</td>\n",
       "      <td>anger</td>\n",
       "      <td>0.896</td>\n",
       "    </tr>\n",
       "  </tbody>\n",
       "</table>\n",
       "</div>"
      ],
      "text/plain": [
       "      id                                               text emotion  intensity\n",
       "0  10000  How the fu*k! Who the heck! moved my fridge!.....   anger      0.938\n",
       "1  10001  So my Indian Uber driver just called someone t...   anger      0.896\n",
       "2  10002  @DPD_UK I asked for my parcel to be delivered ...   anger      0.896\n",
       "3  10003  so ef whichever butt wipe pulled the fire alar...   anger      0.896\n",
       "4  10004  Don't join @BTCare they put the phone down on ...   anger      0.896"
      ]
     },
     "execution_count": 3,
     "metadata": {},
     "output_type": "execute_result"
    }
   ],
   "source": [
    "### testing data\n",
    "anger_test = pd.read_csv(\"/Users/rhs/Desktop/DM2021-Lab2-master-main/data/semeval/dev/anger-ratings-0to1.dev.gold.txt\",\n",
    "                         sep=\"\\t\", header=None, names=[\"id\", \"text\", \"emotion\", \"intensity\"])\n",
    "sadness_test = pd.read_csv(\"/Users/rhs/Desktop/DM2021-Lab2-master-main/data/semeval/dev/sadness-ratings-0to1.dev.gold.txt\",\n",
    "                         sep=\"\\t\", header=None, names=[\"id\", \"text\", \"emotion\", \"intensity\"])\n",
    "fear_test = pd.read_csv(\"/Users/rhs/Desktop/DM2021-Lab2-master-main/data/semeval/dev/fear-ratings-0to1.dev.gold.txt\",\n",
    "                         sep=\"\\t\", header=None, names=[\"id\", \"text\", \"emotion\", \"intensity\"])\n",
    "joy_test = pd.read_csv(\"/Users/rhs/Desktop/DM2021-Lab2-master-main/data/semeval/dev/joy-ratings-0to1.dev.gold.txt\",\n",
    "                         sep=\"\\t\", header=None, names=[\"id\", \"text\", \"emotion\", \"intensity\"])\n",
    "\n",
    "# combine 4 sub-dataset\n",
    "test_df = pd.concat([anger_test, fear_test, joy_test, sadness_test], ignore_index=True)\n",
    "train_df.head()"
   ]
  },
  {
   "cell_type": "code",
   "execution_count": 4,
   "metadata": {
    "executionInfo": {
     "elapsed": 592,
     "status": "ok",
     "timestamp": 1640282537892,
     "user": {
      "displayName": "孫睿菡",
      "photoUrl": "https://lh3.googleusercontent.com/a/default-user=s64",
      "userId": "08667895551467607443"
     },
     "user_tz": -480
    },
    "id": "Wzvx1pYv4ImJ"
   },
   "outputs": [],
   "source": [
    "# shuffle dataset\n",
    "train_df = train_df.sample(frac=1)\n",
    "test_df = test_df.sample(frac=1)"
   ]
  },
  {
   "cell_type": "code",
   "execution_count": 5,
   "metadata": {
    "colab": {
     "base_uri": "https://localhost:8080/"
    },
    "executionInfo": {
     "elapsed": 2,
     "status": "ok",
     "timestamp": 1640282539577,
     "user": {
      "displayName": "孫睿菡",
      "photoUrl": "https://lh3.googleusercontent.com/a/default-user=s64",
      "userId": "08667895551467607443"
     },
     "user_tz": -480
    },
    "id": "vN5qMNdk4ImK",
    "outputId": "f88aace4-1075-4516-ab2e-53346f566814",
    "scrolled": true
   },
   "outputs": [
    {
     "name": "stdout",
     "output_type": "stream",
     "text": [
      "Shape of Training df:  (3613, 4)\n",
      "Shape of Testing df:  (347, 4)\n"
     ]
    }
   ],
   "source": [
    "print(\"Shape of Training df: \", train_df.shape)\n",
    "print(\"Shape of Testing df: \", test_df.shape)"
   ]
  },
  {
   "cell_type": "markdown",
   "metadata": {
    "id": "fBaDgmXb4ImK"
   },
   "source": [
    "---\n",
    "### ** >>> Exercise 1 (Take home): **  \n",
    "Plot word frequency for Top 30 words in both train and test dataset. (Hint: refer to DM lab 1)\n"
   ]
  },
  {
   "cell_type": "code",
   "execution_count": 8,
   "metadata": {
    "executionInfo": {
     "elapsed": 34577,
     "status": "ok",
     "timestamp": 1640282680661,
     "user": {
      "displayName": "孫睿菡",
      "photoUrl": "https://lh3.googleusercontent.com/a/default-user=s64",
      "userId": "08667895551467607443"
     },
     "user_tz": -480
    },
    "id": "k30KiD6Q4ImL"
   },
   "outputs": [
    {
     "name": "stderr",
     "output_type": "stream",
     "text": [
      "/Users/rhs/miniforge3/envs/tf/lib/python3.9/site-packages/sklearn/utils/deprecation.py:87: FutureWarning: Function get_feature_names is deprecated; get_feature_names is deprecated in 1.0 and will be removed in 1.2. Please use get_feature_names_out instead.\n",
      "  warnings.warn(msg, category=FutureWarning)\n"
     ]
    }
   ],
   "source": [
    "# Answer here\n",
    "import numpy as np\n",
    "import nltk\n",
    "\n",
    "from sklearn.feature_extraction.text import CountVectorizer\n",
    "count_vect = CountVectorizer()\n",
    "\n",
    "train_df_counts = count_vect.fit_transform(train_df['text'])\n",
    "train_feature_name = count_vect.get_feature_names()\n",
    "train_frequencies = []\n",
    "for j in range(0,train_df_counts.shape[1]):\n",
    "    train_frequencies.append(sum(train_df_counts[:,j].toarray()))\n",
    "train_frequencies = np.asarray(train_df_counts.sum(axis=0))[0]\n"
   ]
  },
  {
   "cell_type": "code",
   "execution_count": null,
   "metadata": {},
   "outputs": [],
   "source": [
    "import plotly as py\n",
    "import plotly.graph_objs as go\n",
    "from plotly.offline import init_notebook_mode, iplot\n",
    "init_notebook_mode(connected=True)\n",
    "\n",
    "d = dict(zip(train_feature_name,train_frequencies))\n",
    "d2 = sorted(d.items(), key = lambda x:x[1], reverse=True)\n",
    "d2 = dict(d2[:30])\n",
    "key = []\n",
    "value = []\n",
    "for k,v in d2.items():\n",
    "    key.append(k)\n",
    "    value.append(v)\n",
    "    trace_basic = [go.Bar(\n",
    "                x = key,\n",
    "                y = value\n",
    "        )]\n",
    "# Layout\n",
    "layout_basic = go.Layout(title=' Top 30 words in the train dataset ')\n",
    "# Figure    \n",
    "figure_basic = go.Figure(data = trace_basic, layout = layout_basic)\n",
    "# Plot\n",
    "iplot(figure_basic)"
   ]
  },
  {
   "cell_type": "markdown",
   "metadata": {
    "id": "t-nPretWTjkg"
   },
   "source": [
    "![image.png](data:image/png;base64,iVBORw0KGgoAAAANSUhEUgAAB24AAAPeCAYAAADEQjqQAAAAAXNSR0IArs4c6QAAAERlWElmTU0AKgAAAAgAAYdpAAQAAAABAAAAGgAAAAAAA6ABAAMAAAABAAEAAKACAAQAAAABAAAHbqADAAQAAAABAAAD3gAAAAAgWmlnAABAAElEQVR4AezdB7wUxf0A8EEBRbBRpGNBFDvBihp7xRJLrKiJ3b+xJbbYNYnREDWaGBNbYjdqjL3FhpUoFsSOIIgUlaY0FRT/O6e37+7evceDfXAP3nc+n8fNlpmd/e7u8fncb2emyXdJChIBAgQIECBAgAABAgQIECBAgAABAgQIECBAgAABAgQIVExgsYod2YEJECBAgAABAgQIECBAgAABAgQIECBAgAABAgQIECBAICcgcOtGIECAAAECBAgQIECAAAECBAgQIECAAAECBAgQIECAQIUFBG4rfAEcngABAgQIECBAgAABAgQIECBAgAABAgQIECBAgAABAgK37gECBAgQIECAAAECBAgQIECAAAECBAgQIECAAAECBAhUWEDgtsIXwOEJECBAgAABAgQIECBAgAABAgQIECBAgAABAgQIECAgcOseIECAAAECBAgQIECAAAECBAgQIECAAAECBAgQIECAQIUFBG4rfAEcngABAgQIECBAgAABAgQIECBAgAABAgQIECBAgAABAgK37gECBAgQIECAAAECBAgQIECAAAECBAgQIECAAAECBAhUWEDgtsIXwOEJECBAgAABAgQIECBAgAABAgQIECBAgAABAgQIECAgcOseIECAAAECBAgQIECAAAECBAgQIECAAAECBAgQIECAQIUFBG4rfAEcngABAgQIECBAgAABAgQIECBAgAABAgQIECBAgAABAgK37gECBAgQIECAAAECBAgQIECAAAECBAgQIECAAAECBAhUWEDgtsIXwOEJECBAgAABAgQIECBAgAABAgQIECBAgAABAgQIECAgcOseIECAAAECBAgQIECAAAECBAgQIECAAAECBAgQIECAQIUFBG4rfAEcngABAgQIECBAgAABAgQIECBAgAABAgQIECBAgAABAgK37gECBAgQIECAAAECBAgQIECAAAECBAgQIECAAAECBAhUWEDgtsIXwOEJECBAgAABAgQIECBAgAABAgQIECBAgAABAgQIECAgcOseIECAAAECBAgQIECAAAECBAgQIECAAAECBAgQIECAQIUFBG4rfAEcngABAgQIECBAgAABAgQIECBAgAABAgQIECBAgAABAgK37gECBAgQIECAAAECBAgQIECAAAECBAgQIECAAAECBAhUWEDgtsIXwOEJECBAgAABAgQIECBAgAABAgQIECBAgAABAgQIECAgcOseIECAAAECBAgQIECAAAECBAgQIECAAAECBAgQIECAQIUFBG4rfAEcngABAgQIECBAgAABAgQIECBAgAABAgQIECBAgAABAgK37gECBAgQIECAAAECBAgQIECAAAECBAgQIECAAAECBAhUWEDgtsIXwOEJECBAgAABAgQIECBAgAABAgQIECBAgAABAgQIECAgcOseIECAAAECBAgQIECAAAECBAgQIECAAAECBAgQIECAQIUFBG4rfAEcngABAgQIECBAgAABAgQIECBAgAABAgQIECBAgAABAgK37gECBAgQIECAAAECBAgQIECAAAECBAgQIECAAAECBAhUWEDgtsIXwOEJECBAgAABAgQIECBAgAABAgQIECBAgAABAgQIECAgcOseIECAAAECBAgQIECAAAECBAgQIECAAAECBAgQIECAQIUFBG4rfAEcngABAgQIECBAgAABAgQIECBAgAABAgQIECBAgAABAgK37gECBAgQIECAAAECBAgQIECAAAECBAgQIECAAAECBAhUWEDgtsIXwOEJECBAgAABAgQIECBAgAABAgQIECBAgAABAgQIECAgcOseIECAAAECBAgQIECAAAECBAgQIECAAAECBAgQIECAQIUFBG4rfAEcngABAgQIECBAgAABAgQIECBAgAABAgQIECBAgAABAgK37gECBAgQIECAAAECBAgQIECAAAECBAgQIECAAAECBAhUWEDgtsIXwOEJECBAgAABAgQIECBAgAABAgQIECBAgAABAgQIECAgcOseIECAAAECBAgQIECAAAECBAgQIECAAAECBAgQIECAQIUFBG4rfAEcngABAgQIECBAgAABAgQIECBAgAABAgQIECBAgAABAgK37gECBAgQIECAAAECBAgQIECAAAECBAgQIECAAAECBAhUWEDgtsIXwOEJECBAgAABAgQIECBAgAABAgQIECBAgAABAgQIECAgcOseIECAAAECBAgQIECAAAECBAgQIECAAAECBAgQIECAQIUFBG4rfAEcngABAgQIECBAgAABAgQIECBAgAABAgQIECBAgAABAgK37gECBAgQIECAAAECBAgQIECAAAECBAgQIECAAAECBAhUWEDgtsIXwOEJECBAgAABAgQIECBAgAABAgQIECBAgAABAgQIECAgcOseIECAAAECBAgQIECAAAECBAgQIECAAAECBAgQIECAQIUFBG4rfAEcngABAgQIECBAgAABAgQIECBAgAABAgQIECBAgAABAgK37gECBAgQIECAAAECBAgQIECAAAECBAgQIECAAAECBAhUWEDgtsIXwOEJECBAgAABAgQIECBAgAABAgQIECBAgAABAgQIECAgcOseIECAAAECBAgQIECAAAECBAgQIECAAAECBAgQIECAQIUFBG4rfAEcngABAgQIECBAgAABAgQIECBAgAABAgQIECBAgAABAgK37gECBAgQIECAAAECBAgQIECAAAECBAgQIECAAAECBAhUWEDgtsIXwOEJECBAgAABAgQIECBAgAABAgQIECBAgAABAgQIECAgcOseIECAAAECBAgQIECAAAECBAgQIECAAAECBAgQIECAQIUFBG4rfAEcngABAgQIECBAgAABAgQIECBAgAABAgQIECBAgAABAgK37gECBAgQIECAAAECBAgQIECAAAECBAgQIECAAAECBAhUWEDgtsIXwOEJECBAgAABAgQIECBAgAABAgQIECBAgAABAgQIECAgcOseIECAAAECBAgQIECAAAECBAgQIECAAAECBAgQIECAQIUFBG4rfAEcngABAgQIECBAgAABAgQIECBAgAABAgQIECBAgAABAgK37gECBAgQIECAAAECBAgQIECAAAECBAgQIECAAAECBAhUWKBphY/v8AQIEKizwDfffBveGz463X+Vbu3DUi2WTJdl5p/A7O++C+8MHZUeYMXO7cLSrZZKl2UI1LfA0BFjw8yZs3LVdmi7bGjbZrn6PoT6CBAgQIAAAQIECBAgQIAAAQIECBAg0KAEmnyXpAbVokbWmOnTvwwzvvyqXs96qaVahJZLLbrBrBhAGvXxJ2HMp5PCmE8mhNHjJoZp02aEli1bhM4dWoeVu3UMG6y7Wlh88XnrUP7ZhMnh3Q8+Dm8NHZkEDb4Ja/XoFtbosVLo0qlNaNKkSb1eK5XNnUAM5Ox66NlpoWsvOils2WfddLmSmU8+mxhGjZ2QNmG1VTqH5ZZplS4v7Jn4XGz+05PT07j0zCPDbjv0SZdlKiMQX2SYMnV6evD11+kxz999aSUNJNO777Fh2ozv/388av++4ZRjftpAWqYZBAgQIECAAAECBAgQIECAAAECBAgQmD8CetzOH9c613r2H28MDw14uc7712XHPbffNPzhrCPqsutCtc9rbw4L9z8+MDz23Kth4uQptba9U7vW4Wf7bB8O+MnWYcklmte6b37j0y++Ec784z9rrLtVEgw/8ed7hp/tu32+iE8CqcC/H3oh/PnGe9Ply885JvTddqN0uSFl4gsj7xb0XF6350qhefNmDamJC6wtC7vFBZffHF5984PU67m7Lgntk+8/ad4E4rtsg9/+MHw7e3augpW7rhDaLL/svFW2CJZa2J+XRfCSOCUCBAgQIECAAAECBAgQIECAAIFFTEDgtsIX9Lugw3NdL8H+x/++rruGseMnhYuuuiP875V3w18uPC40b1b7rX7nA8+Esy+9sdb6Y8+vC6+6PXw66YtwytF7h8X0vq3Vy8aGKzD4nQ/Doademjbw3msvCGv26JouN6YMi8Z0ted8rl9+9XXY77gL0x3PO6Ff6LfXtulyY894Xhr7HeD8CRAgQIAAAQIECBAgQIAAAQIE5rfAvI0lO79bpX4CdRSIvWA37tUz9N1qwxCHCC1NT788JJx58T9LVxctX/+vx6oFbWO9223+o7DbNhsnva2WKdr/un89HM5NekpLBAgQIECAAAECBAgQIECAAAECBAgQIECAAAECBOpLoPZuiPV1FPXUKHDmcfuHYw7ercbtccOhp1ySDt/brXO7cOVvjq91/zbLtqx1+8K+MRr8X79dw5YbrxPatlmu6HQmTv4iXHH9feFfDw5I19//5MBwzokHhGXLzDc6YeLn4Q9/vyPdN2bOO+mgsP9uW6XzRMahM58f9HY4/LTL0v3ufPjZ8NNdtwi91lwlXSfTuAV23XbD0HPVLinCemusnOZlCMwvgVOP2idM+rxq6PjWJS+azK/jqpcAAQIECBAgQIAAAQIECBAgQIAAAQIE6l9A4Lb+TeeqxhXaLh/iX21pmaVbpIHbpZZcIvTsXhUcqq3corZt5y03CH233ihs9+PeaVC19BzjXITnn3xwiAHZJwYOTje/8e6IsEUS6C1Nt9/3bNGqQ/fZMfTbY5uidU2SIZF/vNHa4cJTfh7OuuSGdNs/73g0XHHBsemyTOMWWKlbxxD/JAILUqD3OqsuyMM5FgECBAgQIECAAAECBAgQIECAAAECBAjMRwGB2/mI21Cqnp30GB33yYQwdMTYMCGZn3Wlrh3Cait3KtsDdW7bPOubb8IHI8aFocNGhVatWoS1VusWOrZvO7fV1Gn/ugZJ49yzO2yxflHg9oPk3MsFbh999uWiY8e5a2tK+yQ9bG/493/DByPH5nZ55JlXQv+vZ4YllmheU5GFZn28jiM+/iwM+3B0mJnkV12pc/LXMSxZgXOL9+voMZ+Gt94fFaZ/+VVo32750CW5p1ZescM8eX777ezwaTLn8aixE8LkpGdim9bLho7tlsu9MNHQrt1Xyf303vDR4YPkOrRedumw0ortw4qd2oemTRefp3NfkIU+nzItvPvBx+HjsZ+Fzh3ahlW6dQgdVmgd4osPc5tmz54dxowbH4Z+ODZM+mJq6NpphaS+9qFd0sN+Xuqb2+MviP1nzpwVxicvmEz8fFpyX04N05M5tON1Xn65pUOXDm3m2W5e2j7u0wnh7aGjwhdTpyf/P3QM3RPr5ZL7b0Gk8RMmh3eS+2bspxOT65s8m8mz3iP57mnevNlcH37S5ClhQuL5eXLPRNN4H7VIXnbq0L5N6NapbViqxZJzXee8FJgf7fg6+W4Ym/w/Hr/HYn6F5NmK32NtWy9X44tMNbW9MTxfNZ279QQIECBAgAABAgQIECBAgAABAgQauoDAbUO/QhnaFwMpv7vi9hCHCi6XOrVrHY48YOdw4J7b1BoMueya/4Rb7n0iV8VKXdqH/1xzXnj9reHhsuvuDi8Nfq9a1XF+2AtOOjjstkOfatsW1IpZ335bdKgYCClNnyUBg3wQNm7bYsO1Q7OmtT8SW260XlGZ19/+MGzSu2dp1XVePrv/DeHhAd8Hj2MQ8bm7Lq0xSNf/qruSIaCfztX9k+03C+f9sl/Z48SA0CZ7nJhuO6bfLuGo5K9cikHCCy6/Obz65gflNud6d5/5iwPneI7l7pFY4ajRn4Sn//dmGPLOh7ljTJk+I7Rru2z43cmHhg3XW63omDFoeenf7w53P/ZcmJYEsUpTHCJ7w3VWL11d4/IHI8eFv990f3jgqZdq3CfOi7z7tpuE7bfonQRAlq1xv7psGPjqu+EX5/wl3fX+684PXZKAY2na/9gLw9CRY3Kr99tlq3D6L/YN/3vtvXB58jy99s7w0t1DfJ4uP+//yr54UG3nOax45KmXc73GS333OPK83HFKi/+075bhzOP2K12dLscA0J0PPBOuu/PRMGrM+HR9PrP2aiuGy84+qs49kUeOGhd+95fbw7OD3spXUfQZLU47ep+w7+5bhfiCRpaU1aLcdYztee3NYcn1fDe88fbwMOSDkbkmdkxePrjh0lPCMku3DH+76cHwyDMv5wL0uY01/LNyEjw9av++YZdtN671BYq/3nh/uD7p/R9TfLYeu+miajUOePGN8KvfXZ2uf+ymC3NBzCtveCDc8dCAss/bnttvGs4+8cCwdKul0nL1lYnDz99x/4BwxQ33paNJFNYdr/OBu29Ttl2F+8X8h8lzfsnVd4X/vfHeHPePz1u/vbYpO2pFDF7vcui5pdWHC/58a7g0eTZLU5eObcP91/8mXV1f7UgrTDL5Yfr/mjiV+27I77vj5uuH3bbfJGyxyTq13itZnq+sz0u+rT4JECBAgAABAgQIECBAgAABAgQIEKhdoPYoVe1lbW3AAoMGDw0nXHBV2R/F880em/RCjD9KxyDJRacdGmqaG3HatBnpD+JvDf0o/OayW8It9z+Vr6baZwwKnfz7a8PI0ePDLw7dLXOApdoB5rAi/tj9xAuvF+0VewKXpuEffVK0aqNecw4Kbvyj1ZMg1SNpuQ8/GjvHoGa6c5lM7P2cD6LFzxhIXXv1FavtGQNk9zz+QrrvfUn+jCSg1rxZ9Uf43WGj0/1iRd27dapWXzS67b6nk6DtLdW2Fa6I7TnkV/3Dsf12C8cdunuNQeXCe2TS5O97D15+7T3hxnseL6wul5826qukR9y0ovWxN/gvk/u1MJBetEOyEAOD5YKDpfvF5WtveyT88Zq7ym0qWhcD1vHvvv++GP511VlF2+Z24csvvy5y/zrpuVwuTfhiSrpfvH/OuOgfSbD6+XK75tbF++KI0/8Ufv1/+4bD9tupxv3qsuHLJDiev99K9y+3fuq06aW7pctvJj00b733qVoDSvH7YodDzgq3/+XMsH4tQ/rmA3nn/unmtP5ymdjGuE/s7X7JmUckgcrah5kvV0d+XVaLwus4NXkh4eMxE5Ln6aayQeeJSU/Q2Ks9pseff3WOQdu434hRn4Yz+v8zXPOvh8N//nZuaNmyRVxdLU2Z9mXVNZ1QbXNuxZdfFd+b9z3+Urg+CbbHdtWU7nn8xdyLOfdef35Yrsz84DWVm9P6L5IXis7uf2N4LHGoKcXrHM+7LunjpGd24bD4tZWJQer4F/+/27vvj4t2nTXrmyrHoi2h7Prxk4rt6qsd+UPHkQKOP/vKOp1btIx/vzh493Di4Xvkq0g/6+P5yvq8pI2RIUCAAAECBAgQIECAAAECBAgQIECgVoHFat1q40IpEHv+9Tvp4mo/yse5cbfus16IPW0L09MD3wh7HfWbEHs81iXVFrQtLP+Xm+4Ndz/0XOGq+Z6PP3Zfcd29IZ5TPsV5a8v1fByVDMdbmNZabaXCxbL51bt3LlofgytZ0ia91ygq/sbbw4qW8wtvvDOi6HrGwMZLr1fv7Rz3f+u9D/PFcp/rr7tq0XJc+OuND5YN2m647mphsw3Wqtb78qpbHwi/TgKMdUnxhYCfJD04ywVty5WPQ+LueujZZYO2sZdtm+WXKVesxnXPDBxSNmjbY6VOZc+txooWwIanXx5Sa9C2sAkX/+3O3NzNhevmNr9YyNZLtfB4N/z7sVqDtoX7XviXW0McArumdNFf78wFZAu3r9tz5bDPzluEg/fcLnfdCrcNTHq0/uby2wpXzXW+Pi3ufPjZsG2/08oGbevSsPidHM839rItTfE75tSLrqvVr7TMnJb7X31n0fdJTfvHZ/m6277vzVvTPnOzPn4/H3jCxWWDtvE5L/2/aW7qLtw39tiN/9/FHt/lvj9iQHxwMgpAYZofQ3DPSzvybbr8unvKBm3jKAHxb25SfTxf9fm8zE3b7UuAAAECBAgQIECAAAECBAgQIECgsQlU767X2AQWsfONP4z/LgmSFKY45OW5vzwotEx+zM6noUmvzGPP+0vagzH+QH/Tvx+vcUjdfLnCzxN+tkfYKOmBusaqXXNz7L0/fEy48MrbwpD3RqS7XX37Q2GvnTef6zn40grmkPk4Cb5+Me2rEIc9/nDUJ+GW/zwR4rnkU/yB+6QyPZDi9k/Gf57fLfdZU4+2wp1K50gcM76GLm6FhWrJR7v4436+t+OgIUOToTy3rVbi8eeLexDHHR4b8Er48UZrV9v3lSFVwx7HwEXpXJXjkrkk/3zDPUXlzjr2gHDwT7cNiy32/bscsYfWf595NRx//lXpfnHI7QP32Dr0rqXnZH7nwp6x8fw2Wa9nbu7MKUkPzmHJMMGFw6/+8ep/54vlPmPw5qJfHx56rbVKbn7KuDLO6RiHE77nsReSoaUHFe1funDeZTcVrbr8nGPC5hutlRumNr9h4uQvwqtDhoUrb7qvTr0f8+Xm12c0OjIZFnfDpNd37HH97Tffhrc/GBVOu/Daovv5hrueCKcc89N5bkYcvnybzXuFFwa9HU78zd/Tem667LSwZo+u6XI+s0Qd5hmNwcZD994h9F6rR+iezJ09OZlf9PmX3gqn/eH6fDUh9rx9Lhkye8s+66br8pk4v2kMAudTDLBfeNphodeaq+RX5T5HJ3PnntH/hnR49tjDMN4T8zpU+fywyDc43sMb9+qZBA2XDZ8l89gOHflxOgx7fMbi99K2m/4o/HjjdcKqK3Ys+n6ML9A8l/idfvF16ffCE8nz/9Z7I8O6a6ycP0S9fG690bphtx37hF5JvZ2SeYnjd8Ot9yVDXxf0do09Xw/ff8fc3LtZD/qvBwZUe0Hj96ceGrZL7sn891QM8L/57sjwxHOvhfj/x5zSYosvlvsO7bvVRrkXkzZYr0e1+dvjEMFX3fxQuDfpRZxPf7v5gXD1RSfmF0PXzu3DKw/8JTfX8Jb7nZqu/9Xhe+W+99IVP2QWX7x43un6akesPs5lW3ju8QWW/r8+MvfdkJ/7NzqNTV56GZC8qHLZ9f9J75XSdtbX8zU/n5fSNlsmQIAAAQIECBAgQIAAAQIECBAg0JgFBG4Xsasfh3wtHG728H12ys2hWXqaq63aJdxz9Xlhz6MvSIO3l1x7dy7IOqe5PmMg+JSj9642TOmP1u4ebrni9HD0GVeE2CMuphjAezL5AX6HrTYobUK9LG/b74yy9cTeVsccuGvYMTnu4skP++XSjGT40MK0ZDLH7JxSixZLFO0yPen5miXFtm2x0TppMPLZl9/MzWtY2PsrBlEffvJ/1Q4T58Y971cHpQGh/A5xrsd82nyDdfLZ9DP25CpMf//dCblgXuG6ePxoF+dw3P3wc9NNv//r7eHOv51dp+Gve6/ZPZkj86CwZjJMdU3zkb48+P303ONBYpm/X3xitaFZ4/y/MejXMQku1Ra4HZ8E8AsD96ccuXfou+1GafvzmRhQ22HL9cN2ydy2TyQB6hjcqFSK827+6sg9iwNjyW0Wh+6+9c+nh60POD1t2hslvanTDXXMxPstzrMa/wpTuXWF22vKn37MfuGQJOBfODd0/P7YY+fNcs9dHDI9n95JAtGlgdsYfPrtn2/J75LrcXnHX88MrVpWn1c19pq/6nfHhS33PSUNUv3lhnuTwO2v0/Jzk6lvi3jsvXfaPJxw6E9Cx/ZtamzKnJ6f+D0U51xedpkTw0En/SGt54MRo+stcBsDy+eedFDYZrNeaf0x07lju3Ba8mLAlGQ449iLOJ+GfTQubLjc0vnFefqMc65fek3VSxrxZYXbkiG043d1YYrfFeutuXLu79b7nkyvdeE+hfn48sqrD/211nnaV+rWMXkZ5LDw6cTJ6f9NhS8Y5euLz0HTpsUB2aWTIapLn5f8/oWf9dmON5MgfWH64xlHhfj/a2GKTvGZOGjv7cLeu/w43HbvgFA6l3t9Pl/z43kpPB95AgQIECBAgAABAgQIECBAgAABAgS+Fygf0aKz0ApcdcsDRW0/+qCdi5YLF2Kvx+MO+UnhqnDnA1U/1hdt+GEh/uD/h7NqnlsyBh1K63zs2ZrnMix3jPpYt+7qq+QCYfHH5prSjBnFgduWS1b1SK6pTGGAKu6TNXAb6+hTMFxy7Hn70cefxNVpejuZSzQfjCwc9jPu+/Lr76f7xcy4TycUDYEa5+QtTLFncpy7Mp9ioDT2wKwpxaBKDEblUwx2vPpGVY/e/PrSz/OSoNBtV56R6yFWU9A2lrnm1uIedb8+7oBqQdvSumtbHpm8KFCYpia9sWtLsW3xpYKTksBpJVJ8CeK3px5SHLQtaEgMpBUOizosmRO3oaSLTz8s1xOz9JnIt680KDh6XPXe6QNfeSc3x3C+zMVnHFE2aJvfHr+zflHwnRV7qDeEFJ/LGy89NRccrC1oG9ta2/NQeC4brFs8HO77H9bftb/pT6dUC9oWHnuXbTcuXAxjk++VrOmuB58rCsIem8zHWhq0nddjFL7oUlMd8f+CbTat+q6L8/tOqmWO35rqqW19fbUjjh5RmKZMnV64WC3fYsklcs9ifNmmMC0qz1fhOckTIECAAAECBAgQIECAAAECBAgQWNQF9LhdhK7wzJmz0t6z8bTi3JD54SdrOs1dkt6Iv7nilvQH9eH1EBiKQ1XGoR3zw+WOSYZ9nF8pBkziD/ClKfYWi3/bbf6j8NuTD8kNWVq6z8yZxXP6LrlEcU+r0v3zy4VDGzf9YWjh/LZ5+dyg12pFxQa//WGIPcTy6akXBuez4aA9tgkfjf4sHfLzsaS36GYbrpVuj0OMFqbSXlojk7KF6bB9dyxcLJv/2T47hLsffT7dNuLjpPddSZvTjUkmBvf7Je2sS3qtYE7fLTZcu9rwuHWpo3CfDm2XLVxMhn19Muy765bJMKhti9Y3lIVmzeb8FbxO8hLCq29+HyyP9/o3yTDKpb0CK3E+zUqGii1tQxx6PA57nB8BYNS44nsv7v/e8NFpsfhclb5okG4syKzZo1vBUsgF31rP5TzIRRXUw8K2fXqFPusXz1dd12rj8PZjP5kUxn6WvHQxKQkmfj4lGW56RpiaDCte+F3z2YSqIeDrWndN+5UO81u63+qrdC5aFduXNb1fcq0P+MlWWaussfzUaTPCR8lLHBOSYaonJp4TJk1NPGck99uoojLjJ08N8/Pemdd2dGy3fFE7r7vj0RDnKi/XE71ox5KFReX5KjktiwQIECBAgAABAgQIECBAgAABAgQWaYE5Rw0W6dNftE4uzotXmOrSmyn2lltj1W4h33NtxOjinj6F9dU1H3sdrbZylzRw+1EyD9/8SgPvuTxXdZwX8vNkbs0XX3033HLPk7k5NeOGODdk7BX7z0tOTudvzbclDr87Lyk/H+28lC1XZpWuHZPAclUA+pUkSBeHms2n+598MZ8N2/14/TAm8czP1fjgU/9LhjztlwbyXk+Cvvm04bqrhdI5eUeNKQ6e9UjmJJ1TWqVbh6Jd8gH5opXzsBCHTi203KT3mvNQS3GRTh3aFVnG+rftd1rYcfP1wxabrBPWWn3lsOpKHUPzOgRMi2uu3NKyS7coOvi33zaMwG1Ro2pYWG6ZVumWb5J2l6aRH3+arorX6pgz/5wu15QZ99nEok2jkp688zP4VnSwelqY9c03Ib50EedxrW3o73o63FxX0yrp2VyYYnA5a4rz/OZT77VWLZpzPb8+y+eHI8eFh54aFB4cMDCMGFV1X2Wpc17K1kc74lDRhemlwe+FLfY5Jey+XZ/cCA1rJFMddEnm5J1T7+3G+nwV2skTIECAAAECBAgQIECAAAECBAgQWNgEBG4XtitWS3tjAKMwrdBmucLFGvNd2rcNg8L3Q46+NfSjanOs1liwlg3t27ROt8ZegrE3cPPmzdJ19Z2JQzR3WKFNbo7eXbfbJBx+6mUh/tgdU5xv984Hngn7/2TrosOWzlc7K+nJOKcUz6MwLbHkvAV/C+uIge5tNukV7nrk+2Gqnx/0Vrp56IixaQB85W7tQ+wJt2LSmzmfYrBr0BtD095+g96sGjp58w3Wzu+WfpYGXdvW4R6JQc7CwPKHo8el9WXJlPb+7bRC1T0zr/XG4VDPOe7AcNJv/15UxWPPvxriXz6t23PlsHWf9cJOW28Qunebc/A6X64Sn0uVzKtciTbM6zFbJb1ua0vDRo0p2vz0wDeKluuyEHs1LkwpDld+wrlXhdfeGd5gm13fLzbEwG9h788uyRDg9ZnuuH9AOOeym+qzynmqq77asfKKncKBu28dbrv/6bQd8bs+Lheui6MUbP/j3rm/ci8vNMbnKwWTIUCAAAECBAgQIECAAAECBAgQILCQCgjcLqQXrlyzP5vwedHqOQ2TnN+5ZYviuV2/ToKTMRCaJZUOIRx72zUP8y9wW9jWGHS46LSfh20O/HW6+qVkLtjSwG3peU+Z/lWYUwjvy69K5sVNhnetj9RngzXSwG2czzYGd1Zou3x4+oXX0+p337ZPLh+vTZwbNT9X7WPPvJIL3MZex3EO2nza+Ec989n085Ok7sIU5wytS2q51BLJkNTf7zn5i2l1KTLHfUaX9MRu17ZuLxrMqeK+yfDfs2fPDuf+6aaiHr2F5aJT/Lvin/fmhhQ/9ZifZr7nC+uvz/ziSWB/YU2Lh9rbPnJ09p6RTecwZHNDsnv9reHh8NMurXZfxiGRN1xv9dCtwwqh/QrLh9bLtQrLtmoZzr7sxrJDwTekc6pLW+L3WWFqn3y31UeKAeGz+98Q7n7s+WrVrb3aiqHHip1DnCe67fJL5+bOfnfYx+Hq2x+qtm/WFfOjHeec2C8ZKrtFuOZfD9fYvGeTl3ziXwxaX3jKz8M+u25RtG9je76KTt4CAQIECBAgQIAAAQIECBAgQIAAgYVUQOB2Ib1w5ZrdrvWyRau/mFq3ANuXScCvMNVHz9gpyfyM+RSDEqVD9ua3za/PLp1WKJof8s0PqgKa+WN2TAIkhenzOgQkp03/srBI6JIEWuojbbTeakXVxHlud9hy/fDQ0y+l67fdvHea33GrDdLA7f1PDAzxR/53hhbP37h2z5XS/fOZ0l7Y05PziXORzilNn1EVsF6mjsHeOdW5dBKUKEwzkh5l9ZV23X6TsN0WvcPDT72cBL/fCC+89na1YFn+WDff80SY8eVX4aJfH5Zf5XMBCbRrXTVEeOwFffPlp831kbO+ZDLXB5zHArO/+y78uv91RfdhnAv8tCP3Cdsnz3rseV+a/nbrg4tE4LZlyQsuM76s+j4pPee5Wf5v8tJKadB2/123Csf/fLfQrkxweNllWs6XwO38aEccPeCU5IWSn/102/CfRweG5195Kx1FopzRWZfcEOK804XD7Dem56uciXUECBAgQIAAAQIECBAgQIAAAQIEFkYBgduF8arV0OauJcNPfjq+uJdTDcXC6E+rhliO8+LOad68muopXD/qk6p5bVfv3rVw0wLLt2u7bJg26vtgYBwiOPbCXGyxxdLjd+tcHHQd8u7wsEnv6r1U0wJJ5u2S4OiKXepnyM/YuzYOhZyfm/HVt4Ylcw93SYcXjQGewjmLN92gaj7Y/HDJ7w77KG3q1hutW3Ye11hPYYo94VaeQ+A2zscZh7vOp1W6dMxnM322LxkaecLkLzLVV1o4BvT22nnz3N93SdAszg387rDR4eWk9/WDA14qOqe7H30+/GyfHYqMS+tblJfjs1GJtMYq3dJ7/MNR43K9nssFMBdk2+aXxZB3R6TPdzyfjXv1DP+45FchzjO+qKdllm5ZdIqlPXCLNs7Fwt2PFPe0vfHSU9Nh4+eimlp3jXNKzynNz3bEAPTRB/XN/X2TDOc/7KNx4b1kSoPnX3kn3P/kwKKm/eYvt4bddugTYtA3pgXxfM2v56XoxCwQIECAAAECBAgQIECAAAECBAgQaEQCVVGsRnTSi+qpdurYpujUCucULNpQsBB/CH576Mh0zSpdswfl4pyTr775QVpnHK5yQad4XvkgaDx2DIoWBm3juu4rFp/rwNffi6trTYMGfz8XcH6nHivV37lttXGvfLXJvLxvhydeGJwu77HdZmk+ZvLDJedXPvbMq+G1IcPyi2HTDdZK84WZrklP5ML0QTKH7pzS8I8+KdqlNPhbtHEuFjq2Kx4aediI+pk7t1wTYjAw9sLePumFe9aJB4QB/+ofdtx8/aJdYzCksaZZs76pyKmvUvAMxhcQRo/9rCLtKDzo/LIoHRr8mH67NIqgbd628MWTdz8clV+d6XPYyKrvr95rdq/3oG1s3Nez5hy4XRDtiG1p2nTx3MslsVftJeccGV68+7LQqV3V3ODxGRpb8NLUgni+5tfzEs9XIkCAAAECBAgQIECAAAECBAgQINAYBQRuF6GrHoN5hT/ixiFgP/9iaq1n+EgylGz8sTefunfLHoi89Z6n8tXlPldPeo4u6PTCoLeLDtl7jR5Fy3GhbTK0dJwHMZ9eeOXtUDqHbX5b/Iy9Np99dUjhqtBrre5Fy1kW+hTMSRuD7rfeV+W4w4+rhknOHyMOl5xP9z3+Qm444PzyhgV15dfFz5VKeghf869HCjeXzd9y9xNF61fq2qFoeV4Xll2mVVHROx4aEGYm8ysviLRE8qwc/NPtig41uY5DixcVWkgXSuc2njK1amjzBXlKpS9PXHTlHQvy8LljLSiLL0qM6zJE+QLHmI8HXLFj+7T2+P321vvZX5SYMn1GWmerOYwckO44h8ySSy5RtMcXU+b8bNR3O+L/NXVJbdssV21e28+nVg3nPz+erwX1vNTl/O1DgAABAgQIECBAgAABAgQIECBAYFEUELhdxK7qUQf2LTqja259tGi5cGF6ErC98pb7C1eFn+6yadHy3C7EoYSvuf3htFib5ZcJe+1U3Fs03TgXmYv+ekc4/cLr0mFVays6MRly99f9/1G0yzo9Vypazi/s8OPiXpfnX3pzflO1z6tveaioF+8uW21UdjjiagXruKL3OqsW7RmHd44p9nBdrUzwu3S45HwAPs4p3LN7+QB8x/Zti3qaDnlvRHiqoGdvUQOShQ9Gjgt3PvxsurrHSp3CRr1WT5ezZg7cfeu0itj+m+5+Ml0uzcS2nHfZjaWri5Yff/a1sPvh54bSwH3RTj8slA5Ru1RJwKZcmUVlXaf2Vb304jk9/3Lxiw4L6jx/vNHaud7w+eM9MXBwuPXeqhcW8uvLfT71/ODw02N+W27TXK1bUBYrda4KXMYGDhr8fo3t/CqZd/zKGx4I8flcVNLOW29YdCpX3Xx/iCMjlEvxhaPzL7u56KWicvut0q1q1ITX3h4WphUEckv3f+OdEeH3f729dHW15ThVQByhIZ8ef/HVfLbGz/pux0V/+Vc4/uy/hhEfVfUorungzZJeuIWpMPA8P56vBfW8FJ6TPAECBAgQIECAAAECBAgQIECAAIHGJCBwu4hd7X122yIX6Muf1nV3PhLO7n9D+DoJBBSmkcl8knsdc0FRIPK4Q34SYmCvtjR2/KTw2ytuC6+9OSzEuU/z6dNkfeyZuedR5xf92H7OcQeGFvUQEJv8+dRwz+Mv5oJyR59xRXjyudfDqNGfhG+/nZ1vQoiB6NiG7fudUTR/afwRfq++m6f7FWb2333LwsXcMf5+84OhsAdiDKLc+9iL4bLr/1O07xElQfKijfOwEOeBXLfnytVK7r5t+WB66XDJ+YJbbLROtWGh89vi56nH7F24GI4568/h9nufLloXF54ZOCTsd2xxYOzs4/ul8ydWKzAPKw7fb4eiUv2vvjNcevXdufloY6+zeE0HvTE0xMD9Lj8/q2gI7qKCPyzE+RZjb75DT700/OxXfwwvJ8Gxcr2oPx7zaRLcv66oii03WadoeVFeaJ28UFGYbrzn8RADoYU9/YaPGlttTufCMvWRjz2fLzzlsKKqLrj8lhCf8dKg1cxkOOd3Pvg43PXgs2Gvoy4Ix5z95xDnxc2aFpTFait3KmrqH6+5K/e9kv8Oi/duNL/3kRfCTgedGf58wz1F+y/sC3GEgMJh1p94/vVwTHKd3/9wTO57PP5/Eq/vP+98LGxzwOnhtvurfyeVGqyz+irpqvjix8kXXBPis51Pcdj+l5Ih8GMQeJ/ku+yDgqGV8/uU++zeuSogHIfcv/zae4r+r5kw6Ysw8NV306L13Y5Zyf9rjz3/atjxZ2eHcy+5KfedVhrkjs9qfEHlkmvvTtsR/69bdcWqERHmx/O1oJ6X9KRkCBAgQIAAAQIECBAgQIAAAQIECDQygaaN7HwX+dONvQjP+sWB4egzr0jPNfaYjH8b9+oZlmvVMnw4ely1H7Bjz9jSIFpaQUkmDsEc/2KK5WJQON/bs3DXeLydtynuZVW4fV7zTw98I8S/fIq9QKdPT+b2S4LH5dKfzjk2NydsuW3LLbt0Ejj6eTjrkhvSzTFAG//iMMpxXtxyvd4O3WfHsNZq3dIy9ZXZauP1qh1vuzLDJOePF4MhMaBdmDZdf83CxWr5bl06hCP23TnEoH4+nXf5zSEGkjZc7/vetO8P+7ia59Z91qv3OSS7Jr0Q99x+06JzuPr2h0L8y5oGvvZuMlfw98GVGNBYp8cqYfHFmoThH4+rZnzQ7tuEDiu0yXrIhaZ87FV41P59wzX/quodHwOhMcXg2qTJU3PP9N47bh4uOqM4sFrfJ7nBuj1Cv59smwwNXtXbOv+Mx97jqyXzSM9Mgnpvzac5iBeURbu2y4foefdjz6eEp110XYh/8f4cP+GLst+j6c4LeWbxxRcL/9dv13BG/3+mZ/LsoLdC/JvXdPCe2xTfNy8PCU/3G5L7f6nlUkuE/KgFc1v/frtvFWLv73y66tYHQvyLUxF8ndyLEydPyR1j4D2X53aZX+2Ilf/rwQG5v5iPL/bEedW/+mpmePODEdXO78Sf7RnifN6Fqb6frwX1vBSegzwBAgQIECBAgAABAgQIECBAgACBxiSwWGM62cZyrltvul74+4UnhBj0KEwvDX4v14untNfR+uv0CP/5+9lhXuZcjD9glwvaxkDYtX84qdqPyIXtmZt88U/RxSXj+ZQL2sYf2a/7wy/Dmj26FhcoWdpn1y3ClecfW7I25AJF5YK2px61TzjjF/tV278+Vmz0o+JhiGMQrbb2Fw6XnD/+Ruutls/W+Hny0XuHXx2+V9H2eB3zAbNSzzik8RXn/1/R/vW1cM5JB4YYFK5L6rtV7S8CxEB7uRR7zd3/5MBcgLj0msYhr8868cByxRbpdUf127nad0Q84RjsKvdMz0+Ms084IPzmlwdXa09sx2vvDK8xaBt7FNZHWlAWZx6/f9E85Pm2x/uz1Dy++FL6HZ7ff2H93HPnzcPxh+xRp+bvkbzQMae0ykodw3kn9Ku2W/x/qVzQduuN1q22b7kVW/ZZN2yx4drVNsXvxVh3aarvdjRLgtzlUvzuuvvR58NDA16udn5n/2L/0HfbjcoVC/X9fC2o56XsyVhJgAABAgQIECBAgAABAgQIECBAYBEXKP/r4CJ+0gvb6S3RrFna5OYF+XRlmcw2m/UKj950Yajth+oYFDjx0D3CLZefPschkgsPccax+xUNeVm4LfYIuvKCX4Rzf3VQjb1cC/eva/6CUw7JBVd33nKDOhWJQclHb/l92GLjug1/u0PSc/XWK36d62Vb0wFir7jLzzkmHHngzjXtknn9emsUD5W82zZ9aq2zdLjk2AN6pYJ5H2sqHHu/HXPwruGOK88qms+xdP9Y31W/PS6c/6uDa72eTQvmWWzavHjOxdI6S5dbtVwqXPW748MRSQ/QmlKf3muER276XTjpsOKgT+FxY9ntt+gd7r32glyP4jkFvWKd8d7/0/nH1Mvwz9G0MDVfvLxD4X6l7S8sn883TXrRF6YmNQSnC/epSz4Ozf34rReF2gJkyyzTMq2qNCi+eA3nlxZIMs2aV7W9aS37R5P9f7J1rj377bJVrjdjYT2l+R03Xz/8JXnZ4snbLi7dNE/Lc2sRDzK31zGWWbrVUuH+f1wQ9u27RVwsm3p275L7nrnpT6eG1btXvXTSdPEqy8KCzQvuj5oC2aX3UF3uu8Lnp/BcC489t/nYW/P4w3bPnV9h/YX1xJdV4gs3/c86oihwXdP902+vbcO1F51U6z2z/65bhef/fWk4dP+dCg8Vmjat+ZWgq35/QrWXWwoLt162VeFiqM92nJ68GPTPP55c67OZP3i8l55MnuND9ikedj6/PX7W9/M1L89LYXvkCRAgQIAAAQIECBAgQIAAAQIECBCoWaBJMk/adzVvtmVREJg5c1YYmfToev/Dj8PU6V8mQdo2Ic632LFD2xB/SJ9T+s1lt4Rb7n8qt1vsxTrgrkvC7OS2mTDx8zD2s8m5zxWSYUBXX6VzqClwMKdjzM32OCfkZxMmh0/Gfx4++WximDRlWlgsNAkrde0QunVqmxvyNkugIQ79PHTE2PDesFG5Zq2cBELXSIIp89IjeW7Oq5L7xrkgh41MhtAeMTrXjG7JEMbxHimdz3B+tzHeq9H+3Q8+yh1q1WRY0NW7dw5LtSjuPV7Xdnye3BtjP50cxn0yIUz8PBnedLllQofk/u+0wvJh+eWWrms1i/x+cS7hj5KettEpBluXT4YQX7nrCiEG1SuV4j0Z2xTnLI3ze8br1rl96xC/a+oSeJzXdi8oi7GJ9dBkftcxyXdYTB3aLB+6J/OT1uXFi3k9t4ZULv4fMiIZtvyd9z7K9Tbu1nmFsMaqXef5OyfORf7+8DHJ99joZPj+Wcn39ZKhfdvWoddaq9T60smcTOLcymPHjc/di7HNyy3TKnTp0DrEoa/LpfpuRzzmxOT/2jHJ/7Vjx00I07/8KrRvt3zuZav4PdayZGSNcm0qt66+nq8F9byUOwfrCBAgQIAAAQIECBAgQIAAAQIECCyKAgK3i+JVredzKhe4redDqI4AAQIECBAgQIAAAQIECBAgQIAAAQIECBAgQIBAoxYoHtuzUVM4eQIECBAgQIAAAQIECBAgQIAAAQIECBAgQIAAAQIECFRGQOC2Mu6OSoAAAQIECBAgQIAAAQIECBAgQIAAAQIECBAgQIAAgVRA4DalkCFAgAABAgQIECBAgAABAgQIECBAgAABAgQIECBAgEBlBARuK+PuqAQIECBAgAABAgQIECBAgAABAgQIECBAgAABAgQIEEgFmqY5GQI1CHTs0Cb07N4lt7XjCm1q2MtqAgQIECBAgAABAgQIECBAgAABAgQIECBAgAABAgTmVaDJd0ma18LKESBAgAABAgQIECBAgAABAgQIECBAgAABAgQIECBAgEB2AUMlZzdUAwECBAgQIECAAAECBAgQIECAAAECBAgQIECAAAECBDIJCNxm4lOYAAECBAgQIECAAAECBAgQIECAAAECBAgQIECAAAEC2QUEbrMbqoEAAQIECBAgQIAAAQIECBAgQIAAAQIECBAgQIAAAQKZBARuM/EpTIAAAQIECBAgQIAAAQIECBAgQIAAAQIECBAgQIAAgewCArfZDdVAgAABAgQIECBAgAABAgQIECBAgAABAgQIECBAgACBTAICt5n4FCZAgAABAgQIECBAgAABAgQIECBAgAABAgQIECBAgEB2AYHb7IZqIECAAAECBAgQIECAAAECBAgQIECAAAECBAgQIECAQCYBgdtMfAoTIECAAAECBAgQIECAAAECBAgQIECAAAECBAgQIEAgu4DAbXZDNRAgQIAAAQIECBAgQIAAAQIECBAgQIAAAQIECBAgQCCTgMBtJj6FCRAgQIAAAQIECBAgQIAAAQIECBAgQIAAAQIECBAgkF1A4Da7oRoIECBAgAABAgQIECBAgAABAgQIECBAgAABAgQIECCQSUDgNhOfwgQIECBAgAABAgQIECBAgAABAgQIECBAgAABAgQIEMguIHCb3VANBAgQIECAAAECBAgQIECAAAECBAgQIECAAAECBAgQyCQgcJuJT2ECBAgQIECAAAECBAgQIECAAAECBAgQIECAAAECBAhkFxC4zW6oBgIECBAgQIAAAQIECBAgQIAAAQIECBAgQIAAAQIECGQSELjNxKcwAQIECBAgQIAAAQIECBAgQIAAAQIECBAgQIAAAQIEsgsI3GY3VAMBAgQIECBAgAABAgQIECBAgAABAgQIECBAgAABAgQyCQjcZuJTmAABAgQIECBAgAABAgQIECBAgAABAgQIECBAgAABAtkFBG6zG6qBAAECBAgQIECAAAECBAgQIECAAAECBAgQIECAAAECmQQEbjPxKUyAAAECBAgQIECAAAECBAgQIECAAAECBAgQIECAAIHsAgK32Q3VQIAAAQIECBAgQIAAAQIECBAgQIAAAQIECBAgQIAAgUwCAreZ+BQmQIAAAQIECBAgQIAAAQIECBAgQIAAAQIECBAgQIBAdgGB2+yGaiBAgAABAgQIECBAgAABAgQIECBAgAABAgQIECBAgEAmAYHbTHwKEyBAgAABAgQIECBAgAABAgQIECBAgAABAgQIECBAILuAwG12QzUQIECAAAECBAgQIECAAAECBAgQIECAAAECBAgQIEAgk4DAbSY+hQkQIECAAAECBAgQIECAAAECBAgQIECAAAECBAgQIJBdQOA2u6EaCBAgQIAAAQIECBAgQIAAAQIECBAgQIAAAQIECBAgkElA4DYTn8IECBAgQIAAAQIECBAgQIAAAQIECBAgQIAAAQIECBDILiBwm91QDQQIECBAgAABAgQIECBAgAABAgQIECBAgAABAgQIEMgkIHCbiU9hAgQIECBAgAABAgQIECBAgAABAgQIECBAgAABAgQIZBcQuM1uqAYCBAgQIECAAAECBAgQIECAAAECBAgQIECAAAECBAhkEhC4zcSnMAECBAgQIECAAAECBAgQIECAAAECBAgQIECAAAECBLILCNxmN1QDAQIECBAgQIAAAQIECBAgQIAAAQIECBAgQIAAAQIEMgkI3GbiU5gAAQIECBAgQIAAAQIECBAgQIAAAQIECBAgQIAAAQLZBQRusxuqgQABAgQIECBAgAABAgQIECBAgAABAgQIECBAgAABApkEBG4z8SlMgAABAgQIECBAgAABAgQIECBAgAABAgQIECBAgACB7AICt9kN1UCAAAECBAgQIECAAAECBAgQIECAAAECBAgQIECAAIFMAgK3mfgUJkCAAAECBAgQIECAAAECBAgQIECAAAECBAgQIECAQHYBgdvshmogQIAAAQIECBAgQIAAAQIECBAgQIAAAQIECBAgQIBAJgGB20x8ChMgQIAAAQIECBAgQIAAAQIECBAgQIAAAQIECBAgQCC7gMBtdkM1ECBAgAABAgQIECBAgAABAgQIECBAgAABAgQIECBAIJOAwG0mPoUJECBAgAABAgQIECBAgAABAgQIECBAgAABAgQIECCQXUDgNruhGggQIECAAAECBAgQIECAAAECBAgQIECAAAECBAgQIJBJQOA2E5/CBAgQIECAAAECBAgQIECAAAECBAgQIECAAAECBAgQyC4gcJvdUA0ECBAgQIAAAQIECBAgQIAAAQIECBAgQIAAAQIECBDIJCBwm4lPYQIECBAgQIAAAQIECBAgQIAAAQIECBAgQIAAAQIECGQXELjNbqgGAgQIECBAgAABAgQIECBAgAABAgQIECBAgAABAgQIZBIQuM3EpzABAgQIECBAgAABAgQIECBAgAABAgQIECBAgAABAgSyCwjcZjdUAwECBAgQIECAAAECBAgQIECAAAECBAgQIECAAAECBDIJCNxm4lOYAAECBAgQIECAAAECBAgQIECAAAECBAgQIECAAAEC2QUEbrMbqoEAAQIECBAgQIAAAQIECBAgQIAAAQIECBAgQIAAAQKZBARuM/EpTIAAAQIECBAgQIAAAQIECBAgQIAAAQIECBAgQIAAgewCArfZDdVAgAABOy7bzAAAQABJREFUAgQIECBAgAABAgQIECBAgAABAgQIECBAgACBTAICt5n4FCZAgAABAgQIECBAgAABAgQIECBAgAABAgQIECBAgEB2AYHb7IZqIECAAAECBAgQIECAAAECBAgQIECAAAECBAgQIECAQCYBgdtMfAoTIECAAAECBAgQIECAAAECBAgQIECAAAECBAgQIEAgu4DAbXZDNRAgQIAAAQIECBAgQIAAAQIECBAgQIAAAQIECBAgQCCTgMBtJj6FCRAgQIAAAQIECBAgQIAAAQIECBAgQIAAAQIECBAgkF1A4Da7oRoIECBAgAABAgQIECBAgAABAgQIECBAgAABAgQIECCQSUDgNhOfwgQIECBAgAABAgQIECBAgAABAgQIECBAgAABAgQIEMguIHCb3VANBAgQIECAAAECBAgQIECAAAECBAgQIECAAAECBAgQyCQgcJuJT2ECBAgQIECAAAECBAgQIECAAAECBAgQIECAAAECBAhkFxC4zW6oBgIECBAgQIAAAQIECBAgQIAAAQIECBAgQIAAAQIECGQSELjNxKcwAQIECBAgQIAAAQIECBAgQIAAAQIECBAgQIAAAQIEsgsI3GY3VAMBAgQIECBAgAABAgQIECBAgAABAgQIECBAgAABAgQyCQjcZuJTmAABAgQIECBAgAABAgQIECBAgAABAgQIECBAgAABAtkFBG6zG6qBAAECBAgQIECAAAECBAgQIECAAAECBAgQIECAAAECmQQEbjPxKUyAAAECBAgQIECAAAECBAgQIECAAAECBAgQIECAAIHsAgK32Q3VQIAAAQIECBAgQIAAAQIECBAgQIAAAQIECBAgQIAAgUwCAreZ+BQmQIAAAQIECBAgQIAAAQIECBAgQIAAAQIECBAgQIBAdgGB2+yGaiBAgAABAgQIECBAgAABAgQIECBAgAABAgQIECBAgEAmAYHbTHwKEyBAgAABAgQIECBAgAABAgQIECBAgAABAgQIECBAILuAwG12QzUQIECAAAECBAgQIECAAAECBAgQIECAAAECBAgQIEAgk4DAbSY+hQkQIECAAAECBAgQIECAAAECBAgQIECAAAECBAgQIJBdQOA2u6EaCBAgQIAAAQIECBAgQIAAAQIECBAgQIAAAQIECBAgkElA4DYTn8IECBAgQIAAAQIECBAgQIAAAQIECBAgQIAAAQIECBDILiBwm91QDQQIECBAgAABAgQIECBAgAABAgQIECBAgAABAgQIEMgkIHCbiU9hAgQIECBAgAABAgQIECBAgAABAgQIECBAgAABAgQIZBcQuM1uqAYCBAgQIECAAAECBAgQIECAAAECBAgQIECAAAECBAhkEhC4zcSnMAECBAgQIECAAAECBAgQIECAAAECBAgQIECAAAECBLILCNxmN1QDAQIECBAgQIAAAQIECBAgQIAAAQIECBAgQIAAAQIEMgkI3GbiU5gAAQIECBAgQIAAAQIECBAgQIAAAQIECBAgQIAAAQLZBQRusxuqgQABAgQIECBAgAABAgQIECBAgAABAgQIECBAgAABApkEBG4z8SlMgAABAgQIECBAgAABAgQIECBAgAABAgQIECBAgACB7AICt9kN1UCAAAECBAgQIECAAAECBAgQIECAAAECBAgQIECAAIFMAgK3mfgUJkCAAAECBAgQIECAAAECBAgQIECAAAECBAgQIECAQHYBgdvshmogQIAAAQIECBAgQIAAAQIECBAgQIAAAQIECBAgQIBAJgGB20x8ChMgQIAAAQIECBAgQIAAAQIECBAgQIAAAQIECBAgQCC7gMBtdkM1ECBAgAABAgQIECBAgAABAgQIECBAgAABAgQIECBAIJOAwG0mPoUJECBAgAABAgQIECBAgAABAgQIECBAgAABAgQIECCQXUDgNruhGggQIECAAAECBAgQIECAAAECBAgQIECAAAECBAgQIJBJQOA2E5/CBAgQIECAAAECBAgQIECAAAECBAgQIECAAAECBAgQyC7QNHsVamhoAp9PmRaaLb54aNmyxVw3bfbs2eGbb74NzZs3m+uyscCXX30dWiy5xBzLjpv0dfj2u+/muJ8dCBAgQIAAAQIECBAgQIAAAQIECBAgQIAAAQIEFqxA7PnZqc2SC/agjhYEbhvoTXDsGX8Ok6dND+eccFBYs0fXObby5cHvh7/d8mB4453hYdqMr3L7t1pqybDJej3DMYfsFtZdY+Ua65g565tw7W0Ph5ffeD8MfO3d3H49u3cJ66+9ejh8v+1Dl04r1Fg2brj3sRfDf597Nbz+9vAwcfKU0K1zu9B7zR5hr503D5v07llrWRsJECBAgAABAgQIECBAgAABAgQIECBAgAABAgQIEAihyXdJAtGwBJ4ZOCQcecbluUbdeOmpoc/6a9TYwHj5LvjTLeG2+5+ucZ+44bSj9w1HHLBTtX2mTpsRjj37yvDS4PeqbYsr2iy/TLi+/8llg8ezk2Nf8rd/h+vufKRs2bjy0jOPDLvt0Kfadj1uq5FYQYAAAQIECBAgQIAAAQIECBAgQIAAAQIECBBoEAJ63FbmMuhxWxn3akd96oXBYewnE8Krbw4LDw14udr2mlbc9eCzadB2uz69wv57bB026rV6mDb9y/D8S2+Fv93+YBgx6tPQ/+o7w3prrhI2XG+1oqrOueTGNGi7x/abhr5bbxhatVoqDEp68P7pH//J9aA96MSLwov3XB6WXKJ5Udk77huQBm17r9k99Ntjm7Bi1w7hnaEjw99veSiMHT8pnPz7a0PXLu1Dr+TYEgECBAgQIECAAAECBAgQIECAAAECBAgQIECAAAEC5QUEbsu7LPC1v7/q9jBqzPhqx23SpEm1dYUrbrn3ydxip3atwxW/PTY0a/r9JY1B1j123ixs2Gu1sPUBp+f2eTrpyVsYuJ0w6Yvw8IBBuW19t9owXHzm4WGxH463wbo9wgptlw1n9P9nbujlJ559Ley6/SaFhw75Y8ehka+++MSw7DKtctvjsMy91u4Rdj/83Nzy3Q89L3BbJGeBAAECBAgQIECAAAECBAgQIECAAAECBAgQIECAQLFA7OksNQCBQ/fZMfzysL1yf/vsvEWdW/Te8NG5fTt3bJsGbQsLd+7YLsS5bmMa+dHYwk3hgSf+ly4f+7OfpEHb/Mq9+/44N1RyXL7joWfzq3Ofb743Mnww8vv6jth3pzRom98pzpG7906b5xbveGhAmP7DvLv57T4JECBAgAABAgQIECBAgAABAgQIECBAgAABAgQIEKgSELitsqhoLg4z/H+H7Jr723e3Levcls02WCu376AhQ3NDLZcWnDR5Sq7HbFy/Se+eRZtfGzIstxwDu6uu1LFoW35hm0165bJxDtxvv52dXx2GvDM8zcfeteVS4fHe/yHAXG4/6wgQIECAAAECBAgQIECAAAECBAgQIECAAAECBAg0dgGB24X8Dth+sx+lZ7DrYeeGZ5LhkAvTbfcOSBe33rR3mo+ZcRMm5ZbX6blytd62+R3XWLVLPhs+nzI1zY+fOCXN91ipU5ovzPRYuWu6ODEJIEsECBAgQIAAAQIECBAgQIAAAQIECBAgQIAAAQIECJQXMMdteZeFZu0+u20Rho/6JNx8zxO5nrVHnnF5iMMU77fbVmHipKnhypvuy51L/zOOCF07ty06rwkTv8gtL7PUUkXrCxeW+mGY5bhu4ufTk6GTl81tnjD5+7JxYfHFy8f/W7Volts3/jOxYP90pQwBAgQIECBAgAABAgQIECBAgAABAgQIECBAgAABAjkBgduF/EZo1rRpOOfEA3OB0YcHDMqdTZz39oLLb0nP7Orfnxi23nS9dDlmvvvuuzB2/Pc9bpdqsUTRtsKFli2+nx83rpv8eew1+33v2vE/BGLbLL9M4e5F+RZLVtU78fOq3rpxp46tq7YVFbJAgAABAgQIECBAgAABAgQIECBAgAABAgQIECBAoBEKlO8q2QghFtZTnvXNN+H3V94RYtA2zlV73kkHhT2337TodE7+3dXhsQGvFK2Lgdt8apoEf2tKTZo0STcVFAkzZ32Trq8p02Sxqtvru++q6qlpf+sJECBAgAABAgQIECBAgAABAgQIECBAgAABAgQINFaBmiN2jVVkITvvU393bRq0veWKM8KaPbqGfntsE8464YBw54PPhf5X35kbQvn4868Kv/6/fcNh++2UO8PFkqBqDPROm/FVmPHlVzWe9Yyvvk63LbN0yzTf7ochk7/+ema6rjTz5Zez0lXLLd0izcfMuElfh28LI8FFWy0QIECAAAECBAgQIECAAAECBAgQIECAAAECBAhUSiB2zevUpmpU1kq1o7Edt6pLZGM780XgfN//cEwuaBtPZY/tNs0FbfOnFYOsRxywU3jkpt/lV4WL/3ZnUU/ZLh2/n/N2xtdVwdl05x8y0wuCum2Wqwrctv0hcBsDvzWl6V9VbWu9XM1DKtdU3noCBAgQIECAAAECBAgQIECAAAECBAgQIECAAAECjUVA4HYhvtJDh41KW7/5Rmun+cJM926dQt+tNkxXffLphDTfsU3rXH7kmE/SdaWZMWMnpquWX3bpNN96+ar8+AmT0/WFmXGfVpVtXctcuIVl5AkQIECAAAECBAgQIECAAAECBAgQIECAAAECBAg0RgGB20XkqjdZrOY5ZDt1aJee5VezZqf57it1zuVHjPo01BR8ff7VN3P7dOvcLjRv3qyq7Iod0/xrbw1P84WZQYOHposrJuUlAgQIECBAgAABAgQIECBAgAABAgQIECBAgAABAgTKCwjclndZKNau3mPFtJ33/ffFNF+YmZ3MI/vakPdzq+Kctqt0bZ9u3nX7TdL8PY9VL//20FHhveGjc/vss/OW6b4xs9mGa+XmyI35/zz8fIjHKUxTp80IDz/9Um7VZhusFTq2b1O4WZ4AAQIECBAgQIAAAQIECBAgQIAAAQIECBAgQIAAgQIBgdsCjEpmv/p6ZpiezBcb/2YUzCsb8/n1cZ/C1L1bh7D2at8Hbx8eMChccf29RXPYxv3/eNVd4bV3vu8Re+Du24SmTRdPq1izR9e0/CXX3h0efPx/uWN9++3s8OZ7I8MRp1+W7rvnTn3SfMw0b9Y07J/UF9PTLw8Jl119d9pr9+Mxn4ZTfnNNGDt+Um77/rsWB31zK/1DgAABAgQIECBAgAABAgQIECBAgAABAgQIECBAgEAq0OS7JKVLMhUT2K7f6WHUmPG1Hn/lbu3DYzddVLTPx2MmhJ8ceW6YlgR8Y2qTzCX7o56rhG/Dd2HQG++n6/v0XiNc1/+XoVnTpkXlh7w7Ivz85D+m+xVt/GHhrOMOCD/76fbVNk2aPCUJ7v4pvDX0o3Rb7NWbb0tcuds2G4eLzzy82nHHTfo6fOvWS91kCBAgQIAAAQIECBAgQIAAAQIECBAgQIAAAQINRSD2/OzUZsmG0pxG0w49bheiS910saresvlmd+3cNgnmXhj27btFbtXEJJj6xMDB4emBb+QCqDGQ+ptfHhyu7/+rasHTWGDdNVYO//n7OWnP23y98TMGga88/9iyQdu4vXWy/ebLTw99t9owLuZSPmgbj3tsv93CH885quxx8/v7JECAAAECBAgQIECAAAECBAgQIECAAAECBAgQIEAgBD1uF6G7IM4rO2rshDBm3PiwRPNmYcXO7ULnTu3qHDiNQzK/n8xpOz0ZnrnnKp1Du7bL11ln1jffhBEjPwljPpsYuic9g7t0bh8Wa9KkxvJ63NZIYwMBAgQIECBAgAABAgQIECBAgAABAgQIECBAoKICetxWhl/gtjLujf6oAreN/hYAQIAAAQIECBAgQIAAAQIECBAgQIAAAQIECDRQAYHbylwYQyVXxt1RCRAgQIAAAQIECBAgQIAAAQIECBAgQIAAAQIECBAgkAoI3KYUMgQIECBAgAABAgQIECBAgAABAgQIECBAgAABAgQIEKiMgMBtZdwdlQABAgQIECBAgAABAgQIECBAgAABAgQIECBAgAABAqmAwG1KIUOAAAECBAgQIECAAAECBAgQIECAAAECBAgQIECAAIHKCAjcVsbdUQkQIECAAAECBAgQIECAAAECBAgQIECAAAECBAgQIJAKCNymFDIECBAgQIAAAQIECBAgQIAAAQIECBAgQIAAAQIECBCojIDAbWXcHZUAAQIECBAgQIAAAQIECBAgQIAAAQIECBAgQIAAAQKpgMBtSiFDgAABAgQIECBAgAABAgQIECBAgAABAgQIECBAgACByggI3FbG3VEJECBAgAABAgQIECBAgAABAgQIECBAgAABAgQIECCQCgjcphQyBAgQIECAAAECBAgQIECAAAECBAgQIECAAAECBAgQqIyAwG1l3B2VAAECBAgQIECAAAECBAgQIECAAAECBAgQIECAAAECqYDAbUohQ4AAAQIECBAgQIAAAQIECBAgQIAAAQIECBAgQIAAgcoICNxWxt1RCRAgQIAAAQIECBAgQIAAAQIECBAgQIAAAQIECBAgkAoI3KYUMpUWmDWrSaWb4PgECBAgQIAAAQIECBAgQIAAAQIECBAgQIAAAQIEKiLQtCJHdVACNQj0v3TJMHV6DRsb2OozT50ZWrSY3cBapTkECBAgQIAAAQIECBAgQIAAAQIECBAgQIAAAQILo4AetwvjVdNmAgQIECBAgAABAgQIECBAgAABAgQIECBAgAABAgQWKQGB20XqcjoZAgQIECBAgAABAgQIECBAgAABAgQIECBAgAABAgQWRgGB24XxqmkzAQIECBAgQIAAAQIECBAgQIAAAQIECBAgQIAAAQKLlIDA7SJ1OZ0MAQIECBAgQIAAAQIECBAgQIAAAQIECBAgQIAAAQILo4DA7cJ41bSZAAECBAgQIECAAAECBAgQIECAAAECBAgQIECAAIFFSkDgdpG6nAvPyXzXZOFpq5YSIECAAAECBAgQIECAAAECBAgQIECAAAECBBqTwOzGdLIN6FwFbhvQxdAUAgQIECBAgAABAgQIECBAgAABAgQIECBAgAABAgQap4DAbeO87s6aAAECBAgQIECAAAECBAgQIECAAAECBAgQIECAAIEGJCBw24AuhqYQIECAAAECBAgQIECAAAECBAgQIECAAAECBAgQINA4BQRuG+d1d9YECBAgQIAAAQIECBAgQIAAAQIECBAgQIAAAQIECDQgAYHbBnQxNIUAAQIECBAgQIAAAQIECBAgQIAAAQIECBAgQIAAgcYpIHDbOK+7syZAgAABAgQIECBAgAABAgQIECBAgAABAgQIECBAoAEJCNw2oIuhKQQIECBAgAABAgQIECBAgAABAgQIECBAgAABAgQINE4BgdvGed2dNQECBAgQIECAAAECBAgQIECAAAECBAgQIECAAAECDUhA4LYBXQxNIUCAAAECBAgQIECAAAECBAgQIECAAAECBAgQIECgcQoI3DbO6+6sCRAgQIAAAQIECBAgQIAAAQIECBAgQIAAAQIECBBoQAICtw3oYmgKAQIECBAgQIAAAQIECBAgQIAAAQIECBAgQIAAAQKNU0DgtnFed2dNgAABAgQIECBAgAABAgQIECBAgAABAgQIECBAgEADEhC4bUAXQ1MIECBAgAABAgQIECBAgAABAgQIECBAgAABAgQIEGicAgK3jfO6O2sCBAgQIECAAAECBAgQIECAAAECBAgQIECAAAECBBqQgMBtA7oYmkKAAAECBAgQIECAAAECBAgQIECAAAECBAgQIECAQOMUELhtnNfdWRMgQIAAAQIECBAgQIAAAQIECBAgQIAAAQIECBAg0IAEBG4b0MXQFAIECBAgQIAAAQIECBAgQIAAAQIECBAgQIAAAQIEGqeAwG3jvO7OmgABAgQIECBAgAABAgQIECBAgAABAgQIECBAgACBBiQgcNuALoamECBAgAABAgQIECBAgAABAgQIECBAgAABAgQIECDQOAUEbhvndXfWBAgQIECAAAECBAgQIECAAAECBAgQIECAAAECBAg0IAGB2wZ0MTSFAAECBAgQIECAAAECBAgQIECAAAECBAgQIECAAIHGKSBw2zivu7MmQIAAAQIECBAgQIAAAQIECBAgQIAAAQIECBAgQKABCQjcNqCLoSkECBAgQIAAAQIECBAgQIAAAQIECBAgQIAAAQIECDROAYHbxnndnTUBAgQIECBAgAABAgQIECBAgAABAgQIECBAgAABAg1IQOC2AV0MTSFAgAABAgQIECBAgAABAgQIECBAgAABAgQIECBAoHEKCNw2zuvurAkQIECAAAECBAgQIECAAAECBAgQIECAAAECBAgQaEACArcN6GJoCgECBAgQIECAAAECBAgQIECAAAECBAgQIECAAAECjVNA4LZxXndnTYAAAQIECBAgQIAAAQIECBAgQIAAAQIECBAgQIBAAxIQuG1AF0NTCBAgQIAAAQIECBAgQIAAAQIECBAgQIAAAQIECBBonAICt43zujtrAgQIECBAgAABAgQIECBAgAABAgQIECBAgAABAgQakIDAbQO6GJpCgAABAgQIECBAgAABAgQIECBAgAABAgQIECBAgEDjFBC4bZzX3VkTIECAAAECBAgQIECAAAECBAgQIECAAAECBAgQINCABARuG9DF0BQCBAgQIECAAAECBAgQIECAAAECBAgQIECAAAECBBqngMDtIn7dv/p6Zvj229l1PsvZs2eHmTNn1Xn/0h2//Orr0lWWCRAgQIAAAQIECBAgQIAAAQIECBAgQIAAAQIECBCYg0DTOWy3uUICx57x5zB52vRwzgkHhTV7dK1zK15/a3h4efB74a33RoZX3v4gTJw8JVf26AN2CScfvXfZembO+iZce9vD4eU33g8DX3s3t0/P7l3C+muvHg7fb/vQpdMKZcvlV9772Ivhv8+9Gl5/e3jueN06twu91+wR9tp587BJ75753XwSIECAAAECBAgQIECAAAECBAgQIECAAAECBAgQIFCDgMBtDTCVXP3MwCHhiYGDc034Ysq0OjUl9qr98z/uDX+79cGy+0+Y/EXZ9VOnzQjHnn1leCkJ9ham94aPDvHv0WcHhev7n1w2eDz7u+/CJX/7d7juzkcKi4ZRY8bn/u59/MVw6ZlHht126FO03QIBAgQIECBAgAABAgQIECBAgAABAgQIECBAgAABAsUCArfFHhVbeuqFwWHsJxPCq28OCw8NeHmu2jFl6vRw/HlXpb1lY4/XPXfYLPRYsVNosdSSYdjIMWGJZs3K1nnOJTemQds9tt809N16w9Cq1VJh0OD3w5/+8Z9cD9qDTrwovHjP5WHJJZoX1XHHfQPSoG3vNbuHfntsE1bs2iG8M3Tk/7N373FeVfX++N8Dw1XkjggMKiKGeIlIEy+ZcqKUwEzT9OjRSuucOH3zmJ18qNntV+pRSzN/qdntlF/NykunoGNacjwer0cyvAQUiSQIwTDInQGG72dv+OzP5zPMjEA4fD7zee7HY5y111p777Wea+qfF2vvuO3OabFo6fK49Oo7Ynjd4Bg75sCSa50QIECAAAECBAgQIECAAAECBAgQIECAAAECBAgQIFAQENwWLPZo6epv3Z3uUm0+iJqamuZV251/5+4Hs9D2w6dPjE/nXolcHLK+8x2HbXdNUrFs+esxfcYzadukE4+Ka6+4MDpte96RR4yKfQb2icuv+36sXrs+Hn50ZkyeOL7kPnc+8Jv0PAmKb7/24ujTu1d6fsQhI2LsYaPi1As/n57fO+0xwW2JnBMCBAgQIECAAAECBAgQIECAAAECBAgQIECAAAECpQKdSk+d7SmBj5z53rjko6enP2eecsIOD2N57hu2t9219fXIJx3z1rjiU+eUhLZt3egXDz+ZNU+94P1ZaJuvPGPSO2NAv97p6T3THs1Xp7+fz31D94/zF6Xli846OQtt852Sb+SecfLx6ek902bEmlz46yBAgAABAgQIECBAgAABAgQIECBAgAABAgQIECBAoGUBwW3LLu1em7xm+BPnT05/zpryrh1+/r//7OGs75cuOS8r70hh5qw/pd165V6nfNABQ1q8ZML4sWl98g3c5Du6+WPWS/PyxXR3bXZSVBg/bnR2Nif3vVwHAQIECBAgQIAAAQIECBAgQIAAAQIECBAgQIAAAQItC3hVcssuFVP78P/MTMf69sNHxeBB/WP+gtfiL4vrY2n9ith7r55xwH5DYlQroexry5an1x4+esR2u23zAIccVJcvxoqVq3I7cPuk50vrV2b1ow4YmpWLC6NGDM9O63M7gx0ECBAgQIAAAQIECBAgQIAAAQIECBAgQIAAAQIECLQsILht2aUiards2ZK9rvi1XFj7/ou+ELNb2Nl6zLhD4opP/n285cBhJfNaVv96et67Z8+S+uKTnrnduPmjfsWaLLhd1rD12qStc+eWN2736tElf2nUF/XPKhUIECBAgAABAgQIECBAgAABAgQIECBAgAABAgQIEEgFWk7c4FSEwOsrV2fjXLR0eRbaJjtgi3fBPjHzD/HhS6+P15bUZ/2T0De5Jjl69uiW1Tcv7NWjENw2rCjsml26LYjNfwO3+XXJeY/uhfvWr1jVUhd1BAgQIECAAAECBAgQIECAAAECBAgQIECAAAECBAjkBOy4reA/g0V/XZGN/uixo2PqP0yJo3Pfle1UU5PWr1y1Jr5+x31x1388ktvxujIu+dJt8eNvXZm2JcFt/qitbf3PoGbbvZK+RZdE48ZN+ctb/V3TqfDvArZs2TqmfOeh/Qqhbr5uwZL1+WJF/E5ohuTm0blT6dwqYvAGSYAAAQIECBAgQIAAAQIECBAgQIAAAQIECBAgUFYChWStrIZlMDsisGFDY9btQ+87IY55+yFZaJs09N57r/j8v5wbyauSk2PmS/Ni7bqt4WinXKjaa9trkPN1aadm/1m7fkNWk9wvfwza9q3b4jHk2/K/163bmC9G3717ZGUFAgQIECBAgAABAgQIECBAgAABAgQIECBAgAABAgRKBVrfalnaz1kZCtTt2z8b1V+XF3bfZpW5QhLQTjzubZG8Ljk55r68KMaOOTAt1w0ZmL5eee2GQjibNhT9Z822oDepGtC3ENwO3Bbcrl7b+i7ZNesLbf379i66a8Sihg3R1FTY9Zs0bm62K7fkgjI8SXYgv5abh4MAAQIECBAgQIAAAQIECBAgQIAAAQIECBAg0NEE6gYUPqfZ0eZWrvOx47ZcV2YHxjVgQN+s118WFb5fm1VuK/Tt3SurSl6fnD+GDNga/M5fuDhftd3vhUX37ddn76y9f79Ceemyhqy+uFD8Td3+/UqD2+J+ygQIECBAgAABAgQIECBAgAABAgQIECBAgAABAgSqXUBwW8F/Acm3bEePrEtn8PycP7c6k8XLCrtxR9Ttk/UbecCwtPzygiXRWvj62LPPp332GzYounbtUrh2/yFZeeYL87JyceGZ5+Zmp/vnrncQIECAAAECBAgQIECAAAECBAgQIECAAAECBAgQINCygOC2ZZeKqX33cW9Pxzpr9ssx/TdPbzfuxo2b4se/fCStT75pO2xoIbidPHF81v/+Bx/PyvnCi3MXpK9STs7PPOVd+er093FHHZp9I/e+6Y9FU/Le4KJj1eq1Mf2Rp7b2PfLQGDJ4QFGrIgECBAgQIECAAAECBAgQIECAAAECBAgQIECAAAECxQKC22KNPVhev6Ex1uS+F5v8rC36rmxSztcnfZofF53z3hiw7TXEn/vaD+LBGf+bhajJLtp/+dKtsWDh0vSyy6eeHcku3fwxZtTwOOzg/dPTG+64N3750JPpszZvbornZ8+Piy77er5rfODkY7JyUujapTbOPnVCWvfI07Pi67ffm+3a/cvCJfGZL387Fi1dnrafPbk09E0r/YcAAQIECBAgQIAAAQIECBAgQIAAAQIECBAgQIAAgUygZkvuyM4U9pjAu8+9LAtYWxvEiP0Gx4M/vGa75t/+z3PxT1feXFKfhLn1DSuzuikTjo4brvp41BQFt0njrD+8HB++9PpYnQuMWzuu/OQ5ccEHJ27XvDx3/4suuzFemPtK1pbs6i2+V/Lca6+4MLrU1mZ9ksKihg3R1FT6p7dxY03ceHO3KPoMb8k15XZyxb82Ro8eTeU2LOMhQIAAAQIECBAgQIAAAQIECBAgQIAAAQIECPzNAnUDuv/N93CDnROw43bnvPZo79pOnVt8/oTjxsZ9t38h2z2bdMqHtkmQ+rUrPtZiaJv0O+KQEXHfbVeVXJvUJ0cS/t7yxakthrZJe/9c+49uuiwmnXhUcpoe+dA2ee7Uc6fE9bmwuHlom+/rNwECBAgQIECAAAECBAgQIECAAAECBAgQIECAAAECWwXsuO1gfwn1Da/Hn19ZEus2bIgDhw+OoUMGlbweua3pJq9knjPv1ViTez3z6AOHxaCB/drqXtK2cdOmeHn+4lj41/oYmdsZXDdscJvPteO2hM8JAQIECBAgQIAAAQIECBAgQIAAAQIECBAgQKCsBOy4bf/lKH1/bfs/3xN3s8CAfn1yO2X77NJd98rtkh13+EG7dG2yq/bgg+rSn126gYsIECBAgAABAgQIECBAgAABAgQIECBAgAABAgQIVLGAVyVX8eKbOgECBAgQIECAAAECBAgQIECAAAECBAgQIECAAAEC5SEguC2PdTAKAgQIECBAgAABAgQIECBAgAABAgQIECBAgAABAgSqWEBwW8WLb+oECBAgQIAAAQIECBAgQIAAAQIECBAgQIAAAQIECJSHgOC2PNbBKAgQIECAAAECBAgQIECAAAECBAgQIECAAAECBAgQqGIBwW0VL76pEyBAgAABAgQIECBAgAABAgQIECBAgAABAgQIECBQHgKC2/JYB6MgQIAAAQIECBAgQIAAAQIECBAgQIAAAQIECBAgQKCKBQS3Vbz4pk6AAAECBAgQIECAAAECBAgQIECAAAECBAgQIECAQHkICG7LYx2MggABAgQIECBAgAABAgQIECBAgAABAgQIECBAgACBKhYQ3Fbx4ps6AQIECBAgQIAAAQIECBAgQIAAAQIECBAgQIAAAQLlISC4LY91MAoCBAgQIECAAAECBAgQIECAAAECBAgQIECAAAECBKpYQHBbxYtv6gQIECBAgAABAgQIECBAgAABAgQIECBAgAABAgQIlIeA4LY81sEoCBAgQIAAAQIECBAgQIAAAQIECBAgQIAAAQIECBCoYgHBbRUvvqkTIECAAAECBAgQIECAAAECBAgQIECAAAECBAgQIFAeAoLb8lgHoyBAgAABAgQIECBAgAABAgQIECBAgAABAgQIECBAoIoFBLdVvPimToAAAQIECBAgQIAAAQIECBAgQIAAAQIECBAgQIBAeQgIbstjHYyCAAECBAgQIECAAAECBAgQIECAAAECBAgQIECAAIEqFhDcVvHimzoBAgQIECBAgAABAgQIECBAgAABAgQIECBAgAABAuUhILgtj3UwCgIECBAgQIAAAQIECBAgQIAAAQIECBAgQIAAAQIEqlhAcFvFi2/qBAgQIECAAAECBAgQIECAAAECBAgQIECAAAECBAiUh4DgtjzWwSgIECBAgAABAgQIECBAgAABAgQIECBAgAABAgQIEKhiAcFtFS++qRMgQIAAAQIECBAgQIAAAQIECBAgQIAAAQIECBAgUB4CgtvyWAejIECAAAECBAgQIECAAAECBAgQIECAAAECBAgQIECgigUEt1W8+KZOgAABAgQIECBAgAABAgQIECBAgAABAgQIECBAgEB5CAhuy2MdjIIAAQIECBAgQIAAAQIECBAgQIAAAQIECBAgQIAAgSoWENxW8eKbOgECBAgQIECAAAECBAgQIECAAAECBAgQIECAAAEC5SEguC2PdTAKAgQIECBAgAABAgQIECBAgAABAgQIECBAgAABAgSqWEBwW8WLb+oECBAgQIAAAQIECBAgQIAAAQIECBAgQIAAAQIECJSHgOC2PNbBKAgQIECAAAECBAgQIECAAAECBAgQIECAAAECBAgQqGIBwW0VL76pEyBAgAABAgQIECBAgAABAgQIECBAgAABAgQIECBQHgKC2/JYB6MgQIAAAQIECBAgQIAAAQIECBAgQIAAAQIECBAgQKCKBQS3Vbz4pk6AAAECBAgQIECAAAECBAgQIECAAAECBAgQIECAQHkICG7LYx2MggABAgQIECBAgAABAgQIECBAgAABAgQIECBAgACBKhYQ3Fbx4ps6AQIECBAgQIAAAQIECBAgQIAAAQIECBAgQIAAAQLlISC4LY91MAoCBAgQIECAAAECBAgQIECAAAECBAgQIECAAAECBKpYQHBbxYtv6gQIECBAgAABAgQIECBAgAABAgQIECBAgAABAgQIlIeA4LY81sEoCBAgQIAAAQIECBAgQIAAAQIECBAgQIAAAQIECBCoYgHBbRUvvqkTIECAAAECBAgQIECAAAECBAgQIECAAAECBAgQIFAeAoLb8lgHoyBAgAABAgQIECBAgAABAgQIECBAgAABAgQIECBAoIoFBLdVvPimToAAAQIECBAgQIAAAQIECBAgQIAAAQIECBAgQIBAeQgIbstjHYyCAAECBAgQIECAAAECBAgQIECAAAECBAgQIECAAIEqFhDcVvHimzoBAgQIECBAgAABAgQIECBAgAABAgQIECBAgAABAuUhILgtj3UwCgIECBAgQIAAAQIECBAgQIAAAQIECBAgQIAAAQIEqlhAcFvFi2/qBAgQIECAAAECBAgQIECAAAECBAgQIECAAAECBAiUh4DgtjzWwSgIECBAgAABAgQIECBAgAABAgQIECBAgAABAgQIEKhiAcFtFS++qRMgQIAAAQIECBAgQIAAAQIECBAgQIAAAQIECBAgUB4CgtvyWAejIECAAAECBAgQIECAAAECBAgQIECAAAECBAgQIECgigUEt1W8+KZOgAABAgQIECBAgAABAgQIECBAgAABAgQIECBAgEB5CAhuy2MdjIIAAQIECBAgQIAAAQIECBAgQIAAAQIECBAgQIAAgSoWENxW8eKbOgECBAgQIECAAAECBAgQIECAAAECBAgQIECAAAEC5SEguC2PdTAKAgQIECBAgAABAgQIECBAgAABAgQIECBAgAABAgSqWEBwW8WLb+oECBAgQIAAAQIECBAgQIAAAQIECBAgQIAAAQIECJSHgOC2PNbBKAgQIECAAAECBAgQIECAAAECBAgQIECAAAECBAgQqGIBwW0VL76pEyBAgAABAgQIECBAgAABAgQIECBAgAABAgQIECBQHgKC2/JYB6MgQIAAAQIECBAgQIAAAQIECBAgQIAAAQIECBAgQKCKBQS3Vbz4pk6AAAECBAgQIECAAAECBAgQIECAAAECBAgQIECAQHkICG7LYx3KZhRNTU3R2Lhxl8ezbv2GXb7WhQQIECBAgAABAgQIECBAgAABAgQIECBAgAABAgSqVaC2Wide7vOeevnN0bB6TVz1qfNizKjhOz3cJIC99ls/jVcXLol+fXvHVy/7cKv3aNy4Ke64a3o8/fs58cTMP6T9Ro+si7cf9pa48EMTo27oPq1emzQ88ODj8ev/fjZ+9+K8qG9YGfsNGxTjxoyK0085PsaPG93mtRoJECBAgAABAgQIECBAgAABAgQIECBAgAABAgQIEIgQ3JbhX8F/PTErHn7iuXRkr69cvUsjvOG2e+MHP3swvXZAv96t3mPV6rUx9XO3xFPPzS7pM3veq5H8/Oejz8R3r7u0xfC4acuWuOHWn8V3fvKrkmsXLFwayc8DDz0eX7viYzHlPceUtDshQIAAAQIECBAgQIAAAQIECBAgQIAAAQIECBAgQKBUQHBb6rHHzn77P8/FosXL4tnn/xTTZjz9N43jxz9/ZLswtbUbXnXDv2eh7WkTj41JJx0VvXr1jGeemxM3fu++dAfteRdfE4/ff1N079a15Db3/HxG9pxxY0bGuadNiP2H7xsvzZ0ft905LRYtXR6XXn1HDK8bHGPHHFhyrRMCBAgQIECAAAECBAgQIECAAAECBAgQIECAAAECBAoCgtuCxR4tXf2tu9Ndqs0HUVNT07yqzfP/fvqF+PyNP2qzT75x2fLXY/qMZ9LTSSceFddecWF02va8I48YFfsM7BOXX/f9WL12fTz86MyYPHF8/tL0950P/Cb9nbwa+fZrL44+vXul50ccMiLGHjYqTr3w8+n5vdMeE9ymEv5DgAABAgQIECBAgAABAgQIECBAgAABAgQIECBAoGWBTi1Xq21vgY+c+d645KOnpz9nnnLCLj0+ebXxhZ/9enrtGScfH39/6klt3ucXDz+ZtU+94P1ZaJuvPGPSOyP/muV7pj2ar05/Pz97fvxx/qK0fNFZJ2ehbb5T8o3cZAzJcc+0GbEmF/46CBAgQIAAAQIECBAgQIAAAQIECBAgQIAAAQIECBBoWUBw27JLu9cmrxn+xPmT05+zprxrp5+/dFlDfOQzN6TXHTPukPjyZ86PTtH2bt2Zs/6U9u/Vs3scdMCQFp85YfzYtD75Bu7mzU1Zn1kvzcvKye7alo7x40Zn1XNyobKDAAECBAgQIECAAAECBAgQIECAAAECBAgQIECAAIGWBQS3LbtUVO3adevjH6+4Of0e7Yj9Bsc3vzQ1utS+8VuwX1u2PJ3n4aNHbLfbNg9wyEF1+WKsWLkqKy+tX5mVRx0wNCsXF0aNGJ6d1jcU+meVCgQIECBAgAABAgQIECBAgAABAgQIECBAgAABAgQIpAKC2wr/Q0h2wX7mq3fEC3NfiWTn7HevvSR6773XDs1qWf3rab/ePXu22r9n7p75o37FmnwxljVsvTap6Ny55T+jXj26ZP3ri/pnlQoECBAgQIAAAQIECBAgQIAAAQIECBAgQIAAAQIECKQCb7wtE1RZC1x320/j4cd+l47xezd8JuqG7rND492yZUssWrp1x23PHt1avWavHoXgtmFFsmt26+7apduC2Pw3cFu6QY/uhfvWryjs1k36Du1XaMtfu2BJZX0Htyb3JuohuXl07tT2K6nz8/ObAAECBAgQIECAAAECBAgQIECAAAECBAgQIECAQGsCLW+VbK23+rISuOv+38b3f/pgOqZvfnFqjB1z4A6PLwlu80dtG69VrknSyW1H0SXRuHFTvrrV3zWdCn9eW7YU7tPqBRoIECBAgAABAgQIECBAgAABAgQIECBAgAABAgQIVKmAHbcVvPBf/Mad6ej/6e8nx/FHHRpr1qwrmc26xsbsPN/WrVvXqK3tHJ1yoWryauXVa9dH8o3c1o616zdkTcWvYB7Ur09av2FD4RlZx22Fdes2ZlV99+6RlZPCooYN0dRUCI+Tus0VFu4mQfZruXk4CBAgQIAAAQIECBAgQIAAAQIECBAgQIAAAQIdTaBuQOGtrB1tbuU6H8Ftua7MTozrtrt+GclPa0d9w8p42/v+OW3+7D+eFRedc3JarhsyMGbPezXWbmg9fFxTFOoO6Fv4du7AbcFtEvy2dqxZX2jr37d3a93UEyBAgAABAgQIECBAgAABAgQIECBAgAABAgQIEKh6gcK7bKueovoAhgzon056/sLFrU5+4aL6rK1fn72zcv9+hfLSZQ1ZfXHhtSWFa/v3E9wW2ygTIECAAAECBAgQIECAAAECBAgQIECAAAECBAgQKBaw47ZYo8LK//uLb+ZeN9zU6qivueWeuP+hx9NXIv/27n9L+/XsUdjWPvKAYfHI07Pi5QVLIglfBw3st929Hnv2+bRuv2GDomvXLln7yP2HZOWZL8yL9554ZHaeLzzz3Nx8MfbPXe8gQIAAAQIECBAgQIAAAQIECBAgQIAAAQIECBAgQKBlATtuW3apiNrkm7N9c7tgW/vZa1tIm3zXNt+nOHydPHF8Ns/7H3w8K+cLL85dkL5KOTk/85R35avT38flvqmbfCM3Oe6b/lg0JR98LTpWrV4b0x95Kq057shDY8jgAUWtigQIECBAgAABAgQIECBAgAABAgQIECBAgAABAgQIFAsIbos19mB5/YbGWJP7Xmzys7bou7JJOV+f9Nmdx5hRw+Owg/dPb3nDHffGLx96Mn3W5s1N8fzs+XHRZV/PHveBk4/Jykmha5faOPvUCWldsmv367ffm+7aTSr+snBJfObL345FS5en7WdPLg1900r/IUCAAAECBAgQIECAAAECBAgQIECAAAECBAgQIEAgE/Cq5IxizxYmf/SqWLBw6XaD+Kcrb87qRuw3OB784TXZ+e4ofPGS8+PDl14fq3OB8ae/+u0Wb3nlJ8+JfVp4jfJFH3pPPDnzxXhh7ivx7R9PT3+SXbjJvfLHlAlHx4Tjx+ZP/SZAgAABAgQIECBAgAABAgQIECBAgAABAgQIECBAoAUBO25bQCnXqtpOnXdqaDWd33h5jzhkRNx321XZztviBwzo1ztu+eLUuOCDE4urs3L/XPuPbrosJp14VFaXD22TAHfquVPi+qs+Hl1q/fuADEiBAAECBAgQIECAAAECBAgQIECAAAECBAgQIECAQAsCNVtyRwv1qqpQIHkl85x5r8aa3OuZRx84LAa1sMu2NZaNmzbFy/MXx8K/1sfI3M7gumGDo1NNTWvdY1HDhmhqKv3T27ixJm68uVusWtPqZWXVcMW/NkaPHk1lNSaDIUCAAAECBAgQIECAAAECBAgQIECAAAECBAjsDoG6Ad13x23cYycEbIXcCayO3nWv3C7ZcYcftEvTTHbVHnxQXfqzSzdwEQECBAgQIECAAAECBAgQIECAAAECBAgQIECAAIEqFnjjd+lWMY6pEyBAgAABAgQIECBAgAABAgQIECBAgAABAgQIECBAoD0EBLftoewZBAgQIECAAAECBAgQIECAAAECBAgQIECAAAECBAgQaENAcNsGjiYCBAgQIECAAAECBAgQIECAAAECBAgQIECAAAECBAi0h4Dgtj2UPYMAAQIECBAgQIAAAQIECBAgQIAAAQIECBAgQIAAAQJtCAhu28DRRIAAAQIECBAgQIAAAQIECBAgQIAAAQIECBAgQIAAgfYQENy2h7JnECBAgAABAgQIECBAgAABAgQIECBAgAABAgQIECBAoA0BwW0bOJoIECBAgAABAgQIECBAgAABAgQIECBAgAABAgQIECDQHgKC2/ZQ9gwCBAgQIECAAAECBAgQIECAAAECBAgQIECAAAECBAi0ISC4bQNHEwECBAgQIECAAAECBAgQIECAAAECBAgQIECAAAECBNpDQHDbHsqeQYAAAQIECBAgQIAAAQIECBAgQIAAAQIECBAgQIAAgTYEBLdt4GgiQIAAAQIECBAgQIAAAQIECBAgQIAAAQIECBAgQIBAewgIbttD2TMIECBAgAABAgQIECBAgAABAgQIECBAgAABAgQIECDQhoDgtg0cTQQIECBAgAABAgQIECBAgAABAgQIECBAgAABAgQIEGgPAcFteyh7BgECBAgQIECAAAECBAgQIECAAAECBAgQIECAAAECBNoQENy2gaOJAAECBAgQIECAAAECBAgQIECAAAECBAgQIECAAAEC7SEguG0PZc8gQIAAAQIECBAgQIAAAQIECBAgQIAAAQIECBAgQIBAGwKC2zZwNBEgQIAAAQIECBAgQIAAAQIECBAgQIAAAQIECBAgQKA9BAS37aHsGQQIECBAgAABAgQIECBAgAABAgQIECBAgAABAgQIEGhDQHDbBo4mAgQIECBAgAABAgQIECBAgAABAgQIECBAgAABAgQItIeA4LY9lD2DAAECBAgQIECAAAECBAgQIECAAAECBAgQIECAAAECbQgIbtvA0USAAAECBAgQIECAAAECBAgQIECAAAECBAgQIECAAIH2EBDctoeyZxAgQIAAAQIECBAgQIAAAQIECBAgQIAAAQIECBAgQKANAcFtGziaCBAgQIAAAQIECBAgQIAAAQIECBAgQIAAAQIECBAg0B4Cgtv2UPYMAgQIECBAgAABAgQIECBAgAABAgQIECBAgAABAgQItCEguG0DRxMBAgQIECBAgAABAgQIECBAgAABAgQIECBAgAABAgTaQ0Bw2x7KnkGAAAECBAgQIECAAAECBAgQIECAAAECBAgQIECAAIE2BAS3beBoIkCAAAECBAgQIECAAAECBAgQIECAAAECBAgQIECAQHsICG7bQ9kzCBAgQIAAAQIECBAgQIAAAQIECBAgQIAAAQIECBAg0IaA4LYNHE0ECBAgQIAAAQIECBAgQIAAAQIECBAgQIAAAQIECBBoDwHBbXsoewYBAgQIECBAgAABAgQIECBAgAABAgQIECBAgAABAgTaEBDctoGjiQABAgQIECBAgAABAgQIECBAgAABAgQIECBAgAABAu0hUNseD/EMAtUu0NjYKVaurJx/J9GtR1PsvVdTtS+b+RMgQIAAAQIECBAgQIAAAQIECBAgQIAAAQIE2k1AcNtu1B5U7QI//L+10fB6ZSh89tLGyhioURIgQIAAAQIECBAgQIAAAQIECBAgQIAAAQIEOohA5WwB7CDgpkGAAAECBAgQIECAAAECBAgQIECAAAECBAgQIECAAIHmAoLb5iLOCRAgQIAAAQIECBAgQIAAAQIECBAgQIAAAQIECBAg0M4Cgtt2Bvc4AgQIECBAgAABAgQIECBAgAABAgQIECBAgAABAgQINBcQ3DYXcU6AAAECBAgQIECAAAECBAgQIECAAAECBAgQIECAAIF2FhDctjO4xxEgQIAAAQIECBAgQIAAAQIECBAgQIAAAQIECBAgQKC5gOC2uYhzAgQIECBAgAABAgQIECBAgAABAgQIECBAgAABAgQItLOA4LadwT2OAAECBAgQIECAAAECBAgQIECAAAECBAgQIECAAAECzQUEt81FnBMgQIAAAQIECBAgQIAAAQIECBAgQIAAAQIECBAgQKCdBQS37QzucQQIECBAgAABAgQIECBAgAABAgQIECBAgAABAgQIEGguILhtLuKcAAECBAgQIECAAAECBAgQIECAAAECBAgQIECAAAEC7SwguG1ncI8jQIAAAQIECBAgQIAAAQIECBAgQIAAAQIECBAgQIBAcwHBbXMR5wQIECBAgAABAgQIECBAgAABAgQIECBAgAABAgQIEGhnAcFtO4N7HAECBAgQIECAAAECBAgQIECAAAECBAgQIECAAAECBJoLCG6bizgnQIAAAQIECBAgQIAAAQIECBAgQIAAAQIECBAgQIBAOwsIbtsZ3OMIECBAgAABAgQIECBAgAABAgQIECBAgAABAgQIECDQXEBw21zEOQECBAgQIECAAAECBAgQIECAAAECBAgQIECAAAECBNpZQHDbzuAeR4AAAQIECBAgQIAAAQIECBAgQIAAAQIECBAgQIAAgeYCgtvmIs4JECBAgAABAgQIECBAgAABAgQIECBAgAABAgQIECDQzgKC23YG9zgCBAgQIECAAAECBAgQIECAAAECBAgQIECAAAECBAg0FxDcNhdxToAAAQIECBAgQIAAAQIECBAgQIAAAQIECBAgQIAAgXYWENy2M7jHESBAgAABAgQIECBAgAABAgQIECBAgAABAgQIECBAoLmA4La5SIWfN23ZEqtWr40tud+7cjQ1NUVj48ZduTS9Zt36Dbt8rQsJECBAgAABAgQIECBAgAABAgQIECBAgAABAgQIVKtAbbVOvNznPfXym6Nh9Zq46lPnxZhRw1sd7uo1a+PhR38X//XU8/HSn1+JlxcsyfqOHlkX7zvp6PiHM/4uevbontU3LzRu3BR33DU9nv79nHhi5h/S5uTat/U//CcAAEAASURBVB/2lrjwQxOjbug+zS8pOX/gwcfj1//9bPzuxXlR37Ay9hs2KMaNGRWnn3J8jB83uqSvEwIECBAgQIAAAQIECBAgQIAAAQIECBAgQIAAAQIEthcQ3G5vssdr/uuJWfHwE8+l43h95eo2x3P7nb+K2++e1mKf2fNejeTnB/c+FA98+/MxeFD/7folu3Onfu6WeOq52SVt+Wv/89Fn4rvXXdpieJzs7r3h1p/Fd37yq5JrFyxcGsnPAw89Hl+74mMx5T3HlLQ7IUCAAAECBAgQIECAAAECBAgQIECAAAECBAgQIECgVEBwW+qxx85++z/PxaLFy+LZ5/8U02Y8vdPjGNCvd5w16YQYdcDQ6N17r3jy2dkx/ZGnYtHS5eku2H/58u1x9zcv3+6+V93w71loe9rEY2PSSUdFr14945nn5sSN37svvfa8i6+Jx++/Kbp361py/T0/n5GFtuPGjIxzT5sQ+w/fN16aOz9uu3Na+uxLr74jhtcNjrFjDiy51gkBAgQIECBAgAABAgQIECBAgAABAgQIECBAgAABAgUBwW3BYo+Wrv7W3eku1eaDqKmpaV5Vcn7QiCFxzWc/ElPePT66du2StZ1w9OHx6Y+fHud96tqY+dK8XCD8x1j81/rYd58BWZ9ly1+P6TOeSc8nnXhUXHvFhdFp2/OOPGJU7DOwT1x+3fdj9dr1udcxz4zJE8dn1yaFOx/4TXqevBr59msvjj69e6XnRxwyIsYeNipOvfDz6fm90x4T3KYS/kOAAAECBAgQIECAAAECBAgQIECAAAECBAgQIECgZYFOLVerbW+Bj5z53rjko6enP2eecsIOP/797zk2zpj0zpLQNn9xbW3n+OD7Cvea+/KifFP6+xcPP5mdT73g/Vlom69M7pvs5E2Oe6Y9mq9Ofz8/e378cf7W+1101slZaJvvlHwj94yTj09P75k2I9bkwl8HAQIECBAgQIAAAQIECBAgQIAAAQIECBAgQIAAAQItCwhuW3Zp99rkNcOfOH9y+nPWlHfttufXdioscZfa0g3WM2f9KX1Or57d46ADhrT4zAnjx6b1yTdwN29uyvrMyu3izR/J7tqWjvHjRmfVc3Lf2nUQIECAAAECBAgQIECAAAECBAgQIECAAAECBAgQINCyQCHVa7ldbYULPPtCIWCt23dQyWxeW7Y8PT989IjtdtvmOx5yUF2+GCtWrsrKS+tXZuXku7otHaNGDM+q6xsK/bNKBQIECBAgQIAAAQIECBAgQIAAAQIECBAgQIAAAQIEUgHBbQf+Q3htybLcK45npDM8IhfODh82sGS2y+pfT8979+xZUl980jO3Gzd/1K9Yky/Gsoat1yYVnTu3/GfUq0fhm7v1Rf2zmygQIECAAAECBAgQIECAAAECBAgQIECAAAECBAgQIJAKtJy4wal4gcbGjfF/vnBrNo9PfeS0rJwUtmzZEouWbt1x27NHt5K24pO9ehSC24YVhV2zS7cFsflv4BZfky/36F64b/2Kwm7dfLvfBAgQIECAAAECBAgQIECAAAECBAgQIECAAAECBAhsFSj96CmVDiGQfIv2squ/G7Nmv5zO58OnT4wTjj68ZG5JcJs/apt9+zZfn/yuqanJTosuicaNm7L61go1Rd/X3bKlcJ+k/9B+hVA3f/2CJevzxYr4ndAMyc2jc6fSubU0+PlLGluqLtu65P8Y9u3bLWo7v/HcynYSBkaAAAECBAgQIECAAAECBAgQIECAAAECBAgQqCABO24raLF2ZKhNTU1xxbXfi2kznk67v/f4t8dl//yh7S7tlAtVe217DfLada0HpmvXb8iu7b33Xll5UL8+aXnDhtYDyXXrNmb9++7dIysrECBAgAABAgQIECBAgAABAgQIECBAgAABAgQIECBQKmDHbalHRZ9t3LQprvy3H8QDDz2ezuPdx78tvvaFf2z1G7R1QwbG7HmvxtoNhXC2OcCaolB3QN9CcDtwW3C7em3roe+a9YW2/n17l9x6UcOGaGoq7PpNGjc325VbckEZniQ7kF/LzWNHjqamyvo3Esl+6sUrdmxuOzJ/fQgQIECAAAECBAgQIECAAAECBAgQIECAAIHKEqgbUPicZmWNvHJHW1lpUuU6v+kjT3bNfuLym7PQ9oyTj49vfumfo2uX1rP5IQP6p+Oav3Bxq+NbuKg+a+vXZ++s3L9fobx0WUNWX1x4bUnh2v79SoPb4n7KBAgQIECAAAECBAgQIECAAAECBAgQIECAAAECBKpdQHDbAf4CltWviPMvuT4efeaFdDYXnXVKfPWyj7S60zY/5ZEHDEuLLy9YEq2Fr489+3zaZ79hg6Jr1y75S2Pk/kOy8swX5mXl4sIzz83NTvfPXe8gQIAAAQIECBAgQIAAAQIECBAgQIAAAQIECBAgQKBlAcFtyy4VUzvnzwvjg//0lZg1++V0zF+8+Lz47NQzo1NNzRvOYfLE8Vmf+x/c+nrlrCJXeHHugvRVykndmae8q7gpjjvq0OwbufdNfyyakvcGFx2rVq+N6Y88ldYcd+ShMWTwgKJWRQIECBAgQIAAAQIECBAgQIAAAQIECBAgQIAAAQIEigVaf49ucS/lN11g/YbG2Ly5KX1O8trj/JGU12z7jmznzp2ie7eu+ab095SPXpWdX/CBiTHygKHx1O9mZ3XNC0cecXC2E3fMqOFx2MH7xwtzX4kb7rg3hu4zIE46bmz6jJf+uCA+fvlN2eUfOPmYrJwUklcwn33qhPjOj6fHI0/Piq/ffm9c8MG/i0ED+8VfFi6Jr3zj7li0dHl6zdmTS0Pfkhs5IUCAAAECBAgQIECAAAECBAgQIECAAAECBAgQIEAgarbkDg57XuDd514WCxYubXMgI/YbHA/+8JqSPgef+NGS8zc6eeL+G2NAvz5Zt1l/eDk+fOn1sXpbOJw1FBWu/OQ5uVB2YlHN1uLyhpVx0WU3psFvvrFXz+4l95oy4ei49ooLo0tt6b8RWNSwIZqaSv/0Nm6siRtv7har1uTvVt6/r/jXxujRY2vY/kYjbWzsFLfc2jUaXn+jnuXR/tlLG2PvvXZsbuUxYqMgQIAAAQIECBAgQIAAAQIECBAgQIAAAQIEdqdA3YDuu/N27rUDAl6VvANI5dKltlPnv3konTuVLvkRh4yI+267Kt152/zmA/r1jlu+OLXF0Dbp2z/X/qObLotJJx6VXZoPgJMAd+q5U+L6qz6+XWibdVYgQIAAAQIECBAgQIAAAQIECBAgQIAAAQIECBAgQCAVsOPWH0ImkLySec68V2NN7vXMow8clr72OGt8g8LGTZvi5fmLY+Ff62Nkbmdw3bDBbX5n147bNwDdw8123O7hBfB4AgQIECBAgAABAgQIECBAgAABAgQIECCwhwXsuG3/BSh9f237P98Ty0hgr9wu2XGHH7RLI0pehXzwQXXpzy7dwEUECBAgQIAAAQIECBAgQIAAAQIECBAgQIAAAQIEqlig9L25VQxh6gQIECBAgAABAgQIECBAgAABAgQIECBAgAABAgQIENhTAoLbPSXvuQQIECBAgAABAgQIECBAgAABAgQIECBAgAABAgQIENgmILj1p0CAAAECBAgQIECAAAECBAgQIECAAAECBAgQIECAAIE9LCC43cML4PEECBAgQIAAAQIECBAgQIAAAQIECBAgQIAAAQIECBAQ3PobIECAAAECBAgQIECAAAECBAgQIECAAAECBAgQIECAwB4WENzu4QXweAIECBAgQIAAAQIECBAgQIAAAQIECBAgQIAAAQIECAhu/Q0QIECAAAECBAgQIECAAAECBAgQIECAAAECBAgQIEBgDwsIbvfwAng8AQIECBAgQIAAAQIECBAgQIAAAQIECBAgQIAAAQIEBLf+BggQIECAAAECBAgQIECAAAECBAgQIECAAAECBAgQILCHBQS3e3gBPL56BJqqZ6pmSoAAAQIECBAgQIAAAQIECBAgQIAAAQIECBAgsJMCgtudBNOdAAECBAgQIECAAAECBAgQIECAAAECBAgQIECAAAECu1tAcLu7Rd2PAAECBAgQIECAAAECBAgQIECAAAECBAgQIECAAAECOykguN1JMN0JECBAgAABAgQIECBAgAABAgQIECBAgAABAgQIECCwuwUEt7tb1P0IECBAgAABAgQIECBAgAABAgQIECBAgAABAgQIECCwkwKC250E050AAQIECBAgQIAAAQIECBAgQIAAAQIECBAgQIAAAQK7W0Bwu7tF3Y8AAQIECBAgQIAAAQIECBAgQIAAAQIECBAgQIAAAQI7KSC43Ukw3QkQIECAAAECBAgQIECAAAECBAgQIECAAAECBAgQILC7BQS3u1vU/QgQIECAAAECBAgQIECAAAECBAgQIECAAAECBAgQILCTAoLbnQTTncCuCvgf267KuY4AAQIECBAgQIAAAQIECBAgQIAAAQIECBAg0PEFZEkdf43NkAABAgQIECBAgAABAgQIECBAgAABAgQIECBAgACBMhcQ3Jb5AhkeAQIECBAgQIAAAQIECBAgQIAAAQIECBAgQIAAAQIdX0Bw2/HX2AwJECBAgAABAgQIECBAgAABAgQIECBAgAABAgQIEChzAcFtmS+Q4REgQIAAAQIECBAgQIAAAQIECBAgQIAAAQIECBAg0PEFBLcdf43NkAABAgQIECBAgAABAgQIECBAgAABAgQIECBAgACBMhcQ3Jb5AhkeAQIECBAgQIAAAQIECBAgQIAAAQIECBAgQIAAAQIdX0Bw2/HX2AwJECBAgAABAgQIECBAgAABAgQIECBAgAABAgQIEChzAcFtmS+Q4REgQIAAAQIECBAgQIAAAQIECBAgQIAAAQIECBAg0PEFBLcdf43NkAABAgQIECBAgAABAgQIECBAgAABAgQIECBAgACBMhcQ3Jb5AhlexxFo6jhTMRMCBAgQIECAAAECBAgQIECAAAECBAgQIECAAIHdLCC43c2gbkeAAAECBAgQIECAAAECBAgQIECAAAECBAgQIECAAIGdFRDc7qyY/gQIECBAgAABAgQIECBAgAABAgQIECBAgAABAgQIENjNAoLb3QzqdgQIECBAgAABAgQIECBAgAABAgQIECBAgAABAgQIENhZAcHtzorpT4AAAQIECBAgQIAAAQIECBAgQIAAAQIECBAgQIAAgd0sILjdzaBuR4AAAQIECBAgQIAAAQIECBAgQIAAAQIECBAgQIAAgZ0VENzurJj+BAgQIECAAAECBAgQIECAAAECBAgQIECAAAECBAgQ2M0CgtvdDOp2BAgQIECAAAECBAgQIECAAAECBAgQIECAAAECBAgQ2FkBwe3OiulPgAABAgQIECBAgAABAgQIECBAgAABAgQIECBAgACB3SwguN3NoG5HoCMI1GzpCLMwBwIECBAgQIAAAQIECBAgQIAAAQIECBAgQIBA5QgIbitnrYyUAAECBAgQIECAAAECBAgQIECAAAECBAgQIECAAIEOKiC47aALa1oECBAgQIAAAQIECBAgQIAAAQIECBAgQIAAAQIECFSOgOC2ctbKSAkQIECAAAECBAgQIECAAAECBAgQIECAAAECBAgQ6KACgtsOurCmRYAAAQIECBAgQIAAAQIECBAgQIAAAQIECBAgQIBA5QgIbitnrYyUAAECBAgQIECAAAECBAgQIECAAAECBAgQIECAAIEOKiC47aALa1oECBAgQIAAAQIECBAgQIAAAQIECBAgQIAAAQIECFSOgOC2ctbKSAkQIECAAAECBAgQIECAAAECBAgQIECAAAECBAgQ6KACgtsOurCmRYAAAQIECBAgQIAAAQIECBAgQIAAAQIECBAgQIBA5QgIbitnrYyUAAECBAgQIECAAAECBAgQIECAAAECBAgQIECAAIEOKiC47aALa1oECBAgQIAAAQIECBAgQIAAAQIECBAgQIAAAQIECFSOgOC2ctbKSAkQIECAAAECBAgQIECAAAECBAgQIECAAAECBAgQ6KACgtsOurCmRYAAAQIECBAgQIAAAQIECBAgQIAAAQIECBAgQIBA5QgIbitnrYyUAAECBAgQIECAAAECBAgQIECAAAECBAgQIECAAIEOKiC47aALa1oECBAgQIAAAQIECBAgQIAAAQIECBAgQIAAAQIECFSOgOC2ctbKSAkQIECAAAECBAgQIECAAAECBAgQIECAAAECBAgQ6KACgtsOurCmRYAAAQIECBAgQIAAAQIECBAgQIAAAQIECBAgQIBA5QgIbitnrYyUAAECBAgQIECAAAECBAgQIECAAAECBAgQIECAAIEOKiC47YAL27hxU2ze3LRLM2tqaorGxo27dG1y0br1G3b5WhcSIECAAAECBAgQIECAAAECBAgQIECAAAECBAgQqFaB2mqdeLnPe+rlN0fD6jVx1afOizGjhr/hcP+6rCFu/7+/it+9+Md4Ye4raf+jx46Oo454S3z83FOie7eurd4jCXrvuGt6PP37OfHEzD+k/UaPrIu3H/aWuPBDE6Nu6D6tXps0PPDg4/Hr/3429+x5Ud+wMvYbNijGjRkVp59yfIwfN7rNazUSIECAAAECBAgQIECAAAECBAgQIECAAAECBAgQIBAhuC3Dv4L/emJWPPzEc+nIXl+5+g1HOPflRXHBp69LQ9Pizk89NzuSnyd+91Lc9tX/E3169ypuTsurVq+NqZ+7Je1X3Dh73quR/Pzno8/Ed6+7tMXwuGnLlrjh1p/Fd37yq+JLY8HCpenPAw89Hl+74mMx5T3HlLQ7IUCAAAECBAgQIECAAAECBAgQIECAAAECBAgQIECgVEBwW+qxx85++z/PxaLFy+LZ5/8U02Y8vcPj2LhpU0lo+6kLTouj3zY61m3YEA/OeDZ++qtHc/f8Y3z2K9+J26/7l+3ue9UN/56FtqdNPDYmnXRU9OrVM555bk7c+L370jD4vIuvicfvv2m7Xbv3/HxGFtqOGzMyzj1tQuw/fN94ae78uO3OabFo6fK49Oo7Ynjd4Bg75sDtnq2CAAECBAgQIECAAAECBAgQIECAAAECBAgQIECAAIGtAoLbMvlLuPpbd6e7VJsPp6ampnlVyfmjTzyf7bT9wqfOjXNP/7us/Z3vOCw25YLd+3M7Xx95elYaDA/dd2DWvmz56zF9xjPp+aQTj4prr7gwOm173pFHjIp9BvaJy6/7fqxeuz4efnRmTJ44Prs2Kdz5wG/S8+TVyLdfe3G2o/eIQ0bE2MNGxakXfj5tv3faY4LbVMJ/CBAgQIAAAQIECBAgQIAAAQIECBAgQIAAAQIECLQs0KnlarXtLfCRM98bl3z09PTnzFNO2OHH/2T6o2nfXj27xzkfmFByXRL6fvLDU7K6n//6yaycFH7xcOF86gXvz0LbfKczJr0zBvTrnZ7eM23rc/Jtz8+eH3+cvyg9veisk7PQNt+efCP3jJOP33btjFiTC38dBAgQIECAAAECBAgQIECAAAECBAgQIECAAAECBAi0LCC4bdml3WuT1wx/4vzJ6c9ZU961w89/5Infp31PeMfh2wWvScPwYYOz8PXpWXNK7jtz1p/S8yT0PeiAISVt+ZMJ48emxeRbuZs3N+WrY9ZL87Jysru2pWP8uNFZ9Zzc93IdBAgQIECAAAECBAgQIECAAAECBAgQIECAAAECBAi0LCC4bdmlImrXrivsYh09cnirY37boSPTtkV/XVbS57Vly9Pzw0ePaDH0TRoPOaguu2bFylVZeWn9yqw86oChWbm4MGpEYUz1DYX+xX2UCRAgQIAAAQIECBAgQIAAAQIECBAgQIAAAQIECBCIENxW8F9Bw4pCkLr3Xj1ancnePba2LV32ekmfZfVbz3v37FlSX3zSM7cbN3/Ur1iTL8ayhsK9Ondu+c+oV48uWf/6ov5ZpQIBAgQIECBAgAABAgQIECBAgAABAgQIECBAgAABAqlALYfKFahfsTobfI8e3bJy80LPnluD29W578w2btwUXbvUxpYtW2LR0q07bnu2ce1ePQrBbcOKZNfs1t21S7cFsflv4DZ/ZnLeo3thTPVFIXPSNrRfoS05T44FSwo7iLfWlPd/c58QjiG5eXTulCu8wTF/SeMb9Civ5s65Ke3bt1vUJgUHAQIECBAgQIAAAQIECBAgQIAAAQIECBAgQIDAmy7Q8lbJN/2xHrA7BDZt2pzdprVdr0mH2k5Fy5wLbJMjCW7zR21t6/l9TZJObjuKLkkD4Hx9a79rip67ZUvhPq31V0+AAAECBAgQIECAAAECBAgQIECAAAECBAgQIECgWgVaT+yqVaSC5t2/z17ZaNevb31H5+p167J+XbtufX1xp1yo2iv3GuRkF27xt3KzjtsKa9dvyKp671143qB+fdL6DRtaf+66dRuza/vuXfoq50UNG6KpqRAeJx03V1i4mwTZr+XmsSNHU1NReL4jF+zhPptzc1u8YsfmtoeH6vEECBAgQIAAAQIECBAgQIAAAQIECBAgQIDAmyBQN6DwVtY34fZu2YJAZaVJLUygmqv69d07m35xwJpVbius2xa+7jdsUElT3ZCB6fnaDa0HdGvWFV5fPKBvIbgduC24TYLf1o416wtt/fv2bq2begIECBAgQIAAAQIECBAgQIAAAQIECBAgQIAAAQJVLyC4reA/gb2LdsC++lp9qzP5819eS9sG9e9b0mfIgP7p+fyFi0vqi08WLirct1+fQlDcv1+hvHRZQ/ElWfm1JYVr+/cT3GYwCgQIECBAgAABAgQIECBAgAABAgQIECBAgAABAgSaCQhum4FU0mmn3PdnR4+sS4f82LPPtzj0FStXx+x5r6ZtbxmxtW++48gDhqXFlxcsidbC1/x9k926+dcsJxeN3H9I/jYx84V5Wbm48Mxzc7PT/Zvt9s0aFAgQIECAAAECBAgQIECAAAECBAgQIECAAAECBAgQCMFthf8RfOh970pnkISvv2shQP3lQ09mMzx14jFZOSlMnjg+O7//wcezcr7w4twFWeh75ilbn5NvO+6oQ9Nv5Cbn901/LJqSD74WHatWr43pjzyV1hx35KExZPCAolZFAgQIECBAgAABAgQIECBAgAABAgQIECBAgAABAgSKBQS3xRp7sLx+Q2OsyX0vNvlZW/Rd2aScr0/6ND8mTXhHVjX1qm+m4e2mTZsj+a7tgzP+N778zbvS9hH7DY63HTYy65sUxowaHocdvH9ad8Md90YS8ibP2ry5KZ6fPT8uuuzrWf8PnFwa+nbtUhtnnzohbX/k6Vnx9dvvzXbt/mXhkvjMl78di5YuT9vPnlwa+mY3VSBAgAABAgQIECBAgAABAgQIECBAgAABAgQIECBAIBWo2ZI7WOx5gXefe1ksWLi0zYEk4euDP7xmuz4//eWjceUNP9iuPl/Rq2f3+Pa1l8SRR4zKV2W/Z/3h5fjwpdfH6lxg29px5SfPiQs+OHG75uUNK3Ph7o3xwtxXsrbkWcX3mjLh6Lj2igujS21t1icpLGrYEE1NpX96GzfWxI03d4tVa0q6lu3JFf/aGD16NO3Q+BobO8XNt3aN11/foe57vNNln26MXr12bG57fLAGQIAAAQIECBAgQIAAAQIECBAgQIAAAQIECOx2gboB3Xf7Pd2wbQE7btv2KavW2k6dWxzPmZNPiNuvvjgG9Ou9XXvyDdx7vnVVi6Ft0vmIQ0bEfbddle28Lb5Bcr9bvji1xdA26dc/1/6jmy6LSScelV2WD22TAHfquVPi+qs+vl1om3VWIECAAAECBAgQIECAAAECBAgQIECAAAECBAgQIEAgFbDjtoP9ISxb/nrMmfdqdOvWNUaPHBa99uq5wzNMXpOcXLsm93rm0QcOi0ED++3wtRs3bYqX5y+OhX+tj5G5ncF1wwZHp5qaVq+347ZVmrJosOO2LJbBIAgQIECAAAECBAgQIECAAAECBAgQIECAwB4TsOO2/elL31/b/s/3xN0sMLB/n0h+duXYK7dLdtzhB+3Kpemu2oMPqovkx0GAAAECBAgQIECAAAECBAgQIECAAAECBAgQIECAwM4JeFXyznnpTYAAAQIECBAgQIAAAQIECBAgQIAAAQIECBAgQIAAgd0uILjd7aRuSIAAAQIECBAgQIAAAQIECBAgQIAAAQIECBAgQIAAgZ0TENzunJfeBAgQIECAAAECBAgQIECAAAECBAgQIECAAAECBAgQ2O0CgtvdTuqGBAgQIECAAAECBAgQIECAAAECBAgQIECAAAECBAgQ2DkBwe3OeelNgAABAgQIECBAgAABAgQIECBAgAABAgQIECBAgACB3S4guN3tpG5IgAABAgQIECBAgAABAgQIECBAgAABAgQIECBAgACBnROo3bnuehMgQKBUYH1j7t9/NJXWlftZ9+4VNuByBzU+AgQIECBAgAABAgQIECBAgAABAgQIECBA4G8WENz+zYRuQIDAbd/tGvX1leHwmYsbo3v3yhirURIgQIAAAQIECBAgQIAAAQIECBAgQIAAAQLVI+BVydWz1mZKgAABAgQIECBAgAABAgQIECBAgAABAgQIECBAgECZCghuy3RhDIsAAQIECBAgQIAAAQIECBAgQIAAAQIECBAgQIAAgeoRENxWz1qbKQECBAgQIECAAAECBAgQIECAAAECBAgQIECAAAECZSoguC3ThTEsAgQIECBAgAABAgQIECBAgAABAgQIECBAgAABAgSqR0BwWz1rbaYECBAgQIAAAQIECBAgQIAAAQIECBAgQIAAAQIECJSpgOC2TBfGsAgQIECAAAECBAgQIECAAAECBAgQIECAAAECBAgQqB4BwW31rLWZEiBAgAABAgQIECBAgAABAgQIECBAgAABAgQIECBQpgKC2zJdGMMiQIAAAQIECBAgQIAAAQIECBAgQIAAAQIECBAgQKB6BAS31bPWZkqAAAECBAgQIECAAAECBAgQIECAAAECBAgQIECAQJkKCG7LdGEMiwABAgQIECBAgAABAgQIECBAgAABAgQIECBAgACB6hEQ3FbPWpspAQIECBAgQIAAAQIECBAgQIAAAQIECBAgQIAAAQJlKiC4LdOFMSwCBAgQIECAAAECBAgQIECAAAECBAgQIECAAAECBKpHQHBbPWttpgQIECBAgAABAgQIECBAgAABAgQIECBAgAABAgQIlKmA4LZMF8awCBAgQIAAAQIECBAgQIAAAQIECBAgQIAAAQIECBCoHgHBbfWstZkSIECAAAECBAgQIECAAAECBAgQIECAAAECBAgQIFCmAoLbMl0YwyJAgAABAgQIECBAgAABAgQIECBAgAABAgQIECBAoHoEBLfVs9ZmSoAAAQIECBAgQIAAAQIECBAgQIAAAQIECBAgQIBAmQoIbst0YQyLAAECBAgQIECAAAECBAgQIECAAAECBAgQIECAAIHqERDcVs9amykBAgQIECBAgAABAgQIECBAgAABAgQIECBAgAABAmUqILgt04UxLAIECBAgQIAAAQIECBAgQIAAAQIECBAgQIAAAQIEqkdAcFs9a22mBAgQIECAAAECBAgQIECAAAECBAgQIECAAAECBAiUqYDgtkwXxrAIECBAgAABAgQIECBAgAABAgQIECBAgAABAgQIEKgeAcFt9ay1mRIgQIAAAQIECBAgQIAAAQIECBAgQIAAAQIECBAgUKYCgtsyXRjDIkCAAAECBAgQIECAAAECBAgQIECAAAECBAgQIECgegQEt9Wz1mZKgAABAgQIECBAgAABAgQIECBAgAABAgQIECBAgECZCghuy3RhDIsAAQIECBAgQIAAAQIECBAgQIAAAQIECBAgQIAAgeoRENxWz1qbKQECBAgQIECAAAECBAgQIECAAAECBAgQIECAAAECZSoguC3ThTEsAgQIECBAgAABAgQIECBAgAABAgQIECBAgAABAgSqR0BwWz1rbaYECBAgQIAAAQIECBAgQIAAAQIECBAgQIAAAQIECJSpgOC2TBfGsAgQIECAAAECBAgQIECAAAECBAgQIECAAAECBAgQqB4BwW31rLWZEiBAgAABAgQIECBAgAABAgQIECBAgAABAgQIECBQpgKC2zJdGMMiQIAAAQIECBAgQIAAAQIECBAgQIAAAQIECBAgQKB6BAS31bPWZkqAAAECBAgQIECAAAECBAgQIECAAAECBAgQIECAQJkKCG7LdGEMiwABAgQIECBAgAABAgQIECBAgAABAgQIECBAgACB6hEQ3FbPWpspAQIECBAgQIAAAQIECBAgQIAAAQIECBAgQIAAAQJlKiC4LdOFMSwCBAgQIECAAAECBAgQIECAAAECBAgQIECAAAECBKpHQHBbPWttpgQIECBAgAABAgQIECBAgAABAgQIECBAgAABAgQIlKmA4LZMF8awCBAgQIAAAQIECBAgQIAAAQIECBAgQIAAAQIECBCoHgHBbfWstZkSIECAAAECBAgQIECAAAECBAgQIECAAAECBAgQIFCmAoLbMl0YwyJAgAABAgQIECBAgAABAgQIECBAgAABAgQIECBAoHoEBLfVs9ZmSoAAAQIECBAgQIAAAQIECBAgQIAAAQIECBAgQIBAmQoIbst0YQyLAAECBAgQIECAAAECBAgQIECAAAECBAgQIECAAIHqERDcVs9amykBAgQIECBAgAABAgQIECBAgAABAgQIECBAgAABAmUqILgt04UxLAIECBAgQIAAAQIECBAgQIAAAQIECBAgQIAAAQIEqkdAcFs9a22mBAgQIECAAAECBAgQIECAAAECBAgQIECAAAECBAiUqYDgtkwXxrAI7EmBLTV78umeTYAAAQIECBAgQIAAAQIECBAgQIAAAQIECBCoPgHBbQdc8xUrV8eaNet2aWZNTU3R2Lhxl65NLlq3fsMuX+vC8hGo2bLjY9mZvjt+Vz0JECBAgAABAgQIECBAgAABAgQIECBAgAABAtUlUFtd0+24s336uTlx652/jN+/NC9Wr12fTrRXz+4x/q2j45/OnxJHHDKi1ck3btwUd9w1PZ7+/Zx4YuYf0n6jR9bF2w97S1z4oYlRN3SfVq9NGh548PH49X8/G797cV7UN6yM/YYNinFjRsXppxwf48eNbvNajQQIECBAgAABAgQIECBAgAABAgQIECBAgAABAgQIRAhuK/yvYMuWLfGlG++Mu/7jke1mkgS4Dz/xXPrz2X88Ky465+Tt+qxavTamfu6WeOq52SVts+e9GsnPfz76THz3uktjzKjhJe3JSVPu2Tfc+rP4zk9+VdK2YOHSSH4eeOjx+NoVH4sp7zmmpN0JAQIECBAgQIAAAQIECBAgQIAAAQIECBAgQIAAAQKlAoLbUo+KO/vpLx/NQtt3HzM2zj7tpHjH2LfE6tyrkh976oW49e5fxssLlsR1t/8k3jrmwDjqrQeXzPGqG/49C21Pm3hsTDrpqOjVq2c8k9vBe+P37kt30J538TXx+P03RfduXUuuvefnM7LQdtyYkXHuaRNi/+H7xktz58dtd06LRUuXx6VX3xHD6wbH2NyzHQQIECBAgAABAgQIECBAgAABAgQIECBAgAABAgQItCwguG3ZpWJq73zgN+lYhw7qH9/4/6ZGl9qtS5qErKedclwcNfbgOOmcy9I+jzwxqyS4Xbb89Zg+45m0bdKJR8W1V1wYnWpq0vMjjxgV+wzsE5df9/301csPPzozJk8cn7bl/5N/dvJq5NuvvTj69O6VNiWvZR572Kg49cLPp+f3TntMcJtH85sAAQIECBAgQIAAAQIECBAgQIAAAQIECBAgQIBACwKdWqhTVUECyeuMk2PYkIFZaFs8/GFDBkXyrdvkmP/KouKm+MXDT2bnUy94fxba5ivPmPTOGNCvd3p6z7RH89Xp7+dnz48/zt96v4vOOjkLbfOdkm/knnHy8duunRFrtn13N9/uNwECBAgQIECAAAECBAgQIECAAAECBAgQIECAAAECBQHBbcGiIkvHHXloOu5nZs2NRYuXbTeH5Q0r0x2zScP4caNL2mfO+lN6ngS7Bx0wpKQtfzJh/Ni0mHwDd/Pmpnx1zHppXlZOdte2dBQ/b862gLmlfuoIECBAgAABAgQIECBAgAABAgQIECBAgAABAgQIVLuA4LbC/wImHve2bAaTP/r5+K/c65CLj7semJGdnnTsuKycFF5btjw9P3z0iO122+Y7HnJQXb4YK1auyspL61dm5VEHDM3KxYVRI4Znp/W5ANlBgAABAgQIECBAgAABAgQIECBAgAABAgQIECBAgEDLAr5x27JLxdSeOeWEmLdgcfzo/ofTnbUfu/ymSF5T/KEpJ0b98lVxyw9/ns7lussviuHDBpbMa1n96+l57549S+qLT3pue81yUle/Yk3u1cl90uZlDVuvTU46d245/+/Vo0vaN/lPfVH/rFKBAAECBAgQIECAAAECBAgQIECAAAECBAgQIECAAIFUQHBb4X8IXWpr46qL/z4NRqfPeCadTfLd2y/ddGc2s9uvvjhOOvat2XlS2LJlSyxaunXHbc8e3Uraik/26rH1+7hJXcOKZNfs1t21S7cFsflv4BZfky/36F64b/2Kwm7dfLvfBAgQIECAAAECBAgQIECAAAECBAgQIECAAAECBAhsFRDcVvhfwsZNm+L62+6NJLRNvlV76cc/GLNe/HPc/9Dj2cwu/crtcc1nPxrvPfHIrC4JbvNHbS78be2oqanJmoouicaNm7L61go1nQo7cbdsKdwn6T+0XyHUzV+/YMn6fLEific0Q3Lz6NypdG4tDX7+ksaWqsu2rnNuSvv27Ra1SeENjlcWV9bckj/Lfft2zc2t8Pf5BlPUTIAAAQIECBAgQIAAAQIECBAgQIAAAQIECBB40wUkF2868Zv7gH/9yh3xg589mIa2d37j8jj3tAnxb1deFP/7i2/GZ//xrPThq9euj//zxW/F9+75z2wwnXLpVRL0Jsfada0HpmvXb8iu6b33Xll50LZXJm/Y0Hpot27dxqx/3717ZGUFApUikPwDh0r8qRRf4yRAgAABAgQIECBAgAABAgQIECBAgAABAgQKAq1vtSz0USpTgTl/XpjutE2Gd9q7j40xo4ZnI01C1ovOOTlOOu6IOOX8z6X11976kzjv9HdH1y5bl71uyMBIXqu8dkMhnM1usK2wpijUHdC3ENwO3BbcJqFwa8ea9YW2/n17l3Rb1LAhmpoKu36Txs3NduWWXFCGJ8kO5Ndy89iRo6mpsv6NxObc3Bav2LG5baqwuTU1JXNr/R8cFK/nhg2dct9wzl1QQUcbG+graBaGSoAAAQIECBAgQIAAAQIECBAgQIAAAQJ7WqBuQOFzmnt6LNXyfMFtBa/03D8tyEZ//DsOy8rFhZH7DY1JJx6VBbyLlyyL/er2TbsMGdA/DW7nL1xcfElJeeGi+uy8X5+9s3L/foXy0mUNMWhgv6wtX3htSeHa/v1Kg9t8H78JlLvAbd/tHkuWlPsot47v4k9uioH93/g15knv9etzoXSXygqlu3SujHUwSgIECBAgQIAAAQIECBAgQIAAAQIECBAgsCsCgttdUSvDa2ra+M7q0H0HZSNev7EQ1Iw8YFg88vSseHnBkmgtfH3s2efTa/cbNii6du2S3Wfk/kOy8swX5pV8Pzff8Mxzc/PF2D93vYMAgfIS+N73u0d94d9XlNfgmo3mwo9uisGDdiyUbnapUwIECBAgQIAAAQIECBAgQIAAAQIECBAgUBECgtuKWKaWB/mWUftnDT//9eNx0rFvzc7zhabc+3xnzpqTnibftD1w+OB8U0yeOD6+85Nfpef3P/h4fPzc92VtSeHFuQvSHblJ+cxT3pX8yo7jjjo0/UZu8qrk+6Y/FhPf9fboVFOTta9avTamP/JUen7ckYfGkMEDsjYFAgTKR2Ddjr0Ru3wGvAMjSV5xXWlHt26Ff1RTaWM3XgIECBAgQIAAAQIECBAgQIAAAQIECBDYPQKC293juEfuMnK/feOwg/ePF+a+kr4KecR3h8Qnzp+cfcN2/YbG+MZ3HoiZL81Lx/f3p06I2trCu0aTb+Lmr7/hjntj6D4Dct/EHRvdu3WNl/64ID5++U3ZvD5w8jFZOSkk38k9O3e/7/x4erpr9+u33xsXfPDv0lcm/2XhkvjKN+6ORUuXp9ecPbk09C25kRMCBAjsZoHk+9P/Ma3rbr7rm3e7447dGMMKLzF48x7kzgQIECBAgAABAgQIECBAgAABAgQIECBQ1gKC27JenrYH17lzp/jGF/453v+xz0ey8/X//9F/xI9/OSPeNvrA2Bxb4pnfz0nrk7scM+6QuPii07a74RcvOT8+fOn1ab9Pf/Xb27UnFVd+8pzYp4Vv2F70offEkzNfTIPjb+cC3OQn2dWbjCV/TJlwdEw4fmz+1G8CBAi0i8CqVRHzC58Bb5dn7upDjjt2V690HQECBAgQIECAAAECBAgQIECAAAECBAh0JIHKe59kR9LfDXMZPmxgPPjDr8ZZk05I71bfsDIefuK5eOSJ36cBahKkfvmSf4jvXvfp6PL/2LsTMDnKOmHg/zlz3yQhJ4QQDOHYGGEFQdFoWERAERWvz2NBXdldXcVHVxRFn1X5BBWPVS51XVkVlWNXiSKs8CGLCBqRywBmCYGEXJOEnJNkjq+roXumk5np7tCZ6er51fN05q2qt956/7+30te/q6px7zz90YfPiusvvzB75u2e3ZkwbnR846LzMmfSLtpzVXZ+fGb99y/7WJz68mPz63NJ22S/573t9Ljkwvf2uN/8BgoECBAgQIAAAQIECBAgQIAAAQIECBAgQIAAAQIECMTemTwoqROYmDkb9l8++q742HlvihWr1sfKp9fFkOamOGjaxJg2dWLRxOnBM6fE9Vd+OrZlzpR9ZNlTsW1Ha8w9ZFr2ssfFMEZkErSXXfT+uKTtPfH48tWxcm1LzJ45OaZPm1xwz9ti7VhPgAABAgQIECBAgAABAgQIECBAgAABAgQIECBAYDALSNzW0OiPGjk8jjhsZvaxL2ElSdgFRx26L5tmk8OHHTo9koeJAAECBAgQIECAAAECBAgQIECAAAECBAgQIECAAIHyBFwquTwvtQkQIECAAAECBAgQIECAAAECBAgQIECAAAECBAgQIFBxAYnbipNqkAABAgQIECBAgAABAgQIECBAgAABAgQIECBAgAABAuUJSNyW56U2AQIECBAgQIAAAQIECBAgQIAAAQIECBAgQIAAAQIEKi4gcVtxUg0SIECAAAECBAgQIECAAAECBAgQIECAAAECBAgQIECgPAGJ2/K81CZAgAABAgQIECBAgAABAgQIECBAgAABAgQIECBAgEDFBSRuK06qQQIECBAgQIAAAQIECBAgQIAAAQIECBAgQIAAAQIECJQnIHFbnpfaBAgQIECAAAECBAgQIECAAAECBAgQIECAAAECBAgQqLiAxG3FSTVIgAABAgQIECBAgAABAgQIECBAgAABAgQIECBAgACB8gQkbsvzUpsAAQIECBAgQIAAAQIECBAgQIAAAQIECBAgQIAAAQIVF5C4rTipBgkQIECAAAECBAgQIECAAAECBAgQIECAAAECBAgQIFCegMRteV5qEyBAgAABAgQIECBAgAABAgQIECBAgAABAgQIECBAoOICErcVJ9UgAQIECBAgQIAAAQIECBAgQIAAAQIECBAgQIAAAQIEyhOQuC3PS20CBAgQIECAAAECBAgQIECAAAECBAgQIECAAAECBAhUXEDituKkGiRAgAABAgQIECBAgAABAgQIECBAgAABAgQIECBAgEB5AhK35XmpTYAAAQIECBAgQIAAAQIECBAgQIAAAQIECBAgQIAAgYoLSNxWnFSDBAgQIECAAAECBAgQIECAAAECBAgQIECAAAECBAgQKE9A4rY8L7UJECBAgAABAgQIECBAgAABAgQIECBAgAABAgQIECBQcQGJ24qTapAAAQIECBAgQIAAAQIECBAgQIAAAQIECBAgQIAAAQLlCUjcluelNgECBAgQIECAAAECBAgQIECAAAECBAgQIECAAAECBCouIHFbcVINEiBAgAABAgQIECBAgAABAgQIECBAgAABAgQIECBAoDwBidvyvNQmQIAAAQIECBAgQIAAAQIECBAgQIAAAQIECBAgQIBAxQUaK96iBgkQIECAAIH9ItDaWh+bNtftl7b3V6MHTmrfX01rlwABAgQIECBAgAABAgQIECBAgAABAjUlIHFbU8MpGAIECBCodYFf3twUyx5PR5TvfXdbOjqqlwQIECBAgAABAgQIECBAgAABAgQIEKgCAZdKroJB0AUCBAgQIECAAAECBAgQIECAAAECBAgQIECAAAECBAa3gMTt4B5/0RMgQIAAAQIECBAgQIAAAQIECBAgQIAAAQIECBAgUAUCErdVMAi6QIBA9QrUdVZv3/SMAAECBAgQIECAAAECBAgQIECAAAECBAgQqB0BidvaGUuRECBAgAABAgQIECBAgAABAgQIECBAgAABAgQIECCQUgGJ25QOnG4TINA/Ap11/bMfeyFAgAABAgQIECBAgAABAgQIECBAgAABAgQGt4DE7eAef9ETIECAAAECBAgQIECAAAECBAgQIECAAAECBAgQIFAFAhK3VTAIukCAAAECBAgQIECAAAECBAgQIECAAAECBAgQIECAwOAWkLgd3OMvegIECBAgQIAAAQIECBAgQIAAAQIECBAgQIAAAQIEqkBA4rYKBkEXCBAgQIAAAQIECBAgQIAAAQIECBAgQIAAAQIECBAY3AISt4N7/EVPgAABAgQIECBAgAABAgQIECBAgAABAgQIECBAgEAVCEjcVsEg6AIBAgQIECBAgAABAgQIECBAgAABAgQIECBAgAABAoNbQOJ2cI+/6AkQIEAgZQKddSnrsO4SIECAAAECBAgQIECAAAECBAgQIECAQEkCErclMalEgAABAgQIECBAgAABAgQIECBAgAABAgQIECBAgACB/Scgcbv/bLVMgAABAgQIECBAgAABAgQIECBAgAABAgQIECBAgACBkgQkbktiUokAAQIECBAgQIAAAQIECBAgQIAAAQIECBAgQIAAAQL7T0Didv/ZapkAAQIECBAgQIAAAQIECBAgQIAAAQIECBAgQIAAAQIlCUjclsSkEgECBAgQIECAAAECBAgQIECAAAECBAgQIECAAAECBPafgMTt/rPVMgECNSBQ11kDQQiBAAECBAgQIECAAAECBAgQIECAAAECBAgQqHoBiduqHyIdJECAAAECBAgQIECAAAECBAgQIECAAAECBAgQIECg1gUkbmt9hMVHgAABAgQIECBAgAABAgQIECBAgAABAgQIECBAgEDVC0jcVv0Q6SABAgQIECBAgAABAgQIECBAgAABAgQIECBAgAABArUuIHFb6yMsPgIECBAgQIAAAQIECBAgQIAAAQIECBAgQIAAAQIEql5A4rbqh0gHCRAgQIAAAQIECBAgQIAAAQIECBAgQIAAAQIECBCodQGJ21ofYfERIECAAAECBAgQIECAAAECBAgQIECAAAECBAgQIFD1AhK3VT9EOkiAAAECBAgQIECAAAECBAgQIECAAAECBAgQIECAQK0LSNzW+giLjwABAgQIECBAgAABAgQIECBAgAABAgQIECBAgACBqheQuK36IdJBAgQIECBAgAABAgQIECBAgAABAgQIECBAgAABAgRqXUDittZHWHwECBAgQIAAAQIECBAgQIAAAQIECBAgQIAAAQIECFS9gMRt1Q+RDhIgQIAAAQIECBAgQIAAAQIECBAgQIAAAQIECBAgUOsCEre1PsLiI0CAAAECBAgQIECAAAECBAgQIECAAAECBAgQIECg6gUkbqt+iHSQAAECBAgQIECAAAECBAgQIECAAAECBAgQIECAAIFaF5C4rfURFh8BAgQIECBAgAABAgQIECBAgAABAgQIECBAgAABAlUv0Fj1PdTB5yXQunNXNDU2RkNDaTn6jo6OaGtrj+bmpn3a747WnTFs6JB92tZGBAgQIDB4BVpb66O+tJeqqkFqbu6omr7oCAECBAgQIECAAAECBAgQIECAAAEC6ReQuE3/GBZE8McHl8U99y2NB5cuj98/9Fi0bNycXf++t7wmzn/fWQV1czO7drfFVT9YHPf86ZH47ZI/ZxfPnT09XnTkC+KcsxfF9KmTclV7/HvjzXfFr37zh/jjQ8uy+5s5bWIsmDcnXv/qE+O4BXN73MZCAgQIECCwp8CPr2uOtWv3XFqd8689oz1mz5K4rc7R0SsCBAgQIECAAAECBAgQIECAAAEC6RSQuE3nuO3V6/b2jvjad26Mb/3Hz/dalyxYv/GZHpdv2bo9zvvkN+J3mWRv92npsqciefzyjnvj2188P+bNmdF9dbbc0dkZl37rp3H1j39RsG7FynWRPG685a740gXvidNPPr5g/WCdSdOJZJ11g3WU9o47TRZpOsb2lh7MS8r7D1fXmR6rfUlr9vJylZ6g9ZQAAQIECBAgQIAAAQIECBAgQIAAAQL7KCBxu49w1bTZ5i3b4h8//c382bLJGa9nnnxCzDloagwbPjT+snxlDGnq+dLHF176vXzS9nWLXhKnvuLYGDlyeNx73yPxle9cnz2D9u0f/ELcdcNlMXRIc0HY1/7n7fmk7YJ5s+Ntr1sYB804MB5+dHlcfs1NsWrdhjj/81fFjOmTY/68Qwq2NUOAAAECBAgQIECAAAECBAgQIECAAAECBAgQIECAQJeAxG2XRWpLV//w5nzS9l2vXxQfzlwSuXuS9aV/fWSPsa3f8Ewsvv3e7LpTX35sXHzBOVFf9+yZX8ccPScmHTAmPv7F78bW7a1x6x1L4rRFxxW0c82N/52dTxLFV1z8wRgzemR2/ujDZ8X8I+fEGed8Kjt/3U13StwWyJkhQIAAAQIECBAgQIAAAQIECBAgQIAAAQIECBAgUCjgypqFHqmb25C5h+3lP3j28sivOP6v4oIPvKUgadtXQD+79e786vPe+dp80ja38KxTXxoTxo3Ozl570x25xdm/D2TuofvY8lXZ8rlvOiWftM1VSu6Re9YpJ2Znr73p9tiWSf6aCBAgQIAAAQIECBAgQIAAAQIECBAgQIAAAQIECBDoWUDitmeX1Cz93k9vzff1Mx96e75cSmHJ/X/JVhuZuZzyoQdP6XGThcfNzy5P7oGb3Ec3N93/8LJcMXt2bX6mW+G4BXPzc49k7pdrIkCAAAECBAgQIECAAAECBAgQIECAAAECBAgQIECgZwGXSu7ZJTVLb/2fJdm+vuioOTF54vhYvuLpeHJ1S6xr2RSjRgyPg2dOiTm9JGWfXr8hu+1Rc2ftdbZtDuDwQ6fnirFp85bMGbhjsvPrWjbnl885eGq+3L0wZ9aM/GxL5sxgEwECBAgQIECAAAECBAgQIECAAAECBAgQIECAAAECPQtI3PbskoqlnZ2d+csVP51J1r723E/H0h7ObD1+weFxwT+8NV5wyLSCuNa3PJOdHz18eMHy7jPDM2fj5qaWTdvyidv1G5/dNlnX0NDzidsjhzXlNo2WbvXzCxUIECBAgAABAgQIECBAgAABAgQIECBAgAABAgQIEMgKSNym+EB4ZvPWfO9XrdsQySOZcmfA5u5B+9slf453nX9JXH/5hTFl8oRsnSTpm6s/fNiQ7LKe/hkxrCtxu3FTctbss2fXrnsuEZu7B25P2w4b2tVuy6YtBVWmjutal1uxYk267oNbVxcxJRNHQ32mUGRavmZXkRrVtTp5Yjhw7JBobCge2xOr0xVbfeZ3BgeObc7E1vMPDrqf4ZwoAABAAElEQVSPRNpiq6vrjMljmqOpsfZiSw7FSZnYmkuKra37MFZ9ORvb6KZobmoo2tcVa9IVW33m+XFiJrYhJcT25NrdReOvpgoNmReBA0Y1xdDm4uNWTf3WFwIECBAgQIAAAQIECBAgQIAAAQIEqldA4rZ6x6Zoz1at3ZSv8+L5c+O8/3N6vDhzX9n6JKOYmTZv2RZfvur6+MF/3ZY543VzfOgzl8ePvvmJ7LokcZubGht7Pwzqnmsrqdttk9i1u3jyoC7JkD03dXYWTwDm6vpLgAABAgQIECBAgAABAgQIECBAgAABAgQIECBAYLAJ9J6xG2wSKYx3586uMx3Pfs3L4vgXHV4QxehRI+JT//S2ePyp1ZGcdbvk4WWxfUdrDM+cRVufSaqOzFwGeev21uyygg27zWxv3ZmfS9rLTROfu9dt9z7k1uX+7tjRdfbU2FHDcouzf1dt3BkdHV3J42Rhe8qSu0ki++lMHKVMHR1dSexS6g90nSQtv3pTabG1pSy2jo4ktq7/O31Zpy225AcSa54pLbbd7ek6Jtsz/9/W1nJsm5Pny67nzN6Oy11t6Rq35Hl+3ebkGaV4bDt3pyu29syLwPotpY1bb+NpOQECBAgQIECAAAECBAgQIECAAIFqFpg+oeuqrNXcz1rqW7q+Ja0l+QrEMv3A8flW1m7oOvs2vzBTSBK0i054YX7Ro4+vypenTzkgW96+s/cE3bZMojc3TRjblbg94LnEbZL47W3a1tq1bvzY0b1Vs5wAAQIECBAgQIAAAQIECBAgQIAAAQIECBAgQIDAoBeQuE3xITBhwth8759c1ZIv71kYO3pkflFy+eTcNGXCs4nf5StX5xbt9Xdlt3bHjRmVXz9+XFd53fqN+eXdC0+v6erT+HESt91tlAkQIECAAAECBAgQIECAAAECBAgQIECAAAECBAh0F5C47a6RsnJyL9u5s6dne/3AI//ba+9Xr+86G3fW9En5erMPnpYtP75iTfSWfL3zDw9k68ycNjGam5u6tj1oSr685MFl+XL3wr33PZqfPSizvYkAAQIECBAgQIAAAQIECBAgQIAAAQIECBAgQIAAgZ4FJG57dknN0led8KJsX+9f+ngs/u979ur3rt1t8aOf35ZdntzTdtrUrsTtaYuOy9e/4ea78uVc4aFHV8TSZU9lZ9/46pNyi7N/Tzj2iOw9cpOZ6xffGR3JDV+7TVu2bo/Ft/0uu+SEY46IKZMndFurSIAAAQIECBAgQIAAAQIECBAgQIAAAQIECBAgQIBAdwGJ2+4aKSyf+5a/iQnPXYb4k1/6t7j59t/nk6jJWbT/9JlvxYqV67KRffy8N0dylm5umjdnRhx52EHZ2Uuvui5+fsvdsS1zz9r29o54YOnyOPdjX85VjTNPOT5fTgrNTY3x5jMWZpfdds/98eUrrsuftfvkyjXxkc9eGavWbciuf/NphUnf7EL/ECBAgAABAgQIECBAgAABAgQIECBAgAABAgQIECCQF2jMlxRSKTB82ND43EfeFX/3ia/F1kzS9R8v+mY2jiSZ27Jxcz6m0xe+ON7wmpfm53OFiz70jnjX+Zdkt/3w567MLS74+4l/eEtMOmBcwbJk5tyzT467lzwUDz76RFz5o8XZR3JWb9KP3JTsd+GJ83Oz/hIgQIAAAQIECBAgQIAAAQIECBAgQIAAAQIECBAg0IOAM257QEnbooUnzI/rr/h0/uzZpP+5pG2SSP3SBe+JSy98b9R1O9s2F+PRh8+K6y+/sGDb3Lok+fuNi86Ld75hUW5Rwd/xmfXfv+xjcerLj80vzyVtk/2e97bT45LMfpsa/T4gD6RAgAABAgQIECBAgAABAgQIECBAgAABAgQIECBAoAcBGbUeUNK46MgXHBTXX/npTML2mfjfJ9bEjp0745AZk2PqlIkFl0fuKbaDZ07JbptcJvmRzD1tt+1ojbmHTIuJPZxlu+f2IzIJ2ssuen9c0vaeeHz56li5tiVmz5wc06dNLrrfPdsyT4AAAQIECBAgQIAAAQIECBAgQIAAAQIECBAgQGCwCkjc1tjITxg3JnPP2zH7FFWShF1w1KH7tG1yVu1hh07PPvapARsRIECAAAECBAgQIECAAAECBAgQIECAAAECBAgQGMQCLpU8iAdf6AQIECBAgAABAgQIECBAgAABAgQIECBAgAABAgQIVIeAxG11jINeECBAgAABAgQIECBAgAABAgQIECBAgAABAgQIECAwiAUkbgfx4AudAAECBAgQIECAAAECBAgQIECAAAECBAgQIECAAIHqEJC4rY5x0AsCBAgQIECAAAECBAgQIECAAAECBAgQIECAAAECBAaxgMTtIB58oRMgQIAAAQIECBAgQIAAAQIECBAgQIAAAQIECBAgUB0CErfVMQ56QYAAAQIECBAgQIAAAQIECBAgQIAAAQIECBAgQIDAIBaQuB3Egy90AgQIECBAgAABAgQIECBAgAABAgQIECBAgAABAgSqQ0DitjrGQS8IECBAgAABAgQIECBAgAABAgQIECBAgAABAgQIEBjEAhK3g3jwhU6AAAECBAgQIECAAAECBAgQIECAAAECBAgQIECAQHUISNxWxzjoBQECBAgQIECAAAECBAgQIECAAAECBAgQIECAAAECg1hA4nYQD77QCRAgQIAAAQIECBAgQIAAAQIECBAgQIAAAQIECBCoDgGJ2+oYB70gQIAAAQIECBAgQIAAAQIECBAgQIAAAQIECBAgQGAQC0jcDuLBFzoBAgQIECBAgAABAgQIECBAgAABAgQIECBAgAABAtUh0Fgd3dALAgQIECBAgEBtCuzcWR/rN6Trt3LTprSVNBgdHSVVq6pK9ekaiqqy0xkCBAgQIECAAAECBAgQIECAAIH9KyBxu399tU6AAAECBAgQiN/c2RgP/TkdEG97c3vElNL6uqutPu78n+bSKldBrQMnd8SR83ZVQU90gQABAgQIECBAgAABAgQIECBAgMDeAhK3e5tYQoAAAQIECBAgUKLApk0Rf3qgxMoDXO3sNwxwB+yeAAECBAgQIECAAAECBAgQIECAQB8CLhbXB45VBAgQIECAAAECBAgQIECAAAECBAgQIECAAAECBAgQ6A8Bidv+ULYPAgQIECBAgAABAgQIECBAgAABAgQIECBAgAABAgQI9CEgcdsHjlUECBAgQIAAAQIECBAgQIAAAQIECBAgQIAAAQIECBDoDwGJ2/5Qtg8CBAgQIECAAAECBAgQIECAAAECBAgQIECAAAECBAj0ISBx2weOVQQIECBAgAABAgQIECBAgAABAgQIECBAgAABAgQIEOgPAYnb/lC2DwIECBAgQIAAAQIECBAgQIAAAQIECBAgQIAAAQIECPQhIHHbB45VBAgQIECAAAECBAgQIECAAAECBAgQIECAAAECBAgQ6A8Bidv+ULYPAgQIECBAgAABAgQIECBAgAABAgQIECBAgAABAgQI9CEgcdsHjlUECBAgQIAAAQIECBAgQIAAAQIECBAgQIAAAQIECBDoDwGJ2/5Qtg8CBAgQIECAAAECBAgQIECAAAECBAgQIECAAAECBAj0ISBx2weOVQQIECBAgAABAgQIECBAgAABAgQIECBAgAABAgQIEOgPAYnb/lC2DwIECBAgQIAAAQIECBAgQIAAAQIECBAgQIAAAQIECPQhIHHbB45VBAgQIECAAAECBAgQIECAAAECBAgQIECAAAECBAgQ6A8Bidv+ULYPAgQIECBAgAABAgQIECBAgAABAgQIECBAgAABAgQI9CEgcdsHjlUECBAgQIAAAQIECBAgQIAAAQIECBAgQIAAAQIECBDoDwGJ2/5Qtg8CBAgQIECAAAECBAgQIECAAAECBAgQIECAAAECBAj0ISBx2weOVQQIECBAgAABAgQIECBAgAABAgQIECBAgAABAgQIEOgPAYnb/lC2DwIECBAgQIAAAQIECBAgQIAAAQIECBAgQIAAAQIECPQhIHHbB45VBAgQIECAAAECBAgQIECAAAECBAgQIECAAAECBAgQ6A8Bidv+ULYPAgQIECBAgAABAgQIECBAgAABAgQIECBAgAABAgQI9CEgcdsHjlUECBAgQIAAAQIECBAgQIAAAQIECBAgQIAAAQIECBDoDwGJ2/5Qtg8CBAgQIECAAAECBAgQIECAAAECBAgQIECAAAECBAj0ISBx2weOVQQIECBAgAABAgQIECBAgAABAgQIECBAgAABAgQIEOgPAYnb/lC2DwIECBAgQIAAAQIECBAgQIAAAQIECBAgQIAAAQIECPQhIHHbB45VBAgQIECAAAECBAgQIECAAAECBAgQIECAAAECBAgQ6A8Bidv+ULYPAgQIECBAgAABAgQIECBAgAABAgQIECBAgAABAgQI9CEgcdsHjlUECBAgQIAAAQIECBAgQIAAAQIECBAgQIAAAQIECBDoDwGJ2/5Qtg8CBAgQIECAAAECBAgQIECAAAECBAgQIECAAAECBAj0ISBx2weOVQQIECBAgAABAgQIECBAgAABAgQIECBAgAABAgQIEOgPAYnb/lC2DwIECBAgQIAAAQIECBAgQIAAAQIECBAgQIAAAQIECPQhIHHbB45VBAgQIECAAAECBAgQIECAAAECBAgQIECAAAECBAgQ6A+Bxv7YiX0QIECAAAECBAgQSJPAzt11kbZfODY1daaJWF8JECBAgAABAgQIECBAgAABAgT2EJC43QPELAECBAgQIECAAIFE4KZfDolH/5IOi0ULO+OFf7UzHZ3VSwIECBAgQIAAAQIECBAgQIAAgR4FJG57ZLGQAAECBAgQIECAQMSWLRQIECBAgAABAgQIECBAgAABAgQI9I9A2q4A1z8q9kKAAAECBAgQIECAAAECBAgQIECAAAECBAgQIECAAIF+FJC47UdsuyJAgAABAgQIECBAgAABAgQIECBAgAABAgQIECBAgEBPAhK3PalYRoAAAQIECBAgQIAAAQIECBAgQIAAAQIECBAgQIAAgX4UkLjtR2y7IkCAAAECBAgQIECAAAECBAgQIECAAAECBAgQIECAQE8CErc9qQziZR0dHbFr1+59FtjRunOft7UhAQIECBAgQIAAAQIECBAgQIAAAQIECBAgQIAAgcEq0DhYA6/1uJME7MXf/Ek8tXJNjBs7Oj73sXf1GvKu3W1x1Q8Wxz1/eiR+u+TP2XpzZ0+PFx35gjjn7EUxfeqkXrdNVtx4813xq9/8If740LJo2bg5Zk6bGAvmzYnXv/rEOG7B3D63tZIAAQIECBAgQIAAAQIECBAgQIAAAQIECBAgQIAAgQiJ2xo9Ci69/Lr4t5/enI1uwrjRvUa5Zev2OO+T34jf3be0oM7SZU9F8vjlHffGt794fsybM6NgfTLT0dkZl37rp3H1j39RsG7FynWRPG685a740gXvidNPPr5gvRkCBAgQIECAAAECBAgQIECAAAECBAgQIECAAAECBAoFJG4LPWpi7kf/edteydTeArvw0u/lk7avW/SSOPUVx8bIkcPj3vseia985/rsGbRv/+AX4q4bLouhQ5oLmrn2P2/P72fBvNnxttctjINmHBgPP7o8Lr/mpli1bkOc//mrYsb0yTF/3iEF25ohQIAAAQIECBAgQIAAAQIECBAgQIAAAQIECBAgQKBLQOK2y6ImSr+558H41Fe+X1Is6zc8E4tvvzdb99SXHxsXX3BO1NfVZeePOXpOTDpgTHz8i9+Nrdtb49Y7lsRpi44raPeaG/87O59cGvmKiz8YY0aPzM4fffismH/knDjjnE9l56+76U6J2wI5MwQIECBAgAABAgQIECBAgAABAgQIECBAgAABAgQKBeoLZ82lWSC5tPE5H/1yNoSzTjkx3nrGK/oM52e33p1ff947X5tP2uYWnnXqSyN3meVrb7ojtzj794Gly+Ox5auy5XPfdEo+aZurlNwjN+lDMl170+2xLZP8NREgQIAAAQIECBAgQIAAAQIECBAgQIAAAQIECBAg0LOAxG3PLqlbum79xnj3Ry7N9vv4BYfHZz/yjqiPZ8+e7S2YJff/Jbtq5PChcejBU3qstvC4+dnlyT1w29s78nXuf3hZvpycXdvTdNyCufnFj2SSyiYCBAgQIECAAAECBAgQIECAAAECBAgQIECAAAECBHoWkLjt2SVVS7fvaI33XfC17P1oZ82cHF//zHnR1Fj8KthPr9+QjfOoubP2Ots2B3D4odNzxdi0eUu+vK5lc7485+Cp+XL3wpxZM/KzLRu76ucXKhAgQIAAAQIECBAgQIAAAQIECBAgQIAAAQIECBAgkBWQuE35gZCcBfuRz10VDz76RCRnzn774g/F6FEjSopqfcsz2Xqjhw/vtf7wTJu5qWXTtlwx1m98dttkQUNDz4fRyGFN+fot3ernFyoQIECAAAECBAgQIECAAAECBAgQIECAAAECBAgQIJAV6DnjBic1Al+8/Cdx651/zPb3O5d+JKZPnVRS3zs7O2PVumfPuB0+bEiv24wY1pW43bip66zZdc8lYnP3wO2pgWFDu9pt2dR1tm5PdS0jQIAAAQIECBAgQIAAAQIECBAgQIAAAQIECBAgMJgFil9PdzDrVHnsP7jh1/Hdn9yc7eXXLzov5s87pOQeJ4nb3NTYx2WV6+q67pPbbZPYtbstt3mvf+vqu34X0NnZ1U6ywdRxXUndXAMr1rTmiqn4m9BMycTRUF8YW0+dX75mV0+Lq3ZZ8sRw4Ngh0dhQPLYnVqcrtuSwPHBscya2ruOzt4FIW2x1dZ0xeUxz5lLptRdbcihOysTWXFJsxZ+fehvzgViejW10UzQ3NRTd/Yo16YqtPvP8ODET25ASYnty7e6i8VdThYbMi8ABo5piaHPxcXtqXbrGLYltwsimGDakeGyr1qdr3JL3NRNGNmZiK/4WePWGdI1b8r5k/IjGGD60eGzV9H9JXwgQIECAAAECBAgQIECAAAECBLoEfLPTZZG60kVfvSbb579762lx4rFHxLZtOwpi2LGrK6GWWzdkSCZh1dgQ9ZnsVXJp5a3bWyO5R25v0/bWnflV3S/BPHHcmOzynTu79pGv+Fxhx46uL3PHjhq252rzBAgQIECAAAECBAgQIECAAAECBAgQIECAAAECBAg8JyBxWwOHwuU/+Hkkj96mlo2b44Wv+fvs6o++701x7ltOyZanTzkgli57Krbv7ErO7tnGtm5J3Qlju+6de8Bzidsk8dvbtK21a934saMLqq3auDM6OrrO+k1Wtu9xVm7BBlU4k5yB/HQmjlKmjo7iZ0CW0k5/1UnOMVq9qbTY2lIWW0dHElvvPzjobpy22JIz29c8U1psu9vTdUy2Z/6/ra3l2DYnP3Tp+rFL9+Owe3lXW7rGLXmeX7c5eUYpHtvO3emKrT3zIrB+S2njlsbYWrZmYkseRabWlI1bcsWRlq2ZYzJ5FJl27k6uOpGet8rJ+5IN29qyjyKhWU2AAAECBAgQIECAAAECBAgQKElg+oSu22mWtIFKz1sgXd+SPu9wNdBdYMqE8dnZ5StXd19cUF65qiU/P27MqHx5/Liu8rr1G/PLuxeeXtO17fhxhYnb7vWUCRAgQIAAAQIECBAgQIAAAQIECBAgQIAAAQIECAx2gfScRjDYR6qH+H//s69nzlrNnD7Yy/SFb1wbN9xyV/aSyL/+4f/N1ho+rOvXEbMPnha33XN/PL5iTSTJ14kHjNurpTv/8EB22cxpE6O5uSm/fvZBU/LlJQ8ui795+TH5+Vzh3vsezRXjoMz2JgIECBAgQIAAgYEX2J05m7i9vfh97Ae+p109GDq09/e8XbWUCBAgQIAAAQIECBAgQIAAAQLpFpC4TfH4db/nbE9hjHguSZvc13Zst7Nlc3VPW3RcXP3jX2Rnb7j5rnjv216TW5X9+9CjK7KXUk5m3vjqkwrWnZC5p27uHrnXL74zFp30oqiv6/oCcMvW7bH4tt9ltznhmCNiyuQJBdubIUCAAAECBAgQGDiBW37dHGvXDtz+y9nzUUd2xl8fU9otHMppV10CBAgQIECAAAECBAgQIECAQLUJSNxW24j0Y3/mzZkRRx52UDz46BNx6VXXxdRJE+IVJ8yPoZlE78OPrYj3fvyyfG/OPOX4fDkpNDc1xpvPWBhX/2hx9qzdL19xXbzzDa/MnrX75Mo18S9f/WGsWrchu82bTytM+hY0ZIYAAQIECBAgQGBABJavGJDdlr3To44sexMbECBAgAABAgQIECBAgAABAgRSKSBxm8phq1ynL/rQO+Jd518SW7e3xoc/d2WPDX/iH94Sk3q4jPK5Z58cdy95KJv4vTKTwE0eubNwcw2dvvDFsfDE+blZfwkQIECAAAECBAjsN4H29ojWXfX7rf390fCIYS4DvT9ctUmAAAECBAgQIECAAAECBNIoIHGbxlErsc91DcW/tDr68Flx/eUXxof/5cpsArZ70xPGjY7PfPDtcXIP969N6o3PrP/+ZR+LT3zxu7H49nuzmyYJ4GRKErjvOHNRfODc1xVcQjm70j8ECBAgQIAAAQIE9pPAHb9pjrvu3k+NV7jZv1kUceLxz75/LtZ0Z2exGtW3vtudVKqvc3pEgAABAgQIECBAgAABAgSqUEDitgoHpVJduvCDb43kUWw6eOaUuP7KT8e2TNL1kWVPxbYdrTH3kGnZyx4X23ZEJkF72UXvj0va3hOPL18dK9e2xOyZk2P6tMkStsXwrCdAgAABAgQIECBQhsCttw2Nu+4qY4MBrPrSl0YsPKm0pPQAdtOuCRAgQIAAAQIECBAgQIBAVQlI3FbVcAxsZ5Ik7IKjDt2nTjQ1NsZhh07PPvapARsRIECAAAECBAgQIFBUoM2VlYsaqUCAAAECBAgQIECAAAECBNIqUPxaummNTL8JECBAgAABAgQIECBAgAABAgQIECBAgAABAgQIECCQEgGJ25QMlG4SIECAAAECBAgQIECAAAECBAgQIECAAAECBAgQIFC7AhK3tTu2IiNAgAABAgQIECBAgAABAgQIECBAgAABAgQIECBAICUCErcpGSjdJECAAAECBAgQIECAAAECBAgQIECAAAECBAgQIECgdgUkbmt3bEVGgAABAgQIECBAgAABAgQIECBAgAABAgQIECBAgEBKBCRuUzJQukmAAAECBAgQIECAAAECBAgQIECAAAECBAgQIECAQO0KSNzW7tiKjAABAgQIECBAgAABAgQIECBAgAABAgQIECBAgACBlAhI3KZkoHSTAAECBAgQIECAAAECBAgQIECAAAECBAgQIECAAIHaFWis3dBERoAAAQIECBAgQIAAAQJpENi5M12/KW5q6oj6dHU5DYeBPhIgQIAAAQIECBAgQGDQC0jcDvpDAAABAgQIECBAgAABAgQGVuCuu5tj3fqB7UOpex83LuKVL28ttbp6BAgQIECAAAECBAgQIECgZAGJ25KpVCRAgAABAgQIECBAgACB/SXwwEP7q+XKtvuyEyvbntYIECBAgAABAgQIECBAgEBOwMWdchL+EiBAgAABAgQIECBAgAABAgQIECBAgAABAgQIECBAYIAEJG4HCN5uCRAgQIAAAQIECBAgQIAAAQIECBAgQIAAAQIECBAgkBOQuM1J+EuAAAECBAgQIECAAAECBAgQIECAAAECBAgQIECAAIEBEpC4HSB4uyVAgAABAgQIECBAgAABAgQIECBAgAABAgQIECBAgEBOQOI2J+EvAQIECBAgQIAAAQIECBAgQIAAAQIECBAgQIAAAQIEBkhA4naA4O2WAAECBAgQIECAAAECBAgQIECAAAECBAgQIECAAAECOYHGXMFfAgQIECBAgAABAgQIECBAoLICf36kqbIN7ufWDj10dzQ17OedaJ4AAQIECBAgQIAAAQIEehSQuO2RxUICBAgQIECAAAECBAgQIPD8BTZsaIhf3vL82+mPFl5yXESSuDURIECAAAECBAgQIECAwMAIuFTywLjbKwECBAgQIECAAAECBAgQIECAAAECBAgQIECAAAECBPICErd5CgUCBAgQIECAAAECBAgQIECAAAECBAgQIECAAAECBAgMjIDE7cC42ysBAgQIECBAgAABAgQIECBAgAABAgQIECBAgAABAgTyAhK3eQoFAgQIECBAgAABAgQIECBAgAABAgQIECBAgAABAgQIDIxA48Ds1l4JECBAgAABAgQIECBAgACBNAssX5GurxSmTWmPpqbONJPrOwECBAgQIECAAAECNS6Qrk9ZNT4YwiNAgAABAgQIECBAgAABAmkRWLu2IX62uC4V3f3rYyKSxK2JAAECBAgQIECAAAEC1SzgUsnVPDr6RoAAAQIECBAgQIAAAQIECBAgQIAAAQIECBAgQIDAoBBwxu2gGGZBEiBAgAABAgQIECBAgAABAqUKtLWVWrM66nV01Edzc0d1dEYvCBAgQIAAAQIECBDYZwGJ232msyEBAgQIECBAgAABAgQIECBQiwIPPjwkfvGrdFwGeu5hEa85ZVfJw/DMlnRdfG1oc8SQIZLSJQ+wigQIECBAgAABAqkWkLhN9fDpPAECBAgQIECAAAECBAgQILA/BLZv3x+tDnybK59sjB/+NB3J2786KuL0U0tPSg+8rh4QIECAAAECBAgQeH4C6Xin/vxitDUBAgQIECBAgAABAgQIECBAgAABAgQIECBAgAABAgSqWsAZt1U9PDpHgAABAgQIECBAgAABAgQIECBQisCWbek6P6E5862cy0CXMrLqECBAgAABAgQGj4DE7eAZa5ESIECAAAECBAgQIECAAAECBGpWYNWqhrjmhw2piO+IwyPOPMNloFMxWDpJgAABAgQIEOhHAYnbfsS2KwIECBAgQIAAAQIECBAgQIAAAQLlCqxem66v8MaO7oihQzvKDVN9AgQIECBAgMCgF0jXu75BP1wACBAgQIAAAQIECBAgQIAAAQIEBpvAjm118Z3vp+Ns4hfMiXjDmc4mHmzHqHgJECBAgACBygik6+YflYlZKwQIECBAgAABAgQIECBAgAABAgQIECBAgAABAgQIEKgqAYnbqhoOnSFAgAABAgQIECBAgAABAgQIECBAgAABAgQIECBAYDAKSNwOxlEXMwECBAgQIECAAAECBAgQIECAAAECBAgQIECAAAECVSUgcVtVw6EzBAgQIECAAAECBAgQIECAAAECBAgQIECAAAECBAgMRgGJ28E46mImQIAAAQIECBAgQIAAAQIECBAgQIAAAQIECBAgQKCqBBqrqjc6Q4AAAQIECBAgQIAAAQIECBAgQIDAoBHYtStd55V0dEQMHZr5x0SAAAECBAgQ2A8CErf7AVWTBAgQIECAAAECBAgQIECAAAECBAgUF3h6TX1c/d10fEU5e1bEm9+4q3hQahAgQIAAAQIE9lEgXT9p28cgbUaAAAECBAgQIECAAAECBAgQIECAAAECBAgQIECAAIFqFpC4rebR0TcCBAgQIECAAAECBAgQIECAAAECBAgQIECAAAECBAaFQDquQzIohkKQBAgQIECAAAECBAgQIECAAAECBAjUikByP9y0TfVO80nbkOkvAQIECNSYgMRtjQ2ocAgQIECAAAECBAgQIECAAAECBAgQGHiBNWsa4v6Hmga+IyX24KQTd8XQoSnMNpcYn2oECBAgQCANAhK3aRglfSRAgAABAgQIECBAgAABAgQIECBAIHUCd96Vji7PnJmOfuolAQIECBCodQEXv6j1ERYfAQIECBAgQIAAAQIECBAgQIAAAQIECBAgQIAAAQJVLyBxW/VDpIMECBAgQIAAAQIECBAgQIAAAQIECBAgQIAAAQIECNS6gMRtrY+w+AgQIECAAAECBAgQIECAAAECBAgQIECAAAECBAgQqHoB97it+iHSQQIECBAgQIAAAQIECBAgQIAAAQIECFSPwLp1jbGrrXr6U6wnE8Z1xNChHcWqZde3bGyI1ta6kupWQ6UDxnfEkCGlxVYN/dUHAgQIEOhbQOK2bx9rCRAgQIAAAQIECBAgQIAAAQIECBAgQGAPgcuvSsdXy9OnRrzz7bv26H3fs2mJ7cBJEee+u7zY+o7cWgIECBAYaAGXSh7oEbB/AgQIECBAgAABAgQIECBAgAABAgQIECBAgAABAgQGvYDE7aA/BAAQIECAAAECBAgQIECAAAECBAgQIECAAAECBAgQIDDQAum4nsVAK9k/AQIECBAgQIAAAQIECBAgQIAAAQIECBBIsUBra/rO4yr13sQpHhZdJ0CAQIGAxG0BhxkCBAgQIECAAAECBAgQIECAAAECBAgQIFB7Arsyt8O98WfNqQns7DeUfv/ejo7UhJXtaFtbfTQ3l9bp3bvr0hVcprdNTZ2p67MOE6gWAYnbahmJCvWjo7Mztm3bESNHDIu6uvKf0Dsyr3Btbe2ZF42mferRjtadMWzokH3a1kYECBAgQIAAAQIECBAgQIAAAQIECBAgsP8EHlu2/9quZMsHjC+vtW076uMrX0tHUnr48IgPvL/0pPTu9rq45dZ0xJaM2qtPaS158HbuTN9Z4EOGlJZwLxlBRQJ7CEjc7gGSttmt27bHrXf8Mf7f7x6Ih//3iXh8xZp8CHNnT4/XvOLF8X/OemUMHzY0v3zPwq7dbXHVDxbHPX96JH675M/Z1cm2LzryBXHO2Yti+tRJe25SMH/jzXfFr37zh/jjQ8uiZePmmDltYiyYNyde/+oT47gFcwvqmiFAgAABAgQIECBAgAABAgQIECBAgAABApUW2L270i1WT3u/X1I9femrJyNGJInbvmoUrkvOPbvi6vQkpc97X+lJ6cJIzREoXUDitnSrqqx5xTW/iCt+eFOPfVu67KlIHv923S1x45WfiskT9/6Z0pat2+O8T34jfnff0oI2ctv+8o5749tfPD/mzZlRsD6ZSc7uvfRbP42rf/yLgnUrVq6L5HHjLXfFly54T5x+8vEF680QIECAAAECBAgQIECAAAECBAgQIECAAAECBNauT4fBMBcaTcdA1UAvJW5rYBCTECaMGx1vOvVlMefgqTF69Ii4+w9LY/Ftv4tV6zZkz4L9p89eET/8+sf3ivbCS7+XT9q+btFL4tRXHBsjRw6Pe+97JL7yneuz2779g1+Iu264LIYOKfzly7X/eXs+abtg3ux42+sWxkEzDoyHH10el19zU3bf53/+qpgxfXLMn3fIXvu2gAABAgQIECBAgAABAgQIECBAgAABAgQIECBAgACBZwUkblN+JBw6a0p84aPvjtNfdVzBfWlf9uKj4sPvfX28/QMXx5KHl8UfHngsVq9tiQMnTchHvH7DM7H49nuz86e+/Ni4+IJzov65++Iec/ScmHTAmPj4F78bW7e3Zi7HvCROW3RcftukcM2N/52dTy6NfMXFH4wxo0dm548+fFbMP3JOnHHOp7Lz1910p8RtVsI/BAgQIECAAAECBAgQIECAAAECBAgQIECAQK0LtLWlK8L6zO2Gk4dp4AUkbgd+DJ5XD1578kt63b6xsSHe8JqXZRO3SaVHH19VkLj92a1357c9752vzSdtcwvPOvWlcelV12XPur32pjsKErcPLF0ejy1fla167ptOySdtc9sm98g965QT47pf3hnX3nR7/PPfvylGDO/9Pru57fwlQIAAAQIECBAgQIAAAQIECBAgQIAAAQIECKRd4DOfT0dOpKkh4pMfd//eajne5M+rZST2Uz8au/1EoqmxME+/5P6/ZPc6MpNQPfTgKT32YOFx87PLk3vgtrd35OvcnzmLNzclZ9f2NB23YG5+8SOZe+2aCBAgQIAAAQIECBAgQIAAAQIECBAgQIAAAQIECBDoWUDitmeXmln6hwe7EqzTD5xYENfT6zdk54+aO2uvs21zFQ8/dHquGJs2b8mX17VszpeT++r2NM2ZNSO/uGVjV/38QgUCBAgQIECAAAECBAgQIECAAAECBAgQIECAAAECBLICErc1fCA8vWZ99jLFSYhHZ5KzM6YdUBDt+pZnsvOjhw8vWN59Zni3yxu3bNqWX7V+47PbJgsaGno+jEYOa8rXb+lWP79QgQABAgQIECBAgAABAgQIECBAgAABAgQIECBAgACBrEDhtXOh1IzArl274x8//a18PB949+vy5aTQ2dkZq9Y9e8bt8GFDCtZ1nxkxrOsa7Bs3JWfNPnt27brnErETxo3uXr2gPGxoV7stm7rO1k0qTR3XtS630Yo16bqGel1dxJRMHA31mUKRafmaXUVqVNfq5InhwLFDorGheGxPrE5XbMnVww8c25yJrecfHHQfibTFVlfXGZPHNEdTY+3FlhyKkzKxNZcUW1v3Yaz6cja20U3RnNxMosi0Yk26YqvPPD9OzMQ2pITYnly7u0j01bW6IfMicMCophjaXHzcnlqXrnFLYpswsimGDSke26r16Rq3umxsjZnYir8FXr0hXeOWvC8ZP6Ixhg8tHtvaTemLbUwmtlElxNayOWWxZZ7aRg9viNHdfvDY27Pdxm3tva2q2uWlxrZ5R+a5pPjbzqqKc1RmzMaNLP48mcrYMv/XDhhd/LlkS2tbJM89aZpGDG2ISWOLx7Y9E1vajsnhQ+riwPFdn997G5cdO5NxS9fADWuui6kTSomtPXWxDWmqj+kTmnsbrvzy1l3t8XgJ3z3kN6iCwpCmukxsxcdt5+72eLL4R9gqiKirC8nn0lLGbVcmtqfXdHZtmIJSY6mxtXXE+vVdt1RLQWiRfCwt5ZjcnYltw6Z0ve9KviopJba2zG3wtmxJ1/vlUmNrb++M7dvT9fk0+Y6ylHFr7+iMx59OV2zJ9wrTJ+z9/f+ezxUdmRzFEyn73jx5G1XKuGVCixXr0pfvKCW2PcfRfOUFUvbWqPIAtdhici/aj33+23H/0sez4b3r9YviZS8+qiDUJHGbmxr3uPdtbnnyt/sHum6bxK7dxV/k67rdX7ezM10fDLsbKBMgQIAAAQIECBAgQIAAAQIECBAgQIAAAQIECBDY3wLFf2q6v3ug/YoKdHR0xAUXfyduuv2ebLt/c+KL4mN/f/Ze+6jPJFVHZi6DvHV7a2zf0fsvP7a37sxvO3rUiHx54rgx2fLOnb2fbbkj+eX8c9PYUcNyxezfVRt3Rkfm10Ldp/aUJXeTRPbTmThKmTo60vUbiSQtv3pTabG1pSy2zH+RTGy9H7fdxzNtsSU/kFjzTGmx7W5P1zGZ+eFkrK3l2DYnz5ddz5ndj8Pu5V1t6Rq35Hl+Xfbst+Kx7dydrtjaMy8C67eUNm5pjK1laya25FFkak3ZuCU/XGvZmnmVSx5Fpp27kx+dpeetcvK+ZMO2tuyjSGixO4WxPZOJLXkUm9qzJ0ekaNwyAW3e3p59FIstGePMTUqKVauq9aXGlu10Z9dtVqoqiF46syXzWWfbzuLPk6mMLXO2aWsJP9RNYuvsTNcxua21PZ5qKf5c8uy4pSu27Ts7M7H1/tk+G9Nz/3R2Ju+70vPj6h27yoktXc8lO3d3lDxu0ZG22Eoft46O9Lx2J/+NdmXOyCz1/1t0pOu5pK2M2Do70zVumROgSx63tL2+ZYatjNjS9dm7nNjas69vz73YpeBP8h1lqc8lHZGucUu+Myk1tmffl6RgwJ7rYvK5rPTY0hNX0tPeYnMWbv+PY7r+x/e/T6r2uLutLf75C9+JG265K9vvV534wvjSp9/X6z1op0959p6323f2nqDb1i2pO2FsV+L2gOcSt0nit7dpW2vXuvFje7+kcm/bW06AAAECBAgQIECAAAECBAgQIECAAAECBAgQIEBgsAhI3NbISCdnzb7/41+LG59L2p51yonx9c/8feaeib3/+m3KhPHZ6JevXN2rwspVLfl148aMypfHj+sqr1u/Mb+8e+HpNV3bju/jXrjdt1EmQIAAAQIECBAgQIAAAQIECBAgQIAAAQIECBAgMBgFJG5rYNTXt2yKd3zokrjj3gez0Zz7plfH5z727l7PtM2FPPvgadni4yvWRG/J1zv/8EC2zsxpE6O5ueuyPLMPmpJrJpY8uCxf7l64975H87MHZbY3ESBAgAABAgQIECBAgAABAgQIECBAgAABAgQIECDQs4DEbc8uqVn6yP+ujDf83b/E/Usfz/b5og++PT563hujvq74/WpOW3RcPs4bbn728sr5BZnCQ4+uiKXLnsoueuOrT+q+Kk449ojsPXKThdcvvjM6nr3pVr7Olq3bY/Ftv8vOn3DMETFl8oT8OgUCBAgQIECAAAECBAgQIECAAAECBAgQIECAAAECBAoFer+ObmE9c1UqcPrfXpjv2TvPXBSzD54av/vj0vyyPQvHHH1Y/kzceXNmxJGHHRQPPvpEXHrVdTF10oR4xQnzY+iQ5nj4sRXx3o9flt/8zFOOz5eTQnIJ5jefsTCu/tHiuO2e++PLV1wX73zDK2PiAePiyZVr4l+++sNYtW5Ddps3n1aY9C1oyAwBAgQIECBAgAABAgQIECBAgAABAgQIECBAgAABAiFxW0MHwfduuCWSR1/Tb2/4SkwYNyZf5aIPvSPedf4lsXV7a3z4c1fml3cvfOIf3hKTMgnZPadzzz457l7yUDbxe2UmgZs8Rg4fmm0rV/f0hS+OhSfOz836S4AAAQIECBAgQIAAAQIECBAgQIAAAQIECBAgQIBADwIuldwDSi0vaqgvHPKjD58V119+YfbM2z3jnjBudHzjovMyZ9Iu2nNVdn58Zv33L/tYnPryY/PrkwRwMiUJ3PPednpccuF7o6nR7wPyQAoECBAgQIAAAQIECBAgQIAAAQIECBAgQIAAAQIEehCQUesBJU2LHr39O8+7uwfPnBLXX/np2JZJuj6Suaftth2tMfeQadnLHhdrfEQmQXvZRe+PS9reE48vXx0r17bE7JmTY/q0ySXdZ7dY+9YTIECAAAECBAgQIECAAAECBAgQIECAAAECBAgQGAwCEreDYZRLjDFJwi446tASaxdWS86qPezQ6dlH4RpzBAgQIECAAAECBAgQIECAAAECBAgQIECAAAECBAgUEyi8bm6x2tYTIECAAAECBAgQIECAAAECBAgQIECAAAECBAgQIECAQMUFJG4rTqpBAgQIECBAgAABAgQIECBAgAABAgQIECBAgAABAgQIlCcgcVuel9oECBAgQIAAAQIECBAgQIAAAQIECBAgQIAAAQIECBCouIDEbcVJNUiAAAECBAgQIECAAAECBAgQIECAAAECBAgQIECAAIHyBCRuy/NSmwABAgQIECBAgAABAgQIECBAgAABAgQIECBAgAABAhUXkLitOKkGCRAgQIAAAQIECBAgQIAAAQIECBAgQIAAAQIECBAgUJ6AxG15XmoTIECAAAECBAgQIECAAAECBAgQIECAAAECBAgQIECg4gIStxUn1SABAgQIECBAgAABAgQIECBAgAABAgQIECBAgAABAgTKE5C4Lc9LbQIECBAgQIAAAQIECBAgQIAAAQIECBAgQIAAAQIECFRcQOK24qQaJECAAAECBAgQIECAAAECBAgQIECAAAECBAgQIECAQHkCErflealNgAABAgQIECBAgAABAgQIECBAgAABAgQIECBAgACBigtI3FacVIMECBAgQIAAAQIECBAgQIAAAQIECBAgQIAAAQIECBAoT0DitjwvtQkQIECAAAECBAgQIECAAAECBAgQIECAAAECBAgQIFBxAYnbipNqkAABAgQIECBAgAABAgQIECBAgAABAgQIECBAgAABAuUJSNyW56U2AQIECBAgQIAAAQIECBAgQIAAAQIECBAgQIAAAQIEKi4gcVtxUg0SIECAAAECBAgQIECAAAECBAgQIECAAAECBAgQIECgPAGJ2/K81CZAgAABAgQIECBAgAABAgQIECBAgAABAgQIECBAgEDFBSRuK06qQQIECBAgQIAAAQIECBAgQIAAAQIECBAgQIAAAQIECJQnIHFbnpfaBAgQIECAAAECBAgQIECAAAECBAgQIECAAAECBAgQqLiAxG3FSTVIgAABAgQIECBAgAABAgQIECBAgAABAgQIECBAgACB8gQkbsvzUpsAAQIECBAgQIAAAQIECBAgQIAAAQIECBAgQIAAAQIVF5C4rTipBgkQIECAAAECBAgQIECAAAECBAgQIECAAAECBAgQIFCegMRteV5qEyBAgAABAgQIECBAgAABAgQIECBAgAABAgQIECBAoOICErcVJ9UgAQIECBAgQIAAAQIECBAgQIAAAQIECBAgQIAAAQIEyhOQuC3PS20CBAgQIECAAAECBAgQIECAAAECBAgQIECAAAECBAhUXEDituKkGiRAgAABAgQIECBAgAABAgQIECBAgAABAgQIECBAgEB5AhK35XmpTYAAAQIECBAgQIAAAQIECBAgQIAAAQIECBAgQIAAgYoLSNxWnFSDBAgQIECAAAECBAgQIECAAAECBAgQIECAAAECBAgQKE9A4rY8L7UJECBAgAABAgQIECBAgAABAgQIECBAgAABAgQIECBQcQGJ24qTapAAAQIECBAgQIAAAQIECBAgQIAAAQIECBAgQIAAAQLlCUjcluelNgECBAgQIECAAAECBAgQIECAAAECBAgQIECAAAECBCouIHFbcVINEiBAgAABAgQIECBAgAABAgQIECBAgAABAgQIECBAoDwBidvyvNQmQIAAAQIECBAgQIAAAQIECBAgQIAAAQIECBAgQIBAxQUkbitOqkECBAgQIECAAAECBAgQIECAAAECBAgQIECAAAECBAiUJyBxW56X2gQIECBAgAABAgQIECBAgAABAgQIECBAgAABAgQIEKi4gMRtxUk1SIAAAQIECBAgQIAAAQIECBAgQIAAAQIECBAgQIAAgfIEJG7L81KbAAECBAgQIECAAAECBAgQIECAAAECBAgQIECAAAECFReQuK04qQYJECBAgAABAgQIECBAgAABAgQIECBAgAABAgQIECBQnoDEbXleahMgQIAAAQIECBAgQIAAAQIECBAgQIAAAQIECBAgQKDiAhK3FSfVIAECBAgQIECAAAECBAgQIECAAAECBAgQIECAAAECBMoTkLgtz0ttAgQIECBAgAABAgQIECBAgAABAgQIECBAgAABAgQIVFxA4rbipBokQIAAAQIECBAgQIAAAQIECBAgQIAAAQIECBAgQIBAeQISt+V5qU2AAAECBAgQIECAAAECBAgQIECAAAECBAgQIECAAIGKC0jcVpxUgwQIECBAgAABAgQIECBAgAABAgQIECBAgAABAgQIEChPQOK2PC+1CRAgQIAAAQIECBAgQIAAAQIECBAgQIAAAQIECBAgUHEBiduKk2qQAAECBAgQIECAAAECBAgQIECAAAECBAgQIECAAAEC5QlI3JbnpTYBAgQIECBAgAABAgQIECBAgAABAgQIECBAgAABAgQqLiBxW3FSDRIgQIAAAQIECBAgQIAAAQIECBAgQIAAAQIECBAgQKA8AYnb8rzUJkCAAAECBAgQIECAAAECBAgQIECAAAECBAgQIECAQMUFJG4rTqpBAgQIECBAgAABAgQIECBAgAABAgQIECBAgAABAgQIlCcgcVuel9oECBAgQIAAAQIECBAgQIAAAQIECBAgQIAAAQIECBCouIDEbcVJNUiAAAECBAgQIECAAAECBAgQIECAAAECBAgQIECAAIHyBCRuy/NSmwABAgQIECBAgAABAgQIECBAgAABAgQIECBAgAABAhUXkLitOKkGCRAgQIAAAQIECBAgQIAAAQIECBAgQIAAAQIECBAgUJ6AxG15XmoXEdjRurNIDasJECBAgAABAgQIECBAgAABAgQIECBAgAABAgQIENhToHHPBeYJlCtw4813xa9+84f440PLomXj5pg5bWIsmDcnXv/qE+O4BXPLbU59AgQIECBAgAABAgQIECBAgAABAgQIECBAgAABAoNOQOJ20A155QLu6OyMS7/107j6x78oaHTFynWRPG685a740gXvidNPPr5gvRkCBAgQIECAAAECBAgQIECAAAECBAgQIECAAAECBAoFJG4LPcyVIXDtf96eT9oumDc73va6hXHQjAPj4UeXx+XX3BSr1m2I8z9/VcyYPjnmzzukjJZVJUCAAAECBAgQIECAAAECBAgQIECAAAECBAgQIDC4BCRuB9d4VzTaa27872x7yaWRr7j4gzFm9Mjs/NGHz4r5R86JM875VHb+upvulLitqLzGCBAgQIAAAQIECBAgQIAAAQIECBAgQIAAAQIEak2gvtYCEk//CDywdHk8tnxVdmfnvumUfNI2t/e5s6fHWaecmJ299qbbY9v21twqfwkQIECAAAECBAgQIECAAAECBAgQIECAAAECBAgQ2ENA4nYPELOlCdz/8LJ8xeTs2p6m4xbMzS9+ZNlT+bICAQIECBAgQIAAAQIECBAgQIAAAQIECBAgQIAAAQKFAhK3hR7mShRY17I5X3POwVPz5e6FObNm5GdbNnbVzy9UIECAAAECBAgQIECAAAECBAgQIECAAAECBAgQIEAgKyBx60DYJ4H1G5/Jb9fQ0PNhNHJYU75OS7f6+YUKBAgQIECAAAECBAgQIECAAAECBAgQIECAAAECBAhkBRo5ENgXgXXPJWInjBvd6+bDhg7Jr2vZtCVfTgpTx3Wty61YsSZd98Gtq4uYkomjoT5TKDItX7OrSI3qWp08MRw4dkg0NhSP7YnV6YqtPvM7gwPHNmdi6/kHB91HIm2x1dV1xuQxzdHUWHuxJYfipExszSXF1tZ9GKu+nI1tdFM0NzUU7euKNemKrT7z/DgxE9uQEmJ7cu3uovFXU4WGzIvAAaOaYmhz8XF7al26xi2JbcLIphg2pHhsq9ana9zqsrE1ZmIr/hZ49YZ0jVvyvmT8iMYYPrR4bGs3pS+2MZnYRpUQW8vmlMWWeWIbPbwhRnf7wWNvz3Ubt7X3tqpql5ca2+YdmeeS4m87qyrOUZkxGzey+PNkKmPL/F87YHTx55ItrW2RPPekaRoxtCEmjS0e2/ZMbGk7JocPqYsDxw8tOhw7dibjlq6BG9ZcF1MnlBJbe+piG9JUH9MnNBcdt9Zd7fF4Cd89FG2oHysMaarLxFZ83Hbubo8ni3+E7ceeF99V8rm0lHHblYnt6TWdxRusohqNpcbW1hHr13dUUc+LdyX5WFrKMbk7E9uGTel635V8VVJKbG3tHbFlS7reL5caW3t7Z2zfnq7Pp8l3lKWMW3tHZzz+dLpiS75XmD5h7+//9/yf2tHZGU+k7Hvz5G1UKeOWCS1WrEtfvqOU2PYcR/OVFyj+iaXy+9RiDQjs2l38Rb4uefV5bursLO2D4THH5Laovb/z59deTLmIjj4yV6q9v/Myt2pOHrU4zcncnjp51OI0a1ZE8qjFaebMiORRi9PUzJX3k0ctTpMmZX58kHnU4jR+fMQrTqrFyDIJtczv02o1thEjaje2IZnvB2p13BoyXzjWamzJs4jY0vlcatyMW7UJOCarbURK649xK82p2moZt2obkdL6Y9xKc6q2Wsat2kaktP7U8riVJqDWvgjUdWamfdnQNoNb4KOfuzpuvOWuGDl8aCxZ/M0eMZ5cuT5e+baPZtd96h/fGm8/61U91rOQAAECBAgQIECAAAECBAgQIECAAAECBAgQIECAwGAX6DolcrBLiL8sgQPGjcnW37q999P9t7V2rRs/tvdLKpe1Y5UJECBAgAABAgQIECBAgAABAgQIECBAgAABAgQI1KCAxG0NDmp/hDR+3Kj8btat35gvdy88vaYlPzu+j3vh5ispECBAgAABAgQIECBAaNZI4wAAQABJREFUgAABAgQIECBAgAABAgQIEBikAhK3g3Tgn2/Ysw+akm9iyYPL8uXuhXvvezQ/e9C0ifmyAgECBAgQIECAAAECBAgQIECAAAECBAgQIECAAAEChQISt4Ue5koUOOHYI7L3t02qX7/4zujY41bJW7Zuj8W3/S7b2gnHHBFTJk8osWXVCBAgQIAAAQIECBAgQIAAAQIECBAgQIAAAQIECAw+AYnbwTfmFYm4uakx3nzGwmxbt91zf3z5iusid8nkJ1euiY989spYtW5Ddv2bTzupIvvUCAECBAgQIECAAAECBAgQIECAAAECBAgQIECAAIFaFajrzEy1Gpy49q/Aho2b49yPfSUefPSJ/I5GDh8aW7e35udPX/jiuPiCc6KpsTG/TIEAAQIECBAgQIAAAQIECBAgQIAAAQIECBAgQIAAgUIBidtCD3NlCmzLJGk/8cXvxuLb7y3YMkngvuPMRfGBc18X9XV1BevMECBAgAABAgQIECBAgAABAgQIECBAgAABAgQIECBQKCBxW+hhbh8Fdre1xePLV8fKtS0xe+bkmD5tsoTtPlrajAABAgQIECBAgAABAgQIECBAgAABAgQIECBAYPAJSNwOvjEXMQECBAgQIECAAAECBAgQIECAAAECBAgQIECAAAECVSZQX2X90R0CBAgQIECAAAECBAgQIECAAAECBAgQIECAAAECBAgMOgGJ20E35AImQIAAAQIECBAgQIAAAQIECBAgQIAAAQIECBAgQKDaBCRuq21E9IcAAQIECBAgQIAAAQIECBAg0I8CnZ2dkTxMBAgQIECAAAECBAgMrIDE7cD62zsBAgQIECBAgAABAgQIECBAYEAFTnnnBfGCV5wTX//Ofw1oP+ycAAECBAgQIECAwGAXkLgd7EfAIIj/2z+6Ob767Rtj3fqNNRdtmmNrb++oufEoNaBdu9vi5tt/n/pjssMv8ksdcvUI7BeBNL8G7BeQlDT6k5/fEd/98c2xYePmlPS45256DejZxdLqEvA8WV3joTfVK9DW1h6Pr1iT7eCx8w/bp45u3LQl1m94Jrw+7BPfgG701Kq10bpz14D2YV92Pli+U6i1OGstnn05dtO4zWAet1r5Dq+34y6trwG9xdN9eS3H1j1O5doUaKzNsEQ1mASSD4Y7trf2GvL3r7slVq3bEMccPSeGDxuarVffUB/Dhg7pdZtqWVGLsd14811x1Q8Xx2PLV8WEcaPjlcfPjzedflIcffisamHfb/1YkzkOf7r4zrjmxl9HS+YL+x9/85Mx8YBx+21/lW44+TLm335yS9z352Xx6OMrszEkY3jIjAPjyBfMir9906KYPHF8pXe739rr6OiIzVu3l93+mFEjoq6uLmOwKnbt2h3jRg+PaVMmlt3O/txAbHvrpmHc9ux1Lb0GJB/0N24qP1E5fvyYqM/8f6ul6V+/91/Z9yULjjwsxmeeQ9My1dprwL4ekz2N19gxo6KxsaGnVQOybF9jS+P/t1p6nkwOluT54avfvTF73Hz/Kx+NF79wbv4Y+vX/3Be/zPzwb8nDj8VhM6fFu88+JfY1wZZvtJ8K+3pM9tQ9/996Unn+y7Zu35FvZMTwZz8z5xeUWDjzPZ/Jvr795JsXxl/Nq+7PdrV8TJYyXMmPx37/p0fj7iVL49e/vS87bsln0/nzDill8wGvU+vfKSTvub7741vi4ceWx0N/WZH93D0y8//yqLmz4ugXHBLnvOVvYuzokQM+DuV2oBbHbV8/d/dkN2rE8GjIfFdZbVMtjlupxmn/Dq+3ONP+GtBbXMnytMa2r88lafyeq6/xs65QoC5zDxM3MSk0MZcCgSRZ8sMbb48f/PzX+V8Gl9vtR277djb5Uu52+7t+LcfW/cuo7o7Jh5Cfffsz+eTXNdfdGv96zc9jSGNj/OL7n0tFkr17PN3LyVPsvZkPxT/IJGsX335v91XZxG1aPhxf+1+3x/+9/MextY8fSSTBnX/uWfG+t7+mIM5qnXl6zfo46eyPlt293JdRr3nXJ7M/QHhV5scH3/zCB8puZ39uILa9ddMwbkmva/U14Pkek3uPaPUs2dfYkghmTpuYTcD87Vtenf2BWfVEVdgTrwGFHnvOfemC98TpJx+/5+IBm9/XYzL3PDlgHS9xx7X6PJl8YbMw874k+cHp0Zkv53/yrU/mP6v84IZfx0VfvWYvoX/97D/Eopct2Gt5tS3Y12Oypzj8f+tJ5fkvS46/uQvPzTZ0/rlvyLyfP7XsRl/+xo+kJnFby8dkTwO3LfMZbsmDf4l7/vhI/L97/hRLlz21V7W0JG5r/TuFn99yd3zqK//e5+fu5PuTz37oHXHaouP2GsdqXVCr41bJ55Ivf+K9VTemtTpuff0/qZXv8LrHWEuvAd3jSsq1Etu+PpfkPr9V8/eTe46Z+dIFnHFbupWaVSTw2cv+I368+I4q6lHlulKrsSWXp8idQZBovezYI7Nod9z7YPZDyUe/8O34j6/9c3bZEZmzN5MzUpNp6V+eihceOTtbrpZ/Lrzk3+P1rz6hz35t27Yjfnbr3fHd6361148LjjzsoHjHma+KeYfOqJaQ+uzH/9z7UFz45X/P10m+THzBrBmR/LJrSybO5StXx+/uW5pd/6Wrr4sDJ42L1578knx9BQIESheo1deA0gUGV80VK9dF8rg1c7bLp/7xrfH2s15VdQBeA6puSAZ9h2r1eXLFU2uySa9kgD/y3jfmk7a729ri0qt+mh/3Fx01J55e3ZKt+7mv/yBOOv7oaG7ysT4PpLBPAvX19fHi+XOz7+m/dPVP43+fWBXzj5gdSYKooaG0Kwr8//bOAzyKoo3jL733UBJISAIJvTcpAtJ7r4IUpYkgCggfAgoIqDSliKh0lI4gAoogIlKUIr2FklBDC71D8Jt3Lru5S3K5O9J25/7v89zdltndmd/sbZm33X1gG8lm+c9/0k3hOVggv5cpDAxeCpxBN+LrxpET54RH7XHavvcI7TkUFGNNuX9fKVuEKpQMFFGUcsdYxkgLVRpTiInr4RMhNHDct/qqAF8vKh7gS9mzZqbb9+7TybMX6EjQOTl+wuXy5c1lCi9p1ftN77A4ThjNr0qlfnO3MTxV7wH8F1O5bXG8hGBzBQngDU/BTlW9SfzwoCltOUxru0bVyVMoijh0aaoYBi3GigEN9hLs1aER+efPI/Fw+BEubzRRuW2HjofouGeNfZdqVSst53/+bRcNGv+dfJm8e+8BZRbKQA6bzC+R3G/MxGiK22XrtxJ/WIHZq0NDqv1qWT2kzamQUFr+01ZasHqT3l5tonWDatSh2WuGDx2m1Zd/n4hcR/0//kouYs+wScN7x/hyGCwGd4Z9Pk+E7ztDH4yfTdUqFBOhsLNY78pw09nECzB7bbgq+fNZwiJ3aVWHbggDA798luuKq/tJyPJoW3S6Zug3le8BHNpy+qi+0TsmypIrIh/9uBlL5NLhfTuSv4/xBxEzZUxP/3u7XZSW2J+dIUKh8v2tW5v6lCFdGlq6bqs0Vhojnlfq1ShHuQwUQl/le0CO7FnJT5xfnNOxU/Pa9EqZQjF2GofUHz5pvlz3XveWQgHhGa1c6WLGCi2p8v9N5etk6PXb+rnFKV402XvwlLxm8PyIdzpQl7b16EbYbarSeqBU3u47dIoqlyuiFTfkr7PnJIckHPvVUtmG4f06Up4Yrodm/b9FbZsR72/D3ulILXp+LPmv3rST+PMy8h9ZgrotECmLOD0OR6cxmme4yveA6+JZqmqbQTF2HY+fVC9fnMqXCqTSxQOogLgPstLeLKLSmEJU5hz6/+MpC+RiHguZPKI31RSGOVHHrTi89fufzJLPjoPHfUMb5o8zvPGOyv32su/dUfuf58uWKBjT4iRbplK/udMYnsr3AJXb9rLXEjOMcyXZRUyBA0Nxq0AnulsTzl64qjd5lQgh5pXHQ5+PaWLa3DVysKNu9XKGV5ip3LarYbf07qlcPnJwqXGdSjTj+7Vy4HT/kTPSa4AV64G+eaUS8MZL5ETUD5RAE5pS+dCJYOo3aiZ5ibyubRrXEBbqx3XPU+3QrOzs1LwWtaxfhXjQymxy+twVfbBw5tgBFOjnFWMT/IQl/fQxfal+l+GyPFt4sweIkSVtmtRxCm3ZvllNwzYPbbPfNUbuN5XvAZxXvn7N8vY7xmrNqbOXpIHW/mOnqavInW10ySjyUb0pck06KwtXbpbXyca1Ksrnkka1K1HjbsPl5oeFkVPtV42T+1zle0DYzTt6RIx3ujYhD5FP2Z6wUdb8lRtpz+EgertLk2iDqPa2S6rlKv/fVL5OXrpyQ54yHJnFOmfyQWEUp0mLBlXlpEeOrNKAkJ9FLwgjR6Mrbl05J48Enac1QmF47OQ56trG+PcAldpWNMCb1s4ZQ198s5L2HAnS3wG088/Z32RkPAPpqHVX+R7wPDw8anNpSO921LhWefLMHfvYSbQNDbZApTGFqGivXrspvWl5+cRhPem1KqWiFpHzr5QtTDM/6U/t+42TUVtOBV+mYoE+MZY1ykKV+y2u791G6aOY6qFSv7nTGJ7K9wCV2xbXa4mRx7liur5gmXMEoLh1jhNKGYjA/fuPZG1YWeZIaWugajtVFZXbljPC+5IfmPiGpAlb+FYoXkgOnh4VYX80ZV/unJaB63v3H2tFDfO7ddlEWvPrDpq7/Dfp6cC5yKbNX21TP7Ys79iyFlUtX9RUVsw2jRAzp85ckIsKF8hnV2mrbZNTeEW8UqqwDPnJeZO0vtTW49e4BB4Lz2oOzcSDj5CkI6DyPcAVqm+/0Vgqbjkv+Ntnm1Eh/7yubG66sgG+njLXLYdMPnc50jjNCA1R+R5w/JTl/sZet7Epbbkf3mxXRypud+w9Ku6LlyiwYD4jdE+81MFs/zeVr5NpIiIHRfV+O3TsrOzrskULyMg0WscX8PYkVtxeu3FHW6TEb19xD2DFLXt78vnp6xPdy92sDTVD2/iZ/5sJ70nEd+7ep5gGSR3xz5rZYqw65aO36dHjJ5Q1YzpHmyT6epXvAWxQ1rhmRVq/dbfOdcI3y2nzX/uo0WsVhEKwLHnnNacCV6UxBb1zIiZCLl6TUzxeokUni1pGm+eIZBxGmT3az4ZcMrziVuV+0/pExV+V+s2dxvBUvgeo3DYVryFoU9wJQHEbd4bYQyITyJbV8iLIOXRY0RA1dEwiVydeD6dy24oG5JesLOGPw2xeFrUQ1mEiB5Imd0XuVJYsIgSl0YTDOXOYOs5F+Nc/R2jRj5uJc/Vay1ORVyj8ebg4R62Xmm/6oRhsYckkBgCckfTpLQMzjx5ZtnNmm6Qsc0wM3O/ad0xWoXaVktEGB0POhxLnGmKPYvZCiDqYmpR1j89jN+j8oTRCWPn1SBmqPD73jX05T0Dle4DzFIjyeuYUodYzyxBwR06cVV5xy2zyCg8YVtw6m0fQFZ5xKavyPeDClesSTYa0aR0iypMrR+Q5eSpEKcWt2f5vKl8nPSOiCLEy9unTZ5Q6dSp6+uy5NIjjk7RUMdsQiqfOXZLnbvasGR2ew2YqkN87j54yhZ/BVFLcmq1tWTLH7dwysuGVyvcATuHwxag+NP5xd9q++yj9Kgzhft7yj4xmxWltOBw5K+gbv/YK1a1WhvyFAZlZRKUxhajM2eOWxTdfbqfGuPJ75pKK2wuhlmgNUfdnpHmV+81InOO7Lir1mzuN4al8D1C5ba7+f+t0GirHD9Z8N1qOVbq6PcqbgwAUt+boJ9TSikDBiDy1rAA8d+GKw5f5NOlSya1jyn9rtVtDTKrcNn4hLFcigPYdPkVrN++kd7o205nnEnnmWG6KfKEsbJnNXi0sOXPYD10oCyThFyvx2KuUP5zjdclPf9L8Hy25bVmRyx/2DO8scqG2alCFsgtFhNkkwM/iVbTnkAiXJowl2MLNnjwXiuq9h07K1YEm8ZCbsWANbd6+X9a5WZ2KetNCr4ZR7w+nEnsOa1K9QnGaPLIXxXUQS9tfYvw+ENfJnXuP0UWhoLh1+4HdQ7IhDMu8ZRvJ2yuXnE6VMiX1fzPyfyoXGuCLvT+mzVvrck16dqxPrHwxsqh8D3hZ7px/VDUZ+W4neZ/z87b819gI7bBQ1LBolu1GabPK94AcEekLjohoH3z/sg5NGxv/syKFgKpihv+bytdJ9r7XZJ6I6tKs7iu0eM1WbZGM4qLNPHz0WA+p6Znb2Pc2rc7O/rJRbvZsmWSY3pMidH5TZzc0QTmV22YC/DZVdId7AEfS4dzC/Bk3tDvtEErcX7bupbW/75LvOCfOrKTJs1fKfO9NX6tMb7SuZfj3HBXHFLQTM3t2y1hByMWrTjkoHDt9Xm6ay8MylqLtx4i/Kvfb3XsP6OuF613G3r19XcolIpZ9MnUxhYpUCaWFF3WvTo1d3k9CbqBiv7nDGJ52Tqh4D1C5bTzeunTtNq2JDn9v3rI4Pq3esJ1CxPXDRxj9FC+U3+F2KGAuAlDcmqu/UFtBgMOxBm2d6zSLjQs/dbpsUhdUuW3h4S+oZ4eGUnE7dd4aqly2KHnltoRD5gFTlisiD+7eQ6do1qKf9a4oXcxfnzbyBHtkfvhuR3r3rea09re/aa7IhcfeUxxGmUNT8ad1/WrUvnlNKl3UHG1i3gH+kTlth3w6h74Y2ZvSWIW61vqE+/fTr5bJ9vKyQgHGDyPJL1ma0vbdri3ktUVrz8hJC2yUtrycFfHjpy+lz4f30IoZ+nf3gZM0YPTX0mvR2Ypah1Tjbfp1b+qUxbez+4+PcjxYvWj1Zpd31axuZcMrblW+B7jSYRvFoGJYhCFPYeHpbja5LYwLzgjl3gUx8HZDRJLIliWDNIjw98kjQ/LWfrWMTZN4IH/x9A8p+X/C89bLWKELVb4HFCkUmQ/u2x82UN+u9tVD+4+c0c/J/PksCnebTjTxjNn+bypfJ9kwrHfHxvTNkvVCmbJKfrRTq2RhP3q1YnFt1kahW6Kwr75chYkjIrctP0Oz5Iwl97QZ26py28zWH+52D+BURfz8wZ+xQ7rSn7sOUf9RM2W3sdHONGHMWq1ScfGeGjcv64Q+D1QeU/DNm1PiYweFA0fPEodDtifnL17R37t98hr/uUTlfnvw8BHNWfGrva6yu7yBCFvOitu/9x+TntN2CybhCpX7jbGqOoYX0ymjyj1A5bbdu/9QjhvH1MbYli1YvYn4w1K5bBH6dEh35dJKxtZ+1ddBcat6D6N9pibgaPDXTI27duMm9Rk+Ta9yh/7j9Wltgr1xX383UtHerHZl091w2CP1dZHbtkOL12jHnqP0/erf6Y9dB2UTV23cTvwpHpifurSsQ41qV5Rh8LT2G/E3qxhEHNyzNU36bpVUctbsMITeaFGbCuT3lHnW+EXlnBhcW/LzFn2QrWvLulTAJ1Lha8R2cZ243pp0aF5Dm6RLodf10NfsJT6wR2vx8nyGJn67QuZb69etqQj1nVsvb8QJzlkbVWnL+ZJiUrpz/TUlGU9ziFojC4eS9YkY2Iitng8ePtHbxeXTpUP+3th4JfS623fu0eczV9g9TPiLF3T/0SMKCr6oX0u4cLniBe1uY7QVD0SI/7nLNtH0hWvsVq1bm/rU941GlDXC21MryCELjSgq3wP8RH7QquWLyQgfX85bTdfCblO3NnXk9T1FiuSyO/i83fjnPvp81nK9e0qKPKNGF3f4vxm9D162fn27NqEQEVFo4/Z9Nrv4oHdb3ZDqmUjHMXORJfIERwNxlKPZZkdJNMPRdLb9fdju0Z+Fh9N9MWDFkU7Wbt6llysqnpmNLiq3TWN/NOg8LVjxG50W4bnZG5AVS7GJGcL2qXwPsNc3fO3Yvf+kCJ28j9b/8Xe0Yjywb3RReUzBJ18ePW/tVwt+otkTB9rtjs9mWZ6p+f2uVBE/u+WMskLlfksp3k05ypqrkk6kQ2DRnjkpRTJXd5Hg5VXuN2t4qo3hWbfNelqFe4B1e6ynVW6bdTsdTe/69zgNGvcd/TB1qLJp3hwxUG19MhGeTdj3Q0DAPAReNkxmTC1s1bAaFQuM9LiIqUxSLIvL4G9S1NeZY4ZevUE12g9xpqgs07JuFRo9uAuZ4QXSUaPYInbJT9to2fqtNgMdy2eOMIX37QuhUOn30Ve6d2ps7WVF5/xJg+wqCGPbNrHXsZcRW5qzonLX6i/1w6/5ZQcN+XyOnF82Y7hu7Vy55XtSETh9VF+qX7O8Xt6IEwePBVPbvp/IqvXr0py6t6tLnA/EntRsO1haba+YOZJKFTX+y7+9dlgv5+tonc7DZJ/NGP0O1atRznq1IadVvr+5eg/gDjLDf007kfh8a95rlI3SWVsX9ZcH2X5bNJ48chg/tB3XXdV7ALeNUzQ0fvMj3ciDl7FwH8WkmHi3W0ti4x2ji8r/N5Wvk9p5xf859rY6IcJgcp7bymULy9zf2noz/r7MOckGnJNG9jR8c1VuG8Nf/vOfNGLyApf6wSzvOKreA6w7K+pgdtR7W6OaFaih+FSrUIwyZEhnvakhp139v5ltTIHfQ79b9otkP27ImzGOFYScD6V3xLs5S+PXKsUaMUQWMsCX6v0WF8Qcfe6FGJZPIdJw6UrcuOwwHrd1534z+xiedhqodg/Q2sW/KrfNup32pq3H8AJFpMTZizfqBuRLRDSvciXMYwBvr41YTgSPW5wFpiPwsmEyY2poaWGdaDTFrbODv/NFKN6VG/40zeBvjmxZaNa4d2PqBptl2YQXUkGR4ys2JZPNBiaYYevZoe+0E2Fnm9G6zZYwymbII6eh5TwgM8f2p607D0qv01Mhl7VV+i97NA58szU1qFWBkouwn2aQOyJUMkugX16b6h46HiznWaFrHaKqUqlCtGHrHuGpa/ycm5dFTlsWVj68+2ZzOe1uXzz4NLxfRxr4yTf08ZeLqFrFYpQ+XVpDY1D5/sbW6BxtwJE8ePyY+PoY4OtFdV4t66i4YdaPnbZEV9qyB1yXNnXJ3zu3CJOcie7ef0AXQ2/SMjH4zXnleND0f5/NpW8nvG+K66Wq9wA+eTj3/Lq5o2m6yJu9eO0f+vkUdWCbr6X9ujYTRjD19TJGnlD5/6bydVI7p/g/V1YMtvDHHcXPJzd1b12PWjd+Vbnmm61t127cslHacsjussUDKa0wKEibxuItFlMn5cuTI6bFhlum6j2Aw5v+Lbxufvljj3h32R3NEKlxzYpCWVtehkY2+rNx1JNG9TGFFg2rEn9iE18fT1o/f2xsRQy3TvV+iwvwlClTxGXzBN3WnfvNzGN4Kt8DVG5bXP7MnM/4rY71dMVtsDDwgeI2LkSNsy0Ut8bpC9TESQIvGyYzpt1nzpQhpsVJukzVwV/2GKhVtXSSsk3qg2cQA7/tm9Wkdk1riJfpE+Tjaaxcho741KxSivjDIeEuhIZJT6XsIpRyXs8cprDQjtq+XBHebkHBl2xW/XPohJx/pVRhm+WPRPhhFjPEqUiT2hLqLLMI3e3OUkucrywcCpq9kCuXK2JoHCrf3zgv5Y/ffuyQP4f5bvLmSJnraf6KTfRWB+Mryq5cC5Nh8LlxfTs1pfd6trRpJxsReOb2oAqlA6lSmUI0fNJ8GY79qMjjaKbclKrdA7RO4kGpUQPfoLfa1yPOP3lWhKkNvXqT0osX4Ny5spOPV06qLvL+2Qs1r+3HSL8q/99Uvk5GPYdUSpmSJ1cO2rlqStQm2swnS56MsmbOZDiPI5tKxjCjctsOHw/RWzxucDdq26S6Pq/KhIr3AA5v2v2DyTZdxB7sDWqWo6rCs5YHeM0q7jCmwM/CO3YfpWARltwjayb5/JjX05L/Fv1mVgLmrLc7/N8c9YwZx/BUvgeo3DZH56Kj9WyIVal0YfrnwAm6fdfipOJoG6w3PgEobo3fR6hhFAK5xODv5h8+j7I0+qx1mMwhvdqZIkymuwz+Ru8tdZdw2JuoHqjJhEeq0RVIsfUIv+wH+okctvwxsXjmsSjOWanHoXDYqjL43GWpMOJmlSjia9O6QycsnrheYiDf6JInt8XT4fL1m3RXeBYb0UglMRjywyt7t7AH55GTIYb/36l8f3O2vzk8/sh+najnsC9FXtFl1KL+KyKceRZnN0+SckHBligE0sP9rdg93HnQe9HqzTKP4ymRz9dMilsNrir3AK092i/nLjd6/nKtrvH1a8b/mztcJ/kd5mXzZcfXuRHf++FnX7OEh3e17Sq37WLoDR0HpxhSWVS/B5y9cJn2HMpMz549p5Ii6pjZFYHOnousBOXscGZRVvO7aJ+R0+W7i3UbW4g0Up9/+Jae65wNzc6cu0TJKRk1qfuKvtx6G0yDAAi8HAEVx/BUvgeo3LbYzmDPiOgmadNG5qe/efuu3CRTBmNHmoutXVhnSwCKW1semFOIgBnDZLrb4K9Cp5velFu37xF7iR04fobYk5OVghxy1987DxUv5EdvilyjuXMaX/GnN8jFiTqdhspwoWu+G01FA7xd3Dpxi7PymUO+sUK2y/uThEdVSVq35W+9Es3qVtan2VuT+5LFO19ufblRJzjc+MfvdpLV47w5juS9N1vSg0ePKX9ec3mBO2oXh9LRwpLfFwPhqogZ72+usLc2bDkkvH1ei/CcdmUfiVmWc42xlBDXEw5x6kiKBfhKxe3Zc1ccFcX6JCIQ04BNElUlwQ9rtv+bs0DMep1UNWWKs/2GcsYi4JMvl14hVn5BzEEgR/asNGV4L9olIjxt+fuAfIc5EnSO+KMJv59yGpiyxQoIY9UCVES8t7Exj2rSoPOHxIasK78eKRXWRm4fv7MNGDNLf3exruuaTTupWEB+6irGElhOn71IQz6fI6c5rL67KOJlgw32dePmHRo09tt4qdU7XZpRxdKF4mVf2InzBFQbw1P5HqBy25w/Yy0ll0wfZrMJP6cF+OYl/3yeVDTQ12YdZsxLAIpb8/Ydau4EAbOFyVR58PfO3fs0TeSQc1V6dqxPHILMDLJs7VbhIbY8Wh4hVvjxZ8+hIJq3YiMN6tGaendubIYm0f0HD2np2m1O1/XmrXuy7OoN2ymkeAHhxZpbKKzzO719YhZkD4mhfdpTp/c+ky/0S9dt1Q/fu2Nj8sge6eU3fd5quY4HOUoW9tXLGXUidaqU1KlVbaer5yiXktM7MlDBq2KQZtrcyGtOwfyeBqpd3KtitvubKy3msFyapzSHEza64lYzxrl0NdIzKbb2XhahlVlyekReY2Irn5Tr3OHezXxZWTZvxWY6fOwMHToVohtdFSvoQ6WKFKSubWsrG7nAbP83V/4PZrxOqpoyRes39iZbuu4vOhNyiXIK5VIVkcLg1VdKiBDJGbUipv7lQbPte47SMaEgCxFhTq+H3aYcWTOL5+FcVNjfm16rWsopAx+jQCgW6KNX5cSZi4Z9ptcrGYcJjlBzNewuhYfHbvBYIH8eSpXS2MNo/B7AXpj8YeExhj2HTtHOvcfoz92H5Lsqv5tu2Mo5cPfo1MxgeKtV9sHDx7I9F69cp1u37YeEvCveZVnmLdtI3l4WQwTuv/5vNtN2ZZjfPQeDpGEfV6h+tXLUs1MjcT6+oC/n/iiU8Mdp6vzV9EbbOjKaV7WKxfR6nzx7yfCKW/5/fb1wvV7nuEy0rF+FAgvmi8su4nXbZ8+eyf6Jj522aWCsyAbu8B6g4hieyvcAldsW12sIj29+OertuO4G2xuMgLGfOA0GC9UxHwGzhclUefD3ofDm4/CQrgp7PZpBcbtDDNKMnLJQbx57chby86YsIo/yPTEgHHLpisw1wAUmz14l2pSNmteropc36sS9+w9pwjfLXa7egtWbiD8slcsWoU+HdCeviNDELu8sATfgnJPLZ46gqXNXixyoZ+SRmtetSn06N9KP+uz5c5GXsoj8FPT1MtWAm94IhSau37hFHQd8ZrdFz5+GEw/S3BcDOppwCFvO6aWSmO3+5gp7zuuoeUonc+zA6squE6SsDB0v9nz+0nXauvOgzAVu70Ac2o4H31gKF/C2V8wwy1W/dzNovn8PHv+dHlVBg8+D2tv2HJGfeSt/pTGDulKT2pW01cr8mu3/5gp4s10nVU+ZsmXHAeozfJpNF67auF1cC/PJZzHN22/Ttn9p665DIvQn0ehBXUyT85av7+NmLKZ9h0/ZtNF6hts6on8n03hUcWhyDtHK3n7zlv1Kkz/qbd0c008/FWGDlwvD26++XxftHmCvcfzeULqov73Vhlzu6+NJ/OF0DS9evBDKwUu05+AJ2rnvGP2x66Be56dCAWUG2X3gJA0Y/bXTfcZtWr91t03T+nVvarjwwmeFYYsmg3q1kn3G858N7U412g+R7zanRHqOQv55Zeh5zciRDUSMLg8ePqI5K36Nl2pyVC8jKW7TpE4tFe3WjTt8MlgahvOy6hWKU7o0aaxX2502mue06u8Bqo7hRT3BVLsHWLdP5bZZtxPT7ksAilv37Xu3aLnZwmSqPPibIkUK8smb0+F59+DhE/0ljMunS+fcQ67DHSdggScid07/j7+SR+A6TxreO8YXevYyGPb5PPpXKAg/GD+bqglFktFzN8YHNlZSDBr3Hf0wdaghlZ48+DJv0iC7TWWr7J6vN7S7HisSl8Bz4QnBCjJnhb2kp378NmUXvyqJ2e5vbABxKjjUbhfwQCLnIQsWXiHWRj6BfsaxqLdXec6PzYPx7I3U68OpNGpAZ2rZsKpNPjUOf/fLlt00/utlcjdeImS+GfLbqnzv5o4IFV7S3T+YrHdtgDDOKVO0oPBA2i0HSF+rXEoMbp+U0wM/+YZyCyVGhVKBenmjTqj8f3OFudmukyqnTGGvncHjYg4lydfOsVMX09gh3WT3pkyZglb8Yon20rl1HXl9daXfk6LshUtXqVXv0TaH5uePnNkz0927D/UBfG5r5/c+p1WzPjLFPYCvJU3qVJKK25+3/EN8TfQXYfgcCafsYK8Yo8tn05fS92u3GL2a8Vo/TunAii/+dG1Tl7iPj5w4R7sPnKDcOYwfCYSfFaMqbdlAM42dMM9shKUJ/yeNLClSWKwVuT2sjNDEM7cH1alcmjbvOkD7DwdJxS2v882TWxo6hkVEvNLKG/E3pRgL4mff+JAM6dPFx27ibR/8jjl97Ds2++PITy16jZHjWimEFeqkkT3tnqM2Gxpsxtn3AOt3c4zhGawTo1TH7PeAKM2xmVW5bTYNxYxbETD+07RbdQcaG58EzBgmU+XBX7bY3vzD5w67mMMV1uk8TD7kDunVjjRltsMNk7DAaZGnUPPumzl2gN06++X3oulj+lL9LsNleX5JrlG5ZBLW3PGh+UUxaOtcxwUjStRsO1gOTq2YOZIC/b1o9uKNNH3hGul9sP/oWSoncvBAQCAuBPhl/Y2WdWLdRQrhppPTI6vI2ZuLaogQjPYGc2LdiYFXmvH+dkN4A7To+bFLVIsH5jf8NZIbxANtX3zchxp2GSHbN2rq98Qf9oTInkUM2ovwcKdCIr0ouNAXwpiAvQGNLirfu5n9+OkWRbqc/qA7tW5UTXrgHDttyQU4sn9HypQxPQ35dI70SvpA5DD7ZdE4G6W8EftQ5f+bs7zNeJ1UOWXKvsOn9WflAd1bUI8ODYgzpn4xe7VMI7J8wzb66L1OxKG7K5UppHfzuQtXDK+4ZcOj9z+JVEoP6d2O2jetLq8dWkPYyHPtpr/p05lLJYf3P/mafp4zxhTXkh5Dv9CaQQPtKN/1AhETZvBKZUMJTWnLijJ+tmSDKj4HY/OOY0MtlYQNVMuI9Db8MYOcFN7CmjK2X5fm1F3kfOX7tD2xfjctVdTPXjFDLNeiU/G4Ans6Wj8nFhSGjKy4vXTlpl5XPlfNIjnFWNDWFZPMUt041/Pugyf6Pv4Q4cn7DJ9OM8f2M/w1X690xISz7wHLf/6TRkxeIN99fp49Rl5Ho+7LaPMqj+G5wtps9wC0zRUCKKsCAShuVehFN2uDymEyVR78dfY0zZAhHQ3v15HYs+XjLxcR52+xfmlxdj+JWe7UmQvycPwi70jRzC8tr5QqLF+82Ore6IrbuHBMlzYNvdWxnlTc8n7Ykw6K27gQxbZMILMIPz5ywOtKwlD5/uZqh3VoUpP6d2tqCo8dblsBHy9aNmM4fTLtezoichuycLjnYLoqp7UvVuZ+1L+zaQZItXo7+jXjvZs9ADdu3yebxoqWNo1fjbGZWUTuzQnD3qLXOgyRhkkcDtUMXrcxNsbOQjP931S+TqqcMuWc8EjVpEOzGrpB1bvdm9OK9X9aDBrFf6usMPDj534tioGmoNG2NeLveZHL9tCJYFm1GaPfoXo1ykWrJhuQcZjaAP981K7vWBk5hA04OWWHipKMRJxrg0vQ6fN6DedMGKTcfVlvnGITl0VOWxZWtr/7ZnOlWlexdKTRysFjwVRZ5ADXxNvLQ07evH1PW0RB5y/K6Zwm8JTWK+0GEweOnaU3B0/SjZW4yTv2HqUeQ76gbz97jzKIc1c1aSPub8vXb5P3wm8X/0r9xDuc0cUdxvA4QsGO3UcpWDyneGTNJJ85jBaO2+jnCeoHAklNAIrbpO4BHN9lAqqHyXT3wV8+IWpVKSXPCx6sifrS4vIJkwgbPHxssajMlMG+ta91NdJHhPd59CjSEtN6vUrTPPhWqXRhmd/39t0HKjUNbQGBeCeg8v3NI0dWWjxtWKzMkgtPaY9sGYmVF2b0kmZvlZXffER/bD8glbchwlPsStgt8hBet34i5B0rInhAn8OAqihmu3efswq5/karWrF2CStv61cvT6t+3U6nzl40vOJW5f+bytdJzfhPxXzZWYTRFQsrW6zThPAAdq3KZWjt77to/9EzUnHL5fJ55pTh52/evs+zhpags5dk/TgMaExKW+vKc3oO7bk46OwFwytunbmWWLdPmw7w89QmDfvL+b01KV3MX5tU4pcH63fuPeZyWyoJxSEbYq3ZuJPu3HlAvt65DWdkzPlEWTI7+d7tMoQk3IDzfA/q0YYmz15JE79ZTiu+Hqnn+M6WJaOs2a3bltDPf4o84GwgyMLXS4gxCGz75zBZRymYMPQt6X363iezaM+hIHpr8GT6bsL7sXqJG6MlrtWC3+EavVZBKm7nLv/FFIpb1cfwOE1bn5HT9euE1qOct/7zD9/Sc3yzQeqZc5couTC4alL3FX25Vt5ov3x/2yauf/EhpcW7O3uVQ0DAyASguDVy76BuMRJwhzCZ7j74y8o+9kril5EjJ0NsrE1jPCmSeGFARA5Gfhi//+AhZYzlRZLzHO49dFLWONDfcY6oJG6ay4f3zJNDbpM2reWlmmduRrxgZsqgnnWpy4CwAQjEQkDl+xuHYSpfMiCW1quxigcuar9aRn7UaJHzrTDbvfv85Wuycfy84YyhQC5hfMByMTRM/hr5S+X/m8rXSZVTpviKXOAsHAL0pjDMtM477+9jWXdNhNTXJZwDKZP4bxo/FGjotVuyrn75nVNW5svjQf+ILS5FbCc3NuiXyteSwALeOvVHwgiX72GqCCv3+gyf5nJzONUNhxP+bskGmeKB86oaLTpUntyWd83LIocop6LgSDyqCBsThFy8IpvD0Vv6DptG2rt16BXLs8f+E2ep68CJtOvf47IcG4xYe+oalQWHlL97/2G8VI+N5bV8wPGyw3jayToRDt86nPzXn/S3eR9g5e2/x87I/ps3aRCxUaBKUryQJRQ53+cvhV4no3t2qjyGx2OOA8bMiqa05fNtzaadVCwgP3UVYeZZTguD1CGfz5HTHPXE6P3G97d+o2bK+sb1a/KHPalpvcpx3Q22B4EEJQDFbYLixc4TgoDKYTKtebnz4G94+Av9IeO+yHlrdAkQuVw14Tx4X4zsHeMgMLfr06+WyVCLXL5QgFo5krhNS6YP4x9d/vvvPwrwzUv++TypaKCvvhwTIAAC0Qm4y/0tesujL3n67Dn9seMAlRWWsBxiHmJ8Ama7d/8n7sksTx49iwY3efLk0ZadPRcql+XztAwaRyuABYlCQOXrpMopU9ijkRUMrGz5a88Ral6vin6+eOXKLqdvR4QA5QF+Vk6wmCEEKHslshwUA/IvxHMvv8PFJieFpy2Lf8R2sZXFuoQjUKRgpOKWczC/WrF4wh0Me443AgV9PenjdzvJ/bFywpG892ZLeiDyxebPawk17Kh8Uq5/JOrJkT004dyoUYUjku0SH01GD+xiSCWmVj/tl/PO12g/RJuN0++U4b2kZ2CcdhLPGy9YuYnGzVii73XRF0NEvvbC+nyj2hXphcjszunAWCn/xvsT6PsvhypleMDvAZrcFB77RlcAqjyGt+dgkIxawv1Rv1o56tmpEXH/fDn3R2n0MXX+anqjbR35vMKp6TQ5KSKIGL3ftLriFwTchQAUt+7S02gnCJiEAD/UT5u7Vq9tQSet1/UNkmAiq7CWHNyzNU36bhVt3r6faoo8eG+0qE0FRN15gPHBw0fEIRmX/LxF5rTiKnZtWVfmREyC6ibqIZOJwasvR72dqMfEwUAABMxLgO8BKzdsp+/XbCEenFo+c4ThFbf8IqyFrnOFfPbsWRwO8Luyv6Qsa8Z7t7XXDue7tfZ8YMWRtew/ckbPh8thr80mf/97QkYwOSPCpl0XXo05hfewv2hH8UK+ho9qYjbWca2vqilT2BhieP/X6Z2PZtBnXy+n2lVL6xFqskSEAA0TXhRPnz6jb3/4RV7/mWVBYfxndNEi6LCX0ayF66hvV/u5/X76baeeBz1Q5Ls1gxw7dYF27bOE3a1dpST5RrkGhpwPpcMnQsgvvxcVDfCmmAxfjNjOTBnT08C3WtGUOT/SF7NXUdXyRU1Td0c8c+fKQVuXTnBULNp6LWTkZ//rQQ+FEjFrlkzRyiT1gtSpUlKnVrWdrkaLhlWdLpvUBVOlSiXTajiqB4ebLx7gK5WXhRSM4OWo/WwYbiS5ci1MV9pyOoCFXwwVz1f5o1WxSe1KJKx7pFfuiTMX6eyFq8Th81URTgPGaWFYPLIZ79oRlbPKY3hnxfO+JoN6tdLv258N7S4NKPh55VTwZeLrB6dE0KId8juC0SWXR3basXKyw2peDbtLrXqPluW+HT+AigX6RNsmq8j7CwEBoxOA4tboPYT6OUWAB00vX7lJYXfuUg6RS84rT3ZTWB461ThFCl2/cYs6DvjMbmuePw2nuyLMMD9EaMIPvlUrRFqAacuN+NujY0M6cPysVNyysuHLeavtVrNciQAa3Ke13fVYAQIgAAK3hOfRmfNXKHeOzOSd1+LNoyoVHoBhy+DFQlm7Yese0zXz2o2X8yLQQhIaucEq37vz543MCXfweDBVr1QiWles37KXboTdoQWrN8l1xQPzGz6/rXUjrolnr0++XKwrna3XadPVKxSnYf07uIUxmdZmo/+qmDKFz8XPv1km0fNzcvW2g0W4ZMuA2YOHT+TybcITt3i93nr3lC1aIMbBb72AQSY8RejWprUq0c9b/pHP/8dPnacubeqSb76clC1rZhnO9YIIsb5i3Z+0fMM2WWvOc1tMXE/MIDMWrJHvN1zXZnUq6lUOvRpGvT+cqnv18Aq+nkwe2cvGEEbfwGATD0RUp5QijQMLe8CNFdfKAsKb05E0Fp5zRlRoWtebvb69REjul5UShX1fdlNsFwcCHsKgb+2cMXHYg3E35WshhyWND+FwrkYSTZGcI1tmWvzlEGnEYq9+nEOUyw8a/53IKBp7dAZ7+0jq5fbGXmtVK038MZOoOoanhRLn8VRrYyvP3B7EIfA37zpA+w8HScUt95dvHkuaurBb9wzffdw2Z6JxcZn3ureUz2UzFq4VxuDDlTHOMnwnoYLxSgCK23jFiZ0lNgFOpD5uxmLad/hUtEOzcmxI73bEgx+QpCfwPDxc9zZ1pjb84Dv147dtcmA5s11SlWHr8plj+9PWnQdp4rcrZF6gqHXxEYPEA99sTQ1qVVDGyypqGzEPAiAQNwI8kDh2+hKbUGkcXvKdrs2obZPq+s7ZQ/CeyBXFXu1GDGk0cuJCaiW8HGK7B3Nbf978N81b9ZseHl9rICvIurSsQ0WtQhlq6/CbeARUvnezZ1HJwn506EQwTZu3RobJ5P+TtUyevVKf5cGPT4UXUsqUKfRlRp5gb6nmPUfrnotcVy1ULU9ze9hYjpVl//YZS+vnjSEe0DG6PH7ylHbutXj/uVLXSqULUYYM6WjNxp10R4Tw4/C2RsvdaN0e1VKmhEd5D+Bzz9pY07rtPM3eHxM+fCvqYsPOjxr4hnwf5VDQG7fvi9VYgv97k0f0NIWRMecQ5WhCLO92bWEzWDpy0gIbpS2X4evJ+OlL6fPhPXjW0HL3/gOa8M1yvY7fr92iT8c2Ubywv+EVt7HVP6Z1ew+doifi2soKsXRp08RUBMtAIE4E0qZJrXQuSb5nzZ84WDxHOU6noeXUTC/uBWYSFcdeVR3D0wx3+DmL3wesc7gX9MsnFbeXhOOTJqlTp9Imlfpt36y6VNzyux6fvyWL+CnVPjTGPQhAcese/axkK78Woai+EDH67Qkrc9v3G0evN3uNPn6/sxzctlcWyxOeQIb06egNMQgfm6QQA6Y5PbKKHDS5qMYrJWLMExvb9kZYV7NKKeLPo8dPiK3rbwqvguwilHJekROPBwwhIAACIBAbgeET50fzOuWB4OGT5lM+z5x6WNOfhPJh7FdL5a7+WTNVePUYK9TPsvVbiT+sGOvVoSHVfrWsPkh9KiSUlv+0VfditObRukE16iDu26WKmufFij1vpo/qa92MGKc5/PM/B04QG/F80LOtCFVrfE9q1e/d7ZvUoHsPH8rP8dMXZZjPqJ3Hg3F1q5SjXp0amioX2axFG3SlbYu6VWho37bE4RVb9RotvcvWzh5F10QYsYFjZsm8o0M+nUsLpgw2vDU6hyXvM3xa1G5yOK95uH+3ZIM0rmOPAyMrbh02yGQFMmZIT2+1beCw1tmyZhAeIN5UvlQgZTDRoDaH3V07dzTNEmGeZy/dYLed/F7aT4RS5tCEZhBO9aJJh+Y1tEm6FHpdKml5ARtLD+zRmg4cPSONV1dv2kn9ujU1fLSQqIY6euMcTESx73FQ2hyrB4u8m/ysqV0nzVFr1BIEjEGAr+fLZwx3KdKAprw1Rgsc10L1sVfVxvAqCmNFTQ4eC9bHD3iZt5fFSPOmiO6lSdD5i3IyZ44s2iIlfvm9h9+7z4tnmaMnQ6C4VaJX3a8RUNy6X58r0eJ/D5+2Udp2a1OfSoiY9VNFKCe+KHNIhD0i9MOOvUdp8do/qIjw2GnfrKYSbTdrIzjX68gBr5u1+i7Xm62VA/28hMuA+EBAAARAwAkCbAmqhQrmlwwe4A0P/4/mrtgoFTAjp8ynzT98Lvf0asXiRF9Zdsp5kiqXK+LEERKviObNxxau/UbNlJ5+bRrXEIrL41J5aV0Tbmun5rWoZf0qpvRi4et9/ZrlrZsU4zTn1qn1+v/kcwp7SfNAv9FF9Xs3e7Fbe7Jr/TF34kB69uy5iPqRRTc40NaZ4Ze9UmctXier2rZhdRo3tFuM1WbvqrkTB1GDbsPl/5JzWcaUly3GjbEQBFwgwNe7oe+0c2EL8xXl6+WQPm2oe5vaFCRyx124fI1u3LpP2bNkoHxeOSnA18spbywjtfzylRuyOhwJicO4arLnQJA2qUe4qiCU7drzCl9LjJ7mIY/IA3v899l6O5yd0EJQOls+Kcvxc+VaYeh3LvSabsgTU31YacsyaNwsypopo5xOJXLJLp72Pxi/SxqJ88UhaNk4yVXJLv6bHKUBkjQEUomQ61mEob4mf/97Qnj3hdAZkWeUc4bmFIpdf5EbvHghX8O9r2l1ju3XncZeVRnDYw/3QT3aEEcOmigiS6z4eqT+PpMti+Vc1a41f+46pEe+YiNx1URLx3HhSphqTUN73IQAFLdu0tEqNZNzQoycPF82iV8iF0wZYlGQiSXzVv4mlzerW4ne7tKEps9bSzMW/kQjpyykOq+WkZ4GsgC+QAAEQAAEQMBgBI6fOqfXaPLwPrrXafmSgTKCBBsmcU45DsPll99L3NMyy4G40GvGexHZumwirfl1B81d/pv04uBBwWnzbXN/s8dbx5a1qGr5oob38tM7Jg4T+bxyycgTi1ZvlmkelkwfFoe9YdOEJGD0/IWO2m7tJfd+jxaxFvcXOR0b1awgjUZOn71oeMVtbqFs2bp0Qqxtimklh8Zm+UyEu+awcWbv45jaqNoyfud7Wa/IpGTBedUs+deKJWU14uXYd0SoZJZAv7w2+zsk8oKz8HOIdUqESqUKyWvJuUtXbcobdcZMSlhXGf7w4+80etoPLm3Gz5nnKdLL2qWNUTjOBK7duEk12g9xeT/wlHYZWYJswLncPxG5sjlcvj3hPODD+negAj7mMO7H2Ku9njT28tsipVLIxSuykpzDve+waeSZxxLGOzRCgbn/xFnqOnAi7fr3uCzH6VSsPXWN3ULnardqw1+60ZKvMBSHgIAZCUBxa8Zec/M63xBWa6dCLksKY97voitto2LhF/13RCiq9Vv/lhZER4POU/VKJaIWw3wSEQi9ekM8TAglhFA43Lx9n7w9PcgvXx7y8c5FbCFmRuHwyOt/300hF67SJWGh/uK/F7E244PebYQFfq5Yy2AlCICA+xDg/GKaWHu98aAohyLkFAD7jpymJhH5kwoK5W2YCMd+4+YdbTPD/LLnUZe29ahz6zr01z9HaNGPm/Wwilolnz5/TuHPw0mMzbuNlBcejqy45b5kr0iz3u/cpsNM2tALEUoTHoRxJiRr/ryWsN1nzlsGeYzcbPYq0nJ3vUw9SxT2fZnNsE0iErglwvet/e1vWvTTZpoyoo9yoe36j/iKrt+8LYwI3iRf4YVlZMkVEdI5KPiSTTX/OXRCzr9SqrDN8kcRzzEq3tfNlAf29p17NkpbTlvhnccyaJ1aeNJGFQ5vzVK5bBHKk8Ni5JJSeBFCQAAEnCPABmHNe47WlUS8FT+Dad7sWiQizgP+b5+xtH7eGGGIawlZ69wRkqaUO4y9qjiG90icj6t+3a6fNH/sPqRPaxM8hrBLfDQZPbCL7pWrLTPiLyulp875yW7VwsPD6d79h3T4VLCMcqUVrFAyQJvELwiYigCexkzVXagsEwgRlqCasBdtbMJWtNXKlZCK26Czl6C4jQ1WIq1jBfqshT/Haok4pHc76tK6NqVOnSqRahX3w+w/cob6jpxu87DuaK/d2zeA4tYRJKwHATcioA2QcpPZwtlaSgT4SmXfGZEfVpPsEaGOnj4N1xYZ7jd58uQyjyTnkgwWIcOW/PQnzf9xk6wnD17whwc2OreqQ60aVBGhaTMbrg3xWSEOzajJmXNXiMMnQ0AgvgloXnIZMqR1atfXhFEkS5bMGZwqj0IgEN8E+J7HirEV67bRmgglEh/jRZR7YXwfN773F3brDl2+eotuCcWZPdnx71G6//Axbd5xkAJDLaGIOdSm0VIecP0981gUCzzAe1547/gII1u+l2tG1CWK+No0k9MjsHjlym6zXIUZM+WB5VDdmswT4fCrVojd+/ufAyekgmmgCK1Zqqiftil+E5kAR4KYPqqvw6NeFVFsxn61VJYb3q+jCMNrMb5yuCEKJBiBWYs26ONALepWoaF928pof616jSb2eFw7exRdC7tLA8fMkv+1IZ/OFZEDBxs+4pDqY6+qjuGlSpWKChfI5/B85xywxcUYQ5O6r1Ahf9vIGg43TqICrJT+4affXTo6Xyc5WhkEBMxIAIpbM/aam9f50mWL4pZvRM6Ez0oT4b15564l1JOb40vS5vODUft+4xzWYQLnYfjlT1o5c6QpcgA+EIMv74/+Wn9Y5wZyHiv2OEuZIoXd9mbNmM7uOqwAARBwPwJlrSxBedCtaIC3DsHX2zIoYyoFGxwAACELSURBVD0YfPX6Lbk+e9bIvEr6Bgac4BemD9/tSO++1Vx6U81duVFawrI1Ol/3+dO6fjVq37wmlS7qb8AWxL1K10UYNU1UDtGotRG/SUMgjzCGYGHliiPPbj4nN27bK8sXyG9s7z9ZSfG1cete+nHDdjn7drdmNteLm0LBtGXnQZlfzl9cNxvVrmSTm1PbB36NQYA9J9ZtYu/a3/Uca1rN2Kgnh8gPawbhSEIcInPzrgNOV5fvedZy8o85Tr3bWm+T0NOBfl7E3pqskO3y/iRhBF2S1m35Wz9ss7qV9emDx4L1dyHvfOZRJKmYB1YzxuFQ1o6UtnoHYiLJCXB+zfo1yztVjyPCGJ6NXI6JPMZd29R1ahsUShgC/Jw1a/E6ufO2DavTuKHdYjxQWRF1Z64wpGjQbTixsQTnAreOsBTjRkm8UOWxV5XH8Dgn/do5Y5L47EmYw7Ohm58TxireuXOKiI6e1KZpddMopROGGPZqdgJQ3Jq9B92w/unSpZGtvhhhoewIwf6jp2QRZy7ujvaF9S9PgMPHvDVksr4DtkRs2aCqCJGcQypnb9y+S2eCQ+nbJRvk4EDw+av00aSF9MWoPvo2Rp04cPSMHgaHH9bZwpKVthAQAAEQcIUAv2S1blBNhjaau/RXmjSyp745D76xhN20hDS6cOkG/XvsjFyWMyKUoZwxwVfGDOnpdZHbtkOL12jHnqP0/erf6Y9dB2XNV23cTvwpHpifurSsI5QuFU0VfcERfvZO+mb8AFnMLx9C5TvihfUvRyBv7khvt5NnLsXoQXUhNEwOGk6es1J6/3EYv7IiLLsZ5Lulv8hnRb4uFrHyKNhzIIg6vfeZTRO+XryB5k0a7JTngc2GmEkwAuxd+68w5ly+ditpIVqtD9ZSvCO0alSNKpQuRBwa2+jCXsEDx34no2IYva6u1o+NpIf2aS//V2xktXTdVn0XvTs2tjGKmD7Pksee/5clTRKSXNU8sJkzptf7CRNqEuj7RmOpuOVr6Nti2uhh19XsBUurzllFBHy/R4tYm+rv60mNalaQucBPn71oeMWtymOvGMOL9VQ17EpOAbNx4aeGrR8qBgLxTQCK2/gmiv0lOAHPiNx+HGIq9GqYyA0RGXbQ+uD8Er1ohSWPHC8P9I/0XLIuh+nEIcAhkrnPWAb1aE29Oze2OXCWzBmpgI8X1a1elkZOXEDLN2wT+Yl3U4+gRoYPJRl8PjJ06YgBHYmtZSEgAAIg4CoBzrFTOOJetfb3XRTgl1fm/+b9HDt1Xu4u6PxFmrVoHS0VA96aVC5XWJs01S8PyL9asbj8cAjGJT9to2Xrt8p7BYcVG/L5HPIVHoAqed9yPisz5LQy1YmEykYj4OOdR8+ttmjVZqG4jTQC0Qp3HTRRm5S/E4b1EKGSje+9zyEitXCsQ3u1JS2yDisDR0yZZ9MmnuEQr6O/XERLpg+Ltg4LEpfAHeFdu/733bRg9aZo3rUcSal905rUpFZFU5yH1uQ4HQ/nLWepWr4YvdmuPuUW3sKpUyQTYTCjK57b9/9MnpdThvcS+Xt95XacVsCZSFKycCJ/VSgdSMtnjqCpc1fTwQiDseZ1q1Kfzo30mjwTOesrlSkiPwVF1CFuj9FF5Tywvnkt+Wz5+hfbeInR+wj1s08gv7jPa3lTD58IgeLWPqoEX3Ph0lV5DI4SwUolR5I/ryUiwZnzVxwVTfL12lirimOvqo/h3bp9j85ftqRj8PPOFc2x5MWLF3RdpErxyJ7VFLltk/zPgAqAQBIRgOI2icDjsC9PwNfKQ2XnvmPUutGr0XY2fvpSOhd6Tc+/07RWJcNbs0VrhGILgs5c0FvUuVVtfTrqBA9ajBzwulTc8rqjJ4MNr7jNmjWT3oy0EaG59QWYAAEQAAEnCfAg4riZS/TSk2ev1Ke1CY5GMGXOj9qsNIRhD1azC+fNG/pOO+rXvRmt2/w3cRhlbisEBEDAdQJsFNGiXlWa+cPPxEYgPV5vaNfjlL3bR/TvRBzCzwzCnsKa1KtZTpskNhDUrhntGlWnEeJZ8rgIQ8gpOlipduh4sFCSIXejDiyRJzgkd9U2g6Id9Q0RWYEj8Bg9XGS0ilstuHj5mj43a1x/3ZhAXxhlIo0I88fiLQbv+d5nBmEDqnmTovefVncOXdhTXGfMJCrngc0nzq01342W3ZHd6j3VXv98O2EgPX8eTgWFNyDEHAR4zCR7tkzS2PGkMB5pao5qK1nLO/csKdkyZEjrVPu0UOZZMhs/QpvKY6+qj+FNnbuGFq/9Q56TfD8oGhERkEN7T529htZs3qmnN2DHmp6dGpkiyklMf7Lw8Bd0+cpNCrtzV6TYyExeebJDGR0TKCwzJQEobk3Zbe5daQ5BW6dyaZlDaNJ3q6ixyF0VVVlmnV+ILZ9ZEQhJWgLWL41ayBV7NWLviXIlAuRAW8iFyMEQe+WTenkRqzyUbHFplkGYpOaG44MACLw8AVa2dG5Zm1o1rPbyOzHglhlEuNb2zWpSu6Y16O9/T5CPp4cBa4kqgYDxCbzdpTF1allTVjR7tix6hT/o3Y7uikHGXB7ZZLqKHCJEu1E9/fRKW02EXonwHhD5rdKnixwkPXj0tF6qd6cm8t2gjAj9zKlSWKEbfCEUiludUOJPPA8Ptzlo9QrFafLIXqbzrrVpRMTMCzFgyOIjvBw1D/CIVW73M2fpRrr/4BG93rwG5RTXGCOLpjxRMQ8sG+8UtXo/ddQPnMsYYi4CnJv5fESI3pziPg5JOgJ5hKcty6mQy8RKsahjk9Y1YyOmjdv2ykUFRFQho4vKY68qj+E9EeehprRtVruyzf1g4qyVtGj1ZptTb/LsVcTKz75dzWUCwtfBcTMW61FPrBvF48lDxDsPvwtAQMDMBKC4NXPvuXHdu7dvQJ55LIO5l67ekCF2GYe3Z0568PgxeeXyIH9vT6ouQjDWqFzSjUkZp+lFCkaGqj4nQgv75Y/9BTFlihSy8mxJanTxE+daycJ+MnTf2s17qF83cz3wGJ0v6gcC7kIgT64ctHvtNIfNzZg+HaVMablGOixs0gKsSKpcrohJa49qg0DSE2AFUs4YooCY/X/1VIRkZfHIajtQfVB41LIEiDCt3nkjDT5KFSogFbcXQy0KX1kIX4lOIE3q1MQKMg7dyrJtzxF6rcMQ6tDkNWreoAoV8s+b6HWKrwNqCkpWonDIYPY+VVU4FdGjiNQ3MbVx0apNxLlwy5cM0A0rkqdIbsg0MirngWXl0bZdh2LqIpeXlRaD3mzoA0l4ApwyZdvfh+0e6JkwgLl//yGdOHOR1m7epZcrKow5IUlHIG9ui+KWa3DyzCWRniJ6dA+OFnJMRAGZPGel9JLmMNdlTaJQUnXsVeUxvOCLkc4vfd9oov852HBTU9ryM1mnZrXoWFCIdIr6UuSp79i8JmVzIkqDvsMknPh64Tr6Ym5kFLKoVeFoOxx15/Vmr9HH73c2lZFq1LZg3r0JqPtW4d79qnzrOdcOf6LK1NF9oy7CvEEIcB6WCiUDac+hIFqxfgcN6dvWbs3Y2uuoeIBg4QE4owtbNY8Z1I1a9PyYps1fTc3rVpThz4xeb9QPBEDAWARYWZnVBDkmjUUNtQEBEHAnAl4iTzQLP09yfi7Opcn5bf/ae0QuL1O0oPzVvkKFEoklfbo02iL8JgGB7GKAcNuKSbR15yHpBbJj71E5eD17+S/EHzaAbN+kBjWoWZ4yZUyfBDV8+UMG+HlS/Wrl5A6uXb9FeYUhcWxSvVJJ4txz2bMY3ziV2/H06TNasmYrLV63RQ9HHlv7eF33DybbFDn5xxzDDZqqnAf21u271G/UTJs+eNmZyR/2pKb1Kr/s5tjOBQKcMqW/i/3G3nQxjYu5cFgUjSMBHzHOxflt2Whl0arNQnHbM9oeuw6aaLNswrAepok4oerYq8pjeFeuhsnzjQ0E/PJHpmT4Z/9J/TwcPaAz1RPPXGxwVqxOL7n84LGzVLNKKb2MUSf+PXzaRmnbrU19KhHoQ1MXrJGRCN7r3pL2HA4iftZkz2N2IuKIXhAQMCMBKG7N2GuoMwiYkACHSOvSqo4caOMBmkplClGe3DlibMmJ0+fkYA6v5BB+nLfFWrw9c+hW3NbLk2o6VDwYsdJWk9qdhmmTsf7KXBMuhLGKdWdYCQIg4HYEzBSS0O06Bw0GARBIEAK++SKVYrv2HaeqFYrR79v3656c5UVoNE1YsasZAuYVEQ0gSUuAPVHrVi8rP+cvXpGGnD/89Lt85j90IlhGrhk+aT61blBNpgEoJ7w2eWDV6MJ55qePfcfpao4Z3MXpskYoOObLH2j5hm1GqEq81gF5YOMVJ3aWyAQ4DUD31vWodeNXE/nIOFxUAnyfalGvKs384Wda+/su6iHyfRcukC9qMTnPqW5G9O9EZUvYGpnFWBgLE5SAymN4V0VIbpYiBX1sjKYORUSnYYVurWplZBl+NuP0FRwJ5bxI+2Z0YWPNkZPny2qy1/CCKUNIC/c/b+VvcnmzupXo7S5NaPq8tTRj4U80cspCqvNqGRH5xTZaj9HbivqBABOA4hbnAQiAQKIQuBF228aCtOewL506bqveo6OVM57l73/R6ujMgmfPLOH+nCmLMiAAAu5HQKWQhO7Xe2gxCIBAQhDwFB63jWtWpPVbd0uvPs3LhY/FAzgNa1XQD7tp27+6IWABf+NHcNEr7gYTPvny0KDeral/92a0+a/99MNPW6RxJzd91a/b5Ydzxs6bMBBRbJLwfLh4+ZqutOX/V7tG1ckzVzY5EJwqVfShpLHTF8v/XK8Ojcg/wssnhQiVbMQ82qxsUTUPbC6P7LRjpa3Xc0yn0dWwu6S9a387fgAVEx5LUSWrScJmRq23Gec5ZcrOVVNirXqy5BydJxPx/wpiHAJvd2lMnVrWlBXKbqUc+kDk2OTwtBxunJ0P2CnBiNdD45BMzJqoO4aXLSKC143bd2yA/nv0lJwvW6ygTdqlTMIAjeXugyfy18hfPK7M+aRZxrzfRVfaRq0z/8/eETl712/9W0YLORp0nqpXKhG1GOZBwPAEoj9tG77KqCAIgAAIGItA5owZaOBbrVyulFeurC5vgw1AAATUJqBqSEK1ew2tAwEQSEwCg3q1osOngmU4NA5NqMn7b7Ykzu3Lwt62U+auktPs+VLAB4pbCcNgX6lTp6JGtSvKz9mQUOGF+xctW79VKv84Z2zYnQdCcWuwSrtRdc5eiPS+WfX1CPLKE5k/OiYM0+aukX1Xt3q5GPM8xrQNlsU/AVbqabmXY9s7l+GQkpzbcMbCtbR85nAZfj62bbAu4QiwosEjB8YHEo5wwu2Znz1yRjx/WB+lcrki1rOYNhABlcfwtMiGweevSsOBzJky0O2793UDudJR0orwMzVLnpzGv/6EiGdDTdiLNjbhe2G1ciWk4jZIRHGE4jY2WlhnVAJQ3Bq1Z1AvEFCMAL+ELPpiSLy0qqCvZ7zsJ752kiFDOurzRpP42h32AwIg4MYEVA1J6MZdiqaDAAjEM4F8Xrlo5cwRtOznv+jYqRBKkzo11a5amurVKKcfSURSo8+G9JDzHtky6ssxYVwC/uL5fug77WhAjxa06c999MOaLcQh/CBJR+D+/Ufy4OzZ7khpm3S1xJHjQqB9s+pSccvhyo+cPEcli/jFZXfYFgRAAARMQUDlMbzCIqcrR8kIu3WX/jd+DjWqU0kYxkWmPKgj0lZowiGj2VCOJa8D4yxtm6T8vXTZUlc2ynTGe10z6Lxz90FSVhvHBoGXJoA3oZdGhw1BAARcIcADL5XKFHZlE5QFARAAAbcioHJIQrfqSDQWBEAgwQlkzZKJenduZPc4bGVfpngBu+uxwrgE0gqvpab1KsuPcWvpHjXLFhEm9+6Dh8R55ZwZJHUPMuq0knP+cVhyHrg/ejIEilt1uhYtAQEQcFMCqUUqA44IOHzSfNq864D8aCg43Yh1DubvfvhFW2WK5+Z06dLI+l4MvaHXO7aJ/RHhoTkvOAQEzEgAilsz9hrqDAIgAAIgAAIgoBwBhCRUrkvRIBAAARAAgRgI3Lv/kM6cv0IhF67QjZt3ySN7ZsqfNzcVEHlROaQfxBgECkbkqb3/8DGdE33l6xN71KM06VLJiseU/9YYLUItYiLw4KElr+GFK2ExrcYyEAABEAABkxFo26Q6PXz8hMbNWKLXPMDXiwb2bKnPP3v+nC5duUHVKxQXStuCxIZzRhfP3DlkFfm5hL2Ftfmo9X4hjM0WrdhM+w5b8voG+ntHLYJ5EDAFAShuTdFNqCQIgAAIgAAIgIDqBBCSUPUeRvtAAARAwL0JhIe/oCUiBPKY6YvtghjcszV1a1uPOP8tJGkJcA7UoK1zna7ExoWfOl0WBY1BYNWGv2Q4Ta6Nr/C8hYAACICAOxB4/OQpbdt1yOWmVqlQlDJmSO/ydkmxQdc2dalj89forDCUS5sqBXkLAzmOSKMJR0X8ZsJ72qwpfn3z5dLruXPfMWrd6FV9XpsYP30pnQu9RqdCLstFTWtVouKF8mur8QsCpiIAxa2puguVBQEQAAEQAAEQUJUAQhKq2rNoFwiAAAiAAHs/9Bj6Be3YezRWGJO+W0U/bdpFq775yBTeH7E2BitBIAkI3L57n6bO+cnukcPDw4m93g+fCtZzG3LhCiUD7G6DFSAAAiCgEoFbt+9Sv1EzXW7SipkjqVRR8+QC57DJ1qGRXW6wwTbgqCx1KpeW4Z/5ebFx7UrRnhU5PLQmVcsXo5EDXtdm8QsCpiMAxa3pugwVBgEQAAEQAAEQUJEAQhKq2KtoEwiAAAiAABNY++tOXWnLOTX/16c9FSnoTf0/nklHgs7Rgskf0KHjwTR59krpJTFx1koMtuHUAYGXIPDo0WP64affXdpyeL+O5Jffy6VtUBgEQAAEQAAEEptA9/YNyDOPhzzspas3qICP5d7l7ZmTHjx+TF65PMjf25OqVyxONSqXTOzq4XggEK8Ekv0nJF73iJ2BAAiAAAiAAAiAAAiAAAiAAAiAAAiAgCDAIZIrNO1HnJOsXIkAmjdpkO4h0arXaKm43bL4M8rnlYu27DhAfYZPk9w2fz+efPLlAUMQAAEXCNwIu02d3v/c4RbeuXOSXz5PatO0OhXyz+uwPAqAAAiAgCoE+Lnk5q07Dpsz64dfaNHqzdJrdfbn75NHjqyUPFkyh9uhAAiAAAjEBwF43MYHRewDBEAABEAABEAABEAABEAABEAABEAgGoHLV65LpS2vGPluZ11pG62gWFCrammqVLow/XPgBJ04fRGK25ggYRkIxEKAFQvINxwLIKwCARBwewKc65XzuDuSgT1b0e/b/6UTZy7S3oOnqFHtio42wXoQAAEQiDcCkVmp422X2BEIgAAIgAAIgAAIgAAIgAAIgAAIgAAIEIVcui4xZEyflooGeDtEUqKwvyxz8uxlh2VRAARAAARAAARAAAQSgkAG8dzSumF1uespc1clxCGwTxAAARCwSwAet3bRYAUIgAAIgAAIgAAIgAAIgAAIgAAIgEBcCFy5dlNuns/TkpPM0b6ePHkqiyAaoSNSWA8CIAACIAACIJCQBEoV85O7Py+M0G7fuUdZs2RKyMNh37EQuH7jFnUeOCGWEjGvmjHmXQrw9Yx5JZaCgIEJQHFr4M5B1UAABEAABEAABEAABEAABEAABEDAzAQ8smeR1edQg5xXjkMU2hNW2v65+6Bc7e+D/Lb2OGE5CIAACIAACIBAwhPIkD6dfpALoWFQ3Oo0En/ieXg4BZ+/6vKBHz587PI22AAEjEAAilsj9ALqAAIgAAIgAAIgAAIgAAIgAAIgAAIKEvDMnUNv1bkLV8nfjtfDjbDbNG76UmKvFpaSRXzlL75AAARAAARAAARAICkIXA61PJPwsTOmS50UVcAxIwikS5eWOjWv7ZAHP09u3L5PlmsrQl3n9sjscBsUAAEjEoDi1oi9gjqBAAiAAAiAAAiAAAiAAAiAAAiAgAIE/L1zE+e3vS88Hjb8sYf6dW8WrVXNeoyS67UVA99qRfm8cmmz+AUBEAABEAABEACBRCfQoFYFqv5KCXncTJkyJPrxccBIAlkzZ6SP3+8UucDO1IsXL6hd33F06EQw+eTNSXlyRRoQ2tkEi0HAkATsxygyZHVRKRAAARAAARAAARAAARAAARAAARAAAbMQSJ06FTWqWVFWd9qCNcQ5yqIKK3U1GdSjDfXo2FCbxS8IgAAIgAAIgAAIJAmBVClTUhahMORP8mTJkqQOOKhrBJInT07/69tBbjR59iq6cfOOaztAaRAwCAF43BqkI1ANEAABEAABEAABEAABEAABEAABEFCRQJ/OjejVisVl05KJATVNGgqFbpliASKMXRbKnzc3lStRkDxyZNVW4xcEQAAEQAAEQAAEQAAEXCJQplgBvfyhY8FUq1ppfR4TIGAWAlDcmqWnUE8QAAEQAAEQAAEQAAEQAAEQAAEQMCEBDnscU+jjnq/Ds9aE3YkqgwAIgAAIgAAIgIBhCaRIkZz8fHJT8PmrdCToHBS3hu0pVCw2ApGmrrGVwjoQAAEQAAEQAAEQAAEQAAEQAAEQAAEQAAEQAAEQAAEQAAEQAAEQMCiBW7fvSaUtVy9VyhQGrSWqBQKxE4DHbex8sBYEQAAEQAAEQAAEQAAEQAAEQAAEQAAEQAAEQAAEQAAEQAAEQCAJCISHv6Cbt+znq30u1t97+IROn71Is5f9otcwwM9Ln8YECJiJABS3Zuot1BUEQAAEQAAEQAAEQAAEQAAEQAAEQAAEQAAEQAAEQAAEQAAE3ITAtRs3qUb7IS61tnhgfqpRuaRL26AwCBiFABS3RukJ1AMEQAAEQAAEQAAEQAAEQAAEQAAEQAAEQAAEQAAEQAAEQAAEQOClCTSuWZGG9m0rQiVD/fXSELFhkhJI9p+QJK0BDg4CIAACIAACIAACIAACIAACIAACIAACIAACIAACIAACIAACIAACUQg8efKU/tx1KMpS29lkyZOTR/Ys5O2ZgzxyZLVdiTkQMBkBKG5N1mGoLgiAAAiAAAiAAAiAAAiAAAiAAAiAAAiAAAiAAAiAAAiAAAiAAAiAgHoEkqvXJLQIBEAABEAABEAABEAABEAABEAABEAABEAABEAABEAABEAABEAABEAABMxFAIpbc/UXagsCIAACIAACIAACIAACIAACIAACIAACIAACIAACIAACIAACIAACIKAgAShuFexUNAkEQAAEQAAEQAAEQAAEQAAEQAAEQAAEQAAEQAAEQAAEQAAEQAAEQMBcBKC4NVd/obYgAAIgAAIgAAIgAAIgAAIgAAIgAAIgAAIgAAIgAAIgAAIgAAIgAAIKEoDiVsFORZNAAARAAARAAARAAARAAARAAARAAARAAARAAARAAARAAARAAARAAATMRQCKW3P1F2oLAiAAAiAAAiAAAiAAAiAAAiAAAiAAAiAAAiAAAiAAAiAAAiAAAiCgIAEobhXsVDQJBEAABEAABEAABEAABEAABEAABEAABEAABEAABEAABEAABEAABEDAXASguDVXf6G2IAACIAACIAACIAACIAACIAACIAACIAACIAACIAACIAACIAACIAACChKA4lbBTkWTQAAEQAAEQAAEQAAEQAAEQAAEQAAEQAAEQAAEQAAEQAAEQAAEQAAEzEUAiltz9RdqCwIgAAIgAAIgAAIgAAIgAAIgAAIgAAIgAAIgAAIgAAIgAAIgAAIgoCABKG4V7FQ0CQRAAARAAARAAARAAARAAARAAARAAARAAARAAARAAARAAARAAARAwFwEoLg1V3+htiAAAiAAAiAAAiAAAiAAAiAAAiAAAiAAAiAAAiAAAiAAAiAAAiAAAgoSgOJWwU5Fk0AABEAABEAABEAABEAABEAABEAABEAABEAABEAABEAABEAABEAABMxFAIpbc/UXagsCIAACIAACIAACIAACIAACIAACIAACIAACIAACIAACIAACIAACIKAgAShuFexUNAkEQAAEQAAEQAAEQAAEQAAEQAAEQAAEQAAEQAAEQAAEQAAEQAAEQMBcBKC4NVd/obYgAAIgAAIgAAIgAAIgAAIgAAIgAAIgAAIgAAIgAAIgAAIgAAIgAAIKEoDiVsFORZNAAARAAARAAARAAARAAARAAARAAARAAARAAARAAARAAARAAARAAATMRQCKW3P1F2oLAiAAAiAAAiAAAiAAAiAAAiAAAiAAAiAAAiAAAiAAAiAAAiAAAiCgIAEobhXsVDQJBEAABEAABEAABEAABEAABEAABEAABEAABEAABEAABEAABEAABEDAXASguDVXf6G2IAACIAACIAACIAACIAACIAACIAACIAACIAACIAACIAACIAACIAACChKA4lbBTkWTQAAEQAAEQAAEQAAEQAAEQAAEQAAEQAAEQAAEQAAEQAAEQAAEQAAEzEUAiltz9RdqCwIgAAIgAAIgAAIgAAIgAAIgAAIgAAIgAAIgAAIgAAIgAAIgAAIgoCABKG4V7FQ0CQRAAARAAARAAARAAARAAARAAARAAARAAARAAARAAARAAARAAARAwFwEoLg1V3+htiAAAiAAAiAAAiAAAiAAAiAAAiAAAiAAAiAAAiAAAiAAAiAAAiAAAgoSgOJWwU5Fk0AABEAABEAABEAABEAABEAABEAABEAABEAABEAABEAABEAABEAABMxFAIpbc/UXagsCIAACIAACIAACIAACIAACIAACIAACIAACIAACIAACIAACIAACIKAgAShuFexUNAkEQAAEQAAEQAAEQAAEQAAEQAAEQAAEQAAEQAAEQAAEQAAEQAAEQMBcBKC4NVd/obYgAAIgAAIgAAIgAAIgAAIgAAIgAAIgAAIgAAIgAAIgAAIgAAIgAAIKEoDiVsFORZNAAARAAARAAARAAARAAARAAARAAARAAARAAARAAARAAARAAARAAATMRQCKW3P1F2oLAiAAAiAAAiAAAiAAAiAAAiAAAiAAAiAAAiAAAiAAAiAAAiAAAiCgIAEobhXsVDQJBEAABEAABEAABEAABEAABEAABEAABEAABEAABEAABEAABEAABEDAXASguDVXf6G2IAACIAACIAACIAACIAACIAACIAACIAACIAACIAACIAACIAACIAACChKA4lbBTkWTQAAEQAAEQAAEQAAEQAAEQAAEQAAEQAAEQAAEQAAEQAAEQAAEQAAEzEUAiltz9RdqCwIgAAIgAAIgAAIgAAIgAAIgAAIgAAIgAAIgAAIgAAIgAAIgAAIgoCCB/wMOJ6b79wbtRwAAAABJRU5ErkJggg==)"
   ]
  },
  {
   "cell_type": "code",
   "execution_count": 11,
   "metadata": {
    "colab": {
     "base_uri": "https://localhost:8080/"
    },
    "executionInfo": {
     "elapsed": 896,
     "status": "ok",
     "timestamp": 1640281215275,
     "user": {
      "displayName": "孫睿菡",
      "photoUrl": "https://lh3.googleusercontent.com/a/default-user=s64",
      "userId": "08667895551467607443"
     },
     "user_tz": -480
    },
    "id": "PHa0yvdH4ImL",
    "outputId": "523f2e45-74be-4b5b-80df-d714d755bafd"
   },
   "outputs": [
    {
     "name": "stderr",
     "output_type": "stream",
     "text": [
      "/Users/rhs/miniforge3/envs/tf/lib/python3.9/site-packages/sklearn/utils/deprecation.py:87: FutureWarning:\n",
      "\n",
      "Function get_feature_names is deprecated; get_feature_names is deprecated in 1.0 and will be removed in 1.2. Please use get_feature_names_out instead.\n",
      "\n"
     ]
    }
   ],
   "source": [
    "test_df_counts = count_vect.fit_transform(test_df['text'])\n",
    "test_feature_name = count_vect.get_feature_names()\n",
    "test_frequencies = []\n",
    "for j in range(0,test_df_counts.shape[1]):\n",
    "    test_frequencies.append(sum(test_df_counts[:,j].toarray()))\n",
    "test_frequencies = np.asarray(test_df_counts.sum(axis=0))[0]"
   ]
  },
  {
   "cell_type": "code",
   "execution_count": null,
   "metadata": {
    "id": "_uYEnDE54ImM"
   },
   "outputs": [],
   "source": [
    "d1 = dict(zip(test_feature_name,test_frequencies))\n",
    "d3 = sorted(d1.items(), key = lambda x:x[1], reverse=True)\n",
    "d3 = dict(d3[:30])\n",
    "key = []\n",
    "value = []\n",
    "for k,v in d3.items():\n",
    "    key.append(k)\n",
    "    value.append(v)\n",
    "    trace_basic = [go.Bar(\n",
    "                x = key,\n",
    "                y = value\n",
    "        )]\n",
    "# Layout\n",
    "layout_basic = go.Layout(title=' Top 30 words in the test dataset ')\n",
    "# Figure    \n",
    "figure_basic = go.Figure(data = trace_basic, layout = layout_basic)\n",
    "# Plot\n",
    "iplot(figure_basic)"
   ]
  },
  {
   "cell_type": "markdown",
   "metadata": {
    "id": "s3ovPxdfTtx7"
   },
   "source": [
    "![image.png](data:image/png;base64,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)"
   ]
  },
  {
   "cell_type": "markdown",
   "metadata": {
    "id": "hY4Ixl694ImM"
   },
   "source": [
    "---\n",
    "### 1.2 Save data"
   ]
  },
  {
   "cell_type": "markdown",
   "metadata": {
    "id": "ymWSl3cB4ImM"
   },
   "source": [
    "We will save our data in Pickle format. The pickle module implements binary protocols for serializing and de-serializing a Python object structure.   \n",
    "  \n",
    "Some advantages for using pickle structure:  \n",
    "* Because it stores the attribute type, it's more convenient for cross-platform use.  \n",
    "* When your data is huge, it could use less space to store also consume less loading time.   "
   ]
  },
  {
   "cell_type": "code",
   "execution_count": 14,
   "metadata": {
    "executionInfo": {
     "elapsed": 404,
     "status": "ok",
     "timestamp": 1640281904364,
     "user": {
      "displayName": "孫睿菡",
      "photoUrl": "https://lh3.googleusercontent.com/a/default-user=s64",
      "userId": "08667895551467607443"
     },
     "user_tz": -480
    },
    "id": "6PMxZP_64ImM"
   },
   "outputs": [],
   "source": [
    "## save to pickle file\n",
    "train_df.to_pickle(\"train_df.pkl\") \n",
    "test_df.to_pickle(\"test_df.pkl\")"
   ]
  },
  {
   "cell_type": "code",
   "execution_count": 15,
   "metadata": {
    "executionInfo": {
     "elapsed": 4,
     "status": "ok",
     "timestamp": 1640281905666,
     "user": {
      "displayName": "孫睿菡",
      "photoUrl": "https://lh3.googleusercontent.com/a/default-user=s64",
      "userId": "08667895551467607443"
     },
     "user_tz": -480
    },
    "id": "Rcx-fc6R4ImN"
   },
   "outputs": [],
   "source": [
    "import pandas as pd\n",
    "\n",
    "## load a pickle file\n",
    "train_df = pd.read_pickle(\"train_df.pkl\")\n",
    "test_df = pd.read_pickle(\"test_df.pkl\")"
   ]
  },
  {
   "cell_type": "markdown",
   "metadata": {
    "id": "EBDhRndb4ImN"
   },
   "source": [
    "For more information: https://reurl.cc/0Dzqx"
   ]
  },
  {
   "cell_type": "markdown",
   "metadata": {
    "id": "6tbRIo494ImN"
   },
   "source": [
    "---\n",
    "### 1.3 Exploratory data analysis (EDA)\n",
    "\n",
    "Again, before getting our hands dirty, we need to explore a little bit and understand the data we're dealing with."
   ]
  },
  {
   "cell_type": "code",
   "execution_count": 16,
   "metadata": {
    "colab": {
     "base_uri": "https://localhost:8080/"
    },
    "executionInfo": {
     "elapsed": 7,
     "status": "ok",
     "timestamp": 1640281215861,
     "user": {
      "displayName": "孫睿菡",
      "photoUrl": "https://lh3.googleusercontent.com/a/default-user=s64",
      "userId": "08667895551467607443"
     },
     "user_tz": -480
    },
    "id": "LEt07JvB4ImN",
    "outputId": "119fb701-bc97-4d99-e626-e87a046229c1"
   },
   "outputs": [
    {
     "data": {
      "text/plain": [
       "emotion\n",
       "anger       857\n",
       "fear       1147\n",
       "joy         823\n",
       "sadness     786\n",
       "Name: text, dtype: int64"
      ]
     },
     "execution_count": 16,
     "metadata": {},
     "output_type": "execute_result"
    }
   ],
   "source": [
    "#group to find distribution\n",
    "train_df.groupby(['emotion']).count()['text']"
   ]
  },
  {
   "cell_type": "code",
   "execution_count": 18,
   "metadata": {
    "colab": {
     "base_uri": "https://localhost:8080/",
     "height": 241
    },
    "executionInfo": {
     "elapsed": 593,
     "status": "ok",
     "timestamp": 1640281216451,
     "user": {
      "displayName": "孫睿菡",
      "photoUrl": "https://lh3.googleusercontent.com/a/default-user=s64",
      "userId": "08667895551467607443"
     },
     "user_tz": -480
    },
    "id": "LO4k1ZJv4ImN",
    "outputId": "d8686a98-df40-4c0a-cb42-1853718f9134"
   },
   "outputs": [
    {
     "data": {
      "image/png": "[encoded data removed]",
      "text/plain": [
       "<Figure size 360x216 with 1 Axes>"
      ]
     },
     "metadata": {
      "needs_background": "light"
     },
     "output_type": "display_data"
    }
   ],
   "source": [
    "%matplotlib inline\n",
    "import numpy as np\n",
    "import matplotlib.pyplot as plt\n",
    "\n",
    "# the histogram of the data\n",
    "labels = train_df['emotion'].unique()\n",
    "post_total = len(train_df)\n",
    "df1 = train_df.groupby(['emotion']).count()['text']\n",
    "df1 = df1.apply(lambda x: round(x*100/post_total,3))\n",
    "\n",
    "#plot\n",
    "fig, ax = plt.subplots(figsize=(5,3))\n",
    "plt.bar(df1.index,df1.values)\n",
    "\n",
    "#arrange\n",
    "plt.ylabel('% of instances')\n",
    "plt.xlabel('Emotion')\n",
    "plt.title('Emotion distribution')\n",
    "plt.grid(True)\n",
    "plt.show()"
   ]
  },
  {
   "cell_type": "markdown",
   "metadata": {
    "id": "lzG2zeb_4ImN"
   },
   "source": [
    "---"
   ]
  },
  {
   "cell_type": "markdown",
   "metadata": {
    "id": "Bl_Vy8g74ImO"
   },
   "source": [
    "## 2. Feature engineering\n",
    "### Using Bag of Words\n",
    "Using scikit-learn ```CountVectorizer``` perform word frequency and use these as features to train a model.  \n",
    "http://scikit-learn.org/stable/modules/generated/sklearn.feature_extraction.text.CountVectorizer.html"
   ]
  },
  {
   "cell_type": "code",
   "execution_count": 19,
   "metadata": {
    "executionInfo": {
     "elapsed": 550,
     "status": "ok",
     "timestamp": 1640281915070,
     "user": {
      "displayName": "孫睿菡",
      "photoUrl": "https://lh3.googleusercontent.com/a/default-user=s64",
      "userId": "08667895551467607443"
     },
     "user_tz": -480
    },
    "id": "YsAvFvMA4ImO"
   },
   "outputs": [],
   "source": [
    "from sklearn.feature_extraction.text import CountVectorizer"
   ]
  },
  {
   "cell_type": "code",
   "execution_count": 20,
   "metadata": {
    "executionInfo": {
     "elapsed": 559,
     "status": "ok",
     "timestamp": 1640281916527,
     "user": {
      "displayName": "孫睿菡",
      "photoUrl": "https://lh3.googleusercontent.com/a/default-user=s64",
      "userId": "08667895551467607443"
     },
     "user_tz": -480
    },
    "id": "B13iUYO-4ImO"
   },
   "outputs": [],
   "source": [
    "# build analyzers (bag-of-words)\n",
    "BOW_vectorizer = CountVectorizer() "
   ]
  },
  {
   "cell_type": "code",
   "execution_count": 21,
   "metadata": {
    "executionInfo": {
     "elapsed": 571,
     "status": "ok",
     "timestamp": 1640281917701,
     "user": {
      "displayName": "孫睿菡",
      "photoUrl": "https://lh3.googleusercontent.com/a/default-user=s64",
      "userId": "08667895551467607443"
     },
     "user_tz": -480
    },
    "id": "pDgv57af4ImO"
   },
   "outputs": [],
   "source": [
    "# 1. Learn a vocabulary dictionary of all tokens in the raw documents.\n",
    "BOW_vectorizer.fit(train_df['text'])\n",
    "\n",
    "# 2. Transform documents to document-term matrix.\n",
    "train_data_BOW_features = BOW_vectorizer.transform(train_df['text'])\n",
    "test_data_BOW_features = BOW_vectorizer.transform(test_df['text'])"
   ]
  },
  {
   "cell_type": "code",
   "execution_count": 22,
   "metadata": {
    "colab": {
     "base_uri": "https://localhost:8080/"
    },
    "executionInfo": {
     "elapsed": 1,
     "status": "ok",
     "timestamp": 1640281919438,
     "user": {
      "displayName": "孫睿菡",
      "photoUrl": "https://lh3.googleusercontent.com/a/default-user=s64",
      "userId": "08667895551467607443"
     },
     "user_tz": -480
    },
    "id": "O8IJLn_94ImO",
    "outputId": "aaf96c61-fa05-4d82-c164-823ffbb8e8e5"
   },
   "outputs": [
    {
     "data": {
      "text/plain": [
       "<3613x10115 sparse matrix of type '<class 'numpy.int64'>'\n",
       "\twith 51467 stored elements in Compressed Sparse Row format>"
      ]
     },
     "execution_count": 22,
     "metadata": {},
     "output_type": "execute_result"
    }
   ],
   "source": [
    "# check the result\n",
    "train_data_BOW_features"
   ]
  },
  {
   "cell_type": "code",
   "execution_count": 23,
   "metadata": {
    "colab": {
     "base_uri": "https://localhost:8080/"
    },
    "executionInfo": {
     "elapsed": 403,
     "status": "ok",
     "timestamp": 1640281921994,
     "user": {
      "displayName": "孫睿菡",
      "photoUrl": "https://lh3.googleusercontent.com/a/default-user=s64",
      "userId": "08667895551467607443"
     },
     "user_tz": -480
    },
    "id": "anC5xXb-4ImO",
    "outputId": "6daf919a-9e2f-4fa1-915f-7e8110577b4b"
   },
   "outputs": [
    {
     "data": {
      "text/plain": [
       "scipy.sparse.csr.csr_matrix"
      ]
     },
     "execution_count": 23,
     "metadata": {},
     "output_type": "execute_result"
    }
   ],
   "source": [
    "type(train_data_BOW_features)"
   ]
  },
  {
   "cell_type": "code",
   "execution_count": 24,
   "metadata": {
    "colab": {
     "base_uri": "https://localhost:8080/"
    },
    "executionInfo": {
     "elapsed": 6,
     "status": "ok",
     "timestamp": 1640281923844,
     "user": {
      "displayName": "孫睿菡",
      "photoUrl": "https://lh3.googleusercontent.com/a/default-user=s64",
      "userId": "08667895551467607443"
     },
     "user_tz": -480
    },
    "id": "N454tQq54ImP",
    "outputId": "3adbc9ad-280d-4213-ffd5-bed9d773a154",
    "scrolled": true
   },
   "outputs": [
    {
     "data": {
      "text/plain": [
       "array([[0, 0, 0, ..., 0, 0, 0],\n",
       "       [0, 0, 0, ..., 0, 0, 0],\n",
       "       [0, 0, 0, ..., 0, 0, 0],\n",
       "       ...,\n",
       "       [0, 0, 0, ..., 0, 0, 0],\n",
       "       [0, 0, 0, ..., 0, 0, 0],\n",
       "       [0, 0, 0, ..., 0, 0, 0]])"
      ]
     },
     "execution_count": 24,
     "metadata": {},
     "output_type": "execute_result"
    }
   ],
   "source": [
    "# add .toarray() to show\n",
    "train_data_BOW_features.toarray()"
   ]
  },
  {
   "cell_type": "code",
   "execution_count": 25,
   "metadata": {
    "colab": {
     "base_uri": "https://localhost:8080/"
    },
    "executionInfo": {
     "elapsed": 468,
     "status": "ok",
     "timestamp": 1640281927180,
     "user": {
      "displayName": "孫睿菡",
      "photoUrl": "https://lh3.googleusercontent.com/a/default-user=s64",
      "userId": "08667895551467607443"
     },
     "user_tz": -480
    },
    "id": "Uo1f3jWs4ImP",
    "outputId": "aa64ad7c-ce88-49ab-837d-b22103adec8f"
   },
   "outputs": [
    {
     "data": {
      "text/plain": [
       "(3613, 10115)"
      ]
     },
     "execution_count": 25,
     "metadata": {},
     "output_type": "execute_result"
    }
   ],
   "source": [
    "# check the dimension\n",
    "train_data_BOW_features.shape"
   ]
  },
  {
   "cell_type": "code",
   "execution_count": 26,
   "metadata": {
    "colab": {
     "base_uri": "https://localhost:8080/"
    },
    "executionInfo": {
     "elapsed": 521,
     "status": "ok",
     "timestamp": 1640281930404,
     "user": {
      "displayName": "孫睿菡",
      "photoUrl": "https://lh3.googleusercontent.com/a/default-user=s64",
      "userId": "08667895551467607443"
     },
     "user_tz": -480
    },
    "id": "ng8N-uJh4ImP",
    "outputId": "8afbd9a1-93d2-4c99-97dd-d2a1d42ef154"
   },
   "outputs": [
    {
     "name": "stderr",
     "output_type": "stream",
     "text": [
      "/Users/rhs/miniforge3/envs/tf/lib/python3.9/site-packages/sklearn/utils/deprecation.py:87: FutureWarning:\n",
      "\n",
      "Function get_feature_names is deprecated; get_feature_names is deprecated in 1.0 and will be removed in 1.2. Please use get_feature_names_out instead.\n",
      "\n"
     ]
    },
    {
     "data": {
      "text/plain": [
       "['2k17', '2much', '2nd', '30', '300', '301', '30am', '30pm', '30s', '31']"
      ]
     },
     "execution_count": 26,
     "metadata": {},
     "output_type": "execute_result"
    }
   ],
   "source": [
    "# observe some feature names\n",
    "feature_names = BOW_vectorizer.get_feature_names()\n",
    "feature_names[100:110]"
   ]
  },
  {
   "cell_type": "markdown",
   "metadata": {
    "id": "7Ur956NH4ImP"
   },
   "source": [
    " "
   ]
  },
  {
   "cell_type": "markdown",
   "metadata": {
    "id": "wP9tuHw94ImP"
   },
   "source": [
    "The embedding is done. We can technically feed this into our model. However, depending on the embedding technique you use and your model, your accuracy might not be as high, because:\n",
    "\n",
    "* curse of dimensionality  (we have 10,115 dimension now)\n",
    "* some important features are ignored (for example, some models using emoticons yeld better performance than counterparts)"
   ]
  },
  {
   "cell_type": "code",
   "execution_count": 27,
   "metadata": {
    "colab": {
     "base_uri": "https://localhost:8080/"
    },
    "executionInfo": {
     "elapsed": 410,
     "status": "ok",
     "timestamp": 1640281939506,
     "user": {
      "displayName": "孫睿菡",
      "photoUrl": "https://lh3.googleusercontent.com/a/default-user=s64",
      "userId": "08667895551467607443"
     },
     "user_tz": -480
    },
    "id": "OolIz4e54ImP",
    "outputId": "f29376c4-0545-4dde-cf72-25f347d5b747"
   },
   "outputs": [
    {
     "data": {
      "text/plain": [
       "False"
      ]
     },
     "execution_count": 27,
     "metadata": {},
     "output_type": "execute_result"
    }
   ],
   "source": [
    "\"😂\" in feature_names"
   ]
  },
  {
   "cell_type": "markdown",
   "metadata": {
    "id": "KaNVJWRP4ImP"
   },
   "source": [
    "Let's try using another tokenizer below."
   ]
  },
  {
   "cell_type": "code",
   "execution_count": 28,
   "metadata": {
    "colab": {
     "base_uri": "https://localhost:8080/"
    },
    "executionInfo": {
     "elapsed": 3031,
     "status": "ok",
     "timestamp": 1640281945714,
     "user": {
      "displayName": "孫睿菡",
      "photoUrl": "https://lh3.googleusercontent.com/a/default-user=s64",
      "userId": "08667895551467607443"
     },
     "user_tz": -480
    },
    "id": "fYwWsWS84ImQ",
    "outputId": "ce573e8e-199a-4e2f-cec5-1e0db9f904be"
   },
   "outputs": [
    {
     "name": "stderr",
     "output_type": "stream",
     "text": [
      "[nltk_data] Downloading package punkt to /Users/rhs/nltk_data...\n",
      "[nltk_data]   Package punkt is already up-to-date!\n",
      "/Users/rhs/miniforge3/envs/tf/lib/python3.9/site-packages/sklearn/feature_extraction/text.py:516: UserWarning:\n",
      "\n",
      "The parameter 'token_pattern' will not be used since 'tokenizer' is not None'\n",
      "\n"
     ]
    },
    {
     "data": {
      "text/plain": [
       "(3613, 500)"
      ]
     },
     "execution_count": 28,
     "metadata": {},
     "output_type": "execute_result"
    }
   ],
   "source": [
    "import nltk\n",
    "nltk.download('punkt')\n",
    "# build analyzers (bag-of-words)\n",
    "BOW_500 = CountVectorizer(max_features=500, tokenizer=nltk.word_tokenize) \n",
    "\n",
    "# apply analyzer to training data\n",
    "BOW_500.fit(train_df['text'])\n",
    "\n",
    "train_data_BOW_features_500 = BOW_500.transform(train_df['text'])\n",
    "\n",
    "## check dimension\n",
    "train_data_BOW_features_500.shape"
   ]
  },
  {
   "cell_type": "code",
   "execution_count": 29,
   "metadata": {
    "colab": {
     "base_uri": "https://localhost:8080/"
    },
    "executionInfo": {
     "elapsed": 498,
     "status": "ok",
     "timestamp": 1640281950868,
     "user": {
      "displayName": "孫睿菡",
      "photoUrl": "https://lh3.googleusercontent.com/a/default-user=s64",
      "userId": "08667895551467607443"
     },
     "user_tz": -480
    },
    "id": "CjALGmht4ImQ",
    "outputId": "6123cb32-36af-489d-c4f2-fc83289ddee3"
   },
   "outputs": [
    {
     "data": {
      "text/plain": [
       "array([[0, 1, 0, ..., 0, 0, 0],\n",
       "       [0, 6, 0, ..., 0, 0, 0],\n",
       "       [0, 0, 0, ..., 0, 0, 0],\n",
       "       ...,\n",
       "       [2, 3, 0, ..., 0, 0, 0],\n",
       "       [0, 3, 0, ..., 0, 0, 0],\n",
       "       [0, 0, 0, ..., 0, 0, 0]])"
      ]
     },
     "execution_count": 29,
     "metadata": {},
     "output_type": "execute_result"
    }
   ],
   "source": [
    "train_data_BOW_features_500.toarray()"
   ]
  },
  {
   "cell_type": "code",
   "execution_count": 30,
   "metadata": {
    "colab": {
     "base_uri": "https://localhost:8080/"
    },
    "executionInfo": {
     "elapsed": 495,
     "status": "ok",
     "timestamp": 1640281954200,
     "user": {
      "displayName": "孫睿菡",
      "photoUrl": "https://lh3.googleusercontent.com/a/default-user=s64",
      "userId": "08667895551467607443"
     },
     "user_tz": -480
    },
    "id": "FzkMTNFB4ImQ",
    "outputId": "3e17b4fe-3d4a-4f83-a261-7b0bf4abd186"
   },
   "outputs": [
    {
     "data": {
      "text/plain": [
       "['change',\n",
       " 'cheer',\n",
       " 'cheerful',\n",
       " 'cheerfully',\n",
       " 'cheering',\n",
       " 'cheery',\n",
       " 'come',\n",
       " 'comes',\n",
       " 'could',\n",
       " 'country']"
      ]
     },
     "execution_count": 30,
     "metadata": {},
     "output_type": "execute_result"
    }
   ],
   "source": [
    "# observe some feature names\n",
    "feature_names_500 = BOW_500.get_feature_names()\n",
    "feature_names_500[100:110]"
   ]
  },
  {
   "cell_type": "code",
   "execution_count": 31,
   "metadata": {
    "colab": {
     "base_uri": "https://localhost:8080/"
    },
    "executionInfo": {
     "elapsed": 418,
     "status": "ok",
     "timestamp": 1640281958959,
     "user": {
      "displayName": "孫睿菡",
      "photoUrl": "https://lh3.googleusercontent.com/a/default-user=s64",
      "userId": "08667895551467607443"
     },
     "user_tz": -480
    },
    "id": "UCnQObOT4ImQ",
    "outputId": "850c4b03-c265-4992-cd62-48a39b5840ea"
   },
   "outputs": [
    {
     "data": {
      "text/plain": [
       "True"
      ]
     },
     "execution_count": 31,
     "metadata": {},
     "output_type": "execute_result"
    }
   ],
   "source": [
    "\"😂\" in feature_names_500"
   ]
  },
  {
   "cell_type": "markdown",
   "metadata": {
    "id": "I4QPpVhR4ImQ"
   },
   "source": [
    "---\n",
    "### ** >>> Exercise 2 (Take home): **  \n",
    "Generate an embedding using the TF-IDF vectorizer instead of th BOW one with 1000 features and show the feature names for features [100:110]."
   ]
  },
  {
   "cell_type": "code",
   "execution_count": 32,
   "metadata": {
    "colab": {
     "base_uri": "https://localhost:8080/"
    },
    "executionInfo": {
     "elapsed": 1222,
     "status": "ok",
     "timestamp": 1640281220425,
     "user": {
      "displayName": "孫睿菡",
      "photoUrl": "https://lh3.googleusercontent.com/a/default-user=s64",
      "userId": "08667895551467607443"
     },
     "user_tz": -480
    },
    "id": "lxBj_bdr4ImQ",
    "outputId": "818997b1-92b8-493a-f2b0-b7da1a1b5c6d"
   },
   "outputs": [
    {
     "data": {
      "text/plain": [
       "['awful', 'b', 'baby', 'back', 'bad', 'ball', 'balls', 'bb18', 'bc', 'bday']"
      ]
     },
     "execution_count": 32,
     "metadata": {},
     "output_type": "execute_result"
    }
   ],
   "source": [
    "from sklearn.feature_extraction.text import TfidfVectorizer\n",
    "TfIdfer = TfidfVectorizer(max_features=1000, tokenizer=nltk.word_tokenize)\n",
    "TfIdfer.fit_transform(train_df['text']).toarray() \n",
    "\n",
    "feature_names_1000 = TfIdfer.get_feature_names()\n",
    "feature_names_1000[100:110]\n"
   ]
  },
  {
   "cell_type": "markdown",
   "metadata": {
    "id": "vF-hhneg4ImQ"
   },
   "source": [
    "---\n",
    "## 3. Model\n",
    "### 3.1 Decision Trees\n",
    "Using scikit-learn ```DecisionTreeClassifier``` performs word frequency and uses these as features to train a model.  \n",
    "http://scikit-learn.org/stable/modules/generated/sklearn.tree.DecisionTreeClassifier.html#sklearn.tree.DecisionTreeClassifier"
   ]
  },
  {
   "cell_type": "code",
   "execution_count": 33,
   "metadata": {
    "colab": {
     "base_uri": "https://localhost:8080/"
    },
    "executionInfo": {
     "elapsed": 1427,
     "status": "ok",
     "timestamp": 1640281221850,
     "user": {
      "displayName": "孫睿菡",
      "photoUrl": "https://lh3.googleusercontent.com/a/default-user=s64",
      "userId": "08667895551467607443"
     },
     "user_tz": -480
    },
    "id": "2RsIwJiu4ImQ",
    "outputId": "e1a46b91-9b6b-4263-981a-4102256eb78d"
   },
   "outputs": [
    {
     "name": "stdout",
     "output_type": "stream",
     "text": [
      "X_train.shape:  (3613, 500)\n",
      "y_train.shape:  (3613,)\n",
      "X_test.shape:  (347, 500)\n",
      "y_test.shape:  (347,)\n"
     ]
    }
   ],
   "source": [
    "from sklearn.tree import DecisionTreeClassifier\n",
    "\n",
    "# for a classificaiton problem, you need to provide both training & testing data\n",
    "X_train = BOW_500.transform(train_df['text'])\n",
    "y_train = train_df['emotion']\n",
    "\n",
    "X_test = BOW_500.transform(test_df['text'])\n",
    "y_test = test_df['emotion']\n",
    "\n",
    "## take a look at data dimension is a good habbit  :)\n",
    "print('X_train.shape: ', X_train.shape)\n",
    "print('y_train.shape: ', y_train.shape)\n",
    "print('X_test.shape: ', X_test.shape)\n",
    "print('y_test.shape: ', y_test.shape)"
   ]
  },
  {
   "cell_type": "code",
   "execution_count": 34,
   "metadata": {
    "colab": {
     "base_uri": "https://localhost:8080/"
    },
    "executionInfo": {
     "elapsed": 17,
     "status": "ok",
     "timestamp": 1640281221851,
     "user": {
      "displayName": "孫睿菡",
      "photoUrl": "https://lh3.googleusercontent.com/a/default-user=s64",
      "userId": "08667895551467607443"
     },
     "user_tz": -480
    },
    "id": "Sts2tv4B4ImQ",
    "outputId": "6e25fa1d-5f50-46ca-b1d1-7619d280cafb"
   },
   "outputs": [
    {
     "data": {
      "text/plain": [
       "array(['fear', 'anger', 'fear', 'joy', 'anger', 'joy', 'anger', 'joy',\n",
       "       'fear', 'fear'], dtype=object)"
      ]
     },
     "execution_count": 34,
     "metadata": {},
     "output_type": "execute_result"
    }
   ],
   "source": [
    "## build DecisionTree model\n",
    "DT_model = DecisionTreeClassifier(random_state=0)\n",
    "\n",
    "## training!\n",
    "DT_model = DT_model.fit(X_train, y_train)\n",
    "\n",
    "## predict!\n",
    "y_train_pred = DT_model.predict(X_train)\n",
    "y_test_pred = DT_model.predict(X_test)\n",
    "\n",
    "## so we get the pred result\n",
    "y_test_pred[:10]"
   ]
  },
  {
   "cell_type": "markdown",
   "metadata": {
    "id": "dPdxr3m74ImR"
   },
   "source": [
    " "
   ]
  },
  {
   "cell_type": "markdown",
   "metadata": {
    "id": "3MLP-tLn4ImR"
   },
   "source": [
    "---\n",
    "## 4. Results Evaluation"
   ]
  },
  {
   "cell_type": "markdown",
   "metadata": {
    "id": "kfHr9GgL4ImR"
   },
   "source": [
    "Now we will check the results of our model's performance"
   ]
  },
  {
   "cell_type": "code",
   "execution_count": 35,
   "metadata": {
    "colab": {
     "base_uri": "https://localhost:8080/"
    },
    "executionInfo": {
     "elapsed": 11,
     "status": "ok",
     "timestamp": 1640281221851,
     "user": {
      "displayName": "孫睿菡",
      "photoUrl": "https://lh3.googleusercontent.com/a/default-user=s64",
      "userId": "08667895551467607443"
     },
     "user_tz": -480
    },
    "id": "C6_9eVd34ImR",
    "outputId": "38ffdfc1-bc4b-47cb-bb5f-3bc3b897e324"
   },
   "outputs": [
    {
     "name": "stdout",
     "output_type": "stream",
     "text": [
      "training accuracy: 0.99\n",
      "testing accuracy: 0.66\n"
     ]
    }
   ],
   "source": [
    "## accuracy\n",
    "from sklearn.metrics import accuracy_score\n",
    "\n",
    "acc_train = accuracy_score(y_true=y_train, y_pred=y_train_pred)\n",
    "acc_test = accuracy_score(y_true=y_test, y_pred=y_test_pred)\n",
    "\n",
    "print('training accuracy: {}'.format(round(acc_train, 2)))\n",
    "print('testing accuracy: {}'.format(round(acc_test, 2)))\n"
   ]
  },
  {
   "cell_type": "code",
   "execution_count": 36,
   "metadata": {
    "colab": {
     "base_uri": "https://localhost:8080/"
    },
    "executionInfo": {
     "elapsed": 8,
     "status": "ok",
     "timestamp": 1640281221851,
     "user": {
      "displayName": "孫睿菡",
      "photoUrl": "https://lh3.googleusercontent.com/a/default-user=s64",
      "userId": "08667895551467607443"
     },
     "user_tz": -480
    },
    "id": "oSuOMUW24ImR",
    "outputId": "094a3686-f106-473a-b1c4-dfc1ac33c525"
   },
   "outputs": [
    {
     "name": "stdout",
     "output_type": "stream",
     "text": [
      "              precision    recall  f1-score   support\n",
      "\n",
      "       anger       0.63      0.65      0.64        84\n",
      "        fear       0.66      0.69      0.68       110\n",
      "         joy       0.70      0.68      0.69        79\n",
      "     sadness       0.65      0.59      0.62        74\n",
      "\n",
      "    accuracy                           0.66       347\n",
      "   macro avg       0.66      0.66      0.66       347\n",
      "weighted avg       0.66      0.66      0.66       347\n",
      "\n"
     ]
    }
   ],
   "source": [
    "## precision, recall, f1-score,\n",
    "from sklearn.metrics import classification_report\n",
    "\n",
    "print(classification_report(y_true=y_test, y_pred=y_test_pred))"
   ]
  },
  {
   "cell_type": "code",
   "execution_count": 37,
   "metadata": {
    "colab": {
     "base_uri": "https://localhost:8080/"
    },
    "executionInfo": {
     "elapsed": 7,
     "status": "ok",
     "timestamp": 1640281221852,
     "user": {
      "displayName": "孫睿菡",
      "photoUrl": "https://lh3.googleusercontent.com/a/default-user=s64",
      "userId": "08667895551467607443"
     },
     "user_tz": -480
    },
    "id": "0t1S3XBO4ImR",
    "outputId": "2972fda6-5d38-41e0-ad0c-3ee6f449d033"
   },
   "outputs": [
    {
     "name": "stdout",
     "output_type": "stream",
     "text": [
      "[[55 20  5  4]\n",
      " [16 76  8 10]\n",
      " [ 7  8 54 10]\n",
      " [ 9 11 10 44]]\n"
     ]
    }
   ],
   "source": [
    "## check by confusion matrix\n",
    "from sklearn.metrics import confusion_matrix\n",
    "\n",
    "cm = confusion_matrix(y_true=y_test, y_pred=y_test_pred) \n",
    "print(cm)"
   ]
  },
  {
   "cell_type": "code",
   "execution_count": 40,
   "metadata": {
    "executionInfo": {
     "elapsed": 491,
     "status": "ok",
     "timestamp": 1640281222338,
     "user": {
      "displayName": "孫睿菡",
      "photoUrl": "https://lh3.googleusercontent.com/a/default-user=s64",
      "userId": "08667895551467607443"
     },
     "user_tz": -480
    },
    "id": "ZDtaxsj_4ImR"
   },
   "outputs": [],
   "source": [
    "# Funciton for visualizing confusion_matrix\n",
    "import matplotlib.pyplot as plt\n",
    "import seaborn as sns\n",
    "import numpy as np\n",
    "import itertools\n",
    "\n",
    "def plot_confusion_matrix(cm, classes, title='Confusion matrix',\n",
    "                          cmap=sns.cubehelix_palette(as_cmap=True)):\n",
    "    \"\"\"\n",
    "    This function is modified from: \n",
    "    http://scikit-learn.org/stable/auto_examples/model_selection/plot_confusion_matrix.html\n",
    "    \"\"\"\n",
    "    classes.sort()\n",
    "    tick_marks = np.arange(len(classes))    \n",
    "    \n",
    "    fig, ax = plt.subplots(figsize=(5,5))\n",
    "    im = ax.imshow(cm, interpolation='nearest', cmap=cmap)\n",
    "    ax.figure.colorbar(im, ax=ax)\n",
    "    ax.set(xticks=np.arange(cm.shape[1]),\n",
    "           yticks=np.arange(cm.shape[0]),\n",
    "           xticklabels = classes,\n",
    "           yticklabels = classes,\n",
    "           title = title,\n",
    "           xlabel = 'True label',\n",
    "           ylabel = 'Predicted label')\n",
    "\n",
    "    fmt = 'd'\n",
    "    thresh = cm.max() / 2.\n",
    "    for i, j in itertools.product(range(cm.shape[0]), range(cm.shape[1])):\n",
    "        plt.text(j, i, format(cm[i, j], fmt), horizontalalignment=\"center\", color=\"white\" if cm[i, j] > thresh else \"black\")\n",
    "    ylim_top = len(classes) - 0.5\n",
    "    plt.ylim([ylim_top, -.5])\n",
    "    plt.tight_layout()\n",
    "    plt.show()"
   ]
  },
  {
   "cell_type": "code",
   "execution_count": 41,
   "metadata": {
    "colab": {
     "base_uri": "https://localhost:8080/",
     "height": 363
    },
    "executionInfo": {
     "elapsed": 21,
     "status": "ok",
     "timestamp": 1640281222339,
     "user": {
      "displayName": "孫睿菡",
      "photoUrl": "https://lh3.googleusercontent.com/a/default-user=s64",
      "userId": "08667895551467607443"
     },
     "user_tz": -480
    },
    "id": "Zpkm8pPO4ImR",
    "outputId": "0f0ef10a-050e-46a9-ff91-b7b56f310067",
    "scrolled": true
   },
   "outputs": [
    {
     "data": {
      "image/png": "[encoded data removed]",
      "text/plain": [
       "<Figure size 360x360 with 2 Axes>"
      ]
     },
     "metadata": {
      "needs_background": "light"
     },
     "output_type": "display_data"
    }
   ],
   "source": [
    "# plot your confusion matrix\n",
    "my_tags = ['anger', 'fear', 'joy', 'sadness']\n",
    "plot_confusion_matrix(cm, classes=my_tags, title='Confusion matrix')"
   ]
  },
  {
   "cell_type": "markdown",
   "metadata": {
    "id": "WbIJqzhw4ImS"
   },
   "source": [
    "---\n",
    "### ** >>> Exercise 3 (Take home): **  \n",
    "Can you interpret the results above? What do they mean?\n"
   ]
  },
  {
   "cell_type": "code",
   "execution_count": null,
   "metadata": {
    "id": "qezh23pI4ImS"
   },
   "outputs": [],
   "source": [
    "'''\n",
    "    The plot above is confusion-matrix. It‘ s clearly shown the prediciton distribution by this model. \n",
    "\n",
    "    Specifically, on the diagonal is the correct prediction, and the other positions are the wrong prediction. \n",
    "\n",
    "    For example, if we look at the element in one row and two columns, it means the number of true values predicted to anger while it is truly to be fear. \n",
    "    The rest and so on.\n",
    "    \n",
    "'''\n",
    "\n",
    "\n"
   ]
  },
  {
   "cell_type": "markdown",
   "metadata": {
    "id": "ysIi2Net4ImS"
   },
   "source": [
    "---\n",
    "### ** >>> Exercise 4 (Take home): **  \n",
    "Build a model using a ```Naive Bayes``` model and train it. What are the testing results? \n",
    "\n",
    "*Reference*: https://scikit-learn.org/stable/modules/generated/sklearn.naive_bayes.MultinomialNB.html"
   ]
  },
  {
   "cell_type": "code",
   "execution_count": 42,
   "metadata": {
    "colab": {
     "base_uri": "https://localhost:8080/"
    },
    "executionInfo": {
     "elapsed": 18,
     "status": "ok",
     "timestamp": 1640281222339,
     "user": {
      "displayName": "孫睿菡",
      "photoUrl": "https://lh3.googleusercontent.com/a/default-user=s64",
      "userId": "08667895551467607443"
     },
     "user_tz": -480
    },
    "id": "AUNm7SY84ImS",
    "outputId": "55a54495-456c-4b49-c39e-1231683e0983"
   },
   "outputs": [
    {
     "data": {
      "text/plain": [
       "array(['fear', 'joy', 'fear', 'joy', 'anger', 'joy', 'anger', 'joy',\n",
       "       'fear', 'fear'], dtype='<U7')"
      ]
     },
     "execution_count": 42,
     "metadata": {},
     "output_type": "execute_result"
    }
   ],
   "source": [
    "# Answer here\n",
    "from sklearn.naive_bayes import MultinomialNB\n",
    "NB_model = MultinomialNB()\n",
    "NB_model = NB_model.fit(X_train, y_train)\n",
    "y_train_pred = NB_model.predict(X_train)\n",
    "y_test_pred = NB_model.predict(X_test)\n",
    "y_test_pred[:10]"
   ]
  },
  {
   "cell_type": "code",
   "execution_count": 43,
   "metadata": {
    "colab": {
     "base_uri": "https://localhost:8080/"
    },
    "executionInfo": {
     "elapsed": 13,
     "status": "ok",
     "timestamp": 1640281222340,
     "user": {
      "displayName": "孫睿菡",
      "photoUrl": "https://lh3.googleusercontent.com/a/default-user=s64",
      "userId": "08667895551467607443"
     },
     "user_tz": -480
    },
    "id": "gD9sVHtC4ImS",
    "outputId": "32f563c5-f867-47a5-9fe2-74a04a07ed48"
   },
   "outputs": [
    {
     "name": "stdout",
     "output_type": "stream",
     "text": [
      "training accuracy: 0.79\n",
      "testing accuracy: 0.7\n"
     ]
    }
   ],
   "source": [
    "## accuracy\n",
    "acc_train = accuracy_score(y_true=y_train, y_pred=y_train_pred)\n",
    "acc_test = accuracy_score(y_true=y_test, y_pred=y_test_pred)\n",
    "\n",
    "print('training accuracy: {}'.format(round(acc_train, 2)))\n",
    "print('testing accuracy: {}'.format(round(acc_test, 2)))"
   ]
  },
  {
   "cell_type": "code",
   "execution_count": 44,
   "metadata": {
    "colab": {
     "base_uri": "https://localhost:8080/"
    },
    "executionInfo": {
     "elapsed": 11,
     "status": "ok",
     "timestamp": 1640281222340,
     "user": {
      "displayName": "孫睿菡",
      "photoUrl": "https://lh3.googleusercontent.com/a/default-user=s64",
      "userId": "08667895551467607443"
     },
     "user_tz": -480
    },
    "id": "gRNoBnOj4ImS",
    "outputId": "88e3951c-6eee-4aa3-8d98-3a06f33bbbfb"
   },
   "outputs": [
    {
     "name": "stdout",
     "output_type": "stream",
     "text": [
      "              precision    recall  f1-score   support\n",
      "\n",
      "       anger       0.63      0.65      0.64        84\n",
      "        fear       0.73      0.77      0.75       110\n",
      "         joy       0.78      0.71      0.74        79\n",
      "     sadness       0.64      0.62      0.63        74\n",
      "\n",
      "    accuracy                           0.70       347\n",
      "   macro avg       0.70      0.69      0.69       347\n",
      "weighted avg       0.70      0.70      0.70       347\n",
      "\n"
     ]
    }
   ],
   "source": [
    "## precision, recall, f1-score,\n",
    "print(classification_report(y_true=y_test, y_pred=y_test_pred))"
   ]
  },
  {
   "cell_type": "code",
   "execution_count": 45,
   "metadata": {
    "colab": {
     "base_uri": "https://localhost:8080/"
    },
    "executionInfo": {
     "elapsed": 7,
     "status": "ok",
     "timestamp": 1640281222340,
     "user": {
      "displayName": "孫睿菡",
      "photoUrl": "https://lh3.googleusercontent.com/a/default-user=s64",
      "userId": "08667895551467607443"
     },
     "user_tz": -480
    },
    "id": "6rqfuVoS4ImS",
    "outputId": "ea7a22bd-d790-49f3-bae3-531e5a8b709f"
   },
   "outputs": [
    {
     "name": "stdout",
     "output_type": "stream",
     "text": [
      "[[55 15  5  9]\n",
      " [ 9 85  5 11]\n",
      " [11  6 56  6]\n",
      " [12 10  6 46]]\n"
     ]
    }
   ],
   "source": [
    "## check by confusion matrix\n",
    "cm = confusion_matrix(y_true=y_test, y_pred=y_test_pred) \n",
    "print(cm)"
   ]
  },
  {
   "cell_type": "code",
   "execution_count": 46,
   "metadata": {
    "executionInfo": {
     "elapsed": 5,
     "status": "ok",
     "timestamp": 1640281222683,
     "user": {
      "displayName": "孫睿菡",
      "photoUrl": "https://lh3.googleusercontent.com/a/default-user=s64",
      "userId": "08667895551467607443"
     },
     "user_tz": -480
    },
    "id": "ESugeqEW4ImS"
   },
   "outputs": [],
   "source": [
    "def plot_confusion_matrix(cm, classes, title='Confusion matrix',\n",
    "                          cmap=sns.cubehelix_palette(as_cmap=True)):\n",
    "    \"\"\"\n",
    "    This function is modified from: \n",
    "    http://scikit-learn.org/stable/auto_examples/model_selection/plot_confusion_matrix.html\n",
    "    \"\"\"\n",
    "    classes.sort()\n",
    "    tick_marks = np.arange(len(classes))    \n",
    "    \n",
    "    fig, ax = plt.subplots(figsize=(5,5))\n",
    "    im = ax.imshow(cm, interpolation='nearest', cmap=cmap)\n",
    "    ax.figure.colorbar(im, ax=ax)\n",
    "    ax.set(xticks=np.arange(cm.shape[1]),\n",
    "           yticks=np.arange(cm.shape[0]),\n",
    "           xticklabels = classes,\n",
    "           yticklabels = classes,\n",
    "           title = title,\n",
    "           xlabel = 'True label',\n",
    "           ylabel = 'Predicted label')\n",
    "\n",
    "    fmt = 'd'\n",
    "    thresh = cm.max() / 2.\n",
    "    for i, j in itertools.product(range(cm.shape[0]), range(cm.shape[1])):\n",
    "        plt.text(j, i, format(cm[i, j], fmt), horizontalalignment=\"center\", color=\"white\" if cm[i, j] > thresh else \"black\")\n",
    "    ylim_top = len(classes) - 0.5\n",
    "    plt.ylim([ylim_top, -.5])\n",
    "    plt.tight_layout()\n",
    "    plt.show()"
   ]
  },
  {
   "cell_type": "code",
   "execution_count": 47,
   "metadata": {
    "colab": {
     "base_uri": "https://localhost:8080/",
     "height": 363
    },
    "executionInfo": {
     "elapsed": 507,
     "status": "ok",
     "timestamp": 1640281223186,
     "user": {
      "displayName": "孫睿菡",
      "photoUrl": "https://lh3.googleusercontent.com/a/default-user=s64",
      "userId": "08667895551467607443"
     },
     "user_tz": -480
    },
    "id": "5Ca8cgrT4ImS",
    "outputId": "0ad2cf16-faed-488a-983f-976654da8a72"
   },
   "outputs": [
    {
     "data": {
      "image/png": "[encoded data removed]",
      "text/plain": [
       "<Figure size 360x360 with 2 Axes>"
      ]
     },
     "metadata": {
      "needs_background": "light"
     },
     "output_type": "display_data"
    }
   ],
   "source": [
    "# plot your confusion matrix\n",
    "my_tags = ['anger', 'fear', 'joy', 'sadness']\n",
    "plot_confusion_matrix(cm, classes=my_tags, title='Naive Bayes Confusion Matrix')"
   ]
  },
  {
   "cell_type": "markdown",
   "metadata": {
    "id": "hobpoo9L4ImS"
   },
   "source": [
    "---\n",
    "### ** >>> Exercise 5 (Take home): **  \n",
    "\n",
    "How do the results from the Naive Bayes model and the Decision Tree model compare? How do you interpret these differences? Use the theoretical background covered in class to try and explain these differences."
   ]
  },
  {
   "cell_type": "code",
   "execution_count": 48,
   "metadata": {
    "executionInfo": {
     "elapsed": 9,
     "status": "ok",
     "timestamp": 1640281223187,
     "user": {
      "displayName": "孫睿菡",
      "photoUrl": "https://lh3.googleusercontent.com/a/default-user=s64",
      "userId": "08667895551467607443"
     },
     "user_tz": -480
    },
    "id": "9X04_P0O4ImT"
   },
   "outputs": [],
   "source": [
    "# Answer here\n",
    "\n",
    "#1. The decision tree model is undoubtedly over-fitting, \n",
    "#because its accuracy on the training set is infinitely close to 1, \n",
    "#but in fact it performs generally on the test set. \n",
    "#Naive Bayes does not have this problem.\n",
    "\n",
    "#2. The F1-score of Naive Bayes in the four categories is higher than that of the decision tree model. \n",
    "#There is no doubt that the performance of Naive Bayes completely exceeds the decision tree model."
   ]
  },
  {
   "cell_type": "markdown",
   "metadata": {
    "id": "Cjn3PKhC4ImT"
   },
   "source": [
    "---"
   ]
  },
  {
   "cell_type": "markdown",
   "metadata": {
    "id": "so82H0Z24ImT"
   },
   "source": [
    "## 5. Other things you can try"
   ]
  },
  {
   "cell_type": "markdown",
   "metadata": {
    "id": "Ps4ffFEP4ImT"
   },
   "source": [
    "Thus, there are several things you can try that will affect your results. In order to yield better results, you can experiment by: \n",
    "    * Trying different features (Feature engineering)\n",
    "        -Eg. Word2Vec,PCA,LDA,FastText, Clustering......\n",
    "    * Trying different models\n",
    "    * Analyzing your results and interpret them to improve your feature engineering/model building process\n",
    "    * Iterate through the steps above until finding a satisfying result\n",
    "Remember that you should also consider the task at hand and the model you'll feed the data to. "
   ]
  },
  {
   "cell_type": "markdown",
   "metadata": {
    "id": "T79P3EHI4ImT"
   },
   "source": [
    " "
   ]
  },
  {
   "cell_type": "markdown",
   "metadata": {
    "id": "war9cUGU4ImT"
   },
   "source": [
    "---\n",
    "## 6. Deep Learning\n",
    "\n",
    "We use [Keras](https://keras.io/) to be our deep learning framwork, and follow the [Model (functional API)](https://keras.io/models/model/) to build a Deep Neural Network (DNN) model. Keras runs with Tensorflow in the backend. It's a nice abstraction to start working with NN models. \n",
    "\n",
    "Because Deep Learning is a 1-semester course, we can't talk about each detail about it in the lab session. Here, we only provide a simple template about how to build & run a DL model successfully. You can follow this template to design your model.\n",
    "\n",
    "We will begin by building a fully connected network, which looks like this:"
   ]
  },
  {
   "cell_type": "markdown",
   "metadata": {
    "id": "UE_vum0K4ImT"
   },
   "source": [
    "![Fully Connected Network](pics/pic1.png)\n",
    "\n",
    "(source: https://github.com/drewnoff/spark-notebook-ml-labs/tree/master/labs/DLFramework)\n"
   ]
  },
  {
   "cell_type": "markdown",
   "metadata": {
    "id": "sZK2nRsg4ImT"
   },
   "source": [
    "### 6.1 Prepare data (X, y)"
   ]
  },
  {
   "cell_type": "code",
   "execution_count": 50,
   "metadata": {
    "colab": {
     "base_uri": "https://localhost:8080/"
    },
    "executionInfo": {
     "elapsed": 994,
     "status": "ok",
     "timestamp": 1640281980539,
     "user": {
      "displayName": "孫睿菡",
      "photoUrl": "https://lh3.googleusercontent.com/a/default-user=s64",
      "userId": "08667895551467607443"
     },
     "user_tz": -480
    },
    "id": "yOZc3uXj4ImT",
    "outputId": "77ad7f00-db96-4237-c4f2-1fef72434844"
   },
   "outputs": [
    {
     "name": "stdout",
     "output_type": "stream",
     "text": [
      "X_train.shape:  (3613, 500)\n",
      "y_train.shape:  (3613,)\n",
      "X_test.shape:  (347, 500)\n",
      "y_test.shape:  (347,)\n"
     ]
    }
   ],
   "source": [
    "import keras\n",
    "\n",
    "# standardize name (X, y) \n",
    "X_train = BOW_500.transform(train_df['text'])\n",
    "y_train = train_df['emotion']\n",
    "\n",
    "X_test = BOW_500.transform(test_df['text'])\n",
    "y_test = test_df['emotion']\n",
    "\n",
    "## check dimension is a good habbit \n",
    "print('X_train.shape: ', X_train.shape)\n",
    "print('y_train.shape: ', y_train.shape)\n",
    "print('X_test.shape: ', X_test.shape)\n",
    "print('y_test.shape: ', y_test.shape)"
   ]
  },
  {
   "cell_type": "markdown",
   "metadata": {
    "id": "k2GRpV8-4ImT"
   },
   "source": [
    "### 6.2 Deal with categorical label (y)\n",
    "\n",
    "Rather than put your label `train_df['emotion']` directly into a model, we have to process these categorical (or say nominal) label by ourselves. \n",
    "\n",
    "Here, we use the basic method [one-hot encoding](https://en.wikipedia.org/wiki/One-hot) to transform our categorical  labels to numerical ones.\n"
   ]
  },
  {
   "cell_type": "code",
   "execution_count": 51,
   "metadata": {
    "colab": {
     "base_uri": "https://localhost:8080/"
    },
    "executionInfo": {
     "elapsed": 1132,
     "status": "ok",
     "timestamp": 1640282781235,
     "user": {
      "displayName": "孫睿菡",
      "photoUrl": "https://lh3.googleusercontent.com/a/default-user=s64",
      "userId": "08667895551467607443"
     },
     "user_tz": -480
    },
    "id": "o4hRjJtr4ImT",
    "outputId": "4a4e7918-b7c0-4e21-c916-a0e836d64f77"
   },
   "outputs": [
    {
     "name": "stdout",
     "output_type": "stream",
     "text": [
      "check label:  ['anger' 'fear' 'joy' 'sadness']\n",
      "\n",
      "## Before convert\n",
      "y_train[0:4]:\n",
      " 3012    sadness\n",
      "1377       fear\n",
      "2955    sadness\n",
      "492       anger\n",
      "Name: emotion, dtype: object\n",
      "\n",
      "y_train.shape:  (3613,)\n",
      "y_test.shape:  (347,)\n",
      "\n",
      "\n",
      "## After convert\n",
      "y_train[0:4]:\n",
      " [[0. 0. 0. 1.]\n",
      " [0. 1. 0. 0.]\n",
      " [0. 0. 0. 1.]\n",
      " [1. 0. 0. 0.]]\n",
      "\n",
      "y_train.shape:  (3613, 4)\n",
      "y_test.shape:  (347, 4)\n"
     ]
    }
   ],
   "source": [
    "## deal with label (string -> one-hot)\n",
    "\n",
    "from sklearn.preprocessing import LabelEncoder\n",
    "from keras.utils import np_utils\n",
    "\n",
    "label_encoder = LabelEncoder()\n",
    "label_encoder.fit(y_train)\n",
    "print('check label: ', label_encoder.classes_)\n",
    "print('\\n## Before convert')\n",
    "print('y_train[0:4]:\\n', y_train[0:4])\n",
    "print('\\ny_train.shape: ', y_train.shape)\n",
    "print('y_test.shape: ', y_test.shape)\n",
    "\n",
    "def label_encode(le, labels):\n",
    "    enc = le.transform(labels)\n",
    "    return np_utils.to_categorical(enc)\n",
    "\n",
    "def label_decode(le, one_hot_label):\n",
    "    dec = np.argmax(one_hot_label, axis=1)\n",
    "    return le.inverse_transform(dec)\n",
    "\n",
    "y_train = label_encode(label_encoder, y_train)\n",
    "y_test = label_encode(label_encoder, y_test)\n",
    "\n",
    "print('\\n\\n## After convert')\n",
    "print('y_train[0:4]:\\n', y_train[0:4])\n",
    "print('\\ny_train.shape: ', y_train.shape)\n",
    "print('y_test.shape: ', y_test.shape)\n"
   ]
  },
  {
   "cell_type": "markdown",
   "metadata": {
    "id": "ug0EdtJn4ImT"
   },
   "source": [
    "### 6.3 Build model"
   ]
  },
  {
   "cell_type": "code",
   "execution_count": 52,
   "metadata": {
    "colab": {
     "base_uri": "https://localhost:8080/"
    },
    "executionInfo": {
     "elapsed": 404,
     "status": "ok",
     "timestamp": 1640282785893,
     "user": {
      "displayName": "孫睿菡",
      "photoUrl": "https://lh3.googleusercontent.com/a/default-user=s64",
      "userId": "08667895551467607443"
     },
     "user_tz": -480
    },
    "id": "5brTA1ok4ImU",
    "outputId": "1403d96d-b6d8-4f1a-8738-5dab4fc3f87b"
   },
   "outputs": [
    {
     "name": "stdout",
     "output_type": "stream",
     "text": [
      "input_shape:  500\n",
      "output_shape:  4\n"
     ]
    }
   ],
   "source": [
    "# I/O check\n",
    "input_shape = X_train.shape[1]\n",
    "print('input_shape: ', input_shape)\n",
    "\n",
    "output_shape = len(label_encoder.classes_)\n",
    "print('output_shape: ', output_shape)"
   ]
  },
  {
   "cell_type": "markdown",
   "metadata": {
    "id": "Fl-BgVew4ImU"
   },
   "source": [
    "![Imgur](pics/pic2.png)"
   ]
  },
  {
   "cell_type": "code",
   "execution_count": 53,
   "metadata": {
    "colab": {
     "base_uri": "https://localhost:8080/"
    },
    "executionInfo": {
     "elapsed": 1246,
     "status": "ok",
     "timestamp": 1640282789871,
     "user": {
      "displayName": "孫睿菡",
      "photoUrl": "https://lh3.googleusercontent.com/a/default-user=s64",
      "userId": "08667895551467607443"
     },
     "user_tz": -480
    },
    "id": "nSZ9sgbb4ImU",
    "outputId": "4ab2bd86-82d3-49f1-c173-fb253c13b249"
   },
   "outputs": [
    {
     "name": "stdout",
     "output_type": "stream",
     "text": [
      "Metal device set to: Apple M1\n",
      "Model: \"model\"\n",
      "_________________________________________________________________\n",
      " Layer (type)                Output Shape              Param #   \n",
      "=================================================================\n",
      " input_1 (InputLayer)        [(None, 500)]             0         \n",
      "                                                                 \n",
      " dense (Dense)               (None, 64)                32064     \n",
      "                                                                 \n",
      " re_lu (ReLU)                (None, 64)                0         \n",
      "                                                                 \n",
      " dense_1 (Dense)             (None, 64)                4160      \n",
      "                                                                 \n",
      " re_lu_1 (ReLU)              (None, 64)                0         \n",
      "                                                                 \n",
      " dense_2 (Dense)             (None, 4)                 260       \n",
      "                                                                 \n",
      " softmax (Softmax)           (None, 4)                 0         \n",
      "                                                                 \n",
      "=================================================================\n",
      "Total params: 36,484\n",
      "Trainable params: 36,484\n",
      "Non-trainable params: 0\n",
      "_________________________________________________________________\n"
     ]
    },
    {
     "name": "stderr",
     "output_type": "stream",
     "text": [
      "2022-01-11 21:26:10.398948: I tensorflow/core/common_runtime/pluggable_device/pluggable_device_factory.cc:305] Could not identify NUMA node of platform GPU ID 0, defaulting to 0. Your kernel may not have been built with NUMA support.\n",
      "2022-01-11 21:26:10.399759: I tensorflow/core/common_runtime/pluggable_device/pluggable_device_factory.cc:271] Created TensorFlow device (/job:localhost/replica:0/task:0/device:GPU:0 with 0 MB memory) -> physical PluggableDevice (device: 0, name: METAL, pci bus id: <undefined>)\n"
     ]
    }
   ],
   "source": [
    "from keras.models import Model\n",
    "from keras.layers import Input, Dense\n",
    "from keras.layers import ReLU, Softmax\n",
    "\n",
    "# input layer\n",
    "model_input = Input(shape=(input_shape, ))  # 500\n",
    "X = model_input\n",
    "\n",
    "# 1st hidden layer\n",
    "X_W1 = Dense(units=64)(X)  # 64\n",
    "H1 = ReLU()(X_W1)\n",
    "\n",
    "# 2nd hidden layer\n",
    "H1_W2 = Dense(units=64)(H1)  # 64\n",
    "H2 = ReLU()(H1_W2)\n",
    "\n",
    "# output layer\n",
    "H2_W3 = Dense(units=output_shape)(H2)  # 4\n",
    "H3 = Softmax()(H2_W3)\n",
    "\n",
    "model_output = H3\n",
    "\n",
    "# create model\n",
    "model = Model(inputs=[model_input], outputs=[model_output])\n",
    "\n",
    "# loss function & optimizer\n",
    "model.compile(optimizer='adam',\n",
    "              loss='categorical_crossentropy',\n",
    "              metrics=['accuracy'])\n",
    "\n",
    "# show model construction\n",
    "model.summary()"
   ]
  },
  {
   "cell_type": "markdown",
   "metadata": {
    "id": "tQ8TolYt4ImU"
   },
   "source": [
    "### 6.4 Train"
   ]
  },
  {
   "cell_type": "code",
   "execution_count": 55,
   "metadata": {
    "colab": {
     "base_uri": "https://localhost:8080/"
    },
    "executionInfo": {
     "elapsed": 7697,
     "status": "ok",
     "timestamp": 1640282802750,
     "user": {
      "displayName": "孫睿菡",
      "photoUrl": "https://lh3.googleusercontent.com/a/default-user=s64",
      "userId": "08667895551467607443"
     },
     "user_tz": -480
    },
    "id": "rKDVq1oc4ImU",
    "outputId": "3cac40e7-2726-434c-8ba8-5439aeba85ed"
   },
   "outputs": [
    {
     "name": "stdout",
     "output_type": "stream",
     "text": [
      "Epoch 1/25\n",
      "113/113 [==============================] - 2s 18ms/step - loss: 0.9877 - accuracy: 0.6538 - val_loss: 0.9199 - val_accuracy: 0.6225\n",
      "Epoch 2/25\n",
      "113/113 [==============================] - 2s 18ms/step - loss: 0.5859 - accuracy: 0.7891 - val_loss: 0.7862 - val_accuracy: 0.6888\n",
      "Epoch 3/25\n",
      "113/113 [==============================] - 2s 18ms/step - loss: 0.4112 - accuracy: 0.8539 - val_loss: 0.8075 - val_accuracy: 0.6772\n",
      "Epoch 4/25\n",
      "113/113 [==============================] - 2s 19ms/step - loss: 0.3315 - accuracy: 0.8813 - val_loss: 0.8582 - val_accuracy: 0.6772\n",
      "Epoch 5/25\n",
      "113/113 [==============================] - 2s 19ms/step - loss: 0.2707 - accuracy: 0.9051 - val_loss: 0.8973 - val_accuracy: 0.6686\n",
      "Epoch 6/25\n",
      "113/113 [==============================] - 2s 18ms/step - loss: 0.2208 - accuracy: 0.9325 - val_loss: 0.9288 - val_accuracy: 0.6744\n",
      "Epoch 7/25\n",
      "113/113 [==============================] - 2s 19ms/step - loss: 0.1825 - accuracy: 0.9410 - val_loss: 0.9836 - val_accuracy: 0.6715\n",
      "Epoch 8/25\n",
      "113/113 [==============================] - 2s 19ms/step - loss: 0.1613 - accuracy: 0.9493 - val_loss: 1.0663 - val_accuracy: 0.6628\n",
      "Epoch 9/25\n",
      "113/113 [==============================] - 2s 21ms/step - loss: 0.1385 - accuracy: 0.9577 - val_loss: 1.1627 - val_accuracy: 0.6772\n",
      "Epoch 10/25\n",
      "113/113 [==============================] - 2s 21ms/step - loss: 0.1294 - accuracy: 0.9626 - val_loss: 1.1795 - val_accuracy: 0.6715\n",
      "Epoch 11/25\n",
      "113/113 [==============================] - 2s 21ms/step - loss: 0.1115 - accuracy: 0.9665 - val_loss: 1.2481 - val_accuracy: 0.6657\n",
      "Epoch 12/25\n",
      "113/113 [==============================] - 2s 22ms/step - loss: 0.1014 - accuracy: 0.9682 - val_loss: 1.2928 - val_accuracy: 0.6686\n",
      "Epoch 13/25\n",
      "113/113 [==============================] - 2s 21ms/step - loss: 0.0964 - accuracy: 0.9704 - val_loss: 1.3213 - val_accuracy: 0.6830\n",
      "Epoch 14/25\n",
      "113/113 [==============================] - 3s 22ms/step - loss: 0.0878 - accuracy: 0.9734 - val_loss: 1.3698 - val_accuracy: 0.6801\n",
      "Epoch 15/25\n",
      "113/113 [==============================] - 2s 21ms/step - loss: 0.0827 - accuracy: 0.9729 - val_loss: 1.4940 - val_accuracy: 0.6772\n",
      "Epoch 16/25\n",
      "113/113 [==============================] - 2s 21ms/step - loss: 0.0786 - accuracy: 0.9737 - val_loss: 1.4921 - val_accuracy: 0.6686\n",
      "Epoch 17/25\n",
      "113/113 [==============================] - 2s 20ms/step - loss: 0.0755 - accuracy: 0.9751 - val_loss: 1.5376 - val_accuracy: 0.6744\n",
      "Epoch 18/25\n",
      "113/113 [==============================] - 2s 20ms/step - loss: 0.0731 - accuracy: 0.9762 - val_loss: 1.5278 - val_accuracy: 0.6801\n",
      "Epoch 19/25\n",
      "113/113 [==============================] - 2s 19ms/step - loss: 0.0794 - accuracy: 0.9737 - val_loss: 1.5467 - val_accuracy: 0.6657\n",
      "Epoch 20/25\n",
      "113/113 [==============================] - 2s 19ms/step - loss: 0.0664 - accuracy: 0.9790 - val_loss: 1.5952 - val_accuracy: 0.6744\n",
      "Epoch 21/25\n",
      "113/113 [==============================] - 2s 20ms/step - loss: 0.0664 - accuracy: 0.9765 - val_loss: 1.6093 - val_accuracy: 0.6628\n",
      "Epoch 22/25\n",
      "113/113 [==============================] - 2s 20ms/step - loss: 0.0687 - accuracy: 0.9765 - val_loss: 1.6379 - val_accuracy: 0.6628\n",
      "Epoch 23/25\n",
      "113/113 [==============================] - 2s 19ms/step - loss: 0.0642 - accuracy: 0.9779 - val_loss: 1.6676 - val_accuracy: 0.6542\n",
      "Epoch 24/25\n",
      "113/113 [==============================] - 2s 20ms/step - loss: 0.0638 - accuracy: 0.9759 - val_loss: 1.6778 - val_accuracy: 0.6599\n",
      "Epoch 25/25\n",
      "113/113 [==============================] - 2s 21ms/step - loss: 0.0604 - accuracy: 0.9781 - val_loss: 1.6929 - val_accuracy: 0.6744\n",
      "training finish\n"
     ]
    }
   ],
   "source": [
    "from keras.callbacks import CSVLogger\n",
    "\n",
    "csv_logger = CSVLogger('/Users/rhs/Desktop/DM2021-Lab2-master-main/logs/training_log.csv')\n",
    "\n",
    "# training setting\n",
    "epochs = 25\n",
    "batch_size = 32\n",
    "\n",
    "# training!\n",
    "history = model.fit(X_train, y_train, \n",
    "                    epochs=epochs, \n",
    "                    batch_size=batch_size, \n",
    "                    callbacks=[csv_logger],\n",
    "                    validation_data = (X_test, y_test))\n",
    "print('training finish')"
   ]
  },
  {
   "cell_type": "markdown",
   "metadata": {
    "id": "DPovuPz54ImU"
   },
   "source": [
    "### 6.5 Predict on testing data"
   ]
  },
  {
   "cell_type": "code",
   "execution_count": 56,
   "metadata": {
    "colab": {
     "base_uri": "https://localhost:8080/"
    },
    "executionInfo": {
     "elapsed": 418,
     "status": "ok",
     "timestamp": 1640282807827,
     "user": {
      "displayName": "孫睿菡",
      "photoUrl": "https://lh3.googleusercontent.com/a/default-user=s64",
      "userId": "08667895551467607443"
     },
     "user_tz": -480
    },
    "id": "qT0GX4IS4ImU",
    "outputId": "42a7ae9b-3d5b-477a-8e1d-6082805c222f"
   },
   "outputs": [
    {
     "name": "stderr",
     "output_type": "stream",
     "text": [
      "2022-01-11 21:28:44.485680: I tensorflow/core/grappler/optimizers/custom_graph_optimizer_registry.cc:112] Plugin optimizer for device_type GPU is enabled.\n"
     ]
    },
    {
     "data": {
      "text/plain": [
       "array([[1.5577277e-07, 9.9999881e-01, 1.4326450e-08, 1.0762241e-06],\n",
       "       [1.4135221e-03, 1.1763948e-04, 9.9843723e-01, 3.1631207e-05],\n",
       "       [3.4455439e-07, 8.9962250e-01, 1.3727584e-06, 1.0037582e-01],\n",
       "       [3.7938989e-08, 8.4800107e-05, 9.9937052e-01, 5.4471835e-04],\n",
       "       [9.9568689e-01, 4.1910773e-03, 1.1181362e-05, 1.1092159e-04]],\n",
       "      dtype=float32)"
      ]
     },
     "execution_count": 56,
     "metadata": {},
     "output_type": "execute_result"
    }
   ],
   "source": [
    "## predict\n",
    "pred_result = model.predict(X_test, batch_size=128)\n",
    "pred_result[:5]"
   ]
  },
  {
   "cell_type": "code",
   "execution_count": 57,
   "metadata": {
    "colab": {
     "base_uri": "https://localhost:8080/"
    },
    "executionInfo": {
     "elapsed": 4,
     "status": "ok",
     "timestamp": 1640282809675,
     "user": {
      "displayName": "孫睿菡",
      "photoUrl": "https://lh3.googleusercontent.com/a/default-user=s64",
      "userId": "08667895551467607443"
     },
     "user_tz": -480
    },
    "id": "y2ICq5iz4ImU",
    "outputId": "4c2c119e-c9b8-4f3e-e6da-234a777d82eb"
   },
   "outputs": [
    {
     "data": {
      "text/plain": [
       "array(['fear', 'joy', 'fear', 'joy', 'anger'], dtype=object)"
      ]
     },
     "execution_count": 57,
     "metadata": {},
     "output_type": "execute_result"
    }
   ],
   "source": [
    "pred_result = label_decode(label_encoder, pred_result)\n",
    "pred_result[:5]"
   ]
  },
  {
   "cell_type": "code",
   "execution_count": 58,
   "metadata": {
    "colab": {
     "base_uri": "https://localhost:8080/"
    },
    "executionInfo": {
     "elapsed": 2,
     "status": "ok",
     "timestamp": 1640282810945,
     "user": {
      "displayName": "孫睿菡",
      "photoUrl": "https://lh3.googleusercontent.com/a/default-user=s64",
      "userId": "08667895551467607443"
     },
     "user_tz": -480
    },
    "id": "v41MCaGK4ImU",
    "outputId": "6e485c6c-6e19-43c3-fb93-e6b9b1cae97e"
   },
   "outputs": [
    {
     "name": "stdout",
     "output_type": "stream",
     "text": [
      "testing accuracy: 0.67\n"
     ]
    }
   ],
   "source": [
    "from sklearn.metrics import accuracy_score\n",
    "\n",
    "print('testing accuracy: {}'.format(round(accuracy_score(label_decode(label_encoder, y_test), pred_result), 2)))"
   ]
  },
  {
   "cell_type": "code",
   "execution_count": 59,
   "metadata": {
    "colab": {
     "base_uri": "https://localhost:8080/",
     "height": 833
    },
    "executionInfo": {
     "elapsed": 426,
     "status": "ok",
     "timestamp": 1640282813332,
     "user": {
      "displayName": "孫睿菡",
      "photoUrl": "https://lh3.googleusercontent.com/a/default-user=s64",
      "userId": "08667895551467607443"
     },
     "user_tz": -480
    },
    "id": "HbHfYpyf4ImU",
    "outputId": "bb9548d5-e94a-4e2b-afa5-2f1db50cac43"
   },
   "outputs": [
    {
     "data": {
      "text/html": [
       "<div>\n",
       "<style scoped>\n",
       "    .dataframe tbody tr th:only-of-type {\n",
       "        vertical-align: middle;\n",
       "    }\n",
       "\n",
       "    .dataframe tbody tr th {\n",
       "        vertical-align: top;\n",
       "    }\n",
       "\n",
       "    .dataframe thead th {\n",
       "        text-align: right;\n",
       "    }\n",
       "</style>\n",
       "<table border=\"1\" class=\"dataframe\">\n",
       "  <thead>\n",
       "    <tr style=\"text-align: right;\">\n",
       "      <th></th>\n",
       "      <th>epoch</th>\n",
       "      <th>accuracy</th>\n",
       "      <th>loss</th>\n",
       "      <th>val_accuracy</th>\n",
       "      <th>val_loss</th>\n",
       "    </tr>\n",
       "  </thead>\n",
       "  <tbody>\n",
       "    <tr>\n",
       "      <th>0</th>\n",
       "      <td>0</td>\n",
       "      <td>0.653750</td>\n",
       "      <td>0.987657</td>\n",
       "      <td>0.622478</td>\n",
       "      <td>0.919935</td>\n",
       "    </tr>\n",
       "    <tr>\n",
       "      <th>1</th>\n",
       "      <td>1</td>\n",
       "      <td>0.789095</td>\n",
       "      <td>0.585939</td>\n",
       "      <td>0.688761</td>\n",
       "      <td>0.786159</td>\n",
       "    </tr>\n",
       "    <tr>\n",
       "      <th>2</th>\n",
       "      <td>2</td>\n",
       "      <td>0.853861</td>\n",
       "      <td>0.411193</td>\n",
       "      <td>0.677233</td>\n",
       "      <td>0.807527</td>\n",
       "    </tr>\n",
       "    <tr>\n",
       "      <th>3</th>\n",
       "      <td>3</td>\n",
       "      <td>0.881262</td>\n",
       "      <td>0.331539</td>\n",
       "      <td>0.677233</td>\n",
       "      <td>0.858201</td>\n",
       "    </tr>\n",
       "    <tr>\n",
       "      <th>4</th>\n",
       "      <td>4</td>\n",
       "      <td>0.905065</td>\n",
       "      <td>0.270741</td>\n",
       "      <td>0.668588</td>\n",
       "      <td>0.897318</td>\n",
       "    </tr>\n",
       "    <tr>\n",
       "      <th>5</th>\n",
       "      <td>5</td>\n",
       "      <td>0.932466</td>\n",
       "      <td>0.220768</td>\n",
       "      <td>0.674352</td>\n",
       "      <td>0.928833</td>\n",
       "    </tr>\n",
       "    <tr>\n",
       "      <th>6</th>\n",
       "      <td>6</td>\n",
       "      <td>0.941046</td>\n",
       "      <td>0.182466</td>\n",
       "      <td>0.671470</td>\n",
       "      <td>0.983614</td>\n",
       "    </tr>\n",
       "    <tr>\n",
       "      <th>7</th>\n",
       "      <td>7</td>\n",
       "      <td>0.949350</td>\n",
       "      <td>0.161311</td>\n",
       "      <td>0.662824</td>\n",
       "      <td>1.066318</td>\n",
       "    </tr>\n",
       "    <tr>\n",
       "      <th>8</th>\n",
       "      <td>8</td>\n",
       "      <td>0.957653</td>\n",
       "      <td>0.138514</td>\n",
       "      <td>0.677233</td>\n",
       "      <td>1.162666</td>\n",
       "    </tr>\n",
       "    <tr>\n",
       "      <th>9</th>\n",
       "      <td>9</td>\n",
       "      <td>0.962635</td>\n",
       "      <td>0.129450</td>\n",
       "      <td>0.671470</td>\n",
       "      <td>1.179526</td>\n",
       "    </tr>\n",
       "    <tr>\n",
       "      <th>10</th>\n",
       "      <td>10</td>\n",
       "      <td>0.966510</td>\n",
       "      <td>0.111489</td>\n",
       "      <td>0.665706</td>\n",
       "      <td>1.248108</td>\n",
       "    </tr>\n",
       "    <tr>\n",
       "      <th>11</th>\n",
       "      <td>11</td>\n",
       "      <td>0.968171</td>\n",
       "      <td>0.101363</td>\n",
       "      <td>0.668588</td>\n",
       "      <td>1.292815</td>\n",
       "    </tr>\n",
       "    <tr>\n",
       "      <th>12</th>\n",
       "      <td>12</td>\n",
       "      <td>0.970385</td>\n",
       "      <td>0.096368</td>\n",
       "      <td>0.682997</td>\n",
       "      <td>1.321311</td>\n",
       "    </tr>\n",
       "    <tr>\n",
       "      <th>13</th>\n",
       "      <td>13</td>\n",
       "      <td>0.973429</td>\n",
       "      <td>0.087772</td>\n",
       "      <td>0.680115</td>\n",
       "      <td>1.369839</td>\n",
       "    </tr>\n",
       "    <tr>\n",
       "      <th>14</th>\n",
       "      <td>14</td>\n",
       "      <td>0.972876</td>\n",
       "      <td>0.082731</td>\n",
       "      <td>0.677233</td>\n",
       "      <td>1.493954</td>\n",
       "    </tr>\n",
       "    <tr>\n",
       "      <th>15</th>\n",
       "      <td>15</td>\n",
       "      <td>0.973706</td>\n",
       "      <td>0.078646</td>\n",
       "      <td>0.668588</td>\n",
       "      <td>1.492071</td>\n",
       "    </tr>\n",
       "    <tr>\n",
       "      <th>16</th>\n",
       "      <td>16</td>\n",
       "      <td>0.975090</td>\n",
       "      <td>0.075517</td>\n",
       "      <td>0.674352</td>\n",
       "      <td>1.537568</td>\n",
       "    </tr>\n",
       "    <tr>\n",
       "      <th>17</th>\n",
       "      <td>17</td>\n",
       "      <td>0.976197</td>\n",
       "      <td>0.073071</td>\n",
       "      <td>0.680115</td>\n",
       "      <td>1.527792</td>\n",
       "    </tr>\n",
       "    <tr>\n",
       "      <th>18</th>\n",
       "      <td>18</td>\n",
       "      <td>0.973706</td>\n",
       "      <td>0.079410</td>\n",
       "      <td>0.665706</td>\n",
       "      <td>1.546712</td>\n",
       "    </tr>\n",
       "    <tr>\n",
       "      <th>19</th>\n",
       "      <td>19</td>\n",
       "      <td>0.978965</td>\n",
       "      <td>0.066370</td>\n",
       "      <td>0.674352</td>\n",
       "      <td>1.595201</td>\n",
       "    </tr>\n",
       "    <tr>\n",
       "      <th>20</th>\n",
       "      <td>20</td>\n",
       "      <td>0.976474</td>\n",
       "      <td>0.066429</td>\n",
       "      <td>0.662824</td>\n",
       "      <td>1.609316</td>\n",
       "    </tr>\n",
       "    <tr>\n",
       "      <th>21</th>\n",
       "      <td>21</td>\n",
       "      <td>0.976474</td>\n",
       "      <td>0.068652</td>\n",
       "      <td>0.662824</td>\n",
       "      <td>1.637947</td>\n",
       "    </tr>\n",
       "    <tr>\n",
       "      <th>22</th>\n",
       "      <td>22</td>\n",
       "      <td>0.977858</td>\n",
       "      <td>0.064183</td>\n",
       "      <td>0.654179</td>\n",
       "      <td>1.667603</td>\n",
       "    </tr>\n",
       "    <tr>\n",
       "      <th>23</th>\n",
       "      <td>23</td>\n",
       "      <td>0.975920</td>\n",
       "      <td>0.063802</td>\n",
       "      <td>0.659942</td>\n",
       "      <td>1.677844</td>\n",
       "    </tr>\n",
       "    <tr>\n",
       "      <th>24</th>\n",
       "      <td>24</td>\n",
       "      <td>0.978135</td>\n",
       "      <td>0.060394</td>\n",
       "      <td>0.674352</td>\n",
       "      <td>1.692862</td>\n",
       "    </tr>\n",
       "  </tbody>\n",
       "</table>\n",
       "</div>"
      ],
      "text/plain": [
       "    epoch  accuracy      loss  val_accuracy  val_loss\n",
       "0       0  0.653750  0.987657      0.622478  0.919935\n",
       "1       1  0.789095  0.585939      0.688761  0.786159\n",
       "2       2  0.853861  0.411193      0.677233  0.807527\n",
       "3       3  0.881262  0.331539      0.677233  0.858201\n",
       "4       4  0.905065  0.270741      0.668588  0.897318\n",
       "5       5  0.932466  0.220768      0.674352  0.928833\n",
       "6       6  0.941046  0.182466      0.671470  0.983614\n",
       "7       7  0.949350  0.161311      0.662824  1.066318\n",
       "8       8  0.957653  0.138514      0.677233  1.162666\n",
       "9       9  0.962635  0.129450      0.671470  1.179526\n",
       "10     10  0.966510  0.111489      0.665706  1.248108\n",
       "11     11  0.968171  0.101363      0.668588  1.292815\n",
       "12     12  0.970385  0.096368      0.682997  1.321311\n",
       "13     13  0.973429  0.087772      0.680115  1.369839\n",
       "14     14  0.972876  0.082731      0.677233  1.493954\n",
       "15     15  0.973706  0.078646      0.668588  1.492071\n",
       "16     16  0.975090  0.075517      0.674352  1.537568\n",
       "17     17  0.976197  0.073071      0.680115  1.527792\n",
       "18     18  0.973706  0.079410      0.665706  1.546712\n",
       "19     19  0.978965  0.066370      0.674352  1.595201\n",
       "20     20  0.976474  0.066429      0.662824  1.609316\n",
       "21     21  0.976474  0.068652      0.662824  1.637947\n",
       "22     22  0.977858  0.064183      0.654179  1.667603\n",
       "23     23  0.975920  0.063802      0.659942  1.677844\n",
       "24     24  0.978135  0.060394      0.674352  1.692862"
      ]
     },
     "execution_count": 59,
     "metadata": {},
     "output_type": "execute_result"
    }
   ],
   "source": [
    "#Let's take a look at the training log\n",
    "training_log = pd.DataFrame()\n",
    "training_log = pd.read_csv(\"/Users/rhs/Desktop/DM2021-Lab2-master-main/logs/training_log.csv\")\n",
    "training_log"
   ]
  },
  {
   "cell_type": "markdown",
   "metadata": {
    "id": "kmhlsQAK4ImU"
   },
   "source": [
    "---\n",
    "### ** >>> Exercise 6 (Take home): **  \n",
    "\n",
    "Plot the Training and Validation Accuracy and Loss (different plots), just like the images below (Note: the pictures below are an example from a different model). How to interpret the graphs you got? How are they related to the concept of overfitting/underfitting covered in class?\n",
    "<table><tr>\n",
    "    <td><img src=\"pics/pic3.png\" style=\"width: 300px;\"/> </td>\n",
    "    <td><img src=\"pics/pic4.png\" style=\"width: 300px;\"/> </td>\n",
    "</tr></table>"
   ]
  },
  {
   "cell_type": "code",
   "execution_count": 60,
   "metadata": {
    "colab": {
     "base_uri": "https://localhost:8080/",
     "height": 295
    },
    "executionInfo": {
     "elapsed": 9,
     "status": "ok",
     "timestamp": 1640281256840,
     "user": {
      "displayName": "孫睿菡",
      "photoUrl": "https://lh3.googleusercontent.com/a/default-user=s64",
      "userId": "08667895551467607443"
     },
     "user_tz": -480
    },
    "id": "5DRb0na84ImV",
    "outputId": "49f35c40-3b78-42a5-bd49-6a02871c9c5a"
   },
   "outputs": [
    {
     "data": {
      "image/png": "[encoded data removed]",
      "text/plain": [
       "<Figure size 432x288 with 1 Axes>"
      ]
     },
     "metadata": {
      "needs_background": "light"
     },
     "output_type": "display_data"
    }
   ],
   "source": [
    "# Answer here\n",
    "import matplotlib.pyplot as plt\n",
    "\n",
    "x = training_log['epoch'] # abscissa\n",
    "k1 = training_log['accuracy'] # Train accuracy\n",
    "k2 = training_log['val_accuracy'] # Val accuracy\n",
    "plt.plot(x,k1,color = 'b',label=\"Train accuracy\")\n",
    "plt.plot(x,k2,color = 'r',label=\"Val accuracy\")\n",
    "plt.xlabel(\"Epochs\")\n",
    "plt.ylabel(\"Accuracy\")\n",
    "plt.title('Training Accuracy per epoch')\n",
    "plt.legend(loc = \"best\") # Automatically select the appropriate location for placing legends\n",
    "plt.show()\n"
   ]
  },
  {
   "cell_type": "code",
   "execution_count": 61,
   "metadata": {
    "colab": {
     "base_uri": "https://localhost:8080/",
     "height": 295
    },
    "executionInfo": {
     "elapsed": 614,
     "status": "ok",
     "timestamp": 1640281257448,
     "user": {
      "displayName": "孫睿菡",
      "photoUrl": "https://lh3.googleusercontent.com/a/default-user=s64",
      "userId": "08667895551467607443"
     },
     "user_tz": -480
    },
    "id": "Tg_PfM6ydjZ9",
    "outputId": "acbb0a69-98d3-4cd3-f080-bdc55f3cd732"
   },
   "outputs": [
    {
     "data": {
      "image/png": "[encoded data removed]",
      "text/plain": [
       "<Figure size 432x288 with 1 Axes>"
      ]
     },
     "metadata": {
      "needs_background": "light"
     },
     "output_type": "display_data"
    }
   ],
   "source": [
    "x = training_log['epoch'] # abscissa\n",
    "k1 = training_log['loss'] # Train loss\n",
    "k2 = training_log['val_loss'] # Val loss\n",
    "plt.plot(x,k1,color = 'b',label=\"Train loss\")\n",
    "plt.plot(x,k2,color = 'r',label=\"Val loss\")\n",
    "plt.xlabel(\"Epochs\")\n",
    "plt.ylabel(\"Loss\")\n",
    "plt.title('Training Loss per epoch')\n",
    "plt.legend(loc = \"best\") # Automatically select the appropriate location for placing legends\n",
    "plt.show()"
   ]
  },
  {
   "cell_type": "markdown",
   "metadata": {
    "id": "3JriYBbgeIvn"
   },
   "source": [
    "Overfitting\n",
    "\n",
    "According to the 2 figures we can see train accuracy is higher than val accuracy and train loss is much less than val loss."
   ]
  },
  {
   "cell_type": "markdown",
   "metadata": {
    "id": "0KRUhqBm4ImV"
   },
   "source": [
    "---"
   ]
  },
  {
   "cell_type": "markdown",
   "metadata": {
    "id": "JW1jI7Qg4ImV"
   },
   "source": [
    "### Note\n",
    "\n",
    "If you don't have a GPU (level is higher than GTX 1060) or you are not good at setting lots of things about computer, we recommend you to use the [kaggle kernel](https://www.kaggle.com/kernels) to do deep learning model training. They have already installed all the librarys and provided free GPU for you to use.\n",
    "\n",
    "Note however that you will only be able to run a kernel for 6 hours. After 6 hours of inactivity, your Kaggle kernel will shut down (meaning if your model takes more than 6 hours to train, you can't train it at once).\n",
    "\n",
    "\n",
    "### More Information for your reference\n",
    "\n",
    "* Keras document: https://keras.io/\n",
    "* Keras GitHub example: https://github.com/keras-team/keras/tree/master/examples\n",
    "* CS229: Machine Learning: http://cs229.stanford.edu/syllabus.html\n",
    "* Deep Learning cheatsheet: https://stanford.edu/~shervine/teaching/cs-229/cheatsheet-deep-learning\n",
    "* If you want to try TensorFlow or PyTorch: https://pytorch.org/tutorials/\n",
    "https://www.tensorflow.org/tutorials/quickstart/beginner"
   ]
  },
  {
   "cell_type": "markdown",
   "metadata": {
    "id": "8BYJ77mk4ImV"
   },
   "source": [
    "---\n",
    "## 7. Word2Vector\n",
    "\n",
    "We will introduce how to use `gensim` to train your word2vec model and how to load a pre-trained model.\n",
    "\n",
    "https://radimrehurek.com/gensim/index.html"
   ]
  },
  {
   "cell_type": "markdown",
   "metadata": {
    "id": "vgazOJV64ImV"
   },
   "source": [
    "### 7.1 Prepare training corpus"
   ]
  },
  {
   "cell_type": "code",
   "execution_count": 63,
   "metadata": {
    "colab": {
     "base_uri": "https://localhost:8080/",
     "height": 206
    },
    "executionInfo": {
     "elapsed": 1097,
     "status": "ok",
     "timestamp": 1640282705372,
     "user": {
      "displayName": "孫睿菡",
      "photoUrl": "https://lh3.googleusercontent.com/a/default-user=s64",
      "userId": "08667895551467607443"
     },
     "user_tz": -480
    },
    "id": "qcyXp0QA4ImV",
    "outputId": "3c15d0ea-54bf-4f2e-f327-1fe35a40df25"
   },
   "outputs": [
    {
     "data": {
      "text/html": [
       "<div>\n",
       "<style scoped>\n",
       "    .dataframe tbody tr th:only-of-type {\n",
       "        vertical-align: middle;\n",
       "    }\n",
       "\n",
       "    .dataframe tbody tr th {\n",
       "        vertical-align: top;\n",
       "    }\n",
       "\n",
       "    .dataframe thead th {\n",
       "        text-align: right;\n",
       "    }\n",
       "</style>\n",
       "<table border=\"1\" class=\"dataframe\">\n",
       "  <thead>\n",
       "    <tr style=\"text-align: right;\">\n",
       "      <th></th>\n",
       "      <th>id</th>\n",
       "      <th>text</th>\n",
       "      <th>text_tokenized</th>\n",
       "    </tr>\n",
       "  </thead>\n",
       "  <tbody>\n",
       "    <tr>\n",
       "      <th>3012</th>\n",
       "      <td>40185</td>\n",
       "      <td>It's pretty clear I can't stand @HillaryClinto...</td>\n",
       "      <td>[It, 's, pretty, clear, I, ca, n't, stand, @, ...</td>\n",
       "    </tr>\n",
       "    <tr>\n",
       "      <th>1377</th>\n",
       "      <td>20520</td>\n",
       "      <td>@CBCNews Canada should be a driving force of d...</td>\n",
       "      <td>[@, CBCNews, Canada, should, be, a, driving, f...</td>\n",
       "    </tr>\n",
       "    <tr>\n",
       "      <th>2955</th>\n",
       "      <td>40128</td>\n",
       "      <td>Americans as a whole are, for the most part, f...</td>\n",
       "      <td>[Americans, as, a, whole, are, ,, for, the, mo...</td>\n",
       "    </tr>\n",
       "    <tr>\n",
       "      <th>492</th>\n",
       "      <td>10492</td>\n",
       "      <td>the teams that face Barca and Bayern after a d...</td>\n",
       "      <td>[the, teams, that, face, Barca, and, Bayern, a...</td>\n",
       "    </tr>\n",
       "    <tr>\n",
       "      <th>908</th>\n",
       "      <td>20051</td>\n",
       "      <td>#ObamaLegacy - weekly #riots and #terror attac...</td>\n",
       "      <td>[#, ObamaLegacy, -, weekly, #, riots, and, #, ...</td>\n",
       "    </tr>\n",
       "  </tbody>\n",
       "</table>\n",
       "</div>"
      ],
      "text/plain": [
       "         id                                               text  \\\n",
       "3012  40185  It's pretty clear I can't stand @HillaryClinto...   \n",
       "1377  20520  @CBCNews Canada should be a driving force of d...   \n",
       "2955  40128  Americans as a whole are, for the most part, f...   \n",
       "492   10492  the teams that face Barca and Bayern after a d...   \n",
       "908   20051  #ObamaLegacy - weekly #riots and #terror attac...   \n",
       "\n",
       "                                         text_tokenized  \n",
       "3012  [It, 's, pretty, clear, I, ca, n't, stand, @, ...  \n",
       "1377  [@, CBCNews, Canada, should, be, a, driving, f...  \n",
       "2955  [Americans, as, a, whole, are, ,, for, the, mo...  \n",
       "492   [the, teams, that, face, Barca, and, Bayern, a...  \n",
       "908   [#, ObamaLegacy, -, weekly, #, riots, and, #, ...  "
      ]
     },
     "execution_count": 63,
     "metadata": {},
     "output_type": "execute_result"
    }
   ],
   "source": [
    "## check library\n",
    "import gensim\n",
    "\n",
    "## ignore warnings\n",
    "import warnings\n",
    "warnings.filterwarnings('ignore')\n",
    "\n",
    "# # if you want to see the training messages, you can use it\n",
    "# import logging\n",
    "# logging.basicConfig(format='%(asctime)s : %(levelname)s : %(message)s', level=logging.INFO)\n",
    "\n",
    "## the input type\n",
    "train_df['text_tokenized'] = train_df['text'].apply(lambda x: nltk.word_tokenize(x))\n",
    "train_df[['id', 'text', 'text_tokenized']].head()"
   ]
  },
  {
   "cell_type": "code",
   "execution_count": 64,
   "metadata": {
    "colab": {
     "base_uri": "https://localhost:8080/"
    },
    "executionInfo": {
     "elapsed": 416,
     "status": "ok",
     "timestamp": 1640282709698,
     "user": {
      "displayName": "孫睿菡",
      "photoUrl": "https://lh3.googleusercontent.com/a/default-user=s64",
      "userId": "08667895551467607443"
     },
     "user_tz": -480
    },
    "id": "sAvY8JNQ4ImV",
    "outputId": "4801c751-286c-45c6-db92-dadb0e639b9e"
   },
   "outputs": [
    {
     "data": {
      "text/plain": [
       "array([list(['It', \"'s\", 'pretty', 'clear', 'I', 'ca', \"n't\", 'stand', '@', 'HillaryClinton', ',', 'no', 'tolerance', 'for', 'habitual', 'liars', '.', 'Not', 'a', 'Trump', 'fan', 'either', 'so', 'what', \"'s\", 'a', 'citizen', 'to', 'do', '?', '#', 'despair']),\n",
       "       list(['@', 'CBCNews', 'Canada', 'should', 'be', 'a', 'driving', 'force', 'of', 'democracy', 'freedom', 'rights', '-', 'instead', 'we', 'help', '#', 'dictator', '#', 'misogyny', '#', 'Sharia', '#', 'Islam', '#', 'terror', '#', 'polygamy']),\n",
       "       list(['Americans', 'as', 'a', 'whole', 'are', ',', 'for', 'the', 'most', 'part', ',', 'feeling', 'borderline', 'despair', 'at', 'the', 'very', 'least', '.', 'Looking', 'at', 'a', 'situation', 'out', 'of', 'control', '.'])],\n",
       "      dtype=object)"
      ]
     },
     "execution_count": 64,
     "metadata": {},
     "output_type": "execute_result"
    }
   ],
   "source": [
    "## create the training corpus\n",
    "training_corpus = train_df['text_tokenized'].values\n",
    "training_corpus[:3]"
   ]
  },
  {
   "cell_type": "markdown",
   "metadata": {
    "id": "QsPeLM4U4ImV"
   },
   "source": [
    "### 7.2 Training our model\n",
    "\n",
    "You can try to train your own model. More details: https://radimrehurek.com/gensim/models/word2vec.html"
   ]
  },
  {
   "cell_type": "code",
   "execution_count": 65,
   "metadata": {
    "colab": {
     "base_uri": "https://localhost:8080/",
     "height": 206
    },
    "executionInfo": {
     "elapsed": 1230,
     "status": "ok",
     "timestamp": 1640282713350,
     "user": {
      "displayName": "孫睿菡",
      "photoUrl": "https://lh3.googleusercontent.com/a/default-user=s64",
      "userId": "08667895551467607443"
     },
     "user_tz": -480
    },
    "id": "TGyiP4YH4ImV",
    "outputId": "6f3924e8-b39f-4bf5-cdb9-7ba5e073388f"
   },
   "outputs": [
    {
     "data": {
      "text/html": [
       "<div>\n",
       "<style scoped>\n",
       "    .dataframe tbody tr th:only-of-type {\n",
       "        vertical-align: middle;\n",
       "    }\n",
       "\n",
       "    .dataframe tbody tr th {\n",
       "        vertical-align: top;\n",
       "    }\n",
       "\n",
       "    .dataframe thead th {\n",
       "        text-align: right;\n",
       "    }\n",
       "</style>\n",
       "<table border=\"1\" class=\"dataframe\">\n",
       "  <thead>\n",
       "    <tr style=\"text-align: right;\">\n",
       "      <th></th>\n",
       "      <th>id</th>\n",
       "      <th>text</th>\n",
       "      <th>text_tokenized</th>\n",
       "    </tr>\n",
       "  </thead>\n",
       "  <tbody>\n",
       "    <tr>\n",
       "      <th>3012</th>\n",
       "      <td>40185</td>\n",
       "      <td>It's pretty clear I can't stand @HillaryClinto...</td>\n",
       "      <td>[It, 's, pretty, clear, I, ca, n't, stand, @, ...</td>\n",
       "    </tr>\n",
       "    <tr>\n",
       "      <th>1377</th>\n",
       "      <td>20520</td>\n",
       "      <td>@CBCNews Canada should be a driving force of d...</td>\n",
       "      <td>[@, CBCNews, Canada, should, be, a, driving, f...</td>\n",
       "    </tr>\n",
       "    <tr>\n",
       "      <th>2955</th>\n",
       "      <td>40128</td>\n",
       "      <td>Americans as a whole are, for the most part, f...</td>\n",
       "      <td>[Americans, as, a, whole, are, ,, for, the, mo...</td>\n",
       "    </tr>\n",
       "    <tr>\n",
       "      <th>492</th>\n",
       "      <td>10492</td>\n",
       "      <td>the teams that face Barca and Bayern after a d...</td>\n",
       "      <td>[the, teams, that, face, Barca, and, Bayern, a...</td>\n",
       "    </tr>\n",
       "    <tr>\n",
       "      <th>908</th>\n",
       "      <td>20051</td>\n",
       "      <td>#ObamaLegacy - weekly #riots and #terror attac...</td>\n",
       "      <td>[#, ObamaLegacy, -, weekly, #, riots, and, #, ...</td>\n",
       "    </tr>\n",
       "  </tbody>\n",
       "</table>\n",
       "</div>"
      ],
      "text/plain": [
       "         id                                               text  \\\n",
       "3012  40185  It's pretty clear I can't stand @HillaryClinto...   \n",
       "1377  20520  @CBCNews Canada should be a driving force of d...   \n",
       "2955  40128  Americans as a whole are, for the most part, f...   \n",
       "492   10492  the teams that face Barca and Bayern after a d...   \n",
       "908   20051  #ObamaLegacy - weekly #riots and #terror attac...   \n",
       "\n",
       "                                         text_tokenized  \n",
       "3012  [It, 's, pretty, clear, I, ca, n't, stand, @, ...  \n",
       "1377  [@, CBCNews, Canada, should, be, a, driving, f...  \n",
       "2955  [Americans, as, a, whole, are, ,, for, the, mo...  \n",
       "492   [the, teams, that, face, Barca, and, Bayern, a...  \n",
       "908   [#, ObamaLegacy, -, weekly, #, riots, and, #, ...  "
      ]
     },
     "execution_count": 65,
     "metadata": {},
     "output_type": "execute_result"
    }
   ],
   "source": [
    "## the input type\n",
    "train_df['text_tokenized'] = train_df['text'].apply(lambda x: nltk.word_tokenize(x))\n",
    "train_df[['id', 'text', 'text_tokenized']].head()"
   ]
  },
  {
   "cell_type": "code",
   "execution_count": 66,
   "metadata": {
    "colab": {
     "base_uri": "https://localhost:8080/"
    },
    "executionInfo": {
     "elapsed": 6,
     "status": "ok",
     "timestamp": 1640282715272,
     "user": {
      "displayName": "孫睿菡",
      "photoUrl": "https://lh3.googleusercontent.com/a/default-user=s64",
      "userId": "08667895551467607443"
     },
     "user_tz": -480
    },
    "id": "1156-9BMqwU2",
    "outputId": "e9035e21-d22d-46b0-8801-458b4b3853f6"
   },
   "outputs": [
    {
     "data": {
      "text/plain": [
       "48"
      ]
     },
     "execution_count": 66,
     "metadata": {},
     "output_type": "execute_result"
    }
   ],
   "source": [
    "max_ngram = len(train_df['text_tokenized'][0])\n",
    "for i in range(1,len(train_df['text_tokenized'])):\n",
    "  if len(train_df['text_tokenized'][i]) > max_ngram:\n",
    "    max_ngram = len(train_df['text_tokenized'][i])\n",
    "\n",
    "max_ngram"
   ]
  },
  {
   "cell_type": "code",
   "execution_count": 72,
   "metadata": {
    "executionInfo": {
     "elapsed": 5313,
     "status": "ok",
     "timestamp": 1640282863205,
     "user": {
      "displayName": "孫睿菡",
      "photoUrl": "https://lh3.googleusercontent.com/a/default-user=s64",
      "userId": "08667895551467607443"
     },
     "user_tz": -480
    },
    "id": "wT0I2yio4ImV",
    "scrolled": true
   },
   "outputs": [],
   "source": [
    "from gensim.models import Word2Vec\n",
    "\n",
    "## setting\n",
    "vector_dim = 100\n",
    "window_size = 5\n",
    "min_count = 1\n",
    "training_iter = 20\n",
    "\n",
    "## model\n",
    "word2vec_model = Word2Vec(sentences=training_corpus, vector_size=vector_dim, window=window_size, min_count=min_count, epochs=training_iter)"
   ]
  },
  {
   "cell_type": "markdown",
   "metadata": {
    "id": "Pk9On19h4ImV"
   },
   "source": [
    "![Imgur](https://i.imgur.com/Fca3MCs.png)"
   ]
  },
  {
   "cell_type": "markdown",
   "metadata": {
    "id": "hp3qFFaY4ImV"
   },
   "source": [
    "### 7.3 Generating word vector (embeddings)"
   ]
  },
  {
   "cell_type": "code",
   "execution_count": 73,
   "metadata": {
    "colab": {
     "base_uri": "https://localhost:8080/"
    },
    "executionInfo": {
     "elapsed": 435,
     "status": "ok",
     "timestamp": 1640282869137,
     "user": {
      "displayName": "孫睿菡",
      "photoUrl": "https://lh3.googleusercontent.com/a/default-user=s64",
      "userId": "08667895551467607443"
     },
     "user_tz": -480
    },
    "id": "LEn2V_te4ImV",
    "outputId": "51cc6478-5673-436b-8727-450bc91eb88a"
   },
   "outputs": [
    {
     "data": {
      "text/plain": [
       "array([ 0.02778208,  0.01269856, -0.17049436, -0.13711873,  0.01240679,\n",
       "       -1.1082623 ,  0.3075168 ,  1.5434163 , -0.35535702, -0.39143708,\n",
       "       -0.5213722 , -0.35504445, -0.2616521 ,  0.15104717, -0.19664316,\n",
       "       -0.37526897,  0.18640476, -0.6133583 ,  0.32961214, -1.1430221 ,\n",
       "        0.6391981 ,  0.66367465,  0.9734651 , -0.16416629,  0.14179392,\n",
       "       -0.31470275, -0.11207228,  0.44506317, -0.30163515,  0.13352707,\n",
       "        0.5258843 , -0.11106443,  0.6280198 , -0.31407738,  0.18194342,\n",
       "        0.0524284 ,  0.45524916, -0.01555946, -0.36608636, -0.59900534,\n",
       "        0.28546834, -0.04816058, -0.44874525,  0.24951777,  0.78677654,\n",
       "       -0.43516982, -0.81174946, -0.10182454,  0.4998178 ,  0.3624509 ,\n",
       "       -0.15578328, -0.4457093 , -0.30207995,  0.01958651, -0.5080689 ,\n",
       "       -0.3794083 ,  0.14810234,  0.03183725, -0.3487818 ,  0.1809816 ,\n",
       "        0.2040321 ,  0.15172234,  0.47452682, -0.07345371, -0.7945901 ,\n",
       "        0.7258941 ,  0.68378204,  0.7663941 , -1.3468499 ,  0.60619557,\n",
       "        0.21936983,  0.64960545,  0.7781142 , -0.49732867,  0.3691497 ,\n",
       "       -0.13854948,  0.8638252 ,  0.01199865, -0.39861137,  0.25313404,\n",
       "       -0.7844054 , -0.18852156, -0.6842322 ,  1.1317985 , -0.2011391 ,\n",
       "       -0.26195186,  0.42313156,  0.35707775, -0.02613257,  0.3685964 ,\n",
       "        1.0006611 ,  0.34981656,  0.09987897,  0.15177307,  0.9525161 ,\n",
       "       -0.34680113,  0.6411894 , -0.20056783,  0.4817444 ,  0.18220402],\n",
       "      dtype=float32)"
      ]
     },
     "execution_count": 73,
     "metadata": {},
     "output_type": "execute_result"
    }
   ],
   "source": [
    "# get the corresponding vector of a word\n",
    "word_vec = word2vec_model.wv['happy']\n",
    "word_vec"
   ]
  },
  {
   "cell_type": "code",
   "execution_count": 75,
   "metadata": {
    "colab": {
     "base_uri": "https://localhost:8080/"
    },
    "executionInfo": {
     "elapsed": 21,
     "status": "ok",
     "timestamp": 1640281264537,
     "user": {
      "displayName": "孫睿菡",
      "photoUrl": "https://lh3.googleusercontent.com/a/default-user=s64",
      "userId": "08667895551467607443"
     },
     "user_tz": -480
    },
    "id": "mYkbrmL24ImW",
    "outputId": "d42b0127-d247-4cdf-f452-500187f1919c"
   },
   "outputs": [
    {
     "data": {
      "text/plain": [
       "[('blessed', 0.9343114495277405),\n",
       " ('Be', 0.9248097538948059),\n",
       " ('help', 0.9212163686752319),\n",
       " ('birthday', 0.9156707525253296),\n",
       " ('border', 0.9136483669281006),\n",
       " ('cats', 0.9121608138084412),\n",
       " ('Makes', 0.9105255603790283),\n",
       " ('dad', 0.9100406765937805),\n",
       " ('O', 0.9030464291572571),\n",
       " ('tones', 0.8998745083808899)]"
      ]
     },
     "execution_count": 75,
     "metadata": {},
     "output_type": "execute_result"
    }
   ],
   "source": [
    "# Get the most similar words\n",
    "word = 'happy'\n",
    "topn = 10\n",
    "word2vec_model.wv.most_similar(word, topn=topn)"
   ]
  },
  {
   "cell_type": "markdown",
   "metadata": {
    "id": "6pehvA604ImW"
   },
   "source": [
    "### 7.4 Using a pre-trained w2v model\n",
    "\n",
    "Instead of training your own model ,you can use a model that has already been trained. Here, we see 2 ways of doing that:\n",
    "\n",
    "\n",
    "#### (1) Download model by yourself\n",
    "\n",
    "source: [GoogleNews-vectors-negative300](https://code.google.com/archive/p/word2vec/)\n",
    "\n",
    "more details: https://radimrehurek.com/gensim/models/keyedvectors.html"
   ]
  },
  {
   "cell_type": "code",
   "execution_count": 78,
   "metadata": {
    "colab": {
     "base_uri": "https://localhost:8080/"
    },
    "executionInfo": {
     "elapsed": 91568,
     "status": "ok",
     "timestamp": 1640282302554,
     "user": {
      "displayName": "孫睿菡",
      "photoUrl": "https://lh3.googleusercontent.com/a/default-user=s64",
      "userId": "08667895551467607443"
     },
     "user_tz": -480
    },
    "id": "nKnvJeOD4ImW",
    "outputId": "0b34d3db-e25d-4a5a-8a50-01f14db5db0f"
   },
   "outputs": [
    {
     "name": "stdout",
     "output_type": "stream",
     "text": [
      "load ok\n"
     ]
    },
    {
     "data": {
      "text/plain": [
       "[('glad', 0.7408890724182129),\n",
       " ('pleased', 0.6632170677185059),\n",
       " ('ecstatic', 0.6626912355422974),\n",
       " ('overjoyed', 0.6599286794662476),\n",
       " ('thrilled', 0.6514049172401428),\n",
       " ('satisfied', 0.6437949538230896),\n",
       " ('proud', 0.636042058467865),\n",
       " ('delighted', 0.627237856388092),\n",
       " ('disappointed', 0.6269949674606323),\n",
       " ('excited', 0.6247665286064148)]"
      ]
     },
     "execution_count": 78,
     "metadata": {},
     "output_type": "execute_result"
    }
   ],
   "source": [
    "from gensim.models import KeyedVectors\n",
    "\n",
    "## Note: this model is very huge, this will take some time ...\n",
    "model_path = \"/Users/rhs/Desktop/DM2021-Lab2-master-main/GoogleNews-vectors-negative300.bin\"\n",
    "w2v_google_model = KeyedVectors.load_word2vec_format(model_path, binary=True)\n",
    "print('load ok')\n",
    "\n",
    "w2v_google_model.most_similar('happy', topn=10)"
   ]
  },
  {
   "cell_type": "markdown",
   "metadata": {
    "id": "onps8jLv4ImW"
   },
   "source": [
    "#### (2) Using gensim api\n",
    "\n",
    "Other pretrained models are available here: https://github.com/RaRe-Technologies/gensim-data"
   ]
  },
  {
   "cell_type": "code",
   "execution_count": 79,
   "metadata": {
    "colab": {
     "base_uri": "https://localhost:8080/"
    },
    "executionInfo": {
     "elapsed": 44578,
     "status": "ok",
     "timestamp": 1640282479036,
     "user": {
      "displayName": "孫睿菡",
      "photoUrl": "https://lh3.googleusercontent.com/a/default-user=s64",
      "userId": "08667895551467607443"
     },
     "user_tz": -480
    },
    "id": "pyiZc3JR4ImW",
    "outputId": "853e3e2b-57b5-4b83-83e5-996fb3d2e8df"
   },
   "outputs": [
    {
     "name": "stdout",
     "output_type": "stream",
     "text": [
      "[==================================================] 100.0% 104.8/104.8MB downloaded\n",
      "load ok\n"
     ]
    },
    {
     "data": {
      "text/plain": [
       "[('birthday', 0.9577818512916565),\n",
       " ('thank', 0.937666654586792),\n",
       " ('welcome', 0.9336148500442505),\n",
       " ('love', 0.9176183342933655),\n",
       " ('miss', 0.9164500832557678),\n",
       " ('hello', 0.9158350825309753),\n",
       " ('thanks', 0.9150084853172302),\n",
       " ('merry', 0.9053248763084412),\n",
       " ('bless', 0.902732253074646),\n",
       " ('wish', 0.9013165235519409)]"
      ]
     },
     "execution_count": 79,
     "metadata": {},
     "output_type": "execute_result"
    }
   ],
   "source": [
    "import gensim.downloader as api\n",
    "\n",
    "## If you see `SSL: CERTIFICATE_VERIFY_FAILED` error, use this:\n",
    "import ssl\n",
    "import urllib.request\n",
    "ssl._create_default_https_context = ssl._create_unverified_context\n",
    "\n",
    "glove_twitter_25_model = api.load(\"glove-twitter-25\")\n",
    "print('load ok')\n",
    "\n",
    "glove_twitter_25_model.most_similar('happy', topn=10)"
   ]
  },
  {
   "cell_type": "markdown",
   "metadata": {
    "id": "RTqRMLLJ4ImW"
   },
   "source": [
    "### 7.5 king + woman - man = ?"
   ]
  },
  {
   "cell_type": "markdown",
   "metadata": {
    "id": "OQPp-YOc4ImW"
   },
   "source": [
    "Let's run one of the most famous examples for Word2Vec and compute the similarity between these 3 words:"
   ]
  },
  {
   "cell_type": "code",
   "execution_count": 80,
   "metadata": {
    "colab": {
     "base_uri": "https://localhost:8080/"
    },
    "executionInfo": {
     "elapsed": 595,
     "status": "ok",
     "timestamp": 1640282479607,
     "user": {
      "displayName": "孫睿菡",
      "photoUrl": "https://lh3.googleusercontent.com/a/default-user=s64",
      "userId": "08667895551467607443"
     },
     "user_tz": -480
    },
    "id": "_FiMud-94ImW",
    "outputId": "760c561d-3021-4b00-d192-5a9b0f7dcdfc"
   },
   "outputs": [
    {
     "data": {
      "text/plain": [
       "[('queen', 0.7118192911148071),\n",
       " ('monarch', 0.6189674735069275),\n",
       " ('princess', 0.5902431011199951),\n",
       " ('crown_prince', 0.5499460697174072),\n",
       " ('prince', 0.5377321243286133),\n",
       " ('kings', 0.5236844420433044),\n",
       " ('Queen_Consort', 0.5235945582389832),\n",
       " ('queens', 0.5181134343147278),\n",
       " ('sultan', 0.5098593235015869),\n",
       " ('monarchy', 0.5087411403656006)]"
      ]
     },
     "execution_count": 80,
     "metadata": {},
     "output_type": "execute_result"
    }
   ],
   "source": [
    "w2v_google_model.most_similar(positive=['king', 'woman'], negative=['man'])"
   ]
  },
  {
   "cell_type": "markdown",
   "metadata": {
    "id": "toFDoqLJ4ImW"
   },
   "source": [
    "---\n",
    "### ** >>> Exercise 7 (Take home): **  \n",
    "\n",
    "Now, we have the word vectors, but our input data is a sequence of words (or say sentence). \n",
    "How can we utilize these \"word\" vectors to represent the sentence data and train our model?\n"
   ]
  },
  {
   "cell_type": "code",
   "execution_count": 81,
   "metadata": {
    "id": "yw2f8HOJP-Uz"
   },
   "outputs": [],
   "source": [
    "#1. Accumulation is the easiest way to get sentence vectors\n",
    "\n",
    "#2. The averaging method is similar to the accumulation method.\n",
    "#It also needs to add up all the non-stop word vectors in a sentence,\n",
    "#but at the end, the number of non-stop words needs to be added to the vector.\n",
    "\n",
    "#3. TF-IDF weighted average method needs to use TF-IDF technology, \n",
    "#which is a commonly used text processing technology. \n",
    "#The TF-IDF value of a word is directly proportional to the frequency of its appearance in the document, \n",
    "#and inversely proportional to the frequency of its appearance in the corpus. \n",
    "#TF-IDF is obtained by multiplying TF Term Frequency and IDF Inverse Document Frequency"
   ]
  },
  {
   "cell_type": "markdown",
   "metadata": {
    "id": "8bKMKokg4ImW"
   },
   "source": [
    "### 8. Clustering: k-means\n",
    "\n",
    "Here we introduce how to use `sklearn` to do the basic **unsupervised learning** approach, k-means.    \n",
    "\n",
    "more details: http://scikit-learn.org/stable/modules/generated/sklearn.cluster.KMeans.html\n"
   ]
  },
  {
   "cell_type": "markdown",
   "metadata": {
    "id": "JYCSwXy74ImX"
   },
   "source": [
    "#### Basic concept\n",
    "\n",
    "![Image](https://i.imgur.com/PEdUf54.png)\n",
    "\n",
    "(img source: https://towardsdatascience.com/k-means-clustering-identifying-f-r-i-e-n-d-s-in-the-world-of-strangers-695537505d)"
   ]
  },
  {
   "cell_type": "code",
   "execution_count": 92,
   "metadata": {
    "colab": {
     "base_uri": "https://localhost:8080/"
    },
    "executionInfo": {
     "elapsed": 544,
     "status": "ok",
     "timestamp": 1640283212572,
     "user": {
      "displayName": "孫睿菡",
      "photoUrl": "https://lh3.googleusercontent.com/a/default-user=s64",
      "userId": "08667895551467607443"
     },
     "user_tz": -480
    },
    "id": "odQ6JK9J4ImX",
    "outputId": "e2943dfd-91a7-4aca-e823-8f519bebf05e"
   },
   "outputs": [
    {
     "name": "stdout",
     "output_type": "stream",
     "text": [
      "target words:  ['happy', 'fear', 'angry', 'car', 'teacher', 'computer']\n"
     ]
    }
   ],
   "source": [
    "# clustering target\n",
    "target_list = ['happy', 'fear', 'angry', 'car', 'teacher', 'computer']\n",
    "print('target words: ', target_list)\n",
    "\n",
    "# convert to word vector\n",
    "X = [w2v_google_model[word] for word in target_list]"
   ]
  },
  {
   "cell_type": "code",
   "execution_count": 93,
   "metadata": {
    "colab": {
     "base_uri": "https://localhost:8080/"
    },
    "executionInfo": {
     "elapsed": 482,
     "status": "ok",
     "timestamp": 1640283216430,
     "user": {
      "displayName": "孫睿菡",
      "photoUrl": "https://lh3.googleusercontent.com/a/default-user=s64",
      "userId": "08667895551467607443"
     },
     "user_tz": -480
    },
    "id": "IrkWhfu94ImX",
    "outputId": "57fbed2b-864b-49c5-a282-7a10b996ed15"
   },
   "outputs": [
    {
     "name": "stdout",
     "output_type": "stream",
     "text": [
      "word: happy \t cluster: 0\n",
      "word: fear \t cluster: 0\n",
      "word: angry \t cluster: 0\n",
      "word: car \t cluster: 1\n",
      "word: teacher \t cluster: 1\n",
      "word: computer \t cluster: 1\n"
     ]
    }
   ],
   "source": [
    "from sklearn.cluster import KMeans\n",
    "\n",
    "# we have to decide how many cluster (k) we want\n",
    "k = 2\n",
    "\n",
    "# k-means model\n",
    "kmeans_model = KMeans(n_clusters=k)\n",
    "kmeans_model.fit(X)\n",
    "\n",
    "# cluster result\n",
    "cluster_result = kmeans_model.labels_\n",
    "\n",
    "# show\n",
    "for i in range(len(target_list)):\n",
    "    print('word: {} \\t cluster: {}'.format(target_list[i], cluster_result[i]))"
   ]
  },
  {
   "cell_type": "markdown",
   "metadata": {
    "id": "miP5YZmf4ImX"
   },
   "source": [
    "![Imgur](pics/pic6.png)"
   ]
  },
  {
   "cell_type": "code",
   "execution_count": 95,
   "metadata": {
    "colab": {
     "base_uri": "https://localhost:8080/"
    },
    "executionInfo": {
     "elapsed": 535,
     "status": "ok",
     "timestamp": 1640283220459,
     "user": {
      "displayName": "孫睿菡",
      "photoUrl": "https://lh3.googleusercontent.com/a/default-user=s64",
      "userId": "08667895551467607443"
     },
     "user_tz": -480
    },
    "id": "EbNFb2Af4ImX",
    "outputId": "0925e676-52a3-43af-beb1-adb45c9211fc"
   },
   "outputs": [
    {
     "data": {
      "text/plain": [
       "array([1], dtype=int32)"
      ]
     },
     "execution_count": 95,
     "metadata": {},
     "output_type": "execute_result"
    }
   ],
   "source": [
    "#check cluster membership\n",
    "word = 'student'\n",
    "word_vec = w2v_google_model[word]\n",
    "kmeans_model.predict([word_vec])"
   ]
  },
  {
   "cell_type": "code",
   "execution_count": 97,
   "metadata": {
    "colab": {
     "base_uri": "https://localhost:8080/"
    },
    "executionInfo": {
     "elapsed": 470,
     "status": "ok",
     "timestamp": 1640283223043,
     "user": {
      "displayName": "孫睿菡",
      "photoUrl": "https://lh3.googleusercontent.com/a/default-user=s64",
      "userId": "08667895551467607443"
     },
     "user_tz": -480
    },
    "id": "npKdc_zo4ImX",
    "outputId": "4551c8b6-83a7-40c9-dc63-ff7a8558749f"
   },
   "outputs": [
    {
     "data": {
      "text/plain": [
       "array([0], dtype=int32)"
      ]
     },
     "execution_count": 97,
     "metadata": {},
     "output_type": "execute_result"
    }
   ],
   "source": [
    "#check cluster membership\n",
    "word = 'sad'\n",
    "word_vec = w2v_google_model[word]\n",
    "kmeans_model.predict([word_vec])"
   ]
  },
  {
   "cell_type": "markdown",
   "metadata": {
    "id": "POQn5dkt4ImX"
   },
   "source": [
    "\n",
    "## 9. High-dimension Visualization: t-SNE\n",
    "\n",
    "No matter if you use the Bag-of-words, tf-idf, or word2vec, it's very hard to see the embedding result, because the dimension is larger than 3.  \n",
    "\n",
    "In Lab 1, we already talked about PCA. We can use PCA to reduce the dimension of our data, then visualize it. However, if you dig deeper into the result, you'd find it is insufficient...\n",
    "\n",
    "Our aim will be to create a visualization similar to the one below:"
   ]
  },
  {
   "cell_type": "markdown",
   "metadata": {
    "id": "ph01KB894ImX"
   },
   "source": [
    "  "
   ]
  },
  {
   "cell_type": "markdown",
   "metadata": {
    "id": "ciUXlpi_4ImX"
   },
   "source": [
    "![Image](pics/pic7.png)\n",
    "source: https://www.fabian-keller.de/research/high-dimensional-data-visualization "
   ]
  },
  {
   "cell_type": "markdown",
   "metadata": {
    "id": "w6OtrH2w4ImX"
   },
   "source": [
    "  "
   ]
  },
  {
   "cell_type": "markdown",
   "metadata": {
    "id": "GQMb8H6U4ImX"
   },
   "source": [
    "Here we would like to introduce another visualization method called t-SNE.  \n",
    "http://scikit-learn.org/stable/modules/generated/sklearn.manifold.TSNE.html "
   ]
  },
  {
   "cell_type": "markdown",
   "metadata": {
    "id": "j0WZpRQW4ImX"
   },
   "source": [
    "### 9.1 Prepare visualizing target"
   ]
  },
  {
   "cell_type": "markdown",
   "metadata": {
    "id": "Ch1ECykb4ImX"
   },
   "source": [
    "Let's repare data lists like:\n",
    "    - happpy words\n",
    "    - angry words\n",
    "    - data words\n",
    "    - mining words"
   ]
  },
  {
   "cell_type": "code",
   "execution_count": 98,
   "metadata": {
    "colab": {
     "base_uri": "https://localhost:8080/"
    },
    "executionInfo": {
     "elapsed": 1993,
     "status": "ok",
     "timestamp": 1640283230970,
     "user": {
      "displayName": "孫睿菡",
      "photoUrl": "https://lh3.googleusercontent.com/a/default-user=s64",
      "userId": "08667895551467607443"
     },
     "user_tz": -480
    },
    "id": "iZYNgRbH4ImX",
    "outputId": "79c91a15-063e-427c-8143-afe4217e60dd"
   },
   "outputs": [
    {
     "name": "stdout",
     "output_type": "stream",
     "text": [
      "happy_words:  ['happy', 'glad', 'pleased', 'ecstatic', 'overjoyed', 'thrilled']\n",
      "angry_words:  ['angry', 'irate', 'enraged', 'indignant', 'incensed', 'annoyed']\n",
      "data_words:  ['data', 'Data', 'datasets', 'dataset', 'databases', 'statistics']\n",
      "mining_words:  ['mining', 'Mining', 'mines', 'coal_mining', 'mine', 'miner']\n",
      "\n",
      "target words: \n",
      "['happy', 'glad', 'pleased', 'ecstatic', 'overjoyed', 'thrilled', 'angry', 'irate', 'enraged', 'indignant', 'incensed', 'annoyed', 'data', 'Data', 'datasets', 'dataset', 'databases', 'statistics', 'mining', 'Mining', 'mines', 'coal_mining', 'mine', 'miner']\n",
      "\n",
      "color list:\n",
      "['b', 'b', 'b', 'b', 'b', 'b', 'g', 'g', 'g', 'g', 'g', 'g', 'r', 'r', 'r', 'r', 'r', 'r', 'y', 'y', 'y', 'y', 'y', 'y']\n"
     ]
    }
   ],
   "source": [
    "word_list = ['happy', 'angry', 'data', 'mining']\n",
    "\n",
    "topn = 5\n",
    "happy_words = ['happy'] + [word_ for word_, sim_ in w2v_google_model.most_similar('happy', topn=topn)]\n",
    "angry_words = ['angry'] + [word_ for word_, sim_ in w2v_google_model.most_similar('angry', topn=topn)]        \n",
    "data_words = ['data'] + [word_ for word_, sim_ in w2v_google_model.most_similar('data', topn=topn)]        \n",
    "mining_words = ['mining'] + [word_ for word_, sim_ in w2v_google_model.most_similar('mining', topn=topn)]        \n",
    "\n",
    "print('happy_words: ', happy_words)\n",
    "print('angry_words: ', angry_words)\n",
    "print('data_words: ', data_words)\n",
    "print('mining_words: ', mining_words)\n",
    "\n",
    "target_words = happy_words + angry_words + data_words + mining_words\n",
    "print('\\ntarget words: ')\n",
    "print(target_words)\n",
    "\n",
    "print('\\ncolor list:')\n",
    "cn = topn + 1\n",
    "color = ['b'] * cn + ['g'] * cn + ['r'] * cn + ['y'] * cn\n",
    "print(color)"
   ]
  },
  {
   "cell_type": "markdown",
   "metadata": {
    "id": "g18vE5G04ImY"
   },
   "source": [
    "### 9.1 Plot using t-SNE (2-dimension)"
   ]
  },
  {
   "cell_type": "code",
   "execution_count": 101,
   "metadata": {
    "colab": {
     "base_uri": "https://localhost:8080/",
     "height": 717
    },
    "executionInfo": {
     "elapsed": 3510,
     "status": "ok",
     "timestamp": 1640283335237,
     "user": {
      "displayName": "孫睿菡",
      "photoUrl": "https://lh3.googleusercontent.com/a/default-user=s64",
      "userId": "08667895551467607443"
     },
     "user_tz": -480
    },
    "id": "w0T6Cd-V4ImY",
    "outputId": "8394583e-f889-4662-9bfe-63179f938ff4"
   },
   "outputs": [
    {
     "data": {
      "image/png": "[encoded data removed]",
      "text/plain": [
       "<Figure size 862.5x862.5 with 1 Axes>"
      ]
     },
     "metadata": {
      "needs_background": "light"
     },
     "output_type": "display_data"
    }
   ],
   "source": [
    "%matplotlib inline\n",
    "import matplotlib.pyplot as plt\n",
    "from sklearn.manifold import TSNE\n",
    "\n",
    "## w2v model\n",
    "model = w2v_google_model\n",
    "\n",
    "## prepare training word vectors\n",
    "size = 200\n",
    "target_size = len(target_words)\n",
    "all_word = list(model.index_to_key)\n",
    "word_train = target_words + all_word[:size]\n",
    "X_train = model[word_train]\n",
    "\n",
    "## t-SNE model\n",
    "tsne = TSNE(n_components=2, metric='cosine', random_state=28)\n",
    "\n",
    "## training\n",
    "X_tsne = tsne.fit_transform(X_train)\n",
    "\n",
    "## plot the result\n",
    "plt.figure(figsize=(7.5, 7.5), dpi=115)\n",
    "plt.scatter(X_tsne[:target_size, 0], X_tsne[:target_size, 1], c=color)\n",
    "for label, x, y in zip(target_words, X_tsne[:target_size, 0], X_tsne[:target_size, 1]):\n",
    "    plt.annotate(label, xy=(x,y), xytext=(0,0),  textcoords='offset points')\n",
    "plt.show()"
   ]
  },
  {
   "cell_type": "markdown",
   "metadata": {
    "id": "mDWmcd314ImY"
   },
   "source": [
    "---\n",
    "### ** >>> Exercise 8 (Take home): **  \n",
    "\n",
    "Generate a t-SNE visualization to show the 15 words most related to the words \"angry\", \"happy\", \"sad\", \"fear\" (60 words total)."
   ]
  },
  {
   "cell_type": "code",
   "execution_count": 105,
   "metadata": {},
   "outputs": [
    {
     "name": "stdout",
     "output_type": "stream",
     "text": [
      "happy_words:  ['happy', 'glad', 'pleased', 'ecstatic', 'overjoyed', 'thrilled', 'satisfied', 'proud', 'delighted', 'disappointed', 'excited', 'happier', 'Said_Hirschbeck', 'elated', 'thankful', 'unhappy']\n",
      "angry_words:  ['angry', 'irate', 'enraged', 'indignant', 'incensed', 'annoyed', 'agitated', 'frustrated', 'furious', 'unhappy', 'outraged', 'livid', 'irritated', 'exasperated', 'angrier', 'Angry']\n",
      "sad_words:  ['sad', 'Data', 'datasets', 'dataset', 'databases', 'statistics', 'information', 'database', 'Data_System_IPEDS', 'data.The', 'OpenSpirit_enabled', 'datafeeds', 'microdata', 'operator_Telecity', 'GT_Datamaker', 'datawarehouse']\n",
      "fear_words:  ['fear', 'Mining', 'mines', 'coal_mining', 'mine', 'miner', 'uranium_mining', 'miners', 'Mountaintop_removal_coal', 'goldmining', 'alluvial_mining', 'Ok_Tedi_copper', 'uranium_mines', 'coal_mines', 'openpit_mining', 'Mines']\n",
      "\n",
      "target words: \n",
      "['happy', 'glad', 'pleased', 'ecstatic', 'overjoyed', 'thrilled', 'satisfied', 'proud', 'delighted', 'disappointed', 'excited', 'happier', 'Said_Hirschbeck', 'elated', 'thankful', 'unhappy', 'angry', 'irate', 'enraged', 'indignant', 'incensed', 'annoyed', 'agitated', 'frustrated', 'furious', 'unhappy', 'outraged', 'livid', 'irritated', 'exasperated', 'angrier', 'Angry', 'sad', 'Data', 'datasets', 'dataset', 'databases', 'statistics', 'information', 'database', 'Data_System_IPEDS', 'data.The', 'OpenSpirit_enabled', 'datafeeds', 'microdata', 'operator_Telecity', 'GT_Datamaker', 'datawarehouse', 'fear', 'Mining', 'mines', 'coal_mining', 'mine', 'miner', 'uranium_mining', 'miners', 'Mountaintop_removal_coal', 'goldmining', 'alluvial_mining', 'Ok_Tedi_copper', 'uranium_mines', 'coal_mines', 'openpit_mining', 'Mines']\n",
      "\n",
      "color list:\n",
      "['b', 'b', 'b', 'b', 'b', 'b', 'b', 'b', 'b', 'b', 'b', 'b', 'b', 'b', 'b', 'b', 'g', 'g', 'g', 'g', 'g', 'g', 'g', 'g', 'g', 'g', 'g', 'g', 'g', 'g', 'g', 'g', 'r', 'r', 'r', 'r', 'r', 'r', 'r', 'r', 'r', 'r', 'r', 'r', 'r', 'r', 'r', 'r', 'y', 'y', 'y', 'y', 'y', 'y', 'y', 'y', 'y', 'y', 'y', 'y', 'y', 'y', 'y', 'y']\n"
     ]
    },
    {
     "data": {
      "image/png": "[encoded data removed]",
      "text/plain": [
       "<Figure size 862.5x862.5 with 1 Axes>"
      ]
     },
     "metadata": {
      "needs_background": "light"
     },
     "output_type": "display_data"
    }
   ],
   "source": [
    "# Answer here\n",
    "\n",
    "word_list = ['happy', 'angry', 'sad', 'fear']\n",
    "\n",
    "topn = 15\n",
    "happy_words = ['happy'] + [word_ for word_, sim_ in w2v_google_model.most_similar('happy', topn=topn)]\n",
    "angry_words = ['angry'] + [word_ for word_, sim_ in w2v_google_model.most_similar('angry', topn=topn)]        \n",
    "sad_words = ['sad'] + [word_ for word_, sim_ in w2v_google_model.most_similar('data', topn=topn)]        \n",
    "fear_words = ['fear'] + [word_ for word_, sim_ in w2v_google_model.most_similar('mining', topn=topn)]        \n",
    "\n",
    "print('happy_words: ', happy_words)\n",
    "print('angry_words: ', angry_words)\n",
    "print('sad_words: ', sad_words)\n",
    "print('fear_words: ', fear_words)\n",
    "\n",
    "target_words = happy_words + angry_words + sad_words + fear_words\n",
    "print('\\ntarget words: ')\n",
    "print(target_words)\n",
    "\n",
    "print('\\ncolor list:')\n",
    "cn = topn + 1\n",
    "color = ['b'] * cn + ['g'] * cn + ['r'] * cn + ['y'] * cn\n",
    "print(color)\n",
    "\n",
    "%matplotlib inline\n",
    "import matplotlib.pyplot as plt\n",
    "from sklearn.manifold import TSNE\n",
    "\n",
    "## w2v model\n",
    "model = w2v_google_model\n",
    "\n",
    "## prepare training word vectors\n",
    "size = 200\n",
    "target_size = len(target_words)\n",
    "all_word = list(model.index_to_key)\n",
    "word_train = target_words + all_word[:size]\n",
    "X_train = model[word_train]\n",
    "\n",
    "## t-SNE model\n",
    "tsne = TSNE(n_components=2, metric='cosine', random_state=28)\n",
    "\n",
    "## training\n",
    "X_tsne = tsne.fit_transform(X_train)\n",
    "\n",
    "## plot the result\n",
    "plt.figure(figsize=(7.5, 7.5), dpi=115)\n",
    "plt.scatter(X_tsne[:target_size, 0], X_tsne[:target_size, 1], c=color)\n",
    "for label, x, y in zip(target_words, X_tsne[:target_size, 0], X_tsne[:target_size, 1]):\n",
    "    plt.annotate(label, xy=(x,y), xytext=(0,0),  textcoords='offset points')\n",
    "plt.show()"
   ]
  },
  {
   "cell_type": "markdown",
   "metadata": {
    "id": "vKqmjztY4ImY"
   },
   "source": [
    "---"
   ]
  }
 ],
 "metadata": {
  "colab": {
   "collapsed_sections": [
    "WbIJqzhw4ImS",
    "JW1jI7Qg4ImV"
   ],
   "name": "DM2021_Lab2_master.ipynb",
   "provenance": []
  },
  "kernelspec": {
   "display_name": "Python 3 (ipykernel)",
   "language": "python",
   "name": "python3"
  },
  "language_info": {
   "codemirror_mode": {
    "name": "ipython",
    "version": 3
   },
   "file_extension": ".py",
   "mimetype": "text/x-python",
   "name": "python",
   "nbconvert_exporter": "python",
   "pygments_lexer": "ipython3",
   "version": "3.9.9"
  },
  "varInspector": {
   "cols": {
    "lenName": 16,
    "lenType": 16,
    "lenVar": 40
   },
   "kernels_config": {
    "python": {
     "delete_cmd_postfix": "",
     "delete_cmd_prefix": "del ",
     "library": "var_list.py",
     "varRefreshCmd": "print(var_dic_list())"
    },
    "r": {
     "delete_cmd_postfix": ") ",
     "delete_cmd_prefix": "rm(",
     "library": "var_list.r",
     "varRefreshCmd": "cat(var_dic_list()) "
    }
   },
   "oldHeight": 594.85,
   "position": {
    "height": "40px",
    "left": "723px",
    "right": "20px",
    "top": "80px",
    "width": "250px"
   },
   "types_to_exclude": [
    "module",
    "function",
    "builtin_function_or_method",
    "instance",
    "_Feature"
   ],
   "varInspector_section_display": "none",
   "window_display": true
  }
 },
 "nbformat": 4,
 "nbformat_minor": 4
}
